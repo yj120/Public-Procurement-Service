{
 "cells": [
  {
   "cell_type": "code",
   "execution_count": 1,
   "id": "2b86d95a",
   "metadata": {},
   "outputs": [
    {
     "name": "stderr",
     "output_type": "stream",
     "text": [
      "C:\\Users\\yjhon\\anaconda3\\lib\\site-packages\\statsmodels\\tsa\\base\\tsa_model.py:7: FutureWarning: pandas.Int64Index is deprecated and will be removed from pandas in a future version. Use pandas.Index with the appropriate dtype instead.\n",
      "  from pandas import (to_datetime, Int64Index, DatetimeIndex, Period,\n",
      "C:\\Users\\yjhon\\anaconda3\\lib\\site-packages\\statsmodels\\tsa\\base\\tsa_model.py:7: FutureWarning: pandas.Float64Index is deprecated and will be removed from pandas in a future version. Use pandas.Index with the appropriate dtype instead.\n",
      "  from pandas import (to_datetime, Int64Index, DatetimeIndex, Period,\n"
     ]
    },
    {
     "data": {
      "text/html": [
       "        <script type=\"text/javascript\">\n",
       "        window.PlotlyConfig = {MathJaxConfig: 'local'};\n",
       "        if (window.MathJax) {MathJax.Hub.Config({SVG: {font: \"STIX-Web\"}});}\n",
       "        if (typeof require !== 'undefined') {\n",
       "        require.undef(\"plotly\");\n",
       "        requirejs.config({\n",
       "            paths: {\n",
       "                'plotly': ['https://cdn.plot.ly/plotly-2.6.3.min']\n",
       "            }\n",
       "        });\n",
       "        require(['plotly'], function(Plotly) {\n",
       "            window._Plotly = Plotly;\n",
       "        });\n",
       "        }\n",
       "        </script>\n",
       "        "
      ]
     },
     "metadata": {},
     "output_type": "display_data"
    },
    {
     "data": {
      "text/html": [
       "        <script type=\"text/javascript\">\n",
       "        window.PlotlyConfig = {MathJaxConfig: 'local'};\n",
       "        if (window.MathJax) {MathJax.Hub.Config({SVG: {font: \"STIX-Web\"}});}\n",
       "        if (typeof require !== 'undefined') {\n",
       "        require.undef(\"plotly\");\n",
       "        requirejs.config({\n",
       "            paths: {\n",
       "                'plotly': ['https://cdn.plot.ly/plotly-2.6.3.min']\n",
       "            }\n",
       "        });\n",
       "        require(['plotly'], function(Plotly) {\n",
       "            window._Plotly = Plotly;\n",
       "        });\n",
       "        }\n",
       "        </script>\n",
       "        "
      ]
     },
     "metadata": {},
     "output_type": "display_data"
    }
   ],
   "source": [
    "import pandas as pd\n",
    "from datetime import datetime   # 패키지 - 모듈 (이름 같음)\n",
    "import pandas as pd   # csv file read\n",
    "import matplotlib.pyplot as plt   # 시계열 시각화\n",
    "from sklearn.preprocessing import LabelEncoder # 인코딩\n",
    "import numpy as np\n",
    "import statsmodels.api as sm\n",
    "from statsmodels.graphics.tsaplots import plot_pacf\n",
    "from statsmodels.graphics.tsaplots import plot_acf\n",
    "from statsmodels.tsa.arima_process import ArmaProcess\n",
    "from statsmodels.tsa.stattools import pacf\n",
    "from statsmodels.regression.linear_model import yule_walker\n",
    "from statsmodels.tsa.stattools import adfuller\n",
    "import matplotlib.pyplot as plt\n",
    "import numpy as np\n",
    "%matplotlib inline\n",
    "\n",
    "plt.rcParams['font.family'] ='Malgun Gothic'\n",
    "\n",
    "plt.rcParams['axes.unicode_minus'] =False\n",
    "plt.rcParams['axes.unicode_minus'] =False\n",
    "from plotly.offline import init_notebook_mode, iplot\n",
    "init_notebook_mode(connected=True)\n",
    "import plotly.graph_objs as go\n",
    "import warnings\n",
    "warnings.filterwarnings(\"ignore\")\n",
    "import os\n",
    "plt.style.use('ggplot')\n",
    "import pandas as pd\n",
    "from datetime import datetime   # 패키지 - 모듈 (이름 같음)\n",
    "import pandas as pd   # csv file read\n",
    "import matplotlib.pyplot as plt   # 시계열 시각화\n",
    "from sklearn.preprocessing import LabelEncoder # 인코딩\n",
    "import numpy as np\n",
    "import statsmodels.api as sm\n",
    "pd.options.display.float_format = '{:.2f}'.format\n",
    "import datetime\n",
    "plt.rcParams['font.family'] ='Malgun Gothic'\n",
    "\n",
    "plt.rcParams['axes.unicode_minus'] =False\n",
    "from plotly.offline import init_notebook_mode, iplot\n",
    "init_notebook_mode(connected=True)\n",
    "import plotly.graph_objs as go\n",
    "import warnings\n",
    "warnings.filterwarnings(\"ignore\")\n",
    "import os\n",
    "plt.style.use('ggplot')\n"
   ]
  },
  {
   "cell_type": "code",
   "execution_count": 2,
   "id": "8377634f",
   "metadata": {},
   "outputs": [],
   "source": [
    "df = pd.read_csv('C:/Users/yjhon/OneDrive/바탕 화면/조달청_공모전/Regression_timeseries/물품용역공사_2017_2021.xls',index_col='공고게시일자')"
   ]
  },
  {
   "cell_type": "code",
   "execution_count": 3,
   "id": "b4cf14b2",
   "metadata": {},
   "outputs": [],
   "source": [
    "df.index = df.index.astype(str)\n",
    "\n",
    "df.index = pd.to_datetime(df.index)"
   ]
  },
  {
   "cell_type": "code",
   "execution_count": 4,
   "id": "916bd86f",
   "metadata": {},
   "outputs": [],
   "source": [
    "water_df = df[df.수요기관명 == \"한국수자원공사\"] # 용역\n",
    "water_df_service = water_df[water_df.대상 == \"용역\"]"
   ]
  },
  {
   "cell_type": "code",
   "execution_count": 5,
   "id": "7cf99098",
   "metadata": {},
   "outputs": [],
   "source": [
    "col_name = [\"추정가격\"]\n",
    "water_service = pd.DataFrame(data = water_df_service,columns = col_name)"
   ]
  },
  {
   "cell_type": "code",
   "execution_count": 6,
   "id": "6d65ae03",
   "metadata": {},
   "outputs": [
    {
     "data": {
      "text/html": [
       "<div>\n",
       "<style scoped>\n",
       "    .dataframe tbody tr th:only-of-type {\n",
       "        vertical-align: middle;\n",
       "    }\n",
       "\n",
       "    .dataframe tbody tr th {\n",
       "        vertical-align: top;\n",
       "    }\n",
       "\n",
       "    .dataframe thead th {\n",
       "        text-align: right;\n",
       "    }\n",
       "</style>\n",
       "<table border=\"1\" class=\"dataframe\">\n",
       "  <thead>\n",
       "    <tr style=\"text-align: right;\">\n",
       "      <th></th>\n",
       "      <th>추정가격</th>\n",
       "    </tr>\n",
       "    <tr>\n",
       "      <th>date</th>\n",
       "      <th></th>\n",
       "    </tr>\n",
       "  </thead>\n",
       "  <tbody>\n",
       "    <tr>\n",
       "      <th>2021-12-27</th>\n",
       "      <td>162250600.00</td>\n",
       "    </tr>\n",
       "    <tr>\n",
       "      <th>2021-12-28</th>\n",
       "      <td>306701000.00</td>\n",
       "    </tr>\n",
       "    <tr>\n",
       "      <th>2021-12-29</th>\n",
       "      <td>361531000.00</td>\n",
       "    </tr>\n",
       "    <tr>\n",
       "      <th>2021-12-30</th>\n",
       "      <td>689758200.00</td>\n",
       "    </tr>\n",
       "    <tr>\n",
       "      <th>2021-12-31</th>\n",
       "      <td>3045898000.00</td>\n",
       "    </tr>\n",
       "  </tbody>\n",
       "</table>\n",
       "</div>"
      ],
      "text/plain": [
       "                    추정가격\n",
       "date                    \n",
       "2021-12-27  162250600.00\n",
       "2021-12-28  306701000.00\n",
       "2021-12-29  361531000.00\n",
       "2021-12-30  689758200.00\n",
       "2021-12-31 3045898000.00"
      ]
     },
     "execution_count": 6,
     "metadata": {},
     "output_type": "execute_result"
    }
   ],
   "source": [
    "water_service['date'] = water_service.index\n",
    "water_service.dtypes\n",
    "\n",
    "water_service['date'] = water_service['date'].astype(str)\n",
    "\n",
    "water_service['date'] = pd.to_datetime(water_service['date'])\n",
    "\n",
    "water_groups = water_service.groupby([\"date\"]).추정가격.sum()\n",
    "water_group_df = pd.DataFrame(data=water_groups, index = water_groups.index)\n",
    "\n",
    "water_group_df.tail()"
   ]
  },
  {
   "cell_type": "code",
   "execution_count": 7,
   "id": "744bfed8",
   "metadata": {},
   "outputs": [],
   "source": [
    "water_sample = water_group_df.resample(rule='w').sum()"
   ]
  },
  {
   "cell_type": "code",
   "execution_count": 8,
   "id": "0cf9c494",
   "metadata": {},
   "outputs": [],
   "source": [
    "water_sample = water_sample[water_sample.추정가격!=0] # 0값 제외한 데이터프레임"
   ]
  },
  {
   "cell_type": "code",
   "execution_count": 9,
   "id": "cb073fd6",
   "metadata": {},
   "outputs": [
    {
     "data": {
      "text/html": [
       "<div>\n",
       "<style scoped>\n",
       "    .dataframe tbody tr th:only-of-type {\n",
       "        vertical-align: middle;\n",
       "    }\n",
       "\n",
       "    .dataframe tbody tr th {\n",
       "        vertical-align: top;\n",
       "    }\n",
       "\n",
       "    .dataframe thead th {\n",
       "        text-align: right;\n",
       "    }\n",
       "</style>\n",
       "<table border=\"1\" class=\"dataframe\">\n",
       "  <thead>\n",
       "    <tr style=\"text-align: right;\">\n",
       "      <th></th>\n",
       "      <th>추정가격</th>\n",
       "    </tr>\n",
       "    <tr>\n",
       "      <th>date</th>\n",
       "      <th></th>\n",
       "    </tr>\n",
       "  </thead>\n",
       "  <tbody>\n",
       "    <tr>\n",
       "      <th>2018-04-08</th>\n",
       "      <td>1213394500.00</td>\n",
       "    </tr>\n",
       "    <tr>\n",
       "      <th>2018-04-15</th>\n",
       "      <td>2100809455.00</td>\n",
       "    </tr>\n",
       "    <tr>\n",
       "      <th>2018-04-22</th>\n",
       "      <td>5161653780.00</td>\n",
       "    </tr>\n",
       "    <tr>\n",
       "      <th>2018-04-29</th>\n",
       "      <td>1889171056.00</td>\n",
       "    </tr>\n",
       "    <tr>\n",
       "      <th>2018-05-06</th>\n",
       "      <td>8386696600.00</td>\n",
       "    </tr>\n",
       "    <tr>\n",
       "      <th>...</th>\n",
       "      <td>...</td>\n",
       "    </tr>\n",
       "    <tr>\n",
       "      <th>2021-12-05</th>\n",
       "      <td>15323871280.00</td>\n",
       "    </tr>\n",
       "    <tr>\n",
       "      <th>2021-12-12</th>\n",
       "      <td>15572623196.00</td>\n",
       "    </tr>\n",
       "    <tr>\n",
       "      <th>2021-12-19</th>\n",
       "      <td>23078195505.00</td>\n",
       "    </tr>\n",
       "    <tr>\n",
       "      <th>2021-12-26</th>\n",
       "      <td>6937094040.00</td>\n",
       "    </tr>\n",
       "    <tr>\n",
       "      <th>2022-01-02</th>\n",
       "      <td>4566138800.00</td>\n",
       "    </tr>\n",
       "  </tbody>\n",
       "</table>\n",
       "<p>196 rows × 1 columns</p>\n",
       "</div>"
      ],
      "text/plain": [
       "                     추정가격\n",
       "date                     \n",
       "2018-04-08  1213394500.00\n",
       "2018-04-15  2100809455.00\n",
       "2018-04-22  5161653780.00\n",
       "2018-04-29  1889171056.00\n",
       "2018-05-06  8386696600.00\n",
       "...                   ...\n",
       "2021-12-05 15323871280.00\n",
       "2021-12-12 15572623196.00\n",
       "2021-12-19 23078195505.00\n",
       "2021-12-26  6937094040.00\n",
       "2022-01-02  4566138800.00\n",
       "\n",
       "[196 rows x 1 columns]"
      ]
     },
     "execution_count": 9,
     "metadata": {},
     "output_type": "execute_result"
    }
   ],
   "source": [
    "water_sample"
   ]
  },
  {
   "cell_type": "code",
   "execution_count": 10,
   "id": "42d54b3c",
   "metadata": {},
   "outputs": [
    {
     "data": {
      "text/plain": [
       "Text(0.5, 1.0, '한국수자원공사 용역 추정가격_week')"
      ]
     },
     "execution_count": 10,
     "metadata": {},
     "output_type": "execute_result"
    },
    {
     "data": {
      "image/png": "[encoded data removed]",
      "text/plain": [
       "<Figure size 2016x576 with 1 Axes>"
      ]
     },
     "metadata": {},
     "output_type": "display_data"
    }
   ],
   "source": [
    "water_sample.plot(figsize=(28,8))\n",
    "plt.title(\"한국수자원공사 용역 추정가격_week\",fontsize=35)"
   ]
  },
  {
   "cell_type": "code",
   "execution_count": null,
   "id": "636fc810",
   "metadata": {},
   "outputs": [],
   "source": []
  },
  {
   "cell_type": "code",
   "execution_count": 11,
   "id": "fbf6e588",
   "metadata": {},
   "outputs": [
    {
     "name": "stdout",
     "output_type": "stream",
     "text": [
      "ADF Statistic: -13.060865\n",
      "p-value : 0.000000\n",
      "Critical values:\n",
      "\t1%:-3.465\n",
      "\t5%:-2.877\n",
      "\t10%:-2.575\n"
     ]
    }
   ],
   "source": [
    "from statsmodels.tsa.stattools import adfuller\n",
    "result = adfuller(water_sample[1:])\n",
    "print('ADF Statistic: %f'%result[0])\n",
    "print('p-value : %f'%result[1])\n",
    "print('Critical values:')\n",
    "for key, value in result[4].items():\n",
    "    print('\\t%s:%.3f'%(key,value))"
   ]
  },
  {
   "cell_type": "code",
   "execution_count": 12,
   "id": "9002fdce",
   "metadata": {},
   "outputs": [],
   "source": [
    "# 검정통계량(ADF Statistics)가 Critical Value 보다 작으면 Stationary한 데이터\n",
    "# 혹은 p-value가 설정한 신뢰수준 값 (0.05)보다 작으면 Stationary한 데이터"
   ]
  },
  {
   "cell_type": "code",
   "execution_count": 13,
   "id": "cef30271",
   "metadata": {},
   "outputs": [
    {
     "data": {
      "image/png": "[encoded data removed]",
      "text/plain": [
       "<Figure size 432x288 with 1 Axes>"
      ]
     },
     "execution_count": 13,
     "metadata": {},
     "output_type": "execute_result"
    },
    {
     "data": {
      "image/png": "[encoded data removed]",
      "text/plain": [
       "<Figure size 432x288 with 1 Axes>"
      ]
     },
     "metadata": {},
     "output_type": "display_data"
    },
    {
     "data": {
      "image/png": "[encoded data removed]",
      "text/plain": [
       "<Figure size 432x288 with 1 Axes>"
      ]
     },
     "metadata": {},
     "output_type": "display_data"
    }
   ],
   "source": [
    "import matplotlib.pyplot as plt\n",
    "from statsmodels.graphics.tsaplots import plot_acf, plot_pacf\n",
    "\n",
    "plot_acf(water_sample.추정가격)\n",
    "plot_pacf(water_sample.추정가격)"
   ]
  },
  {
   "cell_type": "code",
   "execution_count": 14,
   "id": "6c3321b6",
   "metadata": {},
   "outputs": [
    {
     "data": {
      "text/plain": [
       "<AxesSubplot:xlabel='date'>"
      ]
     },
     "execution_count": 14,
     "metadata": {},
     "output_type": "execute_result"
    },
    {
     "data": {
      "image/png": "[encoded data removed]",
      "text/plain": [
       "<Figure size 432x288 with 1 Axes>"
      ]
     },
     "metadata": {},
     "output_type": "display_data"
    }
   ],
   "source": [
    "y_train = water_sample['추정가격'][:int(0.7*len(water_sample))]\n",
    "y_test = water_sample['추정가격'][int(0.7*len(water_sample)):]\n",
    "y_train.plot()\n",
    "y_test.plot()"
   ]
  },
  {
   "cell_type": "code",
   "execution_count": 15,
   "id": "d9c54efb",
   "metadata": {},
   "outputs": [
    {
     "name": "stdout",
     "output_type": "stream",
     "text": [
      "추정된 차수 d = 0\n"
     ]
    }
   ],
   "source": [
    "import pandas as pd\n",
    "import matplotlib.pyplot as plt\n",
    "import numpy as np\n",
    "from pmdarima.arima import ndiffs\n",
    "import pmdarima as pm\n",
    "\n",
    "kpss_diffs = ndiffs(y_train, alpha=0.05, test='kpss', max_d=6)\n",
    "adf_diffs = ndiffs(y_train, alpha=0.05, test='adf', max_d=6)\n",
    "n_diffs = max(adf_diffs, kpss_diffs)\n",
    "print(f\"추정된 차수 d = {n_diffs}\")"
   ]
  },
  {
   "cell_type": "code",
   "execution_count": 113,
   "id": "00742723",
   "metadata": {},
   "outputs": [
    {
     "name": "stdout",
     "output_type": "stream",
     "text": [
      "Performing stepwise search to minimize aic\n",
      " ARIMA(1,2,2)(1,0,1)[3]             : AIC=inf, Time=0.45 sec\n",
      " ARIMA(0,2,0)(0,0,0)[3]             : AIC=7017.239, Time=0.01 sec\n",
      " ARIMA(1,2,0)(1,0,0)[3]             : AIC=6951.547, Time=0.04 sec\n",
      " ARIMA(0,2,1)(0,0,1)[3]             : AIC=inf, Time=0.15 sec\n",
      " ARIMA(1,2,0)(0,0,0)[3]             : AIC=6954.260, Time=0.02 sec\n",
      " ARIMA(1,2,0)(2,0,0)[3]             : AIC=6952.424, Time=0.08 sec\n",
      " ARIMA(1,2,0)(1,0,1)[3]             : AIC=6951.039, Time=0.13 sec\n",
      " ARIMA(1,2,0)(0,0,1)[3]             : AIC=6950.560, Time=0.06 sec\n",
      " ARIMA(1,2,0)(0,0,2)[3]             : AIC=6951.736, Time=0.06 sec\n",
      " ARIMA(1,2,0)(1,0,2)[3]             : AIC=6952.920, Time=0.21 sec\n",
      " ARIMA(0,2,0)(0,0,1)[3]             : AIC=7230.982, Time=0.04 sec\n",
      " ARIMA(2,2,0)(0,0,1)[3]             : AIC=6887.583, Time=0.23 sec\n",
      " ARIMA(2,2,0)(0,0,0)[3]             : AIC=6918.397, Time=0.02 sec\n",
      " ARIMA(2,2,0)(1,0,1)[3]             : AIC=6889.602, Time=0.16 sec\n",
      " ARIMA(2,2,0)(0,0,2)[3]             : AIC=6889.575, Time=0.33 sec\n",
      " ARIMA(2,2,0)(1,0,0)[3]             : AIC=6910.428, Time=0.10 sec\n",
      " ARIMA(2,2,0)(1,0,2)[3]             : AIC=6891.350, Time=0.47 sec\n",
      " ARIMA(2,2,1)(0,0,1)[3]             : AIC=inf, Time=0.14 sec\n",
      " ARIMA(1,2,1)(0,0,1)[3]             : AIC=inf, Time=0.22 sec\n",
      " ARIMA(2,2,0)(0,0,1)[3] intercept   : AIC=6889.646, Time=0.30 sec\n",
      "\n",
      "Best model:  ARIMA(2,2,0)(0,0,1)[3]          \n",
      "Total fit time: 3.262 seconds\n"
     ]
    },
    {
     "data": {
      "text/plain": [
       "ARIMA(order=(2, 2, 0), scoring_args={}, seasonal_order=(0, 0, 1, 3),\n",
       "      suppress_warnings=True, with_intercept=False)"
      ]
     },
     "execution_count": 113,
     "metadata": {},
     "output_type": "execute_result"
    }
   ],
   "source": [
    "model = pm.auto_arima(y = y_train        # 데이터\n",
    "                      , d = 2            # 차분 차수, ndiffs 결과!\n",
    "                      , start_p = 1 \n",
    "                      , max_p = 15   \n",
    "                      , start_q = 5 \n",
    "                      , max_q = 5   \n",
    "                      , m = 3       \n",
    "                      , seasonal = True # 계절성 ARIMA가 아니라면 필수!\n",
    "                      , stepwise = True\n",
    "                      , trace=True\n",
    "                      #, trend = True\n",
    "                      )\n",
    "model.fit(y_train)"
   ]
  },
  {
   "cell_type": "code",
   "execution_count": 63,
   "id": "f0bb6707",
   "metadata": {},
   "outputs": [],
   "source": [
    "#model = pm.auto_arima (y_train, d = 0, seasonal = False, trace = True)\n",
    "#model.fit(y_train)"
   ]
  },
  {
   "cell_type": "code",
   "execution_count": 20,
   "id": "c6519a41",
   "metadata": {},
   "outputs": [
    {
     "name": "stdout",
     "output_type": "stream",
     "text": [
      "                               SARIMAX Results                                \n",
      "==============================================================================\n",
      "Dep. Variable:                      y   No. Observations:                  137\n",
      "Model:                        SARIMAX   Log Likelihood               -3441.947\n",
      "Date:                Fri, 18 Feb 2022   AIC                           6887.894\n",
      "Time:                        15:22:52   BIC                           6893.734\n",
      "Sample:                             0   HQIC                          6890.267\n",
      "                                - 137                                         \n",
      "Covariance Type:                  opg                                         \n",
      "==============================================================================\n",
      "                 coef    std err          z      P>|z|      [0.025      0.975]\n",
      "------------------------------------------------------------------------------\n",
      "intercept   1.106e+10   1.68e+09      6.567      0.000    7.76e+09    1.44e+10\n",
      "sigma2      3.888e+20      0.294   1.32e+21      0.000    3.89e+20    3.89e+20\n",
      "===================================================================================\n",
      "Ljung-Box (L1) (Q):                   0.38   Jarque-Bera (JB):             21800.33\n",
      "Prob(Q):                              0.54   Prob(JB):                         0.00\n",
      "Heteroskedasticity (H):               0.18   Skew:                             6.88\n",
      "Prob(H) (two-sided):                  0.00   Kurtosis:                        63.25\n",
      "===================================================================================\n",
      "\n",
      "Warnings:\n",
      "[1] Covariance matrix calculated using the outer product of gradients (complex-step).\n",
      "[2] Covariance matrix is singular or near-singular, with condition number 4.8e+35. Standard errors may be unstable.\n"
     ]
    }
   ],
   "source": [
    "print(model.summary())"
   ]
  },
  {
   "cell_type": "markdown",
   "id": "70c29512",
   "metadata": {},
   "source": [
    "Prob (Q) 값을 보면 0.54이므로 유의수준 0.05에서 귀무가설을 기각하지 못합니다. Ljung-Box (Q) 통계량의 귀무가설은 “잔차(residual)가 백색잡음(white noise) 시계열을 따른다”이므로, 위 결과를 통해 시계열 모형이 잘 적합되었고 남은 잔차는 더이상 자기상관을 가지지 않는 백색 잡음임을 확인할 수 있습니다."
   ]
  },
  {
   "cell_type": "markdown",
   "id": "7d99d910",
   "metadata": {},
   "source": [
    "Jarque-Bera (JB) 자크-베라 검정 통계량은 잔차가 정규성을 띠는지 검정한 통계량입니다.\n",
    "\n",
    "Prob(JB)값을 보면 0.00으로 유의 수준 0.05에서 귀무가설을 기각합니다. Jarque-Bera (JB) 통계량의 귀무가설은 “잔차가 정규성을 만족한다”이므로, 위 결과를 통해 “잔차가 정규성을 따르지 않음”을 확인할 수 있습니다.\n",
    "\n"
   ]
  },
  {
   "cell_type": "markdown",
   "id": "6b11ae8e",
   "metadata": {},
   "source": [
    "Heteroskedasticity (H) 이분산성 검정 통계량은 잔차가 이분산을 띠지 않는지 검정한 통계량입니다."
   ]
  },
  {
   "cell_type": "markdown",
   "id": "5d12d939",
   "metadata": {},
   "source": [
    "또한, 잔차가 정규분포를 따른다면, 경험적으로\n",
    "\n",
    "비대칭도 (Skew)는 0에 가까워야 하고\n",
    "첨도 (Kurtosis)는 3에 가까워야 합니다."
   ]
  },
  {
   "cell_type": "code",
   "execution_count": 21,
   "id": "a2dc2226",
   "metadata": {},
   "outputs": [
    {
     "data": {
      "image/png": "[encoded data removed]",
      "text/plain": [
       "<Figure size 1152x576 with 4 Axes>"
      ]
     },
     "metadata": {},
     "output_type": "display_data"
    }
   ],
   "source": [
    "model.plot_diagnostics(figsize=(16, 8))\n",
    "plt.show()"
   ]
  },
  {
   "cell_type": "code",
   "execution_count": null,
   "id": "1baa6491",
   "metadata": {},
   "outputs": [],
   "source": []
  },
  {
   "cell_type": "code",
   "execution_count": 114,
   "id": "b58567bb",
   "metadata": {},
   "outputs": [
    {
     "data": {
      "image/png": "[encoded data removed]",
      "text/plain": [
       "<Figure size 864x288 with 1 Axes>"
      ]
     },
     "metadata": {},
     "output_type": "display_data"
    }
   ],
   "source": [
    "# 테스트 데이터 개수만큼 예측\n",
    "y_predict = model.predict(n_periods=len(y_test)) \n",
    "y_predict = pd.DataFrame(y_predict,index = y_test.index,columns=['Prediction'])\n",
    "\n",
    "# 그래프\n",
    "fig, axes = plt.subplots(1, 1, figsize=(12, 4))\n",
    "plt.plot(y_train, label='Train')        # 훈련 데이터\n",
    "plt.plot(y_test, label='Test')          # 테스트 데이터\n",
    "plt.plot(y_predict, label='Prediction')  # 예측 데이터\n",
    "plt.legend()\n",
    "plt.show()"
   ]
  },
  {
   "cell_type": "markdown",
   "id": "e6fa6839",
   "metadata": {},
   "source": [
    "이것이 저희가 원하는 예측 결과일까요? 왜 이렇게 예측되었을까요?\n",
    "\n",
    "이에 대한 답은 이 곳 에서 찾을 수 있었습니다. auto_arima 모형으로 찾은 ARIMA 모형은 ARIMA (0,1,0) 모형으로, 1차 차분 시 백색 잡음인 모형입니다. 결국 아래 식처럼 상수항이 없는 임의 보행 모형 (Random Walk Model)을 따른다는 것을 알 수 있습니다.\n",
    "\n",
    " 예측을 할 때 innovation term인 ϵt의 기댓값이 0이기 때문에 이 부분을 0으로 대체하게 됩니다. 따라서, 예측치들은 결국 가장 마지막 관측치가 되는 것이죠. 결국, ϵt 부분은 0으로 대체되고, 임의 보행 모형에서는 예측치들이 가장 마지막 관측치로 동일하기 때문에 일직선을 얻게 되는 것입니다.\n",
    "\n",
    "\n"
   ]
  },
  {
   "cell_type": "markdown",
   "id": "a873c196",
   "metadata": {},
   "source": [
    "따라서 한번에 테스트 데이터를 예측하는 것이 아니라, 한 스텝씩 예측하고, 테스트 데이터를 “관측”할 때마다 모형을 업데이트해주는 REFRESH 전략을 쓸 것입니다."
   ]
  },
  {
   "cell_type": "code",
   "execution_count": 91,
   "id": "f674703c",
   "metadata": {},
   "outputs": [],
   "source": [
    "def forecast_one_step():\n",
    "    fc, conf_int = model.predict(n_periods=1 # 한 스텝씩!\n",
    "        , return_conf_int=True)              # 신뢰구간 출력\n",
    "    return (\n",
    "        fc.tolist()[0],\n",
    "        np.asarray(conf_int).tolist()[0]\n",
    "    )"
   ]
  },
  {
   "cell_type": "code",
   "execution_count": null,
   "id": "20dcab7d",
   "metadata": {},
   "outputs": [],
   "source": []
  },
  {
   "cell_type": "code",
   "execution_count": 115,
   "id": "18c9fb9d",
   "metadata": {},
   "outputs": [],
   "source": [
    "forecasts = []\n",
    "y_pred = []\n",
    "pred_upper = []\n",
    "pred_lower = []\n",
    "\n",
    "for new_ob in y_test:\n",
    "    fc, conf = forecast_one_step()\n",
    "    y_pred.append(fc)\n",
    "    pred_upper.append(conf[1])\n",
    "    pred_lower.append(conf[0])\n",
    "\n",
    "    ## 모형 업데이트 !!\n",
    "    model.update(new_ob)"
   ]
  },
  {
   "cell_type": "code",
   "execution_count": 116,
   "id": "8db0f900",
   "metadata": {},
   "outputs": [
    {
     "data": {
      "text/html": [
       "<div>\n",
       "<style scoped>\n",
       "    .dataframe tbody tr th:only-of-type {\n",
       "        vertical-align: middle;\n",
       "    }\n",
       "\n",
       "    .dataframe tbody tr th {\n",
       "        vertical-align: top;\n",
       "    }\n",
       "\n",
       "    .dataframe thead th {\n",
       "        text-align: right;\n",
       "    }\n",
       "</style>\n",
       "<table border=\"1\" class=\"dataframe\">\n",
       "  <thead>\n",
       "    <tr style=\"text-align: right;\">\n",
       "      <th></th>\n",
       "      <th>test</th>\n",
       "      <th>pred</th>\n",
       "    </tr>\n",
       "    <tr>\n",
       "      <th>date</th>\n",
       "      <th></th>\n",
       "      <th></th>\n",
       "    </tr>\n",
       "  </thead>\n",
       "  <tbody>\n",
       "    <tr>\n",
       "      <th>2020-11-22</th>\n",
       "      <td>23424679700.00</td>\n",
       "      <td>14824445186.60</td>\n",
       "    </tr>\n",
       "    <tr>\n",
       "      <th>2020-11-29</th>\n",
       "      <td>7326889000.00</td>\n",
       "      <td>19822197374.22</td>\n",
       "    </tr>\n",
       "    <tr>\n",
       "      <th>2020-12-06</th>\n",
       "      <td>8335266056.00</td>\n",
       "      <td>11148878616.57</td>\n",
       "    </tr>\n",
       "    <tr>\n",
       "      <th>2020-12-13</th>\n",
       "      <td>13700659770.00</td>\n",
       "      <td>8458535254.91</td>\n",
       "    </tr>\n",
       "    <tr>\n",
       "      <th>2020-12-20</th>\n",
       "      <td>22567972089.00</td>\n",
       "      <td>9775056033.23</td>\n",
       "    </tr>\n",
       "    <tr>\n",
       "      <th>2020-12-27</th>\n",
       "      <td>9096184272.00</td>\n",
       "      <td>26198475845.74</td>\n",
       "    </tr>\n",
       "    <tr>\n",
       "      <th>2021-01-03</th>\n",
       "      <td>5994957700.00</td>\n",
       "      <td>9800314346.29</td>\n",
       "    </tr>\n",
       "    <tr>\n",
       "      <th>2021-01-10</th>\n",
       "      <td>4730643439.00</td>\n",
       "      <td>2273577124.47</td>\n",
       "    </tr>\n",
       "    <tr>\n",
       "      <th>2021-01-17</th>\n",
       "      <td>7873530000.00</td>\n",
       "      <td>7696337707.50</td>\n",
       "    </tr>\n",
       "    <tr>\n",
       "      <th>2021-01-24</th>\n",
       "      <td>5529304810.00</td>\n",
       "      <td>8417781888.60</td>\n",
       "    </tr>\n",
       "    <tr>\n",
       "      <th>2021-01-31</th>\n",
       "      <td>4983520900.00</td>\n",
       "      <td>1978870660.85</td>\n",
       "    </tr>\n",
       "    <tr>\n",
       "      <th>2021-02-07</th>\n",
       "      <td>14134096389.00</td>\n",
       "      <td>7895713618.63</td>\n",
       "    </tr>\n",
       "    <tr>\n",
       "      <th>2021-02-14</th>\n",
       "      <td>9806356000.00</td>\n",
       "      <td>14476031027.62</td>\n",
       "    </tr>\n",
       "    <tr>\n",
       "      <th>2021-02-21</th>\n",
       "      <td>6168386370.00</td>\n",
       "      <td>6553185599.21</td>\n",
       "    </tr>\n",
       "    <tr>\n",
       "      <th>2021-02-28</th>\n",
       "      <td>4157001000.00</td>\n",
       "      <td>9194657868.17</td>\n",
       "    </tr>\n",
       "    <tr>\n",
       "      <th>2021-03-07</th>\n",
       "      <td>22781869785.00</td>\n",
       "      <td>4369961808.43</td>\n",
       "    </tr>\n",
       "    <tr>\n",
       "      <th>2021-03-14</th>\n",
       "      <td>14223140170.00</td>\n",
       "      <td>19387928437.08</td>\n",
       "    </tr>\n",
       "    <tr>\n",
       "      <th>2021-03-21</th>\n",
       "      <td>18421158900.00</td>\n",
       "      <td>17383016160.87</td>\n",
       "    </tr>\n",
       "    <tr>\n",
       "      <th>2021-03-28</th>\n",
       "      <td>10263540000.00</td>\n",
       "      <td>18989502718.85</td>\n",
       "    </tr>\n",
       "    <tr>\n",
       "      <th>2021-04-04</th>\n",
       "      <td>19241799582.00</td>\n",
       "      <td>6879699670.86</td>\n",
       "    </tr>\n",
       "    <tr>\n",
       "      <th>2021-04-11</th>\n",
       "      <td>6408864500.00</td>\n",
       "      <td>22212742927.73</td>\n",
       "    </tr>\n",
       "    <tr>\n",
       "      <th>2021-04-18</th>\n",
       "      <td>10105173846.00</td>\n",
       "      <td>7055872804.36</td>\n",
       "    </tr>\n",
       "    <tr>\n",
       "      <th>2021-04-25</th>\n",
       "      <td>3254503500.00</td>\n",
       "      <td>6873643523.24</td>\n",
       "    </tr>\n",
       "    <tr>\n",
       "      <th>2021-05-02</th>\n",
       "      <td>13210569140.00</td>\n",
       "      <td>5790499936.29</td>\n",
       "    </tr>\n",
       "    <tr>\n",
       "      <th>2021-05-09</th>\n",
       "      <td>5677669800.00</td>\n",
       "      <td>13705872400.56</td>\n",
       "    </tr>\n",
       "    <tr>\n",
       "      <th>2021-05-16</th>\n",
       "      <td>9908674220.00</td>\n",
       "      <td>2578997610.25</td>\n",
       "    </tr>\n",
       "    <tr>\n",
       "      <th>2021-05-23</th>\n",
       "      <td>8866162057.00</td>\n",
       "      <td>12526456548.35</td>\n",
       "    </tr>\n",
       "    <tr>\n",
       "      <th>2021-05-30</th>\n",
       "      <td>6215654701.00</td>\n",
       "      <td>9224515016.99</td>\n",
       "    </tr>\n",
       "    <tr>\n",
       "      <th>2021-06-06</th>\n",
       "      <td>22449365670.00</td>\n",
       "      <td>3347889433.82</td>\n",
       "    </tr>\n",
       "    <tr>\n",
       "      <th>2021-06-13</th>\n",
       "      <td>13101120574.00</td>\n",
       "      <td>24737898181.56</td>\n",
       "    </tr>\n",
       "    <tr>\n",
       "      <th>2021-06-20</th>\n",
       "      <td>10269823615.00</td>\n",
       "      <td>13748430616.48</td>\n",
       "    </tr>\n",
       "    <tr>\n",
       "      <th>2021-06-27</th>\n",
       "      <td>4752495296.00</td>\n",
       "      <td>7828829868.72</td>\n",
       "    </tr>\n",
       "    <tr>\n",
       "      <th>2021-07-04</th>\n",
       "      <td>6654942716.00</td>\n",
       "      <td>6659552843.76</td>\n",
       "    </tr>\n",
       "    <tr>\n",
       "      <th>2021-07-11</th>\n",
       "      <td>4161021829.00</td>\n",
       "      <td>7110308593.89</td>\n",
       "    </tr>\n",
       "    <tr>\n",
       "      <th>2021-07-18</th>\n",
       "      <td>6659752576.00</td>\n",
       "      <td>1706360420.80</td>\n",
       "    </tr>\n",
       "    <tr>\n",
       "      <th>2021-07-25</th>\n",
       "      <td>10144697928.00</td>\n",
       "      <td>8489746897.86</td>\n",
       "    </tr>\n",
       "    <tr>\n",
       "      <th>2021-08-01</th>\n",
       "      <td>11943245940.00</td>\n",
       "      <td>10528071141.27</td>\n",
       "    </tr>\n",
       "    <tr>\n",
       "      <th>2021-08-08</th>\n",
       "      <td>6994341678.00</td>\n",
       "      <td>9689853576.50</td>\n",
       "    </tr>\n",
       "    <tr>\n",
       "      <th>2021-08-15</th>\n",
       "      <td>11858070309.00</td>\n",
       "      <td>8925416835.24</td>\n",
       "    </tr>\n",
       "    <tr>\n",
       "      <th>2021-08-22</th>\n",
       "      <td>8734625670.00</td>\n",
       "      <td>12148134488.46</td>\n",
       "    </tr>\n",
       "    <tr>\n",
       "      <th>2021-08-29</th>\n",
       "      <td>11521600945.00</td>\n",
       "      <td>6532040486.87</td>\n",
       "    </tr>\n",
       "    <tr>\n",
       "      <th>2021-09-05</th>\n",
       "      <td>16709974200.00</td>\n",
       "      <td>13451272037.32</td>\n",
       "    </tr>\n",
       "    <tr>\n",
       "      <th>2021-09-12</th>\n",
       "      <td>6771457104.00</td>\n",
       "      <td>16902756777.61</td>\n",
       "    </tr>\n",
       "    <tr>\n",
       "      <th>2021-09-19</th>\n",
       "      <td>8038553567.00</td>\n",
       "      <td>4889697437.88</td>\n",
       "    </tr>\n",
       "    <tr>\n",
       "      <th>2021-09-26</th>\n",
       "      <td>1339917569.00</td>\n",
       "      <td>9879412117.10</td>\n",
       "    </tr>\n",
       "    <tr>\n",
       "      <th>2021-10-03</th>\n",
       "      <td>4474891000.00</td>\n",
       "      <td>1333176112.51</td>\n",
       "    </tr>\n",
       "    <tr>\n",
       "      <th>2021-10-10</th>\n",
       "      <td>20247506875.00</td>\n",
       "      <td>2553507796.70</td>\n",
       "    </tr>\n",
       "    <tr>\n",
       "      <th>2021-10-17</th>\n",
       "      <td>6108872105.00</td>\n",
       "      <td>21749939680.77</td>\n",
       "    </tr>\n",
       "    <tr>\n",
       "      <th>2021-10-24</th>\n",
       "      <td>6836222859.00</td>\n",
       "      <td>6587153484.45</td>\n",
       "    </tr>\n",
       "    <tr>\n",
       "      <th>2021-10-31</th>\n",
       "      <td>16489194000.00</td>\n",
       "      <td>5167711642.69</td>\n",
       "    </tr>\n",
       "    <tr>\n",
       "      <th>2021-11-07</th>\n",
       "      <td>34692130700.00</td>\n",
       "      <td>17477462872.04</td>\n",
       "    </tr>\n",
       "    <tr>\n",
       "      <th>2021-11-14</th>\n",
       "      <td>27438278661.00</td>\n",
       "      <td>35190657547.96</td>\n",
       "    </tr>\n",
       "    <tr>\n",
       "      <th>2021-11-21</th>\n",
       "      <td>9332735200.00</td>\n",
       "      <td>26447204489.81</td>\n",
       "    </tr>\n",
       "    <tr>\n",
       "      <th>2021-11-28</th>\n",
       "      <td>6452257930.00</td>\n",
       "      <td>10803370850.57</td>\n",
       "    </tr>\n",
       "    <tr>\n",
       "      <th>2021-12-05</th>\n",
       "      <td>15323871280.00</td>\n",
       "      <td>6453319690.59</td>\n",
       "    </tr>\n",
       "    <tr>\n",
       "      <th>2021-12-12</th>\n",
       "      <td>15572623196.00</td>\n",
       "      <td>13768052816.70</td>\n",
       "    </tr>\n",
       "    <tr>\n",
       "      <th>2021-12-19</th>\n",
       "      <td>23078195505.00</td>\n",
       "      <td>17051682342.30</td>\n",
       "    </tr>\n",
       "    <tr>\n",
       "      <th>2021-12-26</th>\n",
       "      <td>6937094040.00</td>\n",
       "      <td>23263229521.33</td>\n",
       "    </tr>\n",
       "    <tr>\n",
       "      <th>2022-01-02</th>\n",
       "      <td>4566138800.00</td>\n",
       "      <td>5698802121.07</td>\n",
       "    </tr>\n",
       "  </tbody>\n",
       "</table>\n",
       "</div>"
      ],
      "text/plain": [
       "                     test           pred\n",
       "date                                    \n",
       "2020-11-22 23424679700.00 14824445186.60\n",
       "2020-11-29  7326889000.00 19822197374.22\n",
       "2020-12-06  8335266056.00 11148878616.57\n",
       "2020-12-13 13700659770.00  8458535254.91\n",
       "2020-12-20 22567972089.00  9775056033.23\n",
       "2020-12-27  9096184272.00 26198475845.74\n",
       "2021-01-03  5994957700.00  9800314346.29\n",
       "2021-01-10  4730643439.00  2273577124.47\n",
       "2021-01-17  7873530000.00  7696337707.50\n",
       "2021-01-24  5529304810.00  8417781888.60\n",
       "2021-01-31  4983520900.00  1978870660.85\n",
       "2021-02-07 14134096389.00  7895713618.63\n",
       "2021-02-14  9806356000.00 14476031027.62\n",
       "2021-02-21  6168386370.00  6553185599.21\n",
       "2021-02-28  4157001000.00  9194657868.17\n",
       "2021-03-07 22781869785.00  4369961808.43\n",
       "2021-03-14 14223140170.00 19387928437.08\n",
       "2021-03-21 18421158900.00 17383016160.87\n",
       "2021-03-28 10263540000.00 18989502718.85\n",
       "2021-04-04 19241799582.00  6879699670.86\n",
       "2021-04-11  6408864500.00 22212742927.73\n",
       "2021-04-18 10105173846.00  7055872804.36\n",
       "2021-04-25  3254503500.00  6873643523.24\n",
       "2021-05-02 13210569140.00  5790499936.29\n",
       "2021-05-09  5677669800.00 13705872400.56\n",
       "2021-05-16  9908674220.00  2578997610.25\n",
       "2021-05-23  8866162057.00 12526456548.35\n",
       "2021-05-30  6215654701.00  9224515016.99\n",
       "2021-06-06 22449365670.00  3347889433.82\n",
       "2021-06-13 13101120574.00 24737898181.56\n",
       "2021-06-20 10269823615.00 13748430616.48\n",
       "2021-06-27  4752495296.00  7828829868.72\n",
       "2021-07-04  6654942716.00  6659552843.76\n",
       "2021-07-11  4161021829.00  7110308593.89\n",
       "2021-07-18  6659752576.00  1706360420.80\n",
       "2021-07-25 10144697928.00  8489746897.86\n",
       "2021-08-01 11943245940.00 10528071141.27\n",
       "2021-08-08  6994341678.00  9689853576.50\n",
       "2021-08-15 11858070309.00  8925416835.24\n",
       "2021-08-22  8734625670.00 12148134488.46\n",
       "2021-08-29 11521600945.00  6532040486.87\n",
       "2021-09-05 16709974200.00 13451272037.32\n",
       "2021-09-12  6771457104.00 16902756777.61\n",
       "2021-09-19  8038553567.00  4889697437.88\n",
       "2021-09-26  1339917569.00  9879412117.10\n",
       "2021-10-03  4474891000.00  1333176112.51\n",
       "2021-10-10 20247506875.00  2553507796.70\n",
       "2021-10-17  6108872105.00 21749939680.77\n",
       "2021-10-24  6836222859.00  6587153484.45\n",
       "2021-10-31 16489194000.00  5167711642.69\n",
       "2021-11-07 34692130700.00 17477462872.04\n",
       "2021-11-14 27438278661.00 35190657547.96\n",
       "2021-11-21  9332735200.00 26447204489.81\n",
       "2021-11-28  6452257930.00 10803370850.57\n",
       "2021-12-05 15323871280.00  6453319690.59\n",
       "2021-12-12 15572623196.00 13768052816.70\n",
       "2021-12-19 23078195505.00 17051682342.30\n",
       "2021-12-26  6937094040.00 23263229521.33\n",
       "2022-01-02  4566138800.00  5698802121.07"
      ]
     },
     "execution_count": 116,
     "metadata": {},
     "output_type": "execute_result"
    }
   ],
   "source": [
    "test_pred=pd.DataFrame({\"test\": y_test, \"pred\": y_pred})\n",
    "test_pred #11061990545.46"
   ]
  },
  {
   "cell_type": "code",
   "execution_count": 117,
   "id": "97dd9143",
   "metadata": {},
   "outputs": [
    {
     "data": {
      "text/plain": [
       "<AxesSubplot:xlabel='date'>"
      ]
     },
     "execution_count": 117,
     "metadata": {},
     "output_type": "execute_result"
    },
    {
     "data": {
      "image/png": "[encoded data removed]",
      "text/plain": [
       "<Figure size 432x288 with 1 Axes>"
      ]
     },
     "metadata": {},
     "output_type": "display_data"
    }
   ],
   "source": [
    "test_pred.plot()"
   ]
  },
  {
   "cell_type": "code",
   "execution_count": 118,
   "id": "051aab95",
   "metadata": {},
   "outputs": [
    {
     "name": "stdout",
     "output_type": "stream",
     "text": [
      "                                      SARIMAX Results                                      \n",
      "===========================================================================================\n",
      "Dep. Variable:                                   y   No. Observations:                  196\n",
      "Model:             SARIMAX(2, 2, 0)x(0, 0, [1], 3)   Log Likelihood               -4923.406\n",
      "Date:                             Fri, 18 Feb 2022   AIC                           9854.811\n",
      "Time:                                     16:48:16   BIC                           9867.882\n",
      "Sample:                                          0   HQIC                          9860.104\n",
      "                                             - 196                                         \n",
      "Covariance Type:                               opg                                         \n",
      "==============================================================================\n",
      "                 coef    std err          z      P>|z|      [0.025      0.975]\n",
      "------------------------------------------------------------------------------\n",
      "ar.L1         -1.0082      0.024    -41.994      0.000      -1.055      -0.961\n",
      "ar.L2         -0.9911      0.029    -34.275      0.000      -1.048      -0.934\n",
      "ma.S.L3       -0.9649      0.105     -9.223      0.000      -1.170      -0.760\n",
      "sigma2      1.026e+21        nan        nan        nan         nan         nan\n",
      "===================================================================================\n",
      "Ljung-Box (L1) (Q):                  35.94   Jarque-Bera (JB):             15122.54\n",
      "Prob(Q):                              0.00   Prob(JB):                         0.00\n",
      "Heteroskedasticity (H):               0.06   Skew:                            -1.07\n",
      "Prob(H) (two-sided):                  0.00   Kurtosis:                        46.20\n",
      "===================================================================================\n",
      "\n",
      "Warnings:\n",
      "[1] Covariance matrix calculated using the outer product of gradients (complex-step).\n",
      "[2] Covariance matrix is singular or near-singular, with condition number 2.91e+58. Standard errors may be unstable.\n"
     ]
    }
   ],
   "source": [
    "print(model.summary())"
   ]
  },
  {
   "cell_type": "code",
   "execution_count": 119,
   "id": "c7b20598",
   "metadata": {},
   "outputs": [
    {
     "data": {
      "application/vnd.plotly.v1+json": {
       "config": {
        "plotlyServerURL": "https://plot.ly"
       },
       "data": [
        {
         "line": {
          "color": "royalblue"
         },
         "mode": "lines",
         "name": "Train",
         "type": "scatter",
         "x": [
          "2018-04-08T00:00:00",
          "2018-04-15T00:00:00",
          "2018-04-22T00:00:00",
          "2018-04-29T00:00:00",
          "2018-05-06T00:00:00",
          "2018-05-13T00:00:00",
          "2018-05-20T00:00:00",
          "2018-05-27T00:00:00",
          "2018-06-03T00:00:00",
          "2018-06-10T00:00:00",
          "2018-06-17T00:00:00",
          "2018-06-24T00:00:00",
          "2018-07-01T00:00:00",
          "2018-07-08T00:00:00",
          "2018-07-15T00:00:00",
          "2018-07-22T00:00:00",
          "2018-07-29T00:00:00",
          "2018-08-05T00:00:00",
          "2018-08-12T00:00:00",
          "2018-08-19T00:00:00",
          "2018-08-26T00:00:00",
          "2018-09-02T00:00:00",
          "2018-09-09T00:00:00",
          "2018-09-16T00:00:00",
          "2018-09-23T00:00:00",
          "2018-09-30T00:00:00",
          "2018-10-07T00:00:00",
          "2018-10-14T00:00:00",
          "2018-10-21T00:00:00",
          "2018-10-28T00:00:00",
          "2018-11-04T00:00:00",
          "2018-11-11T00:00:00",
          "2018-11-18T00:00:00",
          "2018-11-25T00:00:00",
          "2018-12-02T00:00:00",
          "2018-12-09T00:00:00",
          "2018-12-16T00:00:00",
          "2018-12-23T00:00:00",
          "2018-12-30T00:00:00",
          "2019-01-06T00:00:00",
          "2019-01-13T00:00:00",
          "2019-01-20T00:00:00",
          "2019-01-27T00:00:00",
          "2019-02-03T00:00:00",
          "2019-02-10T00:00:00",
          "2019-02-17T00:00:00",
          "2019-02-24T00:00:00",
          "2019-03-03T00:00:00",
          "2019-03-10T00:00:00",
          "2019-03-17T00:00:00",
          "2019-03-24T00:00:00",
          "2019-03-31T00:00:00",
          "2019-04-07T00:00:00",
          "2019-04-14T00:00:00",
          "2019-04-21T00:00:00",
          "2019-04-28T00:00:00",
          "2019-05-05T00:00:00",
          "2019-05-12T00:00:00",
          "2019-05-19T00:00:00",
          "2019-05-26T00:00:00",
          "2019-06-02T00:00:00",
          "2019-06-09T00:00:00",
          "2019-06-16T00:00:00",
          "2019-06-23T00:00:00",
          "2019-06-30T00:00:00",
          "2019-07-07T00:00:00",
          "2019-07-14T00:00:00",
          "2019-07-21T00:00:00",
          "2019-07-28T00:00:00",
          "2019-08-04T00:00:00",
          "2019-08-11T00:00:00",
          "2019-08-18T00:00:00",
          "2019-08-25T00:00:00",
          "2019-09-01T00:00:00",
          "2019-09-08T00:00:00",
          "2019-09-15T00:00:00",
          "2019-09-22T00:00:00",
          "2019-09-29T00:00:00",
          "2019-10-06T00:00:00",
          "2019-10-13T00:00:00",
          "2019-10-20T00:00:00",
          "2019-10-27T00:00:00",
          "2019-11-03T00:00:00",
          "2019-11-10T00:00:00",
          "2019-11-17T00:00:00",
          "2019-11-24T00:00:00",
          "2019-12-01T00:00:00",
          "2019-12-08T00:00:00",
          "2019-12-15T00:00:00",
          "2019-12-22T00:00:00",
          "2019-12-29T00:00:00",
          "2020-01-05T00:00:00",
          "2020-01-12T00:00:00",
          "2020-01-19T00:00:00",
          "2020-01-26T00:00:00",
          "2020-02-02T00:00:00",
          "2020-02-09T00:00:00",
          "2020-02-16T00:00:00",
          "2020-02-23T00:00:00",
          "2020-03-01T00:00:00",
          "2020-03-08T00:00:00",
          "2020-03-15T00:00:00",
          "2020-03-22T00:00:00",
          "2020-03-29T00:00:00",
          "2020-04-05T00:00:00",
          "2020-04-12T00:00:00",
          "2020-04-19T00:00:00",
          "2020-04-26T00:00:00",
          "2020-05-03T00:00:00",
          "2020-05-10T00:00:00",
          "2020-05-17T00:00:00",
          "2020-05-24T00:00:00",
          "2020-05-31T00:00:00",
          "2020-06-07T00:00:00",
          "2020-06-14T00:00:00",
          "2020-06-21T00:00:00",
          "2020-06-28T00:00:00",
          "2020-07-05T00:00:00",
          "2020-07-12T00:00:00",
          "2020-07-19T00:00:00",
          "2020-07-26T00:00:00",
          "2020-08-02T00:00:00",
          "2020-08-09T00:00:00",
          "2020-08-16T00:00:00",
          "2020-08-23T00:00:00",
          "2020-08-30T00:00:00",
          "2020-09-06T00:00:00",
          "2020-09-13T00:00:00",
          "2020-09-20T00:00:00",
          "2020-09-27T00:00:00",
          "2020-10-04T00:00:00",
          "2020-10-11T00:00:00",
          "2020-10-18T00:00:00",
          "2020-10-25T00:00:00",
          "2020-11-01T00:00:00",
          "2020-11-08T00:00:00",
          "2020-11-15T00:00:00"
         ],
         "y": [
          1213394500,
          2100809455,
          5161653780,
          1889171056,
          8386696600,
          200561174625,
          9819433800,
          4675500195,
          28565495245,
          50438150000,
          2855741100,
          1474135500,
          4051708000,
          2655760227,
          21516554630,
          2286207200,
          4773183920,
          5201743800,
          3601335390,
          5424815920,
          2705315160,
          16012141500,
          3810537030,
          6677280000,
          8748117100,
          552187220,
          1222976601,
          1224691809,
          888017561,
          2307802702,
          811699100,
          2096006000,
          1305792302,
          1438916100,
          6119869600,
          4301376200,
          3883977600,
          2323177091,
          3707469300,
          682452000,
          729078600,
          3525021800,
          1012902341,
          10523830501,
          677432001,
          4403787937,
          6577706061,
          35567026000,
          4835060000,
          14321818400,
          4610343600,
          6255003100,
          7932841773,
          21545346200,
          7201810400,
          3953029100,
          7214135241,
          8556412041,
          3131468011,
          2822727000,
          4244528211,
          11305388232,
          10896479304,
          3833156299,
          4349631500,
          9064497867,
          7009708400,
          8763455500,
          5553997523,
          12959485611,
          6782889500,
          2445796380,
          6885861830,
          3030525996,
          4996558700,
          1543249400,
          7018030650,
          8196101930,
          10623970590,
          22242614188,
          61176331149,
          7059529000,
          9894236700,
          4334865800,
          5158110800,
          34019650812,
          4246489210,
          4737786004,
          6952001640,
          30304667800,
          825558000,
          7944958000,
          1964980000,
          6154888170,
          1431703600,
          4719791900,
          22331791923,
          5096185600,
          8875846000,
          10576892326,
          3300244155,
          9286457980,
          7381606274,
          10197411673,
          5173312689,
          4271550892,
          45589362535,
          6123518000,
          6593224032,
          3769413000,
          7173184417,
          26631972616,
          27077754300,
          23982415000,
          16416537750,
          26080658000,
          64353502279,
          8265949682,
          6941100000,
          12474709000,
          2780660568,
          8874744600,
          33329667862,
          28901565553,
          5895470621,
          1553952900,
          4586623000,
          27815409040,
          9586456500,
          4786290700,
          20703715380,
          6227303525,
          9833461981,
          4409591900,
          9197301973,
          18876892180,
          14628273100
         ]
        },
        {
         "line": {
          "color": "rgba(0,0,30,0.5)"
         },
         "mode": "lines",
         "name": "Test",
         "type": "scatter",
         "x": [
          "2020-11-22T00:00:00",
          "2020-11-29T00:00:00",
          "2020-12-06T00:00:00",
          "2020-12-13T00:00:00",
          "2020-12-20T00:00:00",
          "2020-12-27T00:00:00",
          "2021-01-03T00:00:00",
          "2021-01-10T00:00:00",
          "2021-01-17T00:00:00",
          "2021-01-24T00:00:00",
          "2021-01-31T00:00:00",
          "2021-02-07T00:00:00",
          "2021-02-14T00:00:00",
          "2021-02-21T00:00:00",
          "2021-02-28T00:00:00",
          "2021-03-07T00:00:00",
          "2021-03-14T00:00:00",
          "2021-03-21T00:00:00",
          "2021-03-28T00:00:00",
          "2021-04-04T00:00:00",
          "2021-04-11T00:00:00",
          "2021-04-18T00:00:00",
          "2021-04-25T00:00:00",
          "2021-05-02T00:00:00",
          "2021-05-09T00:00:00",
          "2021-05-16T00:00:00",
          "2021-05-23T00:00:00",
          "2021-05-30T00:00:00",
          "2021-06-06T00:00:00",
          "2021-06-13T00:00:00",
          "2021-06-20T00:00:00",
          "2021-06-27T00:00:00",
          "2021-07-04T00:00:00",
          "2021-07-11T00:00:00",
          "2021-07-18T00:00:00",
          "2021-07-25T00:00:00",
          "2021-08-01T00:00:00",
          "2021-08-08T00:00:00",
          "2021-08-15T00:00:00",
          "2021-08-22T00:00:00",
          "2021-08-29T00:00:00",
          "2021-09-05T00:00:00",
          "2021-09-12T00:00:00",
          "2021-09-19T00:00:00",
          "2021-09-26T00:00:00",
          "2021-10-03T00:00:00",
          "2021-10-10T00:00:00",
          "2021-10-17T00:00:00",
          "2021-10-24T00:00:00",
          "2021-10-31T00:00:00",
          "2021-11-07T00:00:00",
          "2021-11-14T00:00:00",
          "2021-11-21T00:00:00",
          "2021-11-28T00:00:00",
          "2021-12-05T00:00:00",
          "2021-12-12T00:00:00",
          "2021-12-19T00:00:00",
          "2021-12-26T00:00:00",
          "2022-01-02T00:00:00"
         ],
         "y": [
          23424679700,
          7326889000,
          8335266056,
          13700659770,
          22567972089,
          9096184272,
          5994957700,
          4730643439,
          7873530000,
          5529304810,
          4983520900,
          14134096389,
          9806356000,
          6168386370,
          4157001000,
          22781869785,
          14223140170,
          18421158900,
          10263540000,
          19241799582,
          6408864500,
          10105173846,
          3254503500,
          13210569140,
          5677669800,
          9908674220,
          8866162057,
          6215654701,
          22449365670,
          13101120574,
          10269823615,
          4752495296,
          6654942716,
          4161021829,
          6659752576,
          10144697928,
          11943245940,
          6994341678,
          11858070309,
          8734625670,
          11521600945,
          16709974200,
          6771457104,
          8038553567,
          1339917569,
          4474891000,
          20247506875,
          6108872105,
          6836222859,
          16489194000,
          34692130700,
          27438278661,
          9332735200,
          6452257930,
          15323871280,
          15572623196,
          23078195505,
          6937094040,
          4566138800
         ]
        },
        {
         "line": {
          "color": "red",
          "dash": "dot",
          "width": 3
         },
         "mode": "lines",
         "name": "Prediction",
         "type": "scatter",
         "x": [
          "2020-11-22T00:00:00",
          "2020-11-29T00:00:00",
          "2020-12-06T00:00:00",
          "2020-12-13T00:00:00",
          "2020-12-20T00:00:00",
          "2020-12-27T00:00:00",
          "2021-01-03T00:00:00",
          "2021-01-10T00:00:00",
          "2021-01-17T00:00:00",
          "2021-01-24T00:00:00",
          "2021-01-31T00:00:00",
          "2021-02-07T00:00:00",
          "2021-02-14T00:00:00",
          "2021-02-21T00:00:00",
          "2021-02-28T00:00:00",
          "2021-03-07T00:00:00",
          "2021-03-14T00:00:00",
          "2021-03-21T00:00:00",
          "2021-03-28T00:00:00",
          "2021-04-04T00:00:00",
          "2021-04-11T00:00:00",
          "2021-04-18T00:00:00",
          "2021-04-25T00:00:00",
          "2021-05-02T00:00:00",
          "2021-05-09T00:00:00",
          "2021-05-16T00:00:00",
          "2021-05-23T00:00:00",
          "2021-05-30T00:00:00",
          "2021-06-06T00:00:00",
          "2021-06-13T00:00:00",
          "2021-06-20T00:00:00",
          "2021-06-27T00:00:00",
          "2021-07-04T00:00:00",
          "2021-07-11T00:00:00",
          "2021-07-18T00:00:00",
          "2021-07-25T00:00:00",
          "2021-08-01T00:00:00",
          "2021-08-08T00:00:00",
          "2021-08-15T00:00:00",
          "2021-08-22T00:00:00",
          "2021-08-29T00:00:00",
          "2021-09-05T00:00:00",
          "2021-09-12T00:00:00",
          "2021-09-19T00:00:00",
          "2021-09-26T00:00:00",
          "2021-10-03T00:00:00",
          "2021-10-10T00:00:00",
          "2021-10-17T00:00:00",
          "2021-10-24T00:00:00",
          "2021-10-31T00:00:00",
          "2021-11-07T00:00:00",
          "2021-11-14T00:00:00",
          "2021-11-21T00:00:00",
          "2021-11-28T00:00:00",
          "2021-12-05T00:00:00",
          "2021-12-12T00:00:00",
          "2021-12-19T00:00:00",
          "2021-12-26T00:00:00",
          "2022-01-02T00:00:00"
         ],
         "y": [
          14824445186.604324,
          19822197374.216038,
          11148878616.574348,
          8458535254.90642,
          9775056033.228296,
          26198475845.73536,
          9800314346.292036,
          2273577124.4673347,
          7696337707.500617,
          8417781888.604999,
          1978870660.8540812,
          7895713618.628586,
          14476031027.616795,
          6553185599.208363,
          9194657868.168503,
          4369961808.428218,
          19387928437.077766,
          17383016160.86753,
          18989502718.84546,
          6879699670.863703,
          22212742927.72618,
          7055872804.362726,
          6873643523.240124,
          5790499936.2866,
          13705872400.560051,
          2578997610.2503433,
          12526456548.34861,
          9224515016.993595,
          3347889433.822809,
          24737898181.55725,
          13748430616.48108,
          7828829868.7249,
          6659552843.762625,
          7110308593.890779,
          1706360420.798955,
          8489746897.862924,
          10528071141.270565,
          9689853576.499666,
          8925416835.239323,
          12148134488.457039,
          6532040486.87052,
          13451272037.317852,
          16902756777.610191,
          4889697437.878795,
          9879412117.10353,
          1333176112.5144033,
          2553507796.702038,
          21749939680.766724,
          6587153484.447878,
          5167711642.69273,
          17477462872.03588,
          35190657547.9626,
          26447204489.805744,
          10803370850.567003,
          6453319690.59103,
          13768052816.70373,
          17051682342.297909,
          23263229521.33068,
          5698802121.074085
         ]
        },
        {
         "fill": "toself",
         "fillcolor": "rgba(0,0,30,0.1)",
         "hoverinfo": "skip",
         "line": {
          "color": "rgba(0,0,0,0)"
         },
         "showlegend": false,
         "type": "scatter",
         "x": [
          "2020-11-22T00:00:00",
          "2020-11-29T00:00:00",
          "2020-12-06T00:00:00",
          "2020-12-13T00:00:00",
          "2020-12-20T00:00:00",
          "2020-12-27T00:00:00",
          "2021-01-03T00:00:00",
          "2021-01-10T00:00:00",
          "2021-01-17T00:00:00",
          "2021-01-24T00:00:00",
          "2021-01-31T00:00:00",
          "2021-02-07T00:00:00",
          "2021-02-14T00:00:00",
          "2021-02-21T00:00:00",
          "2021-02-28T00:00:00",
          "2021-03-07T00:00:00",
          "2021-03-14T00:00:00",
          "2021-03-21T00:00:00",
          "2021-03-28T00:00:00",
          "2021-04-04T00:00:00",
          "2021-04-11T00:00:00",
          "2021-04-18T00:00:00",
          "2021-04-25T00:00:00",
          "2021-05-02T00:00:00",
          "2021-05-09T00:00:00",
          "2021-05-16T00:00:00",
          "2021-05-23T00:00:00",
          "2021-05-30T00:00:00",
          "2021-06-06T00:00:00",
          "2021-06-13T00:00:00",
          "2021-06-20T00:00:00",
          "2021-06-27T00:00:00",
          "2021-07-04T00:00:00",
          "2021-07-11T00:00:00",
          "2021-07-18T00:00:00",
          "2021-07-25T00:00:00",
          "2021-08-01T00:00:00",
          "2021-08-08T00:00:00",
          "2021-08-15T00:00:00",
          "2021-08-22T00:00:00",
          "2021-08-29T00:00:00",
          "2021-09-05T00:00:00",
          "2021-09-12T00:00:00",
          "2021-09-19T00:00:00",
          "2021-09-26T00:00:00",
          "2021-10-03T00:00:00",
          "2021-10-10T00:00:00",
          "2021-10-17T00:00:00",
          "2021-10-24T00:00:00",
          "2021-10-31T00:00:00",
          "2021-11-07T00:00:00",
          "2021-11-14T00:00:00",
          "2021-11-21T00:00:00",
          "2021-11-28T00:00:00",
          "2021-12-05T00:00:00",
          "2021-12-12T00:00:00",
          "2021-12-19T00:00:00",
          "2021-12-26T00:00:00",
          "2022-01-02T00:00:00",
          "2022-01-02T00:00:00",
          "2021-12-26T00:00:00",
          "2021-12-19T00:00:00",
          "2021-12-12T00:00:00",
          "2021-12-05T00:00:00",
          "2021-11-28T00:00:00",
          "2021-11-21T00:00:00",
          "2021-11-14T00:00:00",
          "2021-11-07T00:00:00",
          "2021-10-31T00:00:00",
          "2021-10-24T00:00:00",
          "2021-10-17T00:00:00",
          "2021-10-10T00:00:00",
          "2021-10-03T00:00:00",
          "2021-09-26T00:00:00",
          "2021-09-19T00:00:00",
          "2021-09-12T00:00:00",
          "2021-09-05T00:00:00",
          "2021-08-29T00:00:00",
          "2021-08-22T00:00:00",
          "2021-08-15T00:00:00",
          "2021-08-08T00:00:00",
          "2021-08-01T00:00:00",
          "2021-07-25T00:00:00",
          "2021-07-18T00:00:00",
          "2021-07-11T00:00:00",
          "2021-07-04T00:00:00",
          "2021-06-27T00:00:00",
          "2021-06-20T00:00:00",
          "2021-06-13T00:00:00",
          "2021-06-06T00:00:00",
          "2021-05-30T00:00:00",
          "2021-05-23T00:00:00",
          "2021-05-16T00:00:00",
          "2021-05-09T00:00:00",
          "2021-05-02T00:00:00",
          "2021-04-25T00:00:00",
          "2021-04-18T00:00:00",
          "2021-04-11T00:00:00",
          "2021-04-04T00:00:00",
          "2021-03-28T00:00:00",
          "2021-03-21T00:00:00",
          "2021-03-14T00:00:00",
          "2021-03-07T00:00:00",
          "2021-02-28T00:00:00",
          "2021-02-21T00:00:00",
          "2021-02-14T00:00:00",
          "2021-02-07T00:00:00",
          "2021-01-31T00:00:00",
          "2021-01-24T00:00:00",
          "2021-01-17T00:00:00",
          "2021-01-10T00:00:00",
          "2021-01-03T00:00:00",
          "2020-12-27T00:00:00",
          "2020-12-20T00:00:00",
          "2020-12-13T00:00:00",
          "2020-12-06T00:00:00",
          "2020-11-29T00:00:00",
          "2020-11-22T00:00:00"
         ],
         "y": [
          77650487417.82591,
          82647819693.95816,
          73974252064.80371,
          71280533351.46297,
          72596787590.74551,
          89019435343.4549,
          72617355934.21092,
          65090740254.37253,
          70513000663.30554,
          71231795219.76904,
          64792977120.743195,
          70709353814.5072,
          77287486576.1473,
          69364783246.71452,
          72002859405.90192,
          67175763983.4058,
          82193240599.29105,
          80188077896.01122,
          81792585853.21532,
          69683004198.43651,
          85015624435.39084,
          69856396915.28494,
          69674103361.76216,
          68590731550.24786,
          76504589550.85446,
          65377867919.424965,
          75325012861.32156,
          72021362948.16025,
          66144784734.93897,
          87534436954.87753,
          76542580909.20702,
          70622831300.02414,
          69453365225.45233,
          69902764381.55453,
          64498844476.64675,
          71282015234.79393,
          73319100724.57677,
          72480865893.96791,
          71716258254.96829,
          74937837967.80328,
          69321771839.56297,
          76240824294.13528,
          79691249092.45299,
          67678274526.249954,
          72667823115.05136,
          64120504466.97678,
          65340816580.98006,
          84537072141.93079,
          69373254307.1745,
          67953777697.516846,
          80263385110.96176,
          97975786989.44112,
          89232358849.06242,
          73588377505.7475,
          69237508918.5638,
          76552199954.56544,
          79835707357.93839,
          86046535756.2933,
          68482182174.184525,
          -57084577932.03636,
          -39520076713.631935,
          -45732342673.34256,
          -49016094321.15798,
          -56330869537.381744,
          -51981635804.61349,
          -36337949869.45094,
          -27594471893.515915,
          -45308459366.88999,
          -57618354412.13139,
          -56198947338.27875,
          -41037192780.39734,
          -60233800987.57597,
          -61454152241.947975,
          -52908998880.84431,
          -57898879650.49237,
          -45885735537.232605,
          -49338280219.49959,
          -56257690865.82194,
          -50641568990.8892,
          -53865424584.489655,
          -53101158740.968575,
          -52262958442.03563,
          -54302521439.068085,
          -61086123635.048836,
          -55682147193.77297,
          -56134259537.92708,
          -54965171562.57434,
          -49045719676.24486,
          -38058640591.76304,
          -59449005867.29336,
          -53572332914.17305,
          -50272099764.62434,
          -60219872698.92428,
          -49092844749.73437,
          -57009731677.67467,
          -55926816315.28192,
          -55744651306.559494,
          -40590138579.93848,
          -55923604856.7091,
          -43813580415.5244,
          -45422045574.27615,
          -43417383725.135506,
          -58435840366.54937,
          -53613543669.56492,
          -56258412048.297806,
          -48335424520.9137,
          -54917926577.25003,
          -60835235799.035034,
          -54396231442.55905,
          -55120325248.304306,
          -60543586005.43785,
          -53016727241.626854,
          -36622483651.98417,
          -53046675524.288925,
          -54363462841.65013,
          -51676494831.655014,
          -43003424945.52609,
          -48001597044.61726
         ]
        }
       ],
       "layout": {
        "height": 400,
        "template": {
         "data": {
          "bar": [
           {
            "error_x": {
             "color": "#2a3f5f"
            },
            "error_y": {
             "color": "#2a3f5f"
            },
            "marker": {
             "line": {
              "color": "#E5ECF6",
              "width": 0.5
             },
             "pattern": {
              "fillmode": "overlay",
              "size": 10,
              "solidity": 0.2
             }
            },
            "type": "bar"
           }
          ],
          "barpolar": [
           {
            "marker": {
             "line": {
              "color": "#E5ECF6",
              "width": 0.5
             },
             "pattern": {
              "fillmode": "overlay",
              "size": 10,
              "solidity": 0.2
             }
            },
            "type": "barpolar"
           }
          ],
          "carpet": [
           {
            "aaxis": {
             "endlinecolor": "#2a3f5f",
             "gridcolor": "white",
             "linecolor": "white",
             "minorgridcolor": "white",
             "startlinecolor": "#2a3f5f"
            },
            "baxis": {
             "endlinecolor": "#2a3f5f",
             "gridcolor": "white",
             "linecolor": "white",
             "minorgridcolor": "white",
             "startlinecolor": "#2a3f5f"
            },
            "type": "carpet"
           }
          ],
          "choropleth": [
           {
            "colorbar": {
             "outlinewidth": 0,
             "ticks": ""
            },
            "type": "choropleth"
           }
          ],
          "contour": [
           {
            "colorbar": {
             "outlinewidth": 0,
             "ticks": ""
            },
            "colorscale": [
             [
              0,
              "#0d0887"
             ],
             [
              0.1111111111111111,
              "#46039f"
             ],
             [
              0.2222222222222222,
              "#7201a8"
             ],
             [
              0.3333333333333333,
              "#9c179e"
             ],
             [
              0.4444444444444444,
              "#bd3786"
             ],
             [
              0.5555555555555556,
              "#d8576b"
             ],
             [
              0.6666666666666666,
              "#ed7953"
             ],
             [
              0.7777777777777778,
              "#fb9f3a"
             ],
             [
              0.8888888888888888,
              "#fdca26"
             ],
             [
              1,
              "#f0f921"
             ]
            ],
            "type": "contour"
           }
          ],
          "contourcarpet": [
           {
            "colorbar": {
             "outlinewidth": 0,
             "ticks": ""
            },
            "type": "contourcarpet"
           }
          ],
          "heatmap": [
           {
            "colorbar": {
             "outlinewidth": 0,
             "ticks": ""
            },
            "colorscale": [
             [
              0,
              "#0d0887"
             ],
             [
              0.1111111111111111,
              "#46039f"
             ],
             [
              0.2222222222222222,
              "#7201a8"
             ],
             [
              0.3333333333333333,
              "#9c179e"
             ],
             [
              0.4444444444444444,
              "#bd3786"
             ],
             [
              0.5555555555555556,
              "#d8576b"
             ],
             [
              0.6666666666666666,
              "#ed7953"
             ],
             [
              0.7777777777777778,
              "#fb9f3a"
             ],
             [
              0.8888888888888888,
              "#fdca26"
             ],
             [
              1,
              "#f0f921"
             ]
            ],
            "type": "heatmap"
           }
          ],
          "heatmapgl": [
           {
            "colorbar": {
             "outlinewidth": 0,
             "ticks": ""
            },
            "colorscale": [
             [
              0,
              "#0d0887"
             ],
             [
              0.1111111111111111,
              "#46039f"
             ],
             [
              0.2222222222222222,
              "#7201a8"
             ],
             [
              0.3333333333333333,
              "#9c179e"
             ],
             [
              0.4444444444444444,
              "#bd3786"
             ],
             [
              0.5555555555555556,
              "#d8576b"
             ],
             [
              0.6666666666666666,
              "#ed7953"
             ],
             [
              0.7777777777777778,
              "#fb9f3a"
             ],
             [
              0.8888888888888888,
              "#fdca26"
             ],
             [
              1,
              "#f0f921"
             ]
            ],
            "type": "heatmapgl"
           }
          ],
          "histogram": [
           {
            "marker": {
             "pattern": {
              "fillmode": "overlay",
              "size": 10,
              "solidity": 0.2
             }
            },
            "type": "histogram"
           }
          ],
          "histogram2d": [
           {
            "colorbar": {
             "outlinewidth": 0,
             "ticks": ""
            },
            "colorscale": [
             [
              0,
              "#0d0887"
             ],
             [
              0.1111111111111111,
              "#46039f"
             ],
             [
              0.2222222222222222,
              "#7201a8"
             ],
             [
              0.3333333333333333,
              "#9c179e"
             ],
             [
              0.4444444444444444,
              "#bd3786"
             ],
             [
              0.5555555555555556,
              "#d8576b"
             ],
             [
              0.6666666666666666,
              "#ed7953"
             ],
             [
              0.7777777777777778,
              "#fb9f3a"
             ],
             [
              0.8888888888888888,
              "#fdca26"
             ],
             [
              1,
              "#f0f921"
             ]
            ],
            "type": "histogram2d"
           }
          ],
          "histogram2dcontour": [
           {
            "colorbar": {
             "outlinewidth": 0,
             "ticks": ""
            },
            "colorscale": [
             [
              0,
              "#0d0887"
             ],
             [
              0.1111111111111111,
              "#46039f"
             ],
             [
              0.2222222222222222,
              "#7201a8"
             ],
             [
              0.3333333333333333,
              "#9c179e"
             ],
             [
              0.4444444444444444,
              "#bd3786"
             ],
             [
              0.5555555555555556,
              "#d8576b"
             ],
             [
              0.6666666666666666,
              "#ed7953"
             ],
             [
              0.7777777777777778,
              "#fb9f3a"
             ],
             [
              0.8888888888888888,
              "#fdca26"
             ],
             [
              1,
              "#f0f921"
             ]
            ],
            "type": "histogram2dcontour"
           }
          ],
          "mesh3d": [
           {
            "colorbar": {
             "outlinewidth": 0,
             "ticks": ""
            },
            "type": "mesh3d"
           }
          ],
          "parcoords": [
           {
            "line": {
             "colorbar": {
              "outlinewidth": 0,
              "ticks": ""
             }
            },
            "type": "parcoords"
           }
          ],
          "pie": [
           {
            "automargin": true,
            "type": "pie"
           }
          ],
          "scatter": [
           {
            "marker": {
             "colorbar": {
              "outlinewidth": 0,
              "ticks": ""
             }
            },
            "type": "scatter"
           }
          ],
          "scatter3d": [
           {
            "line": {
             "colorbar": {
              "outlinewidth": 0,
              "ticks": ""
             }
            },
            "marker": {
             "colorbar": {
              "outlinewidth": 0,
              "ticks": ""
             }
            },
            "type": "scatter3d"
           }
          ],
          "scattercarpet": [
           {
            "marker": {
             "colorbar": {
              "outlinewidth": 0,
              "ticks": ""
             }
            },
            "type": "scattercarpet"
           }
          ],
          "scattergeo": [
           {
            "marker": {
             "colorbar": {
              "outlinewidth": 0,
              "ticks": ""
             }
            },
            "type": "scattergeo"
           }
          ],
          "scattergl": [
           {
            "marker": {
             "colorbar": {
              "outlinewidth": 0,
              "ticks": ""
             }
            },
            "type": "scattergl"
           }
          ],
          "scattermapbox": [
           {
            "marker": {
             "colorbar": {
              "outlinewidth": 0,
              "ticks": ""
             }
            },
            "type": "scattermapbox"
           }
          ],
          "scatterpolar": [
           {
            "marker": {
             "colorbar": {
              "outlinewidth": 0,
              "ticks": ""
             }
            },
            "type": "scatterpolar"
           }
          ],
          "scatterpolargl": [
           {
            "marker": {
             "colorbar": {
              "outlinewidth": 0,
              "ticks": ""
             }
            },
            "type": "scatterpolargl"
           }
          ],
          "scatterternary": [
           {
            "marker": {
             "colorbar": {
              "outlinewidth": 0,
              "ticks": ""
             }
            },
            "type": "scatterternary"
           }
          ],
          "surface": [
           {
            "colorbar": {
             "outlinewidth": 0,
             "ticks": ""
            },
            "colorscale": [
             [
              0,
              "#0d0887"
             ],
             [
              0.1111111111111111,
              "#46039f"
             ],
             [
              0.2222222222222222,
              "#7201a8"
             ],
             [
              0.3333333333333333,
              "#9c179e"
             ],
             [
              0.4444444444444444,
              "#bd3786"
             ],
             [
              0.5555555555555556,
              "#d8576b"
             ],
             [
              0.6666666666666666,
              "#ed7953"
             ],
             [
              0.7777777777777778,
              "#fb9f3a"
             ],
             [
              0.8888888888888888,
              "#fdca26"
             ],
             [
              1,
              "#f0f921"
             ]
            ],
            "type": "surface"
           }
          ],
          "table": [
           {
            "cells": {
             "fill": {
              "color": "#EBF0F8"
             },
             "line": {
              "color": "white"
             }
            },
            "header": {
             "fill": {
              "color": "#C8D4E3"
             },
             "line": {
              "color": "white"
             }
            },
            "type": "table"
           }
          ]
         },
         "layout": {
          "annotationdefaults": {
           "arrowcolor": "#2a3f5f",
           "arrowhead": 0,
           "arrowwidth": 1
          },
          "autotypenumbers": "strict",
          "coloraxis": {
           "colorbar": {
            "outlinewidth": 0,
            "ticks": ""
           }
          },
          "colorscale": {
           "diverging": [
            [
             0,
             "#8e0152"
            ],
            [
             0.1,
             "#c51b7d"
            ],
            [
             0.2,
             "#de77ae"
            ],
            [
             0.3,
             "#f1b6da"
            ],
            [
             0.4,
             "#fde0ef"
            ],
            [
             0.5,
             "#f7f7f7"
            ],
            [
             0.6,
             "#e6f5d0"
            ],
            [
             0.7,
             "#b8e186"
            ],
            [
             0.8,
             "#7fbc41"
            ],
            [
             0.9,
             "#4d9221"
            ],
            [
             1,
             "#276419"
            ]
           ],
           "sequential": [
            [
             0,
             "#0d0887"
            ],
            [
             0.1111111111111111,
             "#46039f"
            ],
            [
             0.2222222222222222,
             "#7201a8"
            ],
            [
             0.3333333333333333,
             "#9c179e"
            ],
            [
             0.4444444444444444,
             "#bd3786"
            ],
            [
             0.5555555555555556,
             "#d8576b"
            ],
            [
             0.6666666666666666,
             "#ed7953"
            ],
            [
             0.7777777777777778,
             "#fb9f3a"
            ],
            [
             0.8888888888888888,
             "#fdca26"
            ],
            [
             1,
             "#f0f921"
            ]
           ],
           "sequentialminus": [
            [
             0,
             "#0d0887"
            ],
            [
             0.1111111111111111,
             "#46039f"
            ],
            [
             0.2222222222222222,
             "#7201a8"
            ],
            [
             0.3333333333333333,
             "#9c179e"
            ],
            [
             0.4444444444444444,
             "#bd3786"
            ],
            [
             0.5555555555555556,
             "#d8576b"
            ],
            [
             0.6666666666666666,
             "#ed7953"
            ],
            [
             0.7777777777777778,
             "#fb9f3a"
            ],
            [
             0.8888888888888888,
             "#fdca26"
            ],
            [
             1,
             "#f0f921"
            ]
           ]
          },
          "colorway": [
           "#636efa",
           "#EF553B",
           "#00cc96",
           "#ab63fa",
           "#FFA15A",
           "#19d3f3",
           "#FF6692",
           "#B6E880",
           "#FF97FF",
           "#FECB52"
          ],
          "font": {
           "color": "#2a3f5f"
          },
          "geo": {
           "bgcolor": "white",
           "lakecolor": "white",
           "landcolor": "#E5ECF6",
           "showlakes": true,
           "showland": true,
           "subunitcolor": "white"
          },
          "hoverlabel": {
           "align": "left"
          },
          "hovermode": "closest",
          "mapbox": {
           "style": "light"
          },
          "paper_bgcolor": "white",
          "plot_bgcolor": "#E5ECF6",
          "polar": {
           "angularaxis": {
            "gridcolor": "white",
            "linecolor": "white",
            "ticks": ""
           },
           "bgcolor": "#E5ECF6",
           "radialaxis": {
            "gridcolor": "white",
            "linecolor": "white",
            "ticks": ""
           }
          },
          "scene": {
           "xaxis": {
            "backgroundcolor": "#E5ECF6",
            "gridcolor": "white",
            "gridwidth": 2,
            "linecolor": "white",
            "showbackground": true,
            "ticks": "",
            "zerolinecolor": "white"
           },
           "yaxis": {
            "backgroundcolor": "#E5ECF6",
            "gridcolor": "white",
            "gridwidth": 2,
            "linecolor": "white",
            "showbackground": true,
            "ticks": "",
            "zerolinecolor": "white"
           },
           "zaxis": {
            "backgroundcolor": "#E5ECF6",
            "gridcolor": "white",
            "gridwidth": 2,
            "linecolor": "white",
            "showbackground": true,
            "ticks": "",
            "zerolinecolor": "white"
           }
          },
          "shapedefaults": {
           "line": {
            "color": "#2a3f5f"
           }
          },
          "ternary": {
           "aaxis": {
            "gridcolor": "white",
            "linecolor": "white",
            "ticks": ""
           },
           "baxis": {
            "gridcolor": "white",
            "linecolor": "white",
            "ticks": ""
           },
           "bgcolor": "#E5ECF6",
           "caxis": {
            "gridcolor": "white",
            "linecolor": "white",
            "ticks": ""
           }
          },
          "title": {
           "x": 0.05
          },
          "xaxis": {
           "automargin": true,
           "gridcolor": "white",
           "linecolor": "white",
           "ticks": "",
           "title": {
            "standoff": 15
           },
           "zerolinecolor": "white",
           "zerolinewidth": 2
          },
          "yaxis": {
           "automargin": true,
           "gridcolor": "white",
           "linecolor": "white",
           "ticks": "",
           "title": {
            "standoff": 15
           },
           "zerolinecolor": "white",
           "zerolinewidth": 2
          }
         }
        },
        "title": {
         "text": "ARIMA(0,1,0)모형"
        },
        "width": 1000
       }
      },
      "text/html": [
       "<div>                            <div id=\"1e9d9131-cde2-4e24-a817-4e8cfec063ba\" class=\"plotly-graph-div\" style=\"height:400px; width:1000px;\"></div>            <script type=\"text/javascript\">                require([\"plotly\"], function(Plotly) {                    window.PLOTLYENV=window.PLOTLYENV || {};                                    if (document.getElementById(\"1e9d9131-cde2-4e24-a817-4e8cfec063ba\")) {                    Plotly.newPlot(                        \"1e9d9131-cde2-4e24-a817-4e8cfec063ba\",                        [{\"line\":{\"color\":\"royalblue\"},\"mode\":\"lines\",\"name\":\"Train\",\"x\":[\"2018-04-08T00:00:00\",\"2018-04-15T00:00:00\",\"2018-04-22T00:00:00\",\"2018-04-29T00:00:00\",\"2018-05-06T00:00:00\",\"2018-05-13T00:00:00\",\"2018-05-20T00:00:00\",\"2018-05-27T00:00:00\",\"2018-06-03T00:00:00\",\"2018-06-10T00:00:00\",\"2018-06-17T00:00:00\",\"2018-06-24T00:00:00\",\"2018-07-01T00:00:00\",\"2018-07-08T00:00:00\",\"2018-07-15T00:00:00\",\"2018-07-22T00:00:00\",\"2018-07-29T00:00:00\",\"2018-08-05T00:00:00\",\"2018-08-12T00:00:00\",\"2018-08-19T00:00:00\",\"2018-08-26T00:00:00\",\"2018-09-02T00:00:00\",\"2018-09-09T00:00:00\",\"2018-09-16T00:00:00\",\"2018-09-23T00:00:00\",\"2018-09-30T00:00:00\",\"2018-10-07T00:00:00\",\"2018-10-14T00:00:00\",\"2018-10-21T00:00:00\",\"2018-10-28T00:00:00\",\"2018-11-04T00:00:00\",\"2018-11-11T00:00:00\",\"2018-11-18T00:00:00\",\"2018-11-25T00:00:00\",\"2018-12-02T00:00:00\",\"2018-12-09T00:00:00\",\"2018-12-16T00:00:00\",\"2018-12-23T00:00:00\",\"2018-12-30T00:00:00\",\"2019-01-06T00:00:00\",\"2019-01-13T00:00:00\",\"2019-01-20T00:00:00\",\"2019-01-27T00:00:00\",\"2019-02-03T00:00:00\",\"2019-02-10T00:00:00\",\"2019-02-17T00:00:00\",\"2019-02-24T00:00:00\",\"2019-03-03T00:00:00\",\"2019-03-10T00:00:00\",\"2019-03-17T00:00:00\",\"2019-03-24T00:00:00\",\"2019-03-31T00:00:00\",\"2019-04-07T00:00:00\",\"2019-04-14T00:00:00\",\"2019-04-21T00:00:00\",\"2019-04-28T00:00:00\",\"2019-05-05T00:00:00\",\"2019-05-12T00:00:00\",\"2019-05-19T00:00:00\",\"2019-05-26T00:00:00\",\"2019-06-02T00:00:00\",\"2019-06-09T00:00:00\",\"2019-06-16T00:00:00\",\"2019-06-23T00:00:00\",\"2019-06-30T00:00:00\",\"2019-07-07T00:00:00\",\"2019-07-14T00:00:00\",\"2019-07-21T00:00:00\",\"2019-07-28T00:00:00\",\"2019-08-04T00:00:00\",\"2019-08-11T00:00:00\",\"2019-08-18T00:00:00\",\"2019-08-25T00:00:00\",\"2019-09-01T00:00:00\",\"2019-09-08T00:00:00\",\"2019-09-15T00:00:00\",\"2019-09-22T00:00:00\",\"2019-09-29T00:00:00\",\"2019-10-06T00:00:00\",\"2019-10-13T00:00:00\",\"2019-10-20T00:00:00\",\"2019-10-27T00:00:00\",\"2019-11-03T00:00:00\",\"2019-11-10T00:00:00\",\"2019-11-17T00:00:00\",\"2019-11-24T00:00:00\",\"2019-12-01T00:00:00\",\"2019-12-08T00:00:00\",\"2019-12-15T00:00:00\",\"2019-12-22T00:00:00\",\"2019-12-29T00:00:00\",\"2020-01-05T00:00:00\",\"2020-01-12T00:00:00\",\"2020-01-19T00:00:00\",\"2020-01-26T00:00:00\",\"2020-02-02T00:00:00\",\"2020-02-09T00:00:00\",\"2020-02-16T00:00:00\",\"2020-02-23T00:00:00\",\"2020-03-01T00:00:00\",\"2020-03-08T00:00:00\",\"2020-03-15T00:00:00\",\"2020-03-22T00:00:00\",\"2020-03-29T00:00:00\",\"2020-04-05T00:00:00\",\"2020-04-12T00:00:00\",\"2020-04-19T00:00:00\",\"2020-04-26T00:00:00\",\"2020-05-03T00:00:00\",\"2020-05-10T00:00:00\",\"2020-05-17T00:00:00\",\"2020-05-24T00:00:00\",\"2020-05-31T00:00:00\",\"2020-06-07T00:00:00\",\"2020-06-14T00:00:00\",\"2020-06-21T00:00:00\",\"2020-06-28T00:00:00\",\"2020-07-05T00:00:00\",\"2020-07-12T00:00:00\",\"2020-07-19T00:00:00\",\"2020-07-26T00:00:00\",\"2020-08-02T00:00:00\",\"2020-08-09T00:00:00\",\"2020-08-16T00:00:00\",\"2020-08-23T00:00:00\",\"2020-08-30T00:00:00\",\"2020-09-06T00:00:00\",\"2020-09-13T00:00:00\",\"2020-09-20T00:00:00\",\"2020-09-27T00:00:00\",\"2020-10-04T00:00:00\",\"2020-10-11T00:00:00\",\"2020-10-18T00:00:00\",\"2020-10-25T00:00:00\",\"2020-11-01T00:00:00\",\"2020-11-08T00:00:00\",\"2020-11-15T00:00:00\"],\"y\":[1213394500.0,2100809455.0,5161653780.0,1889171056.0,8386696600.0,200561174625.0,9819433800.0,4675500195.0,28565495245.0,50438150000.0,2855741100.0,1474135500.0,4051708000.0,2655760227.0,21516554630.0,2286207200.0,4773183920.0,5201743800.0,3601335390.0,5424815920.0,2705315160.0,16012141500.0,3810537030.0,6677280000.0,8748117100.0,552187220.0,1222976601.0,1224691809.0,888017561.0,2307802702.0,811699100.0,2096006000.0,1305792302.0,1438916100.0,6119869600.0,4301376200.0,3883977600.0,2323177091.0,3707469300.0,682452000.0,729078600.0,3525021800.0,1012902341.0,10523830501.0,677432001.0,4403787937.0,6577706061.0,35567026000.0,4835060000.0,14321818400.0,4610343600.0,6255003100.0,7932841773.0,21545346200.0,7201810400.0,3953029100.0,7214135241.0,8556412041.0,3131468011.0,2822727000.0,4244528211.0,11305388232.0,10896479304.0,3833156299.0,4349631500.0,9064497867.0,7009708400.0,8763455500.0,5553997523.0,12959485611.0,6782889500.0,2445796380.0,6885861830.0,3030525996.0,4996558700.0,1543249400.0,7018030650.0,8196101930.0,10623970590.0,22242614188.0,61176331149.0,7059529000.0,9894236700.0,4334865800.0,5158110800.0,34019650812.0,4246489210.0,4737786004.0,6952001640.0,30304667800.0,825558000.0,7944958000.0,1964980000.0,6154888170.0,1431703600.0,4719791900.0,22331791923.0,5096185600.0,8875846000.0,10576892326.0,3300244155.0,9286457980.0,7381606274.0,10197411673.0,5173312689.0,4271550892.0,45589362535.0,6123518000.0,6593224032.0,3769413000.0,7173184417.0,26631972616.0,27077754300.0,23982415000.0,16416537750.0,26080658000.0,64353502279.0,8265949682.0,6941100000.0,12474709000.0,2780660568.0,8874744600.0,33329667862.0,28901565553.0,5895470621.0,1553952900.0,4586623000.0,27815409040.0,9586456500.0,4786290700.0,20703715380.0,6227303525.0,9833461981.0,4409591900.0,9197301973.0,18876892180.0,14628273100.0],\"type\":\"scatter\"},{\"line\":{\"color\":\"rgba(0,0,30,0.5)\"},\"mode\":\"lines\",\"name\":\"Test\",\"x\":[\"2020-11-22T00:00:00\",\"2020-11-29T00:00:00\",\"2020-12-06T00:00:00\",\"2020-12-13T00:00:00\",\"2020-12-20T00:00:00\",\"2020-12-27T00:00:00\",\"2021-01-03T00:00:00\",\"2021-01-10T00:00:00\",\"2021-01-17T00:00:00\",\"2021-01-24T00:00:00\",\"2021-01-31T00:00:00\",\"2021-02-07T00:00:00\",\"2021-02-14T00:00:00\",\"2021-02-21T00:00:00\",\"2021-02-28T00:00:00\",\"2021-03-07T00:00:00\",\"2021-03-14T00:00:00\",\"2021-03-21T00:00:00\",\"2021-03-28T00:00:00\",\"2021-04-04T00:00:00\",\"2021-04-11T00:00:00\",\"2021-04-18T00:00:00\",\"2021-04-25T00:00:00\",\"2021-05-02T00:00:00\",\"2021-05-09T00:00:00\",\"2021-05-16T00:00:00\",\"2021-05-23T00:00:00\",\"2021-05-30T00:00:00\",\"2021-06-06T00:00:00\",\"2021-06-13T00:00:00\",\"2021-06-20T00:00:00\",\"2021-06-27T00:00:00\",\"2021-07-04T00:00:00\",\"2021-07-11T00:00:00\",\"2021-07-18T00:00:00\",\"2021-07-25T00:00:00\",\"2021-08-01T00:00:00\",\"2021-08-08T00:00:00\",\"2021-08-15T00:00:00\",\"2021-08-22T00:00:00\",\"2021-08-29T00:00:00\",\"2021-09-05T00:00:00\",\"2021-09-12T00:00:00\",\"2021-09-19T00:00:00\",\"2021-09-26T00:00:00\",\"2021-10-03T00:00:00\",\"2021-10-10T00:00:00\",\"2021-10-17T00:00:00\",\"2021-10-24T00:00:00\",\"2021-10-31T00:00:00\",\"2021-11-07T00:00:00\",\"2021-11-14T00:00:00\",\"2021-11-21T00:00:00\",\"2021-11-28T00:00:00\",\"2021-12-05T00:00:00\",\"2021-12-12T00:00:00\",\"2021-12-19T00:00:00\",\"2021-12-26T00:00:00\",\"2022-01-02T00:00:00\"],\"y\":[23424679700.0,7326889000.0,8335266056.0,13700659770.0,22567972089.0,9096184272.0,5994957700.0,4730643439.0,7873530000.0,5529304810.0,4983520900.0,14134096389.0,9806356000.0,6168386370.0,4157001000.0,22781869785.0,14223140170.0,18421158900.0,10263540000.0,19241799582.0,6408864500.0,10105173846.0,3254503500.0,13210569140.0,5677669800.0,9908674220.0,8866162057.0,6215654701.0,22449365670.0,13101120574.0,10269823615.0,4752495296.0,6654942716.0,4161021829.0,6659752576.0,10144697928.0,11943245940.0,6994341678.0,11858070309.0,8734625670.0,11521600945.0,16709974200.0,6771457104.0,8038553567.0,1339917569.0,4474891000.0,20247506875.0,6108872105.0,6836222859.0,16489194000.0,34692130700.0,27438278661.0,9332735200.0,6452257930.0,15323871280.0,15572623196.0,23078195505.0,6937094040.0,4566138800.0],\"type\":\"scatter\"},{\"line\":{\"color\":\"red\",\"dash\":\"dot\",\"width\":3},\"mode\":\"lines\",\"name\":\"Prediction\",\"x\":[\"2020-11-22T00:00:00\",\"2020-11-29T00:00:00\",\"2020-12-06T00:00:00\",\"2020-12-13T00:00:00\",\"2020-12-20T00:00:00\",\"2020-12-27T00:00:00\",\"2021-01-03T00:00:00\",\"2021-01-10T00:00:00\",\"2021-01-17T00:00:00\",\"2021-01-24T00:00:00\",\"2021-01-31T00:00:00\",\"2021-02-07T00:00:00\",\"2021-02-14T00:00:00\",\"2021-02-21T00:00:00\",\"2021-02-28T00:00:00\",\"2021-03-07T00:00:00\",\"2021-03-14T00:00:00\",\"2021-03-21T00:00:00\",\"2021-03-28T00:00:00\",\"2021-04-04T00:00:00\",\"2021-04-11T00:00:00\",\"2021-04-18T00:00:00\",\"2021-04-25T00:00:00\",\"2021-05-02T00:00:00\",\"2021-05-09T00:00:00\",\"2021-05-16T00:00:00\",\"2021-05-23T00:00:00\",\"2021-05-30T00:00:00\",\"2021-06-06T00:00:00\",\"2021-06-13T00:00:00\",\"2021-06-20T00:00:00\",\"2021-06-27T00:00:00\",\"2021-07-04T00:00:00\",\"2021-07-11T00:00:00\",\"2021-07-18T00:00:00\",\"2021-07-25T00:00:00\",\"2021-08-01T00:00:00\",\"2021-08-08T00:00:00\",\"2021-08-15T00:00:00\",\"2021-08-22T00:00:00\",\"2021-08-29T00:00:00\",\"2021-09-05T00:00:00\",\"2021-09-12T00:00:00\",\"2021-09-19T00:00:00\",\"2021-09-26T00:00:00\",\"2021-10-03T00:00:00\",\"2021-10-10T00:00:00\",\"2021-10-17T00:00:00\",\"2021-10-24T00:00:00\",\"2021-10-31T00:00:00\",\"2021-11-07T00:00:00\",\"2021-11-14T00:00:00\",\"2021-11-21T00:00:00\",\"2021-11-28T00:00:00\",\"2021-12-05T00:00:00\",\"2021-12-12T00:00:00\",\"2021-12-19T00:00:00\",\"2021-12-26T00:00:00\",\"2022-01-02T00:00:00\"],\"y\":[14824445186.604324,19822197374.216038,11148878616.574348,8458535254.90642,9775056033.228296,26198475845.73536,9800314346.292036,2273577124.4673347,7696337707.500617,8417781888.604999,1978870660.8540812,7895713618.628586,14476031027.616795,6553185599.208363,9194657868.168503,4369961808.428218,19387928437.077766,17383016160.86753,18989502718.84546,6879699670.863703,22212742927.72618,7055872804.362726,6873643523.240124,5790499936.2866,13705872400.560051,2578997610.2503433,12526456548.34861,9224515016.993595,3347889433.822809,24737898181.55725,13748430616.48108,7828829868.7249,6659552843.762625,7110308593.890779,1706360420.798955,8489746897.862924,10528071141.270565,9689853576.499666,8925416835.239323,12148134488.457039,6532040486.87052,13451272037.317852,16902756777.610191,4889697437.878795,9879412117.10353,1333176112.5144033,2553507796.702038,21749939680.766724,6587153484.447878,5167711642.69273,17477462872.03588,35190657547.9626,26447204489.805744,10803370850.567003,6453319690.59103,13768052816.70373,17051682342.297909,23263229521.33068,5698802121.074085],\"type\":\"scatter\"},{\"fill\":\"toself\",\"fillcolor\":\"rgba(0,0,30,0.1)\",\"hoverinfo\":\"skip\",\"line\":{\"color\":\"rgba(0,0,0,0)\"},\"showlegend\":false,\"x\":[\"2020-11-22T00:00:00\",\"2020-11-29T00:00:00\",\"2020-12-06T00:00:00\",\"2020-12-13T00:00:00\",\"2020-12-20T00:00:00\",\"2020-12-27T00:00:00\",\"2021-01-03T00:00:00\",\"2021-01-10T00:00:00\",\"2021-01-17T00:00:00\",\"2021-01-24T00:00:00\",\"2021-01-31T00:00:00\",\"2021-02-07T00:00:00\",\"2021-02-14T00:00:00\",\"2021-02-21T00:00:00\",\"2021-02-28T00:00:00\",\"2021-03-07T00:00:00\",\"2021-03-14T00:00:00\",\"2021-03-21T00:00:00\",\"2021-03-28T00:00:00\",\"2021-04-04T00:00:00\",\"2021-04-11T00:00:00\",\"2021-04-18T00:00:00\",\"2021-04-25T00:00:00\",\"2021-05-02T00:00:00\",\"2021-05-09T00:00:00\",\"2021-05-16T00:00:00\",\"2021-05-23T00:00:00\",\"2021-05-30T00:00:00\",\"2021-06-06T00:00:00\",\"2021-06-13T00:00:00\",\"2021-06-20T00:00:00\",\"2021-06-27T00:00:00\",\"2021-07-04T00:00:00\",\"2021-07-11T00:00:00\",\"2021-07-18T00:00:00\",\"2021-07-25T00:00:00\",\"2021-08-01T00:00:00\",\"2021-08-08T00:00:00\",\"2021-08-15T00:00:00\",\"2021-08-22T00:00:00\",\"2021-08-29T00:00:00\",\"2021-09-05T00:00:00\",\"2021-09-12T00:00:00\",\"2021-09-19T00:00:00\",\"2021-09-26T00:00:00\",\"2021-10-03T00:00:00\",\"2021-10-10T00:00:00\",\"2021-10-17T00:00:00\",\"2021-10-24T00:00:00\",\"2021-10-31T00:00:00\",\"2021-11-07T00:00:00\",\"2021-11-14T00:00:00\",\"2021-11-21T00:00:00\",\"2021-11-28T00:00:00\",\"2021-12-05T00:00:00\",\"2021-12-12T00:00:00\",\"2021-12-19T00:00:00\",\"2021-12-26T00:00:00\",\"2022-01-02T00:00:00\",\"2022-01-02T00:00:00\",\"2021-12-26T00:00:00\",\"2021-12-19T00:00:00\",\"2021-12-12T00:00:00\",\"2021-12-05T00:00:00\",\"2021-11-28T00:00:00\",\"2021-11-21T00:00:00\",\"2021-11-14T00:00:00\",\"2021-11-07T00:00:00\",\"2021-10-31T00:00:00\",\"2021-10-24T00:00:00\",\"2021-10-17T00:00:00\",\"2021-10-10T00:00:00\",\"2021-10-03T00:00:00\",\"2021-09-26T00:00:00\",\"2021-09-19T00:00:00\",\"2021-09-12T00:00:00\",\"2021-09-05T00:00:00\",\"2021-08-29T00:00:00\",\"2021-08-22T00:00:00\",\"2021-08-15T00:00:00\",\"2021-08-08T00:00:00\",\"2021-08-01T00:00:00\",\"2021-07-25T00:00:00\",\"2021-07-18T00:00:00\",\"2021-07-11T00:00:00\",\"2021-07-04T00:00:00\",\"2021-06-27T00:00:00\",\"2021-06-20T00:00:00\",\"2021-06-13T00:00:00\",\"2021-06-06T00:00:00\",\"2021-05-30T00:00:00\",\"2021-05-23T00:00:00\",\"2021-05-16T00:00:00\",\"2021-05-09T00:00:00\",\"2021-05-02T00:00:00\",\"2021-04-25T00:00:00\",\"2021-04-18T00:00:00\",\"2021-04-11T00:00:00\",\"2021-04-04T00:00:00\",\"2021-03-28T00:00:00\",\"2021-03-21T00:00:00\",\"2021-03-14T00:00:00\",\"2021-03-07T00:00:00\",\"2021-02-28T00:00:00\",\"2021-02-21T00:00:00\",\"2021-02-14T00:00:00\",\"2021-02-07T00:00:00\",\"2021-01-31T00:00:00\",\"2021-01-24T00:00:00\",\"2021-01-17T00:00:00\",\"2021-01-10T00:00:00\",\"2021-01-03T00:00:00\",\"2020-12-27T00:00:00\",\"2020-12-20T00:00:00\",\"2020-12-13T00:00:00\",\"2020-12-06T00:00:00\",\"2020-11-29T00:00:00\",\"2020-11-22T00:00:00\"],\"y\":[77650487417.82591,82647819693.95816,73974252064.80371,71280533351.46297,72596787590.74551,89019435343.4549,72617355934.21092,65090740254.37253,70513000663.30554,71231795219.76904,64792977120.743195,70709353814.5072,77287486576.1473,69364783246.71452,72002859405.90192,67175763983.4058,82193240599.29105,80188077896.01122,81792585853.21532,69683004198.43651,85015624435.39084,69856396915.28494,69674103361.76216,68590731550.24786,76504589550.85446,65377867919.424965,75325012861.32156,72021362948.16025,66144784734.93897,87534436954.87753,76542580909.20702,70622831300.02414,69453365225.45233,69902764381.55453,64498844476.64675,71282015234.79393,73319100724.57677,72480865893.96791,71716258254.96829,74937837967.80328,69321771839.56297,76240824294.13528,79691249092.45299,67678274526.249954,72667823115.05136,64120504466.97678,65340816580.98006,84537072141.93079,69373254307.1745,67953777697.516846,80263385110.96176,97975786989.44112,89232358849.06242,73588377505.7475,69237508918.5638,76552199954.56544,79835707357.93839,86046535756.2933,68482182174.184525,-57084577932.03636,-39520076713.631935,-45732342673.34256,-49016094321.15798,-56330869537.381744,-51981635804.61349,-36337949869.45094,-27594471893.515915,-45308459366.88999,-57618354412.13139,-56198947338.27875,-41037192780.39734,-60233800987.57597,-61454152241.947975,-52908998880.84431,-57898879650.49237,-45885735537.232605,-49338280219.49959,-56257690865.82194,-50641568990.8892,-53865424584.489655,-53101158740.968575,-52262958442.03563,-54302521439.068085,-61086123635.048836,-55682147193.77297,-56134259537.92708,-54965171562.57434,-49045719676.24486,-38058640591.76304,-59449005867.29336,-53572332914.17305,-50272099764.62434,-60219872698.92428,-49092844749.73437,-57009731677.67467,-55926816315.28192,-55744651306.559494,-40590138579.93848,-55923604856.7091,-43813580415.5244,-45422045574.27615,-43417383725.135506,-58435840366.54937,-53613543669.56492,-56258412048.297806,-48335424520.9137,-54917926577.25003,-60835235799.035034,-54396231442.55905,-55120325248.304306,-60543586005.43785,-53016727241.626854,-36622483651.98417,-53046675524.288925,-54363462841.65013,-51676494831.655014,-43003424945.52609,-48001597044.61726],\"type\":\"scatter\"}],                        {\"template\":{\"data\":{\"bar\":[{\"error_x\":{\"color\":\"#2a3f5f\"},\"error_y\":{\"color\":\"#2a3f5f\"},\"marker\":{\"line\":{\"color\":\"#E5ECF6\",\"width\":0.5},\"pattern\":{\"fillmode\":\"overlay\",\"size\":10,\"solidity\":0.2}},\"type\":\"bar\"}],\"barpolar\":[{\"marker\":{\"line\":{\"color\":\"#E5ECF6\",\"width\":0.5},\"pattern\":{\"fillmode\":\"overlay\",\"size\":10,\"solidity\":0.2}},\"type\":\"barpolar\"}],\"carpet\":[{\"aaxis\":{\"endlinecolor\":\"#2a3f5f\",\"gridcolor\":\"white\",\"linecolor\":\"white\",\"minorgridcolor\":\"white\",\"startlinecolor\":\"#2a3f5f\"},\"baxis\":{\"endlinecolor\":\"#2a3f5f\",\"gridcolor\":\"white\",\"linecolor\":\"white\",\"minorgridcolor\":\"white\",\"startlinecolor\":\"#2a3f5f\"},\"type\":\"carpet\"}],\"choropleth\":[{\"colorbar\":{\"outlinewidth\":0,\"ticks\":\"\"},\"type\":\"choropleth\"}],\"contour\":[{\"colorbar\":{\"outlinewidth\":0,\"ticks\":\"\"},\"colorscale\":[[0.0,\"#0d0887\"],[0.1111111111111111,\"#46039f\"],[0.2222222222222222,\"#7201a8\"],[0.3333333333333333,\"#9c179e\"],[0.4444444444444444,\"#bd3786\"],[0.5555555555555556,\"#d8576b\"],[0.6666666666666666,\"#ed7953\"],[0.7777777777777778,\"#fb9f3a\"],[0.8888888888888888,\"#fdca26\"],[1.0,\"#f0f921\"]],\"type\":\"contour\"}],\"contourcarpet\":[{\"colorbar\":{\"outlinewidth\":0,\"ticks\":\"\"},\"type\":\"contourcarpet\"}],\"heatmap\":[{\"colorbar\":{\"outlinewidth\":0,\"ticks\":\"\"},\"colorscale\":[[0.0,\"#0d0887\"],[0.1111111111111111,\"#46039f\"],[0.2222222222222222,\"#7201a8\"],[0.3333333333333333,\"#9c179e\"],[0.4444444444444444,\"#bd3786\"],[0.5555555555555556,\"#d8576b\"],[0.6666666666666666,\"#ed7953\"],[0.7777777777777778,\"#fb9f3a\"],[0.8888888888888888,\"#fdca26\"],[1.0,\"#f0f921\"]],\"type\":\"heatmap\"}],\"heatmapgl\":[{\"colorbar\":{\"outlinewidth\":0,\"ticks\":\"\"},\"colorscale\":[[0.0,\"#0d0887\"],[0.1111111111111111,\"#46039f\"],[0.2222222222222222,\"#7201a8\"],[0.3333333333333333,\"#9c179e\"],[0.4444444444444444,\"#bd3786\"],[0.5555555555555556,\"#d8576b\"],[0.6666666666666666,\"#ed7953\"],[0.7777777777777778,\"#fb9f3a\"],[0.8888888888888888,\"#fdca26\"],[1.0,\"#f0f921\"]],\"type\":\"heatmapgl\"}],\"histogram\":[{\"marker\":{\"pattern\":{\"fillmode\":\"overlay\",\"size\":10,\"solidity\":0.2}},\"type\":\"histogram\"}],\"histogram2d\":[{\"colorbar\":{\"outlinewidth\":0,\"ticks\":\"\"},\"colorscale\":[[0.0,\"#0d0887\"],[0.1111111111111111,\"#46039f\"],[0.2222222222222222,\"#7201a8\"],[0.3333333333333333,\"#9c179e\"],[0.4444444444444444,\"#bd3786\"],[0.5555555555555556,\"#d8576b\"],[0.6666666666666666,\"#ed7953\"],[0.7777777777777778,\"#fb9f3a\"],[0.8888888888888888,\"#fdca26\"],[1.0,\"#f0f921\"]],\"type\":\"histogram2d\"}],\"histogram2dcontour\":[{\"colorbar\":{\"outlinewidth\":0,\"ticks\":\"\"},\"colorscale\":[[0.0,\"#0d0887\"],[0.1111111111111111,\"#46039f\"],[0.2222222222222222,\"#7201a8\"],[0.3333333333333333,\"#9c179e\"],[0.4444444444444444,\"#bd3786\"],[0.5555555555555556,\"#d8576b\"],[0.6666666666666666,\"#ed7953\"],[0.7777777777777778,\"#fb9f3a\"],[0.8888888888888888,\"#fdca26\"],[1.0,\"#f0f921\"]],\"type\":\"histogram2dcontour\"}],\"mesh3d\":[{\"colorbar\":{\"outlinewidth\":0,\"ticks\":\"\"},\"type\":\"mesh3d\"}],\"parcoords\":[{\"line\":{\"colorbar\":{\"outlinewidth\":0,\"ticks\":\"\"}},\"type\":\"parcoords\"}],\"pie\":[{\"automargin\":true,\"type\":\"pie\"}],\"scatter\":[{\"marker\":{\"colorbar\":{\"outlinewidth\":0,\"ticks\":\"\"}},\"type\":\"scatter\"}],\"scatter3d\":[{\"line\":{\"colorbar\":{\"outlinewidth\":0,\"ticks\":\"\"}},\"marker\":{\"colorbar\":{\"outlinewidth\":0,\"ticks\":\"\"}},\"type\":\"scatter3d\"}],\"scattercarpet\":[{\"marker\":{\"colorbar\":{\"outlinewidth\":0,\"ticks\":\"\"}},\"type\":\"scattercarpet\"}],\"scattergeo\":[{\"marker\":{\"colorbar\":{\"outlinewidth\":0,\"ticks\":\"\"}},\"type\":\"scattergeo\"}],\"scattergl\":[{\"marker\":{\"colorbar\":{\"outlinewidth\":0,\"ticks\":\"\"}},\"type\":\"scattergl\"}],\"scattermapbox\":[{\"marker\":{\"colorbar\":{\"outlinewidth\":0,\"ticks\":\"\"}},\"type\":\"scattermapbox\"}],\"scatterpolar\":[{\"marker\":{\"colorbar\":{\"outlinewidth\":0,\"ticks\":\"\"}},\"type\":\"scatterpolar\"}],\"scatterpolargl\":[{\"marker\":{\"colorbar\":{\"outlinewidth\":0,\"ticks\":\"\"}},\"type\":\"scatterpolargl\"}],\"scatterternary\":[{\"marker\":{\"colorbar\":{\"outlinewidth\":0,\"ticks\":\"\"}},\"type\":\"scatterternary\"}],\"surface\":[{\"colorbar\":{\"outlinewidth\":0,\"ticks\":\"\"},\"colorscale\":[[0.0,\"#0d0887\"],[0.1111111111111111,\"#46039f\"],[0.2222222222222222,\"#7201a8\"],[0.3333333333333333,\"#9c179e\"],[0.4444444444444444,\"#bd3786\"],[0.5555555555555556,\"#d8576b\"],[0.6666666666666666,\"#ed7953\"],[0.7777777777777778,\"#fb9f3a\"],[0.8888888888888888,\"#fdca26\"],[1.0,\"#f0f921\"]],\"type\":\"surface\"}],\"table\":[{\"cells\":{\"fill\":{\"color\":\"#EBF0F8\"},\"line\":{\"color\":\"white\"}},\"header\":{\"fill\":{\"color\":\"#C8D4E3\"},\"line\":{\"color\":\"white\"}},\"type\":\"table\"}]},\"layout\":{\"annotationdefaults\":{\"arrowcolor\":\"#2a3f5f\",\"arrowhead\":0,\"arrowwidth\":1},\"autotypenumbers\":\"strict\",\"coloraxis\":{\"colorbar\":{\"outlinewidth\":0,\"ticks\":\"\"}},\"colorscale\":{\"diverging\":[[0,\"#8e0152\"],[0.1,\"#c51b7d\"],[0.2,\"#de77ae\"],[0.3,\"#f1b6da\"],[0.4,\"#fde0ef\"],[0.5,\"#f7f7f7\"],[0.6,\"#e6f5d0\"],[0.7,\"#b8e186\"],[0.8,\"#7fbc41\"],[0.9,\"#4d9221\"],[1,\"#276419\"]],\"sequential\":[[0.0,\"#0d0887\"],[0.1111111111111111,\"#46039f\"],[0.2222222222222222,\"#7201a8\"],[0.3333333333333333,\"#9c179e\"],[0.4444444444444444,\"#bd3786\"],[0.5555555555555556,\"#d8576b\"],[0.6666666666666666,\"#ed7953\"],[0.7777777777777778,\"#fb9f3a\"],[0.8888888888888888,\"#fdca26\"],[1.0,\"#f0f921\"]],\"sequentialminus\":[[0.0,\"#0d0887\"],[0.1111111111111111,\"#46039f\"],[0.2222222222222222,\"#7201a8\"],[0.3333333333333333,\"#9c179e\"],[0.4444444444444444,\"#bd3786\"],[0.5555555555555556,\"#d8576b\"],[0.6666666666666666,\"#ed7953\"],[0.7777777777777778,\"#fb9f3a\"],[0.8888888888888888,\"#fdca26\"],[1.0,\"#f0f921\"]]},\"colorway\":[\"#636efa\",\"#EF553B\",\"#00cc96\",\"#ab63fa\",\"#FFA15A\",\"#19d3f3\",\"#FF6692\",\"#B6E880\",\"#FF97FF\",\"#FECB52\"],\"font\":{\"color\":\"#2a3f5f\"},\"geo\":{\"bgcolor\":\"white\",\"lakecolor\":\"white\",\"landcolor\":\"#E5ECF6\",\"showlakes\":true,\"showland\":true,\"subunitcolor\":\"white\"},\"hoverlabel\":{\"align\":\"left\"},\"hovermode\":\"closest\",\"mapbox\":{\"style\":\"light\"},\"paper_bgcolor\":\"white\",\"plot_bgcolor\":\"#E5ECF6\",\"polar\":{\"angularaxis\":{\"gridcolor\":\"white\",\"linecolor\":\"white\",\"ticks\":\"\"},\"bgcolor\":\"#E5ECF6\",\"radialaxis\":{\"gridcolor\":\"white\",\"linecolor\":\"white\",\"ticks\":\"\"}},\"scene\":{\"xaxis\":{\"backgroundcolor\":\"#E5ECF6\",\"gridcolor\":\"white\",\"gridwidth\":2,\"linecolor\":\"white\",\"showbackground\":true,\"ticks\":\"\",\"zerolinecolor\":\"white\"},\"yaxis\":{\"backgroundcolor\":\"#E5ECF6\",\"gridcolor\":\"white\",\"gridwidth\":2,\"linecolor\":\"white\",\"showbackground\":true,\"ticks\":\"\",\"zerolinecolor\":\"white\"},\"zaxis\":{\"backgroundcolor\":\"#E5ECF6\",\"gridcolor\":\"white\",\"gridwidth\":2,\"linecolor\":\"white\",\"showbackground\":true,\"ticks\":\"\",\"zerolinecolor\":\"white\"}},\"shapedefaults\":{\"line\":{\"color\":\"#2a3f5f\"}},\"ternary\":{\"aaxis\":{\"gridcolor\":\"white\",\"linecolor\":\"white\",\"ticks\":\"\"},\"baxis\":{\"gridcolor\":\"white\",\"linecolor\":\"white\",\"ticks\":\"\"},\"bgcolor\":\"#E5ECF6\",\"caxis\":{\"gridcolor\":\"white\",\"linecolor\":\"white\",\"ticks\":\"\"}},\"title\":{\"x\":0.05},\"xaxis\":{\"automargin\":true,\"gridcolor\":\"white\",\"linecolor\":\"white\",\"ticks\":\"\",\"title\":{\"standoff\":15},\"zerolinecolor\":\"white\",\"zerolinewidth\":2},\"yaxis\":{\"automargin\":true,\"gridcolor\":\"white\",\"linecolor\":\"white\",\"ticks\":\"\",\"title\":{\"standoff\":15},\"zerolinecolor\":\"white\",\"zerolinewidth\":2}}},\"title\":{\"text\":\"ARIMA(0,1,0)\\ubaa8\\ud615\"},\"height\":400,\"width\":1000},                        {\"responsive\": true}                    ).then(function(){\n",
       "                            \n",
       "var gd = document.getElementById('1e9d9131-cde2-4e24-a817-4e8cfec063ba');\n",
       "var x = new MutationObserver(function (mutations, observer) {{\n",
       "        var display = window.getComputedStyle(gd).display;\n",
       "        if (!display || display === 'none') {{\n",
       "            console.log([gd, 'removed!']);\n",
       "            Plotly.purge(gd);\n",
       "            observer.disconnect();\n",
       "        }}\n",
       "}});\n",
       "\n",
       "// Listen for the removal of the full notebook cells\n",
       "var notebookContainer = gd.closest('#notebook-container');\n",
       "if (notebookContainer) {{\n",
       "    x.observe(notebookContainer, {childList: true});\n",
       "}}\n",
       "\n",
       "// Listen for the clearing of the current output cell\n",
       "var outputEl = gd.closest('.output');\n",
       "if (outputEl) {{\n",
       "    x.observe(outputEl, {childList: true});\n",
       "}}\n",
       "\n",
       "                        })                };                });            </script>        </div>"
      ]
     },
     "metadata": {},
     "output_type": "display_data"
    }
   ],
   "source": [
    "from plotly.subplots import make_subplots\n",
    "import plotly.graph_objects as go\n",
    "\n",
    "fig = go.Figure([\n",
    "    # 훈련 데이터-------------------------------------------------------\n",
    "    go.Scatter(x = y_train.index, y = y_train, name = \"Train\", mode = 'lines'\n",
    "              ,line=dict(color = 'royalblue'))\n",
    "    # 테스트 데이터------------------------------------------------------\n",
    "    , go.Scatter(x = y_test.index, y = y_test, name = \"Test\", mode = 'lines'\n",
    "                ,line = dict(color = 'rgba(0,0,30,0.5)'))\n",
    "    # 예측값-----------------------------------------------------------\n",
    "    , go.Scatter(x = y_test.index, y = y_pred, name = \"Prediction\", mode = 'lines'\n",
    "                     ,line = dict(color = 'red', dash = 'dot', width=3))\n",
    "    \n",
    "    # 신뢰 구간---------------------------------------------------------\n",
    "    , go.Scatter(x = y_test.index.tolist() + y_test.index[::-1].tolist() \n",
    "                ,y = pred_upper + pred_lower[::-1] ## 상위 신뢰 구간 -> 하위 신뢰 구간 역순으로\n",
    "                ,fill='toself'\n",
    "                ,fillcolor='rgba(0,0,30,0.1)'\n",
    "                ,line=dict(color='rgba(0,0,0,0)')\n",
    "                ,hoverinfo=\"skip\"\n",
    "                ,showlegend=False)\n",
    "])\n",
    "\n",
    "fig.update_layout(height=400, width=1000, title_text=\"ARIMA(0,1,0)모형\")\n",
    "fig.show()"
   ]
  },
  {
   "cell_type": "code",
   "execution_count": 120,
   "id": "e5e4243e",
   "metadata": {},
   "outputs": [
    {
     "data": {
      "text/plain": [
       "DatetimeIndex(['2018-04-08', '2018-04-15', '2018-04-22', '2018-04-29',\n",
       "               '2018-05-06', '2018-05-13', '2018-05-20', '2018-05-27',\n",
       "               '2018-06-03', '2018-06-10',\n",
       "               ...\n",
       "               '2020-09-13', '2020-09-20', '2020-09-27', '2020-10-04',\n",
       "               '2020-10-11', '2020-10-18', '2020-10-25', '2020-11-01',\n",
       "               '2020-11-08', '2020-11-15'],\n",
       "              dtype='datetime64[ns]', name='date', length=137, freq='W-SUN')"
      ]
     },
     "execution_count": 120,
     "metadata": {},
     "output_type": "execute_result"
    }
   ],
   "source": [
    "y_train.index"
   ]
  },
  {
   "cell_type": "code",
   "execution_count": 122,
   "id": "c32d9c71",
   "metadata": {},
   "outputs": [
    {
     "name": "stdout",
     "output_type": "stream",
     "text": [
      "-0.6604368210819342\n"
     ]
    }
   ],
   "source": [
    "from sklearn.metrics import r2_score\n",
    "R2 = r2_score(y_test.values, y_pred)\n",
    "print(R2)"
   ]
  },
  {
   "cell_type": "code",
   "execution_count": null,
   "id": "3a065028",
   "metadata": {},
   "outputs": [],
   "source": []
  },
  {
   "cell_type": "code",
   "execution_count": null,
   "id": "48cb03c7",
   "metadata": {},
   "outputs": [],
   "source": []
  },
  {
   "cell_type": "code",
   "execution_count": null,
   "id": "99ec7ed1",
   "metadata": {},
   "outputs": [],
   "source": []
  },
  {
   "cell_type": "code",
   "execution_count": null,
   "id": "63d2ea38",
   "metadata": {},
   "outputs": [],
   "source": []
  },
  {
   "cell_type": "code",
   "execution_count": null,
   "id": "a0407bfe",
   "metadata": {},
   "outputs": [],
   "source": []
  },
  {
   "cell_type": "code",
   "execution_count": null,
   "id": "acb8c99d",
   "metadata": {},
   "outputs": [],
   "source": []
  },
  {
   "cell_type": "markdown",
   "id": "2fe5393e",
   "metadata": {},
   "source": [
    "# 로우데이터의 왜도가 심해서 로그변환을 해보았다."
   ]
  },
  {
   "cell_type": "code",
   "execution_count": 123,
   "id": "414b8921",
   "metadata": {},
   "outputs": [
    {
     "data": {
      "text/plain": [
       "<AxesSubplot:xlabel='date'>"
      ]
     },
     "execution_count": 123,
     "metadata": {},
     "output_type": "execute_result"
    },
    {
     "data": {
      "image/png": "[encoded data removed]",
      "text/plain": [
       "<Figure size 2016x576 with 1 Axes>"
      ]
     },
     "metadata": {},
     "output_type": "display_data"
    }
   ],
   "source": [
    "water_sample_log = np.log(water_sample)\n",
    "water_sample_log.plot(figsize=(28,8))"
   ]
  },
  {
   "cell_type": "code",
   "execution_count": 124,
   "id": "f7135163",
   "metadata": {},
   "outputs": [
    {
     "data": {
      "text/plain": [
       "<matplotlib.collections.PathCollection at 0x25f0559ad60>"
      ]
     },
     "execution_count": 124,
     "metadata": {},
     "output_type": "execute_result"
    },
    {
     "data": {
      "image/png": "[encoded data removed]",
      "text/plain": [
       "<Figure size 432x288 with 1 Axes>"
      ]
     },
     "metadata": {},
     "output_type": "display_data"
    }
   ],
   "source": [
    "plt.scatter(water_sample_log.index,water_sample_log)"
   ]
  },
  {
   "cell_type": "code",
   "execution_count": 125,
   "id": "9ae9800a",
   "metadata": {},
   "outputs": [
    {
     "name": "stdout",
     "output_type": "stream",
     "text": [
      "ADF Statistic: -4.390122\n",
      "p-value : 0.000309\n",
      "Critical values:\n",
      "\t1%:-3.465\n",
      "\t5%:-2.877\n",
      "\t10%:-2.575\n"
     ]
    }
   ],
   "source": [
    "from statsmodels.tsa.stattools import adfuller\n",
    "result = adfuller(water_sample_log[1:])\n",
    "print('ADF Statistic: %f'%result[0])\n",
    "print('p-value : %f'%result[1])\n",
    "print('Critical values:')\n",
    "for key, value in result[4].items():\n",
    "    print('\\t%s:%.3f'%(key,value))"
   ]
  },
  {
   "cell_type": "code",
   "execution_count": 126,
   "id": "c9e6b94c",
   "metadata": {},
   "outputs": [
    {
     "data": {
      "image/png": "[encoded data removed]",
      "text/plain": [
       "<Figure size 432x288 with 1 Axes>"
      ]
     },
     "execution_count": 126,
     "metadata": {},
     "output_type": "execute_result"
    },
    {
     "data": {
      "image/png": "[encoded data removed]",
      "text/plain": [
       "<Figure size 432x288 with 1 Axes>"
      ]
     },
     "metadata": {},
     "output_type": "display_data"
    },
    {
     "data": {
      "image/png": "[encoded data removed]",
      "text/plain": [
       "<Figure size 432x288 with 1 Axes>"
      ]
     },
     "metadata": {},
     "output_type": "display_data"
    }
   ],
   "source": [
    "import matplotlib.pyplot as plt\n",
    "from statsmodels.graphics.tsaplots import plot_acf, plot_pacf\n",
    "\n",
    "plot_acf(water_sample_log.추정가격)\n",
    "plot_pacf(water_sample_log.추정가격)"
   ]
  },
  {
   "cell_type": "code",
   "execution_count": 127,
   "id": "fa8bab84",
   "metadata": {},
   "outputs": [
    {
     "data": {
      "text/plain": [
       "<AxesSubplot:xlabel='date'>"
      ]
     },
     "execution_count": 127,
     "metadata": {},
     "output_type": "execute_result"
    },
    {
     "data": {
      "image/png": "[encoded data removed]",
      "text/plain": [
       "<Figure size 432x288 with 1 Axes>"
      ]
     },
     "metadata": {},
     "output_type": "display_data"
    }
   ],
   "source": [
    "y_train_log = water_sample_log['추정가격'][:int(0.7*len(water_sample))]\n",
    "y_test_log = water_sample_log['추정가격'][int(0.7*len(water_sample)):]\n",
    "y_train_log.plot()\n",
    "y_test_log.plot()"
   ]
  },
  {
   "cell_type": "code",
   "execution_count": 128,
   "id": "2f72886e",
   "metadata": {},
   "outputs": [
    {
     "name": "stdout",
     "output_type": "stream",
     "text": [
      "추정된 차수 d = 1\n"
     ]
    }
   ],
   "source": [
    "import pandas as pd\n",
    "import matplotlib.pyplot as plt\n",
    "import numpy as np\n",
    "from pmdarima.arima import ndiffs\n",
    "import pmdarima as pm\n",
    "\n",
    "kpss_diffs = ndiffs(y_train_log, alpha=0.05, test='kpss', max_d=6)\n",
    "adf_diffs = ndiffs(y_train_log, alpha=0.05, test='adf', max_d=6)\n",
    "n_diffs = max(adf_diffs, kpss_diffs)\n",
    "print(f\"추정된 차수 d = {n_diffs}\")"
   ]
  },
  {
   "cell_type": "code",
   "execution_count": 134,
   "id": "409f2a27",
   "metadata": {},
   "outputs": [
    {
     "name": "stdout",
     "output_type": "stream",
     "text": [
      "Performing stepwise search to minimize aic\n",
      " ARIMA(3,2,0)(1,0,1)[6]             : AIC=456.980, Time=0.41 sec\n",
      " ARIMA(0,2,0)(0,0,0)[6]             : AIC=585.282, Time=0.02 sec\n",
      " ARIMA(1,2,0)(1,0,0)[6]             : AIC=513.235, Time=0.04 sec\n",
      " ARIMA(0,2,1)(0,0,1)[6]             : AIC=inf, Time=0.18 sec\n",
      " ARIMA(3,2,0)(0,0,1)[6]             : AIC=456.640, Time=0.09 sec\n",
      " ARIMA(3,2,0)(0,0,0)[6]             : AIC=457.473, Time=0.05 sec\n",
      " ARIMA(3,2,0)(0,0,2)[6]             : AIC=458.636, Time=0.12 sec\n",
      " ARIMA(3,2,0)(1,0,0)[6]             : AIC=456.623, Time=0.08 sec\n",
      " ARIMA(3,2,0)(2,0,0)[6]             : AIC=458.622, Time=0.17 sec\n",
      " ARIMA(3,2,0)(2,0,1)[6]             : AIC=458.649, Time=0.63 sec\n",
      " ARIMA(2,2,0)(1,0,0)[6]             : AIC=484.881, Time=0.04 sec\n",
      " ARIMA(4,2,0)(1,0,0)[6]             : AIC=438.255, Time=0.10 sec\n",
      " ARIMA(4,2,0)(0,0,0)[6]             : AIC=437.087, Time=0.07 sec\n",
      " ARIMA(4,2,0)(0,0,1)[6]             : AIC=438.144, Time=0.11 sec\n",
      " ARIMA(4,2,0)(1,0,1)[6]             : AIC=440.039, Time=0.22 sec\n",
      " ARIMA(5,2,0)(0,0,0)[6]             : AIC=435.514, Time=0.07 sec\n",
      " ARIMA(5,2,0)(1,0,0)[6]             : AIC=436.290, Time=0.19 sec\n",
      " ARIMA(5,2,0)(0,0,1)[6]             : AIC=436.417, Time=0.18 sec\n",
      " ARIMA(5,2,0)(1,0,1)[6]             : AIC=438.290, Time=0.32 sec\n",
      " ARIMA(5,2,1)(0,0,0)[6]             : AIC=inf, Time=0.24 sec\n",
      " ARIMA(4,2,1)(0,0,0)[6]             : AIC=inf, Time=0.41 sec\n",
      " ARIMA(5,2,0)(0,0,0)[6] intercept   : AIC=437.477, Time=0.15 sec\n",
      "\n",
      "Best model:  ARIMA(5,2,0)(0,0,0)[6]          \n",
      "Total fit time: 3.945 seconds\n"
     ]
    },
    {
     "data": {
      "text/plain": [
       "ARIMA(order=(5, 2, 0), scoring_args={}, seasonal_order=(0, 0, 0, 6),\n",
       "      suppress_warnings=True, with_intercept=False)"
      ]
     },
     "execution_count": 134,
     "metadata": {},
     "output_type": "execute_result"
    }
   ],
   "source": [
    "model = pm.auto_arima(y = y_train_log        # 데이터\n",
    "                      , d = 2            # 차분 차수, ndiffs 결과!\n",
    "                      , start_p = 3 \n",
    "                      , max_p = 5   \n",
    "                      , start_q = 0 \n",
    "                      , max_q = 5   \n",
    "                      , m = 6  #계절적 차분이 필요할 때 쓸 수 있는 모수, \n",
    "                      # m=1이면 자동적으로 seasonal 에 대한 옵션은 False로 지정된다.\n",
    "                      , seasonal = True # 계절성 ARIMA가 아니라면 필수!\n",
    "                      , stepwise = True\n",
    "                      , trace=True\n",
    "                      )\n",
    "model.fit(y_train_log)"
   ]
  },
  {
   "cell_type": "code",
   "execution_count": 736,
   "id": "a340f5a1",
   "metadata": {},
   "outputs": [
    {
     "name": "stdout",
     "output_type": "stream",
     "text": [
      " ARIMA(0,2,0)(0,0,0)[0] intercept   : AIC=587.281, Time=0.03 sec\n",
      " ARIMA(0,2,1)(0,0,0)[0] intercept   : AIC=inf, Time=0.22 sec\n",
      " ARIMA(0,2,2)(0,0,0)[0] intercept   : AIC=inf, Time=0.31 sec\n",
      " ARIMA(0,2,3)(0,0,0)[0] intercept   : AIC=inf, Time=0.35 sec\n",
      " ARIMA(0,2,4)(0,0,0)[0] intercept   : AIC=inf, Time=0.64 sec\n",
      " ARIMA(0,2,5)(0,0,0)[0] intercept   : AIC=inf, Time=0.55 sec\n",
      " ARIMA(1,2,0)(0,0,0)[0] intercept   : AIC=518.074, Time=0.03 sec\n",
      " ARIMA(1,2,1)(0,0,0)[0] intercept   : AIC=inf, Time=0.39 sec\n",
      " ARIMA(1,2,2)(0,0,0)[0] intercept   : AIC=inf, Time=0.37 sec\n",
      " ARIMA(1,2,3)(0,0,0)[0] intercept   : AIC=inf, Time=0.36 sec\n",
      " ARIMA(1,2,4)(0,0,0)[0] intercept   : AIC=inf, Time=0.66 sec\n",
      " ARIMA(2,2,0)(0,0,0)[0] intercept   : AIC=487.988, Time=0.04 sec\n",
      " ARIMA(2,2,1)(0,0,0)[0] intercept   : AIC=inf, Time=0.36 sec\n",
      " ARIMA(2,2,2)(0,0,0)[0] intercept   : AIC=inf, Time=0.47 sec\n",
      " ARIMA(2,2,3)(0,0,0)[0] intercept   : AIC=inf, Time=0.57 sec\n",
      " ARIMA(3,2,0)(0,0,0)[0] intercept   : AIC=459.472, Time=0.08 sec\n",
      " ARIMA(3,2,1)(0,0,0)[0] intercept   : AIC=inf, Time=0.42 sec\n",
      " ARIMA(3,2,2)(0,0,0)[0] intercept   : AIC=405.088, Time=0.49 sec\n",
      " ARIMA(4,2,0)(0,0,0)[0] intercept   : AIC=439.064, Time=0.10 sec\n",
      " ARIMA(4,2,1)(0,0,0)[0] intercept   : AIC=inf, Time=0.56 sec\n",
      " ARIMA(5,2,0)(0,0,0)[0] intercept   : AIC=437.477, Time=0.11 sec\n",
      "\n",
      "Best model:  ARIMA(3,2,2)(0,0,0)[0] intercept\n",
      "Total fit time: 7.127 seconds\n"
     ]
    }
   ],
   "source": [
    "#아예 안정하고 디폴트값으로 설정\n",
    "model = pm.auto_arima(y = y_train_log        # 데이터\n",
    "                      , d = 2\n",
    "                      , seasonal = False # 계절성 ARIMA가 아니라면 필수!\n",
    "                      , stepwise = False\n",
    "                      , trace=True\n",
    "                      )"
   ]
  },
  {
   "cell_type": "code",
   "execution_count": 135,
   "id": "9c0d793a",
   "metadata": {},
   "outputs": [
    {
     "data": {
      "text/plain": [
       "ARIMA(order=(5, 2, 0), scoring_args={}, suppress_warnings=True,\n",
       "      with_intercept=False)"
      ]
     },
     "execution_count": 135,
     "metadata": {},
     "output_type": "execute_result"
    }
   ],
   "source": [
    "model = pm.auto_arima (y_train_log, d = 2, seasonal = True, stepwise = True, trace = False)\n",
    "model.fit(y_train_log)"
   ]
  },
  {
   "cell_type": "code",
   "execution_count": 136,
   "id": "4ea52396",
   "metadata": {},
   "outputs": [
    {
     "name": "stdout",
     "output_type": "stream",
     "text": [
      "                               SARIMAX Results                                \n",
      "==============================================================================\n",
      "Dep. Variable:                      y   No. Observations:                  137\n",
      "Model:               SARIMAX(5, 2, 0)   Log Likelihood                -211.757\n",
      "Date:                Fri, 18 Feb 2022   AIC                            435.514\n",
      "Time:                        17:28:25   BIC                            452.946\n",
      "Sample:                             0   HQIC                           442.598\n",
      "                                - 137                                         \n",
      "Covariance Type:                  opg                                         \n",
      "==============================================================================\n",
      "                 coef    std err          z      P>|z|      [0.025      0.975]\n",
      "------------------------------------------------------------------------------\n",
      "ar.L1         -1.3865      0.093    -14.904      0.000      -1.569      -1.204\n",
      "ar.L2         -1.3792      0.171     -8.087      0.000      -1.713      -1.045\n",
      "ar.L3         -1.1076      0.191     -5.814      0.000      -1.481      -0.734\n",
      "ar.L4         -0.6146      0.156     -3.936      0.000      -0.921      -0.309\n",
      "ar.L5         -0.1675      0.091     -1.834      0.067      -0.347       0.012\n",
      "sigma2         1.3241      0.161      8.215      0.000       1.008       1.640\n",
      "===================================================================================\n",
      "Ljung-Box (L1) (Q):                   0.16   Jarque-Bera (JB):                 0.38\n",
      "Prob(Q):                              0.69   Prob(JB):                         0.83\n",
      "Heteroskedasticity (H):               0.71   Skew:                            -0.03\n",
      "Prob(H) (two-sided):                  0.25   Kurtosis:                         3.25\n",
      "===================================================================================\n",
      "\n",
      "Warnings:\n",
      "[1] Covariance matrix calculated using the outer product of gradients (complex-step).\n"
     ]
    }
   ],
   "source": [
    "print(model.summary())"
   ]
  },
  {
   "cell_type": "code",
   "execution_count": 137,
   "id": "5c579251",
   "metadata": {},
   "outputs": [
    {
     "data": {
      "image/png": "[encoded data removed]",
      "text/plain": [
       "<Figure size 1152x576 with 4 Axes>"
      ]
     },
     "metadata": {},
     "output_type": "display_data"
    }
   ],
   "source": [
    "model.plot_diagnostics(figsize=(16, 8))\n",
    "plt.show()"
   ]
  },
  {
   "cell_type": "code",
   "execution_count": 154,
   "id": "92c7ad7f",
   "metadata": {},
   "outputs": [
    {
     "data": {
      "text/plain": [
       "[23.31726460664521,\n",
       " 23.96821195873235,\n",
       " 23.65426302591232,\n",
       " 23.227316852489874,\n",
       " 23.071674095170955,\n",
       " 23.292276665701447,\n",
       " 23.03661312674051,\n",
       " 22.901744421802306,\n",
       " 22.613846556765097,\n",
       " 22.3524950780083,\n",
       " 21.98334565349878,\n",
       " 22.037362071091636,\n",
       " 22.953823964329597,\n",
       " 23.145660789167312,\n",
       " 22.869859710257362,\n",
       " 22.59542836887932,\n",
       " 23.351283628000587,\n",
       " 23.245111348351404,\n",
       " 23.517648180372216,\n",
       " 23.733830563915035,\n",
       " 23.973165248082648,\n",
       " 23.060617251189043,\n",
       " 22.75915976519645,\n",
       " 22.151737456407172,\n",
       " 22.49417588524814,\n",
       " 22.365452092615726,\n",
       " 22.589136458664306,\n",
       " 23.017496939850847,\n",
       " 22.834644874368106,\n",
       " 23.435928298374733,\n",
       " 23.48928718897134,\n",
       " 23.34134826335989,\n",
       " 22.894057517931547,\n",
       " 22.659979333564948,\n",
       " 21.993074487000214,\n",
       " 21.93453341216108,\n",
       " 22.555348445986574,\n",
       " 23.064676504943247,\n",
       " 23.063674256847687,\n",
       " 23.358855319157712,\n",
       " 23.225985450415564,\n",
       " 23.070347100810398,\n",
       " 23.37866982060585,\n",
       " 23.051739424280267,\n",
       " 22.907193735705533,\n",
       " 21.71627752110906,\n",
       " 21.518986617909164,\n",
       " 22.480322747936007,\n",
       " 22.366013559286646,\n",
       " 22.77097768874921,\n",
       " 23.842864883198526,\n",
       " 24.325724342631933,\n",
       " 24.14236484759558,\n",
       " 23.830072000040836,\n",
       " 23.41735095802862,\n",
       " 23.22858690706913,\n",
       " 22.885904883536615,\n",
       " 23.233930551889298,\n",
       " 23.171392517493665]"
      ]
     },
     "execution_count": 154,
     "metadata": {},
     "output_type": "execute_result"
    }
   ],
   "source": [
    "y_pred_log"
   ]
  },
  {
   "cell_type": "code",
   "execution_count": 158,
   "id": "62c54e8b",
   "metadata": {},
   "outputs": [
    {
     "data": {
      "image/png": "[encoded data removed]",
      "text/plain": [
       "<Figure size 864x288 with 1 Axes>"
      ]
     },
     "metadata": {},
     "output_type": "display_data"
    }
   ],
   "source": [
    "# 테스트 데이터 개수만큼 예측\n",
    "y_predict_log = model.predict(n_periods=len(y_test_log))\n",
    "y_predict_log = pd.DataFrame(y_predict_log,index = y_test_log.index,columns=['Prediction'])\n",
    "\n",
    "# 그래프\n",
    "fig, axes = plt.subplots(1, 1, figsize=(12, 4))\n",
    "plt.plot(y_train_log, label='Train')        # 훈련 데이터\n",
    "plt.plot(y_test_log, label='Test')          # 테스트 데이터\n",
    "plt.plot(y_predict_log, label='Prediction')  # 예측 데이터\n",
    "plt.legend()\n",
    "plt.show()\n"
   ]
  },
  {
   "cell_type": "code",
   "execution_count": 139,
   "id": "6cbb6002",
   "metadata": {},
   "outputs": [],
   "source": [
    "def forecast_one_step():\n",
    "    fc, conf_int = model.predict(n_periods=1 # 한 스텝씩!\n",
    "        , return_conf_int=True)              # 신뢰구간 출력\n",
    "    return (\n",
    "        fc.tolist()[0],\n",
    "        np.asarray(conf_int).tolist()[0]\n",
    "    )"
   ]
  },
  {
   "cell_type": "code",
   "execution_count": 141,
   "id": "ed3899e5",
   "metadata": {},
   "outputs": [],
   "source": [
    "forecasts = []\n",
    "y_pred_log = []\n",
    "pred_upper = []\n",
    "pred_lower = []\n",
    "\n",
    "for new_ob in y_test_log:\n",
    "    fc, conf = forecast_one_step()\n",
    "    y_pred_log.append(fc)\n",
    "    pred_upper.append(conf[1])\n",
    "    pred_lower.append(conf[0])\n",
    "\n",
    "    ## 모형 업데이트 !!\n",
    "    model.update(new_ob)"
   ]
  },
  {
   "cell_type": "code",
   "execution_count": 160,
   "id": "e8cb3308",
   "metadata": {},
   "outputs": [
    {
     "data": {
      "text/plain": [
       "<AxesSubplot:xlabel='date'>"
      ]
     },
     "execution_count": 160,
     "metadata": {},
     "output_type": "execute_result"
    },
    {
     "data": {
      "image/png": "[encoded data removed]",
      "text/plain": [
       "<Figure size 432x288 with 1 Axes>"
      ]
     },
     "metadata": {},
     "output_type": "display_data"
    }
   ],
   "source": [
    "pd.DataFrame({\"test\": y_test_log, \"pred\": y_pred_log}).plot()"
   ]
  },
  {
   "cell_type": "code",
   "execution_count": 161,
   "id": "0b9cfe98",
   "metadata": {},
   "outputs": [
    {
     "name": "stdout",
     "output_type": "stream",
     "text": [
      "                               SARIMAX Results                                \n",
      "==============================================================================\n",
      "Dep. Variable:                      y   No. Observations:                  196\n",
      "Model:               SARIMAX(5, 2, 0)   Log Likelihood                -285.369\n",
      "Date:                Fri, 18 Feb 2022   AIC                            582.738\n",
      "Time:                        17:41:58   BIC                            602.346\n",
      "Sample:                             0   HQIC                           590.678\n",
      "                                - 196                                         \n",
      "Covariance Type:                  opg                                         \n",
      "==============================================================================\n",
      "                 coef    std err          z      P>|z|      [0.025      0.975]\n",
      "------------------------------------------------------------------------------\n",
      "ar.L1         -1.3639      0.074    -18.351      0.000      -1.510      -1.218\n",
      "ar.L2         -1.3487      0.134    -10.038      0.000      -1.612      -1.085\n",
      "ar.L3         -1.1073      0.150     -7.401      0.000      -1.401      -0.814\n",
      "ar.L4         -0.6315      0.122     -5.165      0.000      -0.871      -0.392\n",
      "ar.L5         -0.1804      0.072     -2.512      0.012      -0.321      -0.040\n",
      "sigma2         1.0957      0.103     10.592      0.000       0.893       1.298\n",
      "===================================================================================\n",
      "Ljung-Box (L1) (Q):                   0.24   Jarque-Bera (JB):                 2.95\n",
      "Prob(Q):                              0.62   Prob(JB):                         0.23\n",
      "Heteroskedasticity (H):               0.41   Skew:                            -0.04\n",
      "Prob(H) (two-sided):                  0.00   Kurtosis:                         3.60\n",
      "===================================================================================\n",
      "\n",
      "Warnings:\n",
      "[1] Covariance matrix calculated using the outer product of gradients (complex-step).\n"
     ]
    }
   ],
   "source": [
    "print(model.summary())"
   ]
  },
  {
   "cell_type": "code",
   "execution_count": 162,
   "id": "a0541bce",
   "metadata": {
    "scrolled": true
   },
   "outputs": [
    {
     "data": {
      "application/vnd.plotly.v1+json": {
       "config": {
        "plotlyServerURL": "https://plot.ly"
       },
       "data": [
        {
         "line": {
          "color": "royalblue"
         },
         "mode": "lines",
         "name": "Train",
         "type": "scatter",
         "x": [
          "2018-04-08T00:00:00",
          "2018-04-15T00:00:00",
          "2018-04-22T00:00:00",
          "2018-04-29T00:00:00",
          "2018-05-06T00:00:00",
          "2018-05-13T00:00:00",
          "2018-05-20T00:00:00",
          "2018-05-27T00:00:00",
          "2018-06-03T00:00:00",
          "2018-06-10T00:00:00",
          "2018-06-17T00:00:00",
          "2018-06-24T00:00:00",
          "2018-07-01T00:00:00",
          "2018-07-08T00:00:00",
          "2018-07-15T00:00:00",
          "2018-07-22T00:00:00",
          "2018-07-29T00:00:00",
          "2018-08-05T00:00:00",
          "2018-08-12T00:00:00",
          "2018-08-19T00:00:00",
          "2018-08-26T00:00:00",
          "2018-09-02T00:00:00",
          "2018-09-09T00:00:00",
          "2018-09-16T00:00:00",
          "2018-09-23T00:00:00",
          "2018-09-30T00:00:00",
          "2018-10-07T00:00:00",
          "2018-10-14T00:00:00",
          "2018-10-21T00:00:00",
          "2018-10-28T00:00:00",
          "2018-11-04T00:00:00",
          "2018-11-11T00:00:00",
          "2018-11-18T00:00:00",
          "2018-11-25T00:00:00",
          "2018-12-02T00:00:00",
          "2018-12-09T00:00:00",
          "2018-12-16T00:00:00",
          "2018-12-23T00:00:00",
          "2018-12-30T00:00:00",
          "2019-01-06T00:00:00",
          "2019-01-13T00:00:00",
          "2019-01-20T00:00:00",
          "2019-01-27T00:00:00",
          "2019-02-03T00:00:00",
          "2019-02-10T00:00:00",
          "2019-02-17T00:00:00",
          "2019-02-24T00:00:00",
          "2019-03-03T00:00:00",
          "2019-03-10T00:00:00",
          "2019-03-17T00:00:00",
          "2019-03-24T00:00:00",
          "2019-03-31T00:00:00",
          "2019-04-07T00:00:00",
          "2019-04-14T00:00:00",
          "2019-04-21T00:00:00",
          "2019-04-28T00:00:00",
          "2019-05-05T00:00:00",
          "2019-05-12T00:00:00",
          "2019-05-19T00:00:00",
          "2019-05-26T00:00:00",
          "2019-06-02T00:00:00",
          "2019-06-09T00:00:00",
          "2019-06-16T00:00:00",
          "2019-06-23T00:00:00",
          "2019-06-30T00:00:00",
          "2019-07-07T00:00:00",
          "2019-07-14T00:00:00",
          "2019-07-21T00:00:00",
          "2019-07-28T00:00:00",
          "2019-08-04T00:00:00",
          "2019-08-11T00:00:00",
          "2019-08-18T00:00:00",
          "2019-08-25T00:00:00",
          "2019-09-01T00:00:00",
          "2019-09-08T00:00:00",
          "2019-09-15T00:00:00",
          "2019-09-22T00:00:00",
          "2019-09-29T00:00:00",
          "2019-10-06T00:00:00",
          "2019-10-13T00:00:00",
          "2019-10-20T00:00:00",
          "2019-10-27T00:00:00",
          "2019-11-03T00:00:00",
          "2019-11-10T00:00:00",
          "2019-11-17T00:00:00",
          "2019-11-24T00:00:00",
          "2019-12-01T00:00:00",
          "2019-12-08T00:00:00",
          "2019-12-15T00:00:00",
          "2019-12-22T00:00:00",
          "2019-12-29T00:00:00",
          "2020-01-05T00:00:00",
          "2020-01-12T00:00:00",
          "2020-01-19T00:00:00",
          "2020-01-26T00:00:00",
          "2020-02-02T00:00:00",
          "2020-02-09T00:00:00",
          "2020-02-16T00:00:00",
          "2020-02-23T00:00:00",
          "2020-03-01T00:00:00",
          "2020-03-08T00:00:00",
          "2020-03-15T00:00:00",
          "2020-03-22T00:00:00",
          "2020-03-29T00:00:00",
          "2020-04-05T00:00:00",
          "2020-04-12T00:00:00",
          "2020-04-19T00:00:00",
          "2020-04-26T00:00:00",
          "2020-05-03T00:00:00",
          "2020-05-10T00:00:00",
          "2020-05-17T00:00:00",
          "2020-05-24T00:00:00",
          "2020-05-31T00:00:00",
          "2020-06-07T00:00:00",
          "2020-06-14T00:00:00",
          "2020-06-21T00:00:00",
          "2020-06-28T00:00:00",
          "2020-07-05T00:00:00",
          "2020-07-12T00:00:00",
          "2020-07-19T00:00:00",
          "2020-07-26T00:00:00",
          "2020-08-02T00:00:00",
          "2020-08-09T00:00:00",
          "2020-08-16T00:00:00",
          "2020-08-23T00:00:00",
          "2020-08-30T00:00:00",
          "2020-09-06T00:00:00",
          "2020-09-13T00:00:00",
          "2020-09-20T00:00:00",
          "2020-09-27T00:00:00",
          "2020-10-04T00:00:00",
          "2020-10-11T00:00:00",
          "2020-10-18T00:00:00",
          "2020-10-25T00:00:00",
          "2020-11-01T00:00:00",
          "2020-11-08T00:00:00",
          "2020-11-15T00:00:00"
         ],
         "y": [
          20.916687640744215,
          21.465588562169092,
          22.364522865090727,
          21.359403975098175,
          22.849912549261564,
          26.024385147505466,
          23.007629299809366,
          22.265601987546543,
          24.075465366448476,
          24.644013670130217,
          21.77259722605417,
          21.11133755321854,
          22.122404357557496,
          21.69999678850656,
          23.792088458586058,
          21.55016003688176,
          22.286279407644916,
          22.372259752471685,
          22.00457055529329,
          22.414249804000004,
          21.71848425262443,
          23.49661311515985,
          22.06103596890802,
          22.621976555943643,
          22.89210432558812,
          20.129397713404025,
          20.924553561007258,
          20.92595506480062,
          20.604502076661806,
          21.559561697536186,
          20.514640262946756,
          21.46329946599653,
          20.990075821462792,
          21.087155958773835,
          22.534806626054102,
          22.182200854953596,
          22.0801256201086,
          21.5662015215785,
          22.033615351429603,
          20.341202752879813,
          20.40729210309093,
          21.983152457588684,
          20.73608565184006,
          23.07690809404645,
          20.3338197381533,
          22.205730902285993,
          22.6069518985522,
          24.294684809627757,
          22.29915937528863,
          23.385049973657445,
          22.251568224800035,
          22.55664747646868,
          22.79427716564949,
          23.793425676578543,
          22.69759827580601,
          22.097747982731462,
          22.69930816627172,
          22.869946785141646,
          21.86476774464525,
          21.760969275909165,
          22.168896510603894,
          23.148545283705438,
          23.111705574372866,
          22.06695439971148,
          22.193356965815006,
          22.927631287120384,
          22.670561939410156,
          22.89385612758477,
          22.437783779846043,
          23.28509383657359,
          22.63766902805084,
          21.617636624630133,
          22.652736136311447,
          21.832002037441242,
          22.332015252420867,
          21.157156030448313,
          22.67174848143902,
          22.826924503800146,
          23.086378661416116,
          23.82527584384545,
          24.837026205727824,
          22.677644172345072,
          23.01521827305582,
          22.18995648937562,
          22.36383622536911,
          24.25020415966392,
          22.169358410265062,
          22.278835775770215,
          22.66229546081281,
          24.1345675904021,
          20.53157007930452,
          22.795803350577504,
          21.39874790409879,
          22.540512427449453,
          21.082130900820655,
          22.275030546588876,
          23.829277146914254,
          22.35175817527519,
          22.906599491708516,
          23.081937489227276,
          21.917262289045627,
          22.951823044733537,
          22.72225710417949,
          23.045399767485723,
          22.36677907249706,
          22.175242804800785,
          24.54294024851204,
          22.535402604916683,
          22.609308296782373,
          22.0501851233656,
          22.693615523644503,
          24.0053783089819,
          24.021978353191326,
          23.90058669039908,
          23.521555063073688,
          23.984459803747942,
          24.88765719497762,
          22.83541046567167,
          22.66072610034602,
          23.246969151658615,
          21.74595435081162,
          22.906475394429023,
          24.229713764079893,
          24.087161601981663,
          22.497450201676244,
          21.164067779552234,
          22.246409860389342,
          24.048855986099856,
          22.983617158081383,
          22.28902156424535,
          23.7535790080684,
          22.55220925502443,
          23.009056894352057,
          22.207047982440564,
          22.94217601418682,
          23.66120437500403,
          23.406222006733866
         ]
        },
        {
         "line": {
          "color": "rgba(0,0,30,0.5)"
         },
         "mode": "lines",
         "name": "Test",
         "type": "scatter",
         "x": [
          "2020-11-22T00:00:00",
          "2020-11-29T00:00:00",
          "2020-12-06T00:00:00",
          "2020-12-13T00:00:00",
          "2020-12-20T00:00:00",
          "2020-12-27T00:00:00",
          "2021-01-03T00:00:00",
          "2021-01-10T00:00:00",
          "2021-01-17T00:00:00",
          "2021-01-24T00:00:00",
          "2021-01-31T00:00:00",
          "2021-02-07T00:00:00",
          "2021-02-14T00:00:00",
          "2021-02-21T00:00:00",
          "2021-02-28T00:00:00",
          "2021-03-07T00:00:00",
          "2021-03-14T00:00:00",
          "2021-03-21T00:00:00",
          "2021-03-28T00:00:00",
          "2021-04-04T00:00:00",
          "2021-04-11T00:00:00",
          "2021-04-18T00:00:00",
          "2021-04-25T00:00:00",
          "2021-05-02T00:00:00",
          "2021-05-09T00:00:00",
          "2021-05-16T00:00:00",
          "2021-05-23T00:00:00",
          "2021-05-30T00:00:00",
          "2021-06-06T00:00:00",
          "2021-06-13T00:00:00",
          "2021-06-20T00:00:00",
          "2021-06-27T00:00:00",
          "2021-07-04T00:00:00",
          "2021-07-11T00:00:00",
          "2021-07-18T00:00:00",
          "2021-07-25T00:00:00",
          "2021-08-01T00:00:00",
          "2021-08-08T00:00:00",
          "2021-08-15T00:00:00",
          "2021-08-22T00:00:00",
          "2021-08-29T00:00:00",
          "2021-09-05T00:00:00",
          "2021-09-12T00:00:00",
          "2021-09-19T00:00:00",
          "2021-09-26T00:00:00",
          "2021-10-03T00:00:00",
          "2021-10-10T00:00:00",
          "2021-10-17T00:00:00",
          "2021-10-24T00:00:00",
          "2021-10-31T00:00:00",
          "2021-11-07T00:00:00",
          "2021-11-14T00:00:00",
          "2021-11-21T00:00:00",
          "2021-11-28T00:00:00",
          "2021-12-05T00:00:00",
          "2021-12-12T00:00:00",
          "2021-12-19T00:00:00",
          "2021-12-26T00:00:00",
          "2022-01-02T00:00:00"
         ],
         "y": [
          23.877055991551586,
          22.714816842562232,
          22.84376127297566,
          23.340709827015072,
          23.839797573894188,
          22.931120851764643,
          22.514184569521095,
          22.277327063813743,
          22.78677233756705,
          22.433327932100784,
          22.32940248620266,
          23.371855898846555,
          23.006296583819957,
          22.542703112296156,
          22.14805973777498,
          23.849230871711192,
          23.37813606465011,
          23.636765781103932,
          23.0518636464199,
          23.68035081117798,
          22.58094794710114,
          23.036313391612445,
          21.903305566410154,
          23.304283038579808,
          22.45980673902649,
          23.016676394300347,
          22.90550785158181,
          22.550336898436623,
          23.834528195501633,
          23.29596360349518,
          23.052475685958473,
          22.281935642531522,
          22.61862568109303,
          22.149026513028144,
          22.61934817005785,
          23.040217034325003,
          23.203431762236548,
          22.668367327411197,
          23.19627451146009,
          22.890560925578683,
          23.16748945347873,
          23.539271635566884,
          22.63598213025414,
          22.807514999350524,
          21.01587393334542,
          22.22174783083468,
          23.731297505635453,
          22.533007994889896,
          22.6455012024583,
          23.5259710942154,
          24.2697787172007,
          24.035204906823303,
          22.95679397068564,
          22.58769597316172,
          23.452677663853947,
          23.468780286186664,
          23.862154091171,
          22.660148797550036,
          22.241933783190323
         ]
        },
        {
         "line": {
          "color": "red",
          "dash": "dot",
          "width": 3
         },
         "mode": "lines",
         "name": "Prediction",
         "type": "scatter",
         "x": [
          "2020-11-22T00:00:00",
          "2020-11-29T00:00:00",
          "2020-12-06T00:00:00",
          "2020-12-13T00:00:00",
          "2020-12-20T00:00:00",
          "2020-12-27T00:00:00",
          "2021-01-03T00:00:00",
          "2021-01-10T00:00:00",
          "2021-01-17T00:00:00",
          "2021-01-24T00:00:00",
          "2021-01-31T00:00:00",
          "2021-02-07T00:00:00",
          "2021-02-14T00:00:00",
          "2021-02-21T00:00:00",
          "2021-02-28T00:00:00",
          "2021-03-07T00:00:00",
          "2021-03-14T00:00:00",
          "2021-03-21T00:00:00",
          "2021-03-28T00:00:00",
          "2021-04-04T00:00:00",
          "2021-04-11T00:00:00",
          "2021-04-18T00:00:00",
          "2021-04-25T00:00:00",
          "2021-05-02T00:00:00",
          "2021-05-09T00:00:00",
          "2021-05-16T00:00:00",
          "2021-05-23T00:00:00",
          "2021-05-30T00:00:00",
          "2021-06-06T00:00:00",
          "2021-06-13T00:00:00",
          "2021-06-20T00:00:00",
          "2021-06-27T00:00:00",
          "2021-07-04T00:00:00",
          "2021-07-11T00:00:00",
          "2021-07-18T00:00:00",
          "2021-07-25T00:00:00",
          "2021-08-01T00:00:00",
          "2021-08-08T00:00:00",
          "2021-08-15T00:00:00",
          "2021-08-22T00:00:00",
          "2021-08-29T00:00:00",
          "2021-09-05T00:00:00",
          "2021-09-12T00:00:00",
          "2021-09-19T00:00:00",
          "2021-09-26T00:00:00",
          "2021-10-03T00:00:00",
          "2021-10-10T00:00:00",
          "2021-10-17T00:00:00",
          "2021-10-24T00:00:00",
          "2021-10-31T00:00:00",
          "2021-11-07T00:00:00",
          "2021-11-14T00:00:00",
          "2021-11-21T00:00:00",
          "2021-11-28T00:00:00",
          "2021-12-05T00:00:00",
          "2021-12-12T00:00:00",
          "2021-12-19T00:00:00",
          "2021-12-26T00:00:00",
          "2022-01-02T00:00:00"
         ],
         "y": [
          23.31726460664521,
          23.96821195873235,
          23.65426302591232,
          23.227316852489874,
          23.071674095170955,
          23.292276665701447,
          23.03661312674051,
          22.901744421802306,
          22.613846556765097,
          22.3524950780083,
          21.98334565349878,
          22.037362071091636,
          22.953823964329597,
          23.145660789167312,
          22.869859710257362,
          22.59542836887932,
          23.351283628000587,
          23.245111348351404,
          23.517648180372216,
          23.733830563915035,
          23.973165248082648,
          23.060617251189043,
          22.75915976519645,
          22.151737456407172,
          22.49417588524814,
          22.365452092615726,
          22.589136458664306,
          23.017496939850847,
          22.834644874368106,
          23.435928298374733,
          23.48928718897134,
          23.34134826335989,
          22.894057517931547,
          22.659979333564948,
          21.993074487000214,
          21.93453341216108,
          22.555348445986574,
          23.064676504943247,
          23.063674256847687,
          23.358855319157712,
          23.225985450415564,
          23.070347100810398,
          23.37866982060585,
          23.051739424280267,
          22.907193735705533,
          21.71627752110906,
          21.518986617909164,
          22.480322747936007,
          22.366013559286646,
          22.77097768874921,
          23.842864883198526,
          24.325724342631933,
          24.14236484759558,
          23.830072000040836,
          23.41735095802862,
          23.22858690706913,
          22.885904883536615,
          23.233930551889298,
          23.171392517493665
         ]
        },
        {
         "fill": "toself",
         "fillcolor": "rgba(0,0,30,0.1)",
         "hoverinfo": "skip",
         "line": {
          "color": "rgba(0,0,0,0)"
         },
         "showlegend": false,
         "type": "scatter",
         "x": [
          "2020-11-22T00:00:00",
          "2020-11-29T00:00:00",
          "2020-12-06T00:00:00",
          "2020-12-13T00:00:00",
          "2020-12-20T00:00:00",
          "2020-12-27T00:00:00",
          "2021-01-03T00:00:00",
          "2021-01-10T00:00:00",
          "2021-01-17T00:00:00",
          "2021-01-24T00:00:00",
          "2021-01-31T00:00:00",
          "2021-02-07T00:00:00",
          "2021-02-14T00:00:00",
          "2021-02-21T00:00:00",
          "2021-02-28T00:00:00",
          "2021-03-07T00:00:00",
          "2021-03-14T00:00:00",
          "2021-03-21T00:00:00",
          "2021-03-28T00:00:00",
          "2021-04-04T00:00:00",
          "2021-04-11T00:00:00",
          "2021-04-18T00:00:00",
          "2021-04-25T00:00:00",
          "2021-05-02T00:00:00",
          "2021-05-09T00:00:00",
          "2021-05-16T00:00:00",
          "2021-05-23T00:00:00",
          "2021-05-30T00:00:00",
          "2021-06-06T00:00:00",
          "2021-06-13T00:00:00",
          "2021-06-20T00:00:00",
          "2021-06-27T00:00:00",
          "2021-07-04T00:00:00",
          "2021-07-11T00:00:00",
          "2021-07-18T00:00:00",
          "2021-07-25T00:00:00",
          "2021-08-01T00:00:00",
          "2021-08-08T00:00:00",
          "2021-08-15T00:00:00",
          "2021-08-22T00:00:00",
          "2021-08-29T00:00:00",
          "2021-09-05T00:00:00",
          "2021-09-12T00:00:00",
          "2021-09-19T00:00:00",
          "2021-09-26T00:00:00",
          "2021-10-03T00:00:00",
          "2021-10-10T00:00:00",
          "2021-10-17T00:00:00",
          "2021-10-24T00:00:00",
          "2021-10-31T00:00:00",
          "2021-11-07T00:00:00",
          "2021-11-14T00:00:00",
          "2021-11-21T00:00:00",
          "2021-11-28T00:00:00",
          "2021-12-05T00:00:00",
          "2021-12-12T00:00:00",
          "2021-12-19T00:00:00",
          "2021-12-26T00:00:00",
          "2022-01-02T00:00:00",
          "2022-01-02T00:00:00",
          "2021-12-26T00:00:00",
          "2021-12-19T00:00:00",
          "2021-12-12T00:00:00",
          "2021-12-05T00:00:00",
          "2021-11-28T00:00:00",
          "2021-11-21T00:00:00",
          "2021-11-14T00:00:00",
          "2021-11-07T00:00:00",
          "2021-10-31T00:00:00",
          "2021-10-24T00:00:00",
          "2021-10-17T00:00:00",
          "2021-10-10T00:00:00",
          "2021-10-03T00:00:00",
          "2021-09-26T00:00:00",
          "2021-09-19T00:00:00",
          "2021-09-12T00:00:00",
          "2021-09-05T00:00:00",
          "2021-08-29T00:00:00",
          "2021-08-22T00:00:00",
          "2021-08-15T00:00:00",
          "2021-08-08T00:00:00",
          "2021-08-01T00:00:00",
          "2021-07-25T00:00:00",
          "2021-07-18T00:00:00",
          "2021-07-11T00:00:00",
          "2021-07-04T00:00:00",
          "2021-06-27T00:00:00",
          "2021-06-20T00:00:00",
          "2021-06-13T00:00:00",
          "2021-06-06T00:00:00",
          "2021-05-30T00:00:00",
          "2021-05-23T00:00:00",
          "2021-05-16T00:00:00",
          "2021-05-09T00:00:00",
          "2021-05-02T00:00:00",
          "2021-04-25T00:00:00",
          "2021-04-18T00:00:00",
          "2021-04-11T00:00:00",
          "2021-04-04T00:00:00",
          "2021-03-28T00:00:00",
          "2021-03-21T00:00:00",
          "2021-03-14T00:00:00",
          "2021-03-07T00:00:00",
          "2021-02-28T00:00:00",
          "2021-02-21T00:00:00",
          "2021-02-14T00:00:00",
          "2021-02-07T00:00:00",
          "2021-01-31T00:00:00",
          "2021-01-24T00:00:00",
          "2021-01-17T00:00:00",
          "2021-01-10T00:00:00",
          "2021-01-03T00:00:00",
          "2020-12-27T00:00:00",
          "2020-12-20T00:00:00",
          "2020-12-13T00:00:00",
          "2020-12-06T00:00:00",
          "2020-11-29T00:00:00",
          "2020-11-22T00:00:00"
         ],
         "y": [
          25.572562380779633,
          26.217258133968212,
          25.90469499250296,
          25.47369400991529,
          25.310048256964865,
          25.526260882468044,
          25.263336763852134,
          25.12221026784661,
          24.828882256840515,
          24.559990778061394,
          24.18326317754591,
          24.230484319190257,
          25.150149743414445,
          25.33459959551786,
          25.05354188462041,
          24.774849232084346,
          25.53216815061947,
          25.419076668358386,
          25.685416580803615,
          25.895697260392428,
          26.128075326657118,
          25.21979051605817,
          24.911387489097443,
          24.301234214362715,
          24.644281383668208,
          24.50875572363804,
          24.728108256628676,
          25.150476125866554,
          24.962251732378846,
          25.56239499420733,
          25.609427356383804,
          25.456101667995863,
          25.008537444448947,
          24.768599924559773,
          24.096932670631524,
          24.03422381467964,
          24.655557780860057,
          25.161022504545876,
          25.154750321463162,
          25.444016559828682,
          25.30636938526594,
          25.144807324744416,
          25.4484126041828,
          25.118483336870685,
          24.968539170913125,
          23.790015476036885,
          23.588419812960552,
          24.56743050605784,
          24.448457509955603,
          24.848167314760342,
          25.91719773265849,
          26.39541224394523,
          26.206886062858157,
          25.89585852454503,
          25.485194173902798,
          25.290962084360373,
          24.94312389944095,
          25.29038136679049,
          25.224034292580978,
          21.118750742406352,
          21.177479736988104,
          20.82868586763228,
          21.166211729777885,
          21.349507742154444,
          21.764285475536642,
          22.077843632333003,
          22.256036441318635,
          21.768532033738563,
          20.693788062738076,
          20.28356960861769,
          20.393214989814176,
          19.449553422857775,
          19.642539566181235,
          20.84584830049794,
          20.98499551168985,
          21.3089270370289,
          20.99588687687638,
          21.14560151556519,
          21.27369407848674,
          20.972598192232212,
          20.968330505340617,
          20.45513911111309,
          19.834843009642523,
          19.889216303368904,
          20.551358742570123,
          20.779577591414146,
          21.226594858723917,
          21.369147021558874,
          21.309461602542136,
          20.707038016357366,
          20.88451775383514,
          20.450164660699937,
          20.222148461593413,
          20.344070386828072,
          20.00224069845163,
          20.606932041295458,
          20.90144398631992,
          21.818255169508177,
          21.571963867437642,
          21.349879779940817,
          21.071146028344423,
          21.170399105381705,
          20.41600750567429,
          20.686177535894313,
          20.956721982816763,
          20.75749818524475,
          19.844239822993014,
          19.78342812945165,
          20.144999377955205,
          20.39881085668968,
          20.681278575758,
          20.809889489628883,
          21.05829244893485,
          20.833299933377045,
          20.980939695064457,
          21.403831059321682,
          21.71916578349649,
          21.061966832510787
         ]
        }
       ],
       "layout": {
        "height": 400,
        "template": {
         "data": {
          "bar": [
           {
            "error_x": {
             "color": "#2a3f5f"
            },
            "error_y": {
             "color": "#2a3f5f"
            },
            "marker": {
             "line": {
              "color": "#E5ECF6",
              "width": 0.5
             },
             "pattern": {
              "fillmode": "overlay",
              "size": 10,
              "solidity": 0.2
             }
            },
            "type": "bar"
           }
          ],
          "barpolar": [
           {
            "marker": {
             "line": {
              "color": "#E5ECF6",
              "width": 0.5
             },
             "pattern": {
              "fillmode": "overlay",
              "size": 10,
              "solidity": 0.2
             }
            },
            "type": "barpolar"
           }
          ],
          "carpet": [
           {
            "aaxis": {
             "endlinecolor": "#2a3f5f",
             "gridcolor": "white",
             "linecolor": "white",
             "minorgridcolor": "white",
             "startlinecolor": "#2a3f5f"
            },
            "baxis": {
             "endlinecolor": "#2a3f5f",
             "gridcolor": "white",
             "linecolor": "white",
             "minorgridcolor": "white",
             "startlinecolor": "#2a3f5f"
            },
            "type": "carpet"
           }
          ],
          "choropleth": [
           {
            "colorbar": {
             "outlinewidth": 0,
             "ticks": ""
            },
            "type": "choropleth"
           }
          ],
          "contour": [
           {
            "colorbar": {
             "outlinewidth": 0,
             "ticks": ""
            },
            "colorscale": [
             [
              0,
              "#0d0887"
             ],
             [
              0.1111111111111111,
              "#46039f"
             ],
             [
              0.2222222222222222,
              "#7201a8"
             ],
             [
              0.3333333333333333,
              "#9c179e"
             ],
             [
              0.4444444444444444,
              "#bd3786"
             ],
             [
              0.5555555555555556,
              "#d8576b"
             ],
             [
              0.6666666666666666,
              "#ed7953"
             ],
             [
              0.7777777777777778,
              "#fb9f3a"
             ],
             [
              0.8888888888888888,
              "#fdca26"
             ],
             [
              1,
              "#f0f921"
             ]
            ],
            "type": "contour"
           }
          ],
          "contourcarpet": [
           {
            "colorbar": {
             "outlinewidth": 0,
             "ticks": ""
            },
            "type": "contourcarpet"
           }
          ],
          "heatmap": [
           {
            "colorbar": {
             "outlinewidth": 0,
             "ticks": ""
            },
            "colorscale": [
             [
              0,
              "#0d0887"
             ],
             [
              0.1111111111111111,
              "#46039f"
             ],
             [
              0.2222222222222222,
              "#7201a8"
             ],
             [
              0.3333333333333333,
              "#9c179e"
             ],
             [
              0.4444444444444444,
              "#bd3786"
             ],
             [
              0.5555555555555556,
              "#d8576b"
             ],
             [
              0.6666666666666666,
              "#ed7953"
             ],
             [
              0.7777777777777778,
              "#fb9f3a"
             ],
             [
              0.8888888888888888,
              "#fdca26"
             ],
             [
              1,
              "#f0f921"
             ]
            ],
            "type": "heatmap"
           }
          ],
          "heatmapgl": [
           {
            "colorbar": {
             "outlinewidth": 0,
             "ticks": ""
            },
            "colorscale": [
             [
              0,
              "#0d0887"
             ],
             [
              0.1111111111111111,
              "#46039f"
             ],
             [
              0.2222222222222222,
              "#7201a8"
             ],
             [
              0.3333333333333333,
              "#9c179e"
             ],
             [
              0.4444444444444444,
              "#bd3786"
             ],
             [
              0.5555555555555556,
              "#d8576b"
             ],
             [
              0.6666666666666666,
              "#ed7953"
             ],
             [
              0.7777777777777778,
              "#fb9f3a"
             ],
             [
              0.8888888888888888,
              "#fdca26"
             ],
             [
              1,
              "#f0f921"
             ]
            ],
            "type": "heatmapgl"
           }
          ],
          "histogram": [
           {
            "marker": {
             "pattern": {
              "fillmode": "overlay",
              "size": 10,
              "solidity": 0.2
             }
            },
            "type": "histogram"
           }
          ],
          "histogram2d": [
           {
            "colorbar": {
             "outlinewidth": 0,
             "ticks": ""
            },
            "colorscale": [
             [
              0,
              "#0d0887"
             ],
             [
              0.1111111111111111,
              "#46039f"
             ],
             [
              0.2222222222222222,
              "#7201a8"
             ],
             [
              0.3333333333333333,
              "#9c179e"
             ],
             [
              0.4444444444444444,
              "#bd3786"
             ],
             [
              0.5555555555555556,
              "#d8576b"
             ],
             [
              0.6666666666666666,
              "#ed7953"
             ],
             [
              0.7777777777777778,
              "#fb9f3a"
             ],
             [
              0.8888888888888888,
              "#fdca26"
             ],
             [
              1,
              "#f0f921"
             ]
            ],
            "type": "histogram2d"
           }
          ],
          "histogram2dcontour": [
           {
            "colorbar": {
             "outlinewidth": 0,
             "ticks": ""
            },
            "colorscale": [
             [
              0,
              "#0d0887"
             ],
             [
              0.1111111111111111,
              "#46039f"
             ],
             [
              0.2222222222222222,
              "#7201a8"
             ],
             [
              0.3333333333333333,
              "#9c179e"
             ],
             [
              0.4444444444444444,
              "#bd3786"
             ],
             [
              0.5555555555555556,
              "#d8576b"
             ],
             [
              0.6666666666666666,
              "#ed7953"
             ],
             [
              0.7777777777777778,
              "#fb9f3a"
             ],
             [
              0.8888888888888888,
              "#fdca26"
             ],
             [
              1,
              "#f0f921"
             ]
            ],
            "type": "histogram2dcontour"
           }
          ],
          "mesh3d": [
           {
            "colorbar": {
             "outlinewidth": 0,
             "ticks": ""
            },
            "type": "mesh3d"
           }
          ],
          "parcoords": [
           {
            "line": {
             "colorbar": {
              "outlinewidth": 0,
              "ticks": ""
             }
            },
            "type": "parcoords"
           }
          ],
          "pie": [
           {
            "automargin": true,
            "type": "pie"
           }
          ],
          "scatter": [
           {
            "marker": {
             "colorbar": {
              "outlinewidth": 0,
              "ticks": ""
             }
            },
            "type": "scatter"
           }
          ],
          "scatter3d": [
           {
            "line": {
             "colorbar": {
              "outlinewidth": 0,
              "ticks": ""
             }
            },
            "marker": {
             "colorbar": {
              "outlinewidth": 0,
              "ticks": ""
             }
            },
            "type": "scatter3d"
           }
          ],
          "scattercarpet": [
           {
            "marker": {
             "colorbar": {
              "outlinewidth": 0,
              "ticks": ""
             }
            },
            "type": "scattercarpet"
           }
          ],
          "scattergeo": [
           {
            "marker": {
             "colorbar": {
              "outlinewidth": 0,
              "ticks": ""
             }
            },
            "type": "scattergeo"
           }
          ],
          "scattergl": [
           {
            "marker": {
             "colorbar": {
              "outlinewidth": 0,
              "ticks": ""
             }
            },
            "type": "scattergl"
           }
          ],
          "scattermapbox": [
           {
            "marker": {
             "colorbar": {
              "outlinewidth": 0,
              "ticks": ""
             }
            },
            "type": "scattermapbox"
           }
          ],
          "scatterpolar": [
           {
            "marker": {
             "colorbar": {
              "outlinewidth": 0,
              "ticks": ""
             }
            },
            "type": "scatterpolar"
           }
          ],
          "scatterpolargl": [
           {
            "marker": {
             "colorbar": {
              "outlinewidth": 0,
              "ticks": ""
             }
            },
            "type": "scatterpolargl"
           }
          ],
          "scatterternary": [
           {
            "marker": {
             "colorbar": {
              "outlinewidth": 0,
              "ticks": ""
             }
            },
            "type": "scatterternary"
           }
          ],
          "surface": [
           {
            "colorbar": {
             "outlinewidth": 0,
             "ticks": ""
            },
            "colorscale": [
             [
              0,
              "#0d0887"
             ],
             [
              0.1111111111111111,
              "#46039f"
             ],
             [
              0.2222222222222222,
              "#7201a8"
             ],
             [
              0.3333333333333333,
              "#9c179e"
             ],
             [
              0.4444444444444444,
              "#bd3786"
             ],
             [
              0.5555555555555556,
              "#d8576b"
             ],
             [
              0.6666666666666666,
              "#ed7953"
             ],
             [
              0.7777777777777778,
              "#fb9f3a"
             ],
             [
              0.8888888888888888,
              "#fdca26"
             ],
             [
              1,
              "#f0f921"
             ]
            ],
            "type": "surface"
           }
          ],
          "table": [
           {
            "cells": {
             "fill": {
              "color": "#EBF0F8"
             },
             "line": {
              "color": "white"
             }
            },
            "header": {
             "fill": {
              "color": "#C8D4E3"
             },
             "line": {
              "color": "white"
             }
            },
            "type": "table"
           }
          ]
         },
         "layout": {
          "annotationdefaults": {
           "arrowcolor": "#2a3f5f",
           "arrowhead": 0,
           "arrowwidth": 1
          },
          "autotypenumbers": "strict",
          "coloraxis": {
           "colorbar": {
            "outlinewidth": 0,
            "ticks": ""
           }
          },
          "colorscale": {
           "diverging": [
            [
             0,
             "#8e0152"
            ],
            [
             0.1,
             "#c51b7d"
            ],
            [
             0.2,
             "#de77ae"
            ],
            [
             0.3,
             "#f1b6da"
            ],
            [
             0.4,
             "#fde0ef"
            ],
            [
             0.5,
             "#f7f7f7"
            ],
            [
             0.6,
             "#e6f5d0"
            ],
            [
             0.7,
             "#b8e186"
            ],
            [
             0.8,
             "#7fbc41"
            ],
            [
             0.9,
             "#4d9221"
            ],
            [
             1,
             "#276419"
            ]
           ],
           "sequential": [
            [
             0,
             "#0d0887"
            ],
            [
             0.1111111111111111,
             "#46039f"
            ],
            [
             0.2222222222222222,
             "#7201a8"
            ],
            [
             0.3333333333333333,
             "#9c179e"
            ],
            [
             0.4444444444444444,
             "#bd3786"
            ],
            [
             0.5555555555555556,
             "#d8576b"
            ],
            [
             0.6666666666666666,
             "#ed7953"
            ],
            [
             0.7777777777777778,
             "#fb9f3a"
            ],
            [
             0.8888888888888888,
             "#fdca26"
            ],
            [
             1,
             "#f0f921"
            ]
           ],
           "sequentialminus": [
            [
             0,
             "#0d0887"
            ],
            [
             0.1111111111111111,
             "#46039f"
            ],
            [
             0.2222222222222222,
             "#7201a8"
            ],
            [
             0.3333333333333333,
             "#9c179e"
            ],
            [
             0.4444444444444444,
             "#bd3786"
            ],
            [
             0.5555555555555556,
             "#d8576b"
            ],
            [
             0.6666666666666666,
             "#ed7953"
            ],
            [
             0.7777777777777778,
             "#fb9f3a"
            ],
            [
             0.8888888888888888,
             "#fdca26"
            ],
            [
             1,
             "#f0f921"
            ]
           ]
          },
          "colorway": [
           "#636efa",
           "#EF553B",
           "#00cc96",
           "#ab63fa",
           "#FFA15A",
           "#19d3f3",
           "#FF6692",
           "#B6E880",
           "#FF97FF",
           "#FECB52"
          ],
          "font": {
           "color": "#2a3f5f"
          },
          "geo": {
           "bgcolor": "white",
           "lakecolor": "white",
           "landcolor": "#E5ECF6",
           "showlakes": true,
           "showland": true,
           "subunitcolor": "white"
          },
          "hoverlabel": {
           "align": "left"
          },
          "hovermode": "closest",
          "mapbox": {
           "style": "light"
          },
          "paper_bgcolor": "white",
          "plot_bgcolor": "#E5ECF6",
          "polar": {
           "angularaxis": {
            "gridcolor": "white",
            "linecolor": "white",
            "ticks": ""
           },
           "bgcolor": "#E5ECF6",
           "radialaxis": {
            "gridcolor": "white",
            "linecolor": "white",
            "ticks": ""
           }
          },
          "scene": {
           "xaxis": {
            "backgroundcolor": "#E5ECF6",
            "gridcolor": "white",
            "gridwidth": 2,
            "linecolor": "white",
            "showbackground": true,
            "ticks": "",
            "zerolinecolor": "white"
           },
           "yaxis": {
            "backgroundcolor": "#E5ECF6",
            "gridcolor": "white",
            "gridwidth": 2,
            "linecolor": "white",
            "showbackground": true,
            "ticks": "",
            "zerolinecolor": "white"
           },
           "zaxis": {
            "backgroundcolor": "#E5ECF6",
            "gridcolor": "white",
            "gridwidth": 2,
            "linecolor": "white",
            "showbackground": true,
            "ticks": "",
            "zerolinecolor": "white"
           }
          },
          "shapedefaults": {
           "line": {
            "color": "#2a3f5f"
           }
          },
          "ternary": {
           "aaxis": {
            "gridcolor": "white",
            "linecolor": "white",
            "ticks": ""
           },
           "baxis": {
            "gridcolor": "white",
            "linecolor": "white",
            "ticks": ""
           },
           "bgcolor": "#E5ECF6",
           "caxis": {
            "gridcolor": "white",
            "linecolor": "white",
            "ticks": ""
           }
          },
          "title": {
           "x": 0.05
          },
          "xaxis": {
           "automargin": true,
           "gridcolor": "white",
           "linecolor": "white",
           "ticks": "",
           "title": {
            "standoff": 15
           },
           "zerolinecolor": "white",
           "zerolinewidth": 2
          },
          "yaxis": {
           "automargin": true,
           "gridcolor": "white",
           "linecolor": "white",
           "ticks": "",
           "title": {
            "standoff": 15
           },
           "zerolinecolor": "white",
           "zerolinewidth": 2
          }
         }
        },
        "title": {
         "text": "ARIMA(1,2,0)모형"
        },
        "width": 1000
       }
      },
      "text/html": [
       "<div>                            <div id=\"94b3543a-fc9f-4fb5-8b76-a614ee616a4e\" class=\"plotly-graph-div\" style=\"height:400px; width:1000px;\"></div>            <script type=\"text/javascript\">                require([\"plotly\"], function(Plotly) {                    window.PLOTLYENV=window.PLOTLYENV || {};                                    if (document.getElementById(\"94b3543a-fc9f-4fb5-8b76-a614ee616a4e\")) {                    Plotly.newPlot(                        \"94b3543a-fc9f-4fb5-8b76-a614ee616a4e\",                        [{\"line\":{\"color\":\"royalblue\"},\"mode\":\"lines\",\"name\":\"Train\",\"x\":[\"2018-04-08T00:00:00\",\"2018-04-15T00:00:00\",\"2018-04-22T00:00:00\",\"2018-04-29T00:00:00\",\"2018-05-06T00:00:00\",\"2018-05-13T00:00:00\",\"2018-05-20T00:00:00\",\"2018-05-27T00:00:00\",\"2018-06-03T00:00:00\",\"2018-06-10T00:00:00\",\"2018-06-17T00:00:00\",\"2018-06-24T00:00:00\",\"2018-07-01T00:00:00\",\"2018-07-08T00:00:00\",\"2018-07-15T00:00:00\",\"2018-07-22T00:00:00\",\"2018-07-29T00:00:00\",\"2018-08-05T00:00:00\",\"2018-08-12T00:00:00\",\"2018-08-19T00:00:00\",\"2018-08-26T00:00:00\",\"2018-09-02T00:00:00\",\"2018-09-09T00:00:00\",\"2018-09-16T00:00:00\",\"2018-09-23T00:00:00\",\"2018-09-30T00:00:00\",\"2018-10-07T00:00:00\",\"2018-10-14T00:00:00\",\"2018-10-21T00:00:00\",\"2018-10-28T00:00:00\",\"2018-11-04T00:00:00\",\"2018-11-11T00:00:00\",\"2018-11-18T00:00:00\",\"2018-11-25T00:00:00\",\"2018-12-02T00:00:00\",\"2018-12-09T00:00:00\",\"2018-12-16T00:00:00\",\"2018-12-23T00:00:00\",\"2018-12-30T00:00:00\",\"2019-01-06T00:00:00\",\"2019-01-13T00:00:00\",\"2019-01-20T00:00:00\",\"2019-01-27T00:00:00\",\"2019-02-03T00:00:00\",\"2019-02-10T00:00:00\",\"2019-02-17T00:00:00\",\"2019-02-24T00:00:00\",\"2019-03-03T00:00:00\",\"2019-03-10T00:00:00\",\"2019-03-17T00:00:00\",\"2019-03-24T00:00:00\",\"2019-03-31T00:00:00\",\"2019-04-07T00:00:00\",\"2019-04-14T00:00:00\",\"2019-04-21T00:00:00\",\"2019-04-28T00:00:00\",\"2019-05-05T00:00:00\",\"2019-05-12T00:00:00\",\"2019-05-19T00:00:00\",\"2019-05-26T00:00:00\",\"2019-06-02T00:00:00\",\"2019-06-09T00:00:00\",\"2019-06-16T00:00:00\",\"2019-06-23T00:00:00\",\"2019-06-30T00:00:00\",\"2019-07-07T00:00:00\",\"2019-07-14T00:00:00\",\"2019-07-21T00:00:00\",\"2019-07-28T00:00:00\",\"2019-08-04T00:00:00\",\"2019-08-11T00:00:00\",\"2019-08-18T00:00:00\",\"2019-08-25T00:00:00\",\"2019-09-01T00:00:00\",\"2019-09-08T00:00:00\",\"2019-09-15T00:00:00\",\"2019-09-22T00:00:00\",\"2019-09-29T00:00:00\",\"2019-10-06T00:00:00\",\"2019-10-13T00:00:00\",\"2019-10-20T00:00:00\",\"2019-10-27T00:00:00\",\"2019-11-03T00:00:00\",\"2019-11-10T00:00:00\",\"2019-11-17T00:00:00\",\"2019-11-24T00:00:00\",\"2019-12-01T00:00:00\",\"2019-12-08T00:00:00\",\"2019-12-15T00:00:00\",\"2019-12-22T00:00:00\",\"2019-12-29T00:00:00\",\"2020-01-05T00:00:00\",\"2020-01-12T00:00:00\",\"2020-01-19T00:00:00\",\"2020-01-26T00:00:00\",\"2020-02-02T00:00:00\",\"2020-02-09T00:00:00\",\"2020-02-16T00:00:00\",\"2020-02-23T00:00:00\",\"2020-03-01T00:00:00\",\"2020-03-08T00:00:00\",\"2020-03-15T00:00:00\",\"2020-03-22T00:00:00\",\"2020-03-29T00:00:00\",\"2020-04-05T00:00:00\",\"2020-04-12T00:00:00\",\"2020-04-19T00:00:00\",\"2020-04-26T00:00:00\",\"2020-05-03T00:00:00\",\"2020-05-10T00:00:00\",\"2020-05-17T00:00:00\",\"2020-05-24T00:00:00\",\"2020-05-31T00:00:00\",\"2020-06-07T00:00:00\",\"2020-06-14T00:00:00\",\"2020-06-21T00:00:00\",\"2020-06-28T00:00:00\",\"2020-07-05T00:00:00\",\"2020-07-12T00:00:00\",\"2020-07-19T00:00:00\",\"2020-07-26T00:00:00\",\"2020-08-02T00:00:00\",\"2020-08-09T00:00:00\",\"2020-08-16T00:00:00\",\"2020-08-23T00:00:00\",\"2020-08-30T00:00:00\",\"2020-09-06T00:00:00\",\"2020-09-13T00:00:00\",\"2020-09-20T00:00:00\",\"2020-09-27T00:00:00\",\"2020-10-04T00:00:00\",\"2020-10-11T00:00:00\",\"2020-10-18T00:00:00\",\"2020-10-25T00:00:00\",\"2020-11-01T00:00:00\",\"2020-11-08T00:00:00\",\"2020-11-15T00:00:00\"],\"y\":[20.916687640744215,21.465588562169092,22.364522865090727,21.359403975098175,22.849912549261564,26.024385147505466,23.007629299809366,22.265601987546543,24.075465366448476,24.644013670130217,21.77259722605417,21.11133755321854,22.122404357557496,21.69999678850656,23.792088458586058,21.55016003688176,22.286279407644916,22.372259752471685,22.00457055529329,22.414249804000004,21.71848425262443,23.49661311515985,22.06103596890802,22.621976555943643,22.89210432558812,20.129397713404025,20.924553561007258,20.92595506480062,20.604502076661806,21.559561697536186,20.514640262946756,21.46329946599653,20.990075821462792,21.087155958773835,22.534806626054102,22.182200854953596,22.0801256201086,21.5662015215785,22.033615351429603,20.341202752879813,20.40729210309093,21.983152457588684,20.73608565184006,23.07690809404645,20.3338197381533,22.205730902285993,22.6069518985522,24.294684809627757,22.29915937528863,23.385049973657445,22.251568224800035,22.55664747646868,22.79427716564949,23.793425676578543,22.69759827580601,22.097747982731462,22.69930816627172,22.869946785141646,21.86476774464525,21.760969275909165,22.168896510603894,23.148545283705438,23.111705574372866,22.06695439971148,22.193356965815006,22.927631287120384,22.670561939410156,22.89385612758477,22.437783779846043,23.28509383657359,22.63766902805084,21.617636624630133,22.652736136311447,21.832002037441242,22.332015252420867,21.157156030448313,22.67174848143902,22.826924503800146,23.086378661416116,23.82527584384545,24.837026205727824,22.677644172345072,23.01521827305582,22.18995648937562,22.36383622536911,24.25020415966392,22.169358410265062,22.278835775770215,22.66229546081281,24.1345675904021,20.53157007930452,22.795803350577504,21.39874790409879,22.540512427449453,21.082130900820655,22.275030546588876,23.829277146914254,22.35175817527519,22.906599491708516,23.081937489227276,21.917262289045627,22.951823044733537,22.72225710417949,23.045399767485723,22.36677907249706,22.175242804800785,24.54294024851204,22.535402604916683,22.609308296782373,22.0501851233656,22.693615523644503,24.0053783089819,24.021978353191326,23.90058669039908,23.521555063073688,23.984459803747942,24.88765719497762,22.83541046567167,22.66072610034602,23.246969151658615,21.74595435081162,22.906475394429023,24.229713764079893,24.087161601981663,22.497450201676244,21.164067779552234,22.246409860389342,24.048855986099856,22.983617158081383,22.28902156424535,23.7535790080684,22.55220925502443,23.009056894352057,22.207047982440564,22.94217601418682,23.66120437500403,23.406222006733866],\"type\":\"scatter\"},{\"line\":{\"color\":\"rgba(0,0,30,0.5)\"},\"mode\":\"lines\",\"name\":\"Test\",\"x\":[\"2020-11-22T00:00:00\",\"2020-11-29T00:00:00\",\"2020-12-06T00:00:00\",\"2020-12-13T00:00:00\",\"2020-12-20T00:00:00\",\"2020-12-27T00:00:00\",\"2021-01-03T00:00:00\",\"2021-01-10T00:00:00\",\"2021-01-17T00:00:00\",\"2021-01-24T00:00:00\",\"2021-01-31T00:00:00\",\"2021-02-07T00:00:00\",\"2021-02-14T00:00:00\",\"2021-02-21T00:00:00\",\"2021-02-28T00:00:00\",\"2021-03-07T00:00:00\",\"2021-03-14T00:00:00\",\"2021-03-21T00:00:00\",\"2021-03-28T00:00:00\",\"2021-04-04T00:00:00\",\"2021-04-11T00:00:00\",\"2021-04-18T00:00:00\",\"2021-04-25T00:00:00\",\"2021-05-02T00:00:00\",\"2021-05-09T00:00:00\",\"2021-05-16T00:00:00\",\"2021-05-23T00:00:00\",\"2021-05-30T00:00:00\",\"2021-06-06T00:00:00\",\"2021-06-13T00:00:00\",\"2021-06-20T00:00:00\",\"2021-06-27T00:00:00\",\"2021-07-04T00:00:00\",\"2021-07-11T00:00:00\",\"2021-07-18T00:00:00\",\"2021-07-25T00:00:00\",\"2021-08-01T00:00:00\",\"2021-08-08T00:00:00\",\"2021-08-15T00:00:00\",\"2021-08-22T00:00:00\",\"2021-08-29T00:00:00\",\"2021-09-05T00:00:00\",\"2021-09-12T00:00:00\",\"2021-09-19T00:00:00\",\"2021-09-26T00:00:00\",\"2021-10-03T00:00:00\",\"2021-10-10T00:00:00\",\"2021-10-17T00:00:00\",\"2021-10-24T00:00:00\",\"2021-10-31T00:00:00\",\"2021-11-07T00:00:00\",\"2021-11-14T00:00:00\",\"2021-11-21T00:00:00\",\"2021-11-28T00:00:00\",\"2021-12-05T00:00:00\",\"2021-12-12T00:00:00\",\"2021-12-19T00:00:00\",\"2021-12-26T00:00:00\",\"2022-01-02T00:00:00\"],\"y\":[23.877055991551586,22.714816842562232,22.84376127297566,23.340709827015072,23.839797573894188,22.931120851764643,22.514184569521095,22.277327063813743,22.78677233756705,22.433327932100784,22.32940248620266,23.371855898846555,23.006296583819957,22.542703112296156,22.14805973777498,23.849230871711192,23.37813606465011,23.636765781103932,23.0518636464199,23.68035081117798,22.58094794710114,23.036313391612445,21.903305566410154,23.304283038579808,22.45980673902649,23.016676394300347,22.90550785158181,22.550336898436623,23.834528195501633,23.29596360349518,23.052475685958473,22.281935642531522,22.61862568109303,22.149026513028144,22.61934817005785,23.040217034325003,23.203431762236548,22.668367327411197,23.19627451146009,22.890560925578683,23.16748945347873,23.539271635566884,22.63598213025414,22.807514999350524,21.01587393334542,22.22174783083468,23.731297505635453,22.533007994889896,22.6455012024583,23.5259710942154,24.2697787172007,24.035204906823303,22.95679397068564,22.58769597316172,23.452677663853947,23.468780286186664,23.862154091171,22.660148797550036,22.241933783190323],\"type\":\"scatter\"},{\"line\":{\"color\":\"red\",\"dash\":\"dot\",\"width\":3},\"mode\":\"lines\",\"name\":\"Prediction\",\"x\":[\"2020-11-22T00:00:00\",\"2020-11-29T00:00:00\",\"2020-12-06T00:00:00\",\"2020-12-13T00:00:00\",\"2020-12-20T00:00:00\",\"2020-12-27T00:00:00\",\"2021-01-03T00:00:00\",\"2021-01-10T00:00:00\",\"2021-01-17T00:00:00\",\"2021-01-24T00:00:00\",\"2021-01-31T00:00:00\",\"2021-02-07T00:00:00\",\"2021-02-14T00:00:00\",\"2021-02-21T00:00:00\",\"2021-02-28T00:00:00\",\"2021-03-07T00:00:00\",\"2021-03-14T00:00:00\",\"2021-03-21T00:00:00\",\"2021-03-28T00:00:00\",\"2021-04-04T00:00:00\",\"2021-04-11T00:00:00\",\"2021-04-18T00:00:00\",\"2021-04-25T00:00:00\",\"2021-05-02T00:00:00\",\"2021-05-09T00:00:00\",\"2021-05-16T00:00:00\",\"2021-05-23T00:00:00\",\"2021-05-30T00:00:00\",\"2021-06-06T00:00:00\",\"2021-06-13T00:00:00\",\"2021-06-20T00:00:00\",\"2021-06-27T00:00:00\",\"2021-07-04T00:00:00\",\"2021-07-11T00:00:00\",\"2021-07-18T00:00:00\",\"2021-07-25T00:00:00\",\"2021-08-01T00:00:00\",\"2021-08-08T00:00:00\",\"2021-08-15T00:00:00\",\"2021-08-22T00:00:00\",\"2021-08-29T00:00:00\",\"2021-09-05T00:00:00\",\"2021-09-12T00:00:00\",\"2021-09-19T00:00:00\",\"2021-09-26T00:00:00\",\"2021-10-03T00:00:00\",\"2021-10-10T00:00:00\",\"2021-10-17T00:00:00\",\"2021-10-24T00:00:00\",\"2021-10-31T00:00:00\",\"2021-11-07T00:00:00\",\"2021-11-14T00:00:00\",\"2021-11-21T00:00:00\",\"2021-11-28T00:00:00\",\"2021-12-05T00:00:00\",\"2021-12-12T00:00:00\",\"2021-12-19T00:00:00\",\"2021-12-26T00:00:00\",\"2022-01-02T00:00:00\"],\"y\":[23.31726460664521,23.96821195873235,23.65426302591232,23.227316852489874,23.071674095170955,23.292276665701447,23.03661312674051,22.901744421802306,22.613846556765097,22.3524950780083,21.98334565349878,22.037362071091636,22.953823964329597,23.145660789167312,22.869859710257362,22.59542836887932,23.351283628000587,23.245111348351404,23.517648180372216,23.733830563915035,23.973165248082648,23.060617251189043,22.75915976519645,22.151737456407172,22.49417588524814,22.365452092615726,22.589136458664306,23.017496939850847,22.834644874368106,23.435928298374733,23.48928718897134,23.34134826335989,22.894057517931547,22.659979333564948,21.993074487000214,21.93453341216108,22.555348445986574,23.064676504943247,23.063674256847687,23.358855319157712,23.225985450415564,23.070347100810398,23.37866982060585,23.051739424280267,22.907193735705533,21.71627752110906,21.518986617909164,22.480322747936007,22.366013559286646,22.77097768874921,23.842864883198526,24.325724342631933,24.14236484759558,23.830072000040836,23.41735095802862,23.22858690706913,22.885904883536615,23.233930551889298,23.171392517493665],\"type\":\"scatter\"},{\"fill\":\"toself\",\"fillcolor\":\"rgba(0,0,30,0.1)\",\"hoverinfo\":\"skip\",\"line\":{\"color\":\"rgba(0,0,0,0)\"},\"showlegend\":false,\"x\":[\"2020-11-22T00:00:00\",\"2020-11-29T00:00:00\",\"2020-12-06T00:00:00\",\"2020-12-13T00:00:00\",\"2020-12-20T00:00:00\",\"2020-12-27T00:00:00\",\"2021-01-03T00:00:00\",\"2021-01-10T00:00:00\",\"2021-01-17T00:00:00\",\"2021-01-24T00:00:00\",\"2021-01-31T00:00:00\",\"2021-02-07T00:00:00\",\"2021-02-14T00:00:00\",\"2021-02-21T00:00:00\",\"2021-02-28T00:00:00\",\"2021-03-07T00:00:00\",\"2021-03-14T00:00:00\",\"2021-03-21T00:00:00\",\"2021-03-28T00:00:00\",\"2021-04-04T00:00:00\",\"2021-04-11T00:00:00\",\"2021-04-18T00:00:00\",\"2021-04-25T00:00:00\",\"2021-05-02T00:00:00\",\"2021-05-09T00:00:00\",\"2021-05-16T00:00:00\",\"2021-05-23T00:00:00\",\"2021-05-30T00:00:00\",\"2021-06-06T00:00:00\",\"2021-06-13T00:00:00\",\"2021-06-20T00:00:00\",\"2021-06-27T00:00:00\",\"2021-07-04T00:00:00\",\"2021-07-11T00:00:00\",\"2021-07-18T00:00:00\",\"2021-07-25T00:00:00\",\"2021-08-01T00:00:00\",\"2021-08-08T00:00:00\",\"2021-08-15T00:00:00\",\"2021-08-22T00:00:00\",\"2021-08-29T00:00:00\",\"2021-09-05T00:00:00\",\"2021-09-12T00:00:00\",\"2021-09-19T00:00:00\",\"2021-09-26T00:00:00\",\"2021-10-03T00:00:00\",\"2021-10-10T00:00:00\",\"2021-10-17T00:00:00\",\"2021-10-24T00:00:00\",\"2021-10-31T00:00:00\",\"2021-11-07T00:00:00\",\"2021-11-14T00:00:00\",\"2021-11-21T00:00:00\",\"2021-11-28T00:00:00\",\"2021-12-05T00:00:00\",\"2021-12-12T00:00:00\",\"2021-12-19T00:00:00\",\"2021-12-26T00:00:00\",\"2022-01-02T00:00:00\",\"2022-01-02T00:00:00\",\"2021-12-26T00:00:00\",\"2021-12-19T00:00:00\",\"2021-12-12T00:00:00\",\"2021-12-05T00:00:00\",\"2021-11-28T00:00:00\",\"2021-11-21T00:00:00\",\"2021-11-14T00:00:00\",\"2021-11-07T00:00:00\",\"2021-10-31T00:00:00\",\"2021-10-24T00:00:00\",\"2021-10-17T00:00:00\",\"2021-10-10T00:00:00\",\"2021-10-03T00:00:00\",\"2021-09-26T00:00:00\",\"2021-09-19T00:00:00\",\"2021-09-12T00:00:00\",\"2021-09-05T00:00:00\",\"2021-08-29T00:00:00\",\"2021-08-22T00:00:00\",\"2021-08-15T00:00:00\",\"2021-08-08T00:00:00\",\"2021-08-01T00:00:00\",\"2021-07-25T00:00:00\",\"2021-07-18T00:00:00\",\"2021-07-11T00:00:00\",\"2021-07-04T00:00:00\",\"2021-06-27T00:00:00\",\"2021-06-20T00:00:00\",\"2021-06-13T00:00:00\",\"2021-06-06T00:00:00\",\"2021-05-30T00:00:00\",\"2021-05-23T00:00:00\",\"2021-05-16T00:00:00\",\"2021-05-09T00:00:00\",\"2021-05-02T00:00:00\",\"2021-04-25T00:00:00\",\"2021-04-18T00:00:00\",\"2021-04-11T00:00:00\",\"2021-04-04T00:00:00\",\"2021-03-28T00:00:00\",\"2021-03-21T00:00:00\",\"2021-03-14T00:00:00\",\"2021-03-07T00:00:00\",\"2021-02-28T00:00:00\",\"2021-02-21T00:00:00\",\"2021-02-14T00:00:00\",\"2021-02-07T00:00:00\",\"2021-01-31T00:00:00\",\"2021-01-24T00:00:00\",\"2021-01-17T00:00:00\",\"2021-01-10T00:00:00\",\"2021-01-03T00:00:00\",\"2020-12-27T00:00:00\",\"2020-12-20T00:00:00\",\"2020-12-13T00:00:00\",\"2020-12-06T00:00:00\",\"2020-11-29T00:00:00\",\"2020-11-22T00:00:00\"],\"y\":[25.572562380779633,26.217258133968212,25.90469499250296,25.47369400991529,25.310048256964865,25.526260882468044,25.263336763852134,25.12221026784661,24.828882256840515,24.559990778061394,24.18326317754591,24.230484319190257,25.150149743414445,25.33459959551786,25.05354188462041,24.774849232084346,25.53216815061947,25.419076668358386,25.685416580803615,25.895697260392428,26.128075326657118,25.21979051605817,24.911387489097443,24.301234214362715,24.644281383668208,24.50875572363804,24.728108256628676,25.150476125866554,24.962251732378846,25.56239499420733,25.609427356383804,25.456101667995863,25.008537444448947,24.768599924559773,24.096932670631524,24.03422381467964,24.655557780860057,25.161022504545876,25.154750321463162,25.444016559828682,25.30636938526594,25.144807324744416,25.4484126041828,25.118483336870685,24.968539170913125,23.790015476036885,23.588419812960552,24.56743050605784,24.448457509955603,24.848167314760342,25.91719773265849,26.39541224394523,26.206886062858157,25.89585852454503,25.485194173902798,25.290962084360373,24.94312389944095,25.29038136679049,25.224034292580978,21.118750742406352,21.177479736988104,20.82868586763228,21.166211729777885,21.349507742154444,21.764285475536642,22.077843632333003,22.256036441318635,21.768532033738563,20.693788062738076,20.28356960861769,20.393214989814176,19.449553422857775,19.642539566181235,20.84584830049794,20.98499551168985,21.3089270370289,20.99588687687638,21.14560151556519,21.27369407848674,20.972598192232212,20.968330505340617,20.45513911111309,19.834843009642523,19.889216303368904,20.551358742570123,20.779577591414146,21.226594858723917,21.369147021558874,21.309461602542136,20.707038016357366,20.88451775383514,20.450164660699937,20.222148461593413,20.344070386828072,20.00224069845163,20.606932041295458,20.90144398631992,21.818255169508177,21.571963867437642,21.349879779940817,21.071146028344423,21.170399105381705,20.41600750567429,20.686177535894313,20.956721982816763,20.75749818524475,19.844239822993014,19.78342812945165,20.144999377955205,20.39881085668968,20.681278575758,20.809889489628883,21.05829244893485,20.833299933377045,20.980939695064457,21.403831059321682,21.71916578349649,21.061966832510787],\"type\":\"scatter\"}],                        {\"template\":{\"data\":{\"bar\":[{\"error_x\":{\"color\":\"#2a3f5f\"},\"error_y\":{\"color\":\"#2a3f5f\"},\"marker\":{\"line\":{\"color\":\"#E5ECF6\",\"width\":0.5},\"pattern\":{\"fillmode\":\"overlay\",\"size\":10,\"solidity\":0.2}},\"type\":\"bar\"}],\"barpolar\":[{\"marker\":{\"line\":{\"color\":\"#E5ECF6\",\"width\":0.5},\"pattern\":{\"fillmode\":\"overlay\",\"size\":10,\"solidity\":0.2}},\"type\":\"barpolar\"}],\"carpet\":[{\"aaxis\":{\"endlinecolor\":\"#2a3f5f\",\"gridcolor\":\"white\",\"linecolor\":\"white\",\"minorgridcolor\":\"white\",\"startlinecolor\":\"#2a3f5f\"},\"baxis\":{\"endlinecolor\":\"#2a3f5f\",\"gridcolor\":\"white\",\"linecolor\":\"white\",\"minorgridcolor\":\"white\",\"startlinecolor\":\"#2a3f5f\"},\"type\":\"carpet\"}],\"choropleth\":[{\"colorbar\":{\"outlinewidth\":0,\"ticks\":\"\"},\"type\":\"choropleth\"}],\"contour\":[{\"colorbar\":{\"outlinewidth\":0,\"ticks\":\"\"},\"colorscale\":[[0.0,\"#0d0887\"],[0.1111111111111111,\"#46039f\"],[0.2222222222222222,\"#7201a8\"],[0.3333333333333333,\"#9c179e\"],[0.4444444444444444,\"#bd3786\"],[0.5555555555555556,\"#d8576b\"],[0.6666666666666666,\"#ed7953\"],[0.7777777777777778,\"#fb9f3a\"],[0.8888888888888888,\"#fdca26\"],[1.0,\"#f0f921\"]],\"type\":\"contour\"}],\"contourcarpet\":[{\"colorbar\":{\"outlinewidth\":0,\"ticks\":\"\"},\"type\":\"contourcarpet\"}],\"heatmap\":[{\"colorbar\":{\"outlinewidth\":0,\"ticks\":\"\"},\"colorscale\":[[0.0,\"#0d0887\"],[0.1111111111111111,\"#46039f\"],[0.2222222222222222,\"#7201a8\"],[0.3333333333333333,\"#9c179e\"],[0.4444444444444444,\"#bd3786\"],[0.5555555555555556,\"#d8576b\"],[0.6666666666666666,\"#ed7953\"],[0.7777777777777778,\"#fb9f3a\"],[0.8888888888888888,\"#fdca26\"],[1.0,\"#f0f921\"]],\"type\":\"heatmap\"}],\"heatmapgl\":[{\"colorbar\":{\"outlinewidth\":0,\"ticks\":\"\"},\"colorscale\":[[0.0,\"#0d0887\"],[0.1111111111111111,\"#46039f\"],[0.2222222222222222,\"#7201a8\"],[0.3333333333333333,\"#9c179e\"],[0.4444444444444444,\"#bd3786\"],[0.5555555555555556,\"#d8576b\"],[0.6666666666666666,\"#ed7953\"],[0.7777777777777778,\"#fb9f3a\"],[0.8888888888888888,\"#fdca26\"],[1.0,\"#f0f921\"]],\"type\":\"heatmapgl\"}],\"histogram\":[{\"marker\":{\"pattern\":{\"fillmode\":\"overlay\",\"size\":10,\"solidity\":0.2}},\"type\":\"histogram\"}],\"histogram2d\":[{\"colorbar\":{\"outlinewidth\":0,\"ticks\":\"\"},\"colorscale\":[[0.0,\"#0d0887\"],[0.1111111111111111,\"#46039f\"],[0.2222222222222222,\"#7201a8\"],[0.3333333333333333,\"#9c179e\"],[0.4444444444444444,\"#bd3786\"],[0.5555555555555556,\"#d8576b\"],[0.6666666666666666,\"#ed7953\"],[0.7777777777777778,\"#fb9f3a\"],[0.8888888888888888,\"#fdca26\"],[1.0,\"#f0f921\"]],\"type\":\"histogram2d\"}],\"histogram2dcontour\":[{\"colorbar\":{\"outlinewidth\":0,\"ticks\":\"\"},\"colorscale\":[[0.0,\"#0d0887\"],[0.1111111111111111,\"#46039f\"],[0.2222222222222222,\"#7201a8\"],[0.3333333333333333,\"#9c179e\"],[0.4444444444444444,\"#bd3786\"],[0.5555555555555556,\"#d8576b\"],[0.6666666666666666,\"#ed7953\"],[0.7777777777777778,\"#fb9f3a\"],[0.8888888888888888,\"#fdca26\"],[1.0,\"#f0f921\"]],\"type\":\"histogram2dcontour\"}],\"mesh3d\":[{\"colorbar\":{\"outlinewidth\":0,\"ticks\":\"\"},\"type\":\"mesh3d\"}],\"parcoords\":[{\"line\":{\"colorbar\":{\"outlinewidth\":0,\"ticks\":\"\"}},\"type\":\"parcoords\"}],\"pie\":[{\"automargin\":true,\"type\":\"pie\"}],\"scatter\":[{\"marker\":{\"colorbar\":{\"outlinewidth\":0,\"ticks\":\"\"}},\"type\":\"scatter\"}],\"scatter3d\":[{\"line\":{\"colorbar\":{\"outlinewidth\":0,\"ticks\":\"\"}},\"marker\":{\"colorbar\":{\"outlinewidth\":0,\"ticks\":\"\"}},\"type\":\"scatter3d\"}],\"scattercarpet\":[{\"marker\":{\"colorbar\":{\"outlinewidth\":0,\"ticks\":\"\"}},\"type\":\"scattercarpet\"}],\"scattergeo\":[{\"marker\":{\"colorbar\":{\"outlinewidth\":0,\"ticks\":\"\"}},\"type\":\"scattergeo\"}],\"scattergl\":[{\"marker\":{\"colorbar\":{\"outlinewidth\":0,\"ticks\":\"\"}},\"type\":\"scattergl\"}],\"scattermapbox\":[{\"marker\":{\"colorbar\":{\"outlinewidth\":0,\"ticks\":\"\"}},\"type\":\"scattermapbox\"}],\"scatterpolar\":[{\"marker\":{\"colorbar\":{\"outlinewidth\":0,\"ticks\":\"\"}},\"type\":\"scatterpolar\"}],\"scatterpolargl\":[{\"marker\":{\"colorbar\":{\"outlinewidth\":0,\"ticks\":\"\"}},\"type\":\"scatterpolargl\"}],\"scatterternary\":[{\"marker\":{\"colorbar\":{\"outlinewidth\":0,\"ticks\":\"\"}},\"type\":\"scatterternary\"}],\"surface\":[{\"colorbar\":{\"outlinewidth\":0,\"ticks\":\"\"},\"colorscale\":[[0.0,\"#0d0887\"],[0.1111111111111111,\"#46039f\"],[0.2222222222222222,\"#7201a8\"],[0.3333333333333333,\"#9c179e\"],[0.4444444444444444,\"#bd3786\"],[0.5555555555555556,\"#d8576b\"],[0.6666666666666666,\"#ed7953\"],[0.7777777777777778,\"#fb9f3a\"],[0.8888888888888888,\"#fdca26\"],[1.0,\"#f0f921\"]],\"type\":\"surface\"}],\"table\":[{\"cells\":{\"fill\":{\"color\":\"#EBF0F8\"},\"line\":{\"color\":\"white\"}},\"header\":{\"fill\":{\"color\":\"#C8D4E3\"},\"line\":{\"color\":\"white\"}},\"type\":\"table\"}]},\"layout\":{\"annotationdefaults\":{\"arrowcolor\":\"#2a3f5f\",\"arrowhead\":0,\"arrowwidth\":1},\"autotypenumbers\":\"strict\",\"coloraxis\":{\"colorbar\":{\"outlinewidth\":0,\"ticks\":\"\"}},\"colorscale\":{\"diverging\":[[0,\"#8e0152\"],[0.1,\"#c51b7d\"],[0.2,\"#de77ae\"],[0.3,\"#f1b6da\"],[0.4,\"#fde0ef\"],[0.5,\"#f7f7f7\"],[0.6,\"#e6f5d0\"],[0.7,\"#b8e186\"],[0.8,\"#7fbc41\"],[0.9,\"#4d9221\"],[1,\"#276419\"]],\"sequential\":[[0.0,\"#0d0887\"],[0.1111111111111111,\"#46039f\"],[0.2222222222222222,\"#7201a8\"],[0.3333333333333333,\"#9c179e\"],[0.4444444444444444,\"#bd3786\"],[0.5555555555555556,\"#d8576b\"],[0.6666666666666666,\"#ed7953\"],[0.7777777777777778,\"#fb9f3a\"],[0.8888888888888888,\"#fdca26\"],[1.0,\"#f0f921\"]],\"sequentialminus\":[[0.0,\"#0d0887\"],[0.1111111111111111,\"#46039f\"],[0.2222222222222222,\"#7201a8\"],[0.3333333333333333,\"#9c179e\"],[0.4444444444444444,\"#bd3786\"],[0.5555555555555556,\"#d8576b\"],[0.6666666666666666,\"#ed7953\"],[0.7777777777777778,\"#fb9f3a\"],[0.8888888888888888,\"#fdca26\"],[1.0,\"#f0f921\"]]},\"colorway\":[\"#636efa\",\"#EF553B\",\"#00cc96\",\"#ab63fa\",\"#FFA15A\",\"#19d3f3\",\"#FF6692\",\"#B6E880\",\"#FF97FF\",\"#FECB52\"],\"font\":{\"color\":\"#2a3f5f\"},\"geo\":{\"bgcolor\":\"white\",\"lakecolor\":\"white\",\"landcolor\":\"#E5ECF6\",\"showlakes\":true,\"showland\":true,\"subunitcolor\":\"white\"},\"hoverlabel\":{\"align\":\"left\"},\"hovermode\":\"closest\",\"mapbox\":{\"style\":\"light\"},\"paper_bgcolor\":\"white\",\"plot_bgcolor\":\"#E5ECF6\",\"polar\":{\"angularaxis\":{\"gridcolor\":\"white\",\"linecolor\":\"white\",\"ticks\":\"\"},\"bgcolor\":\"#E5ECF6\",\"radialaxis\":{\"gridcolor\":\"white\",\"linecolor\":\"white\",\"ticks\":\"\"}},\"scene\":{\"xaxis\":{\"backgroundcolor\":\"#E5ECF6\",\"gridcolor\":\"white\",\"gridwidth\":2,\"linecolor\":\"white\",\"showbackground\":true,\"ticks\":\"\",\"zerolinecolor\":\"white\"},\"yaxis\":{\"backgroundcolor\":\"#E5ECF6\",\"gridcolor\":\"white\",\"gridwidth\":2,\"linecolor\":\"white\",\"showbackground\":true,\"ticks\":\"\",\"zerolinecolor\":\"white\"},\"zaxis\":{\"backgroundcolor\":\"#E5ECF6\",\"gridcolor\":\"white\",\"gridwidth\":2,\"linecolor\":\"white\",\"showbackground\":true,\"ticks\":\"\",\"zerolinecolor\":\"white\"}},\"shapedefaults\":{\"line\":{\"color\":\"#2a3f5f\"}},\"ternary\":{\"aaxis\":{\"gridcolor\":\"white\",\"linecolor\":\"white\",\"ticks\":\"\"},\"baxis\":{\"gridcolor\":\"white\",\"linecolor\":\"white\",\"ticks\":\"\"},\"bgcolor\":\"#E5ECF6\",\"caxis\":{\"gridcolor\":\"white\",\"linecolor\":\"white\",\"ticks\":\"\"}},\"title\":{\"x\":0.05},\"xaxis\":{\"automargin\":true,\"gridcolor\":\"white\",\"linecolor\":\"white\",\"ticks\":\"\",\"title\":{\"standoff\":15},\"zerolinecolor\":\"white\",\"zerolinewidth\":2},\"yaxis\":{\"automargin\":true,\"gridcolor\":\"white\",\"linecolor\":\"white\",\"ticks\":\"\",\"title\":{\"standoff\":15},\"zerolinecolor\":\"white\",\"zerolinewidth\":2}}},\"title\":{\"text\":\"ARIMA(1,2,0)\\ubaa8\\ud615\"},\"height\":400,\"width\":1000},                        {\"responsive\": true}                    ).then(function(){\n",
       "                            \n",
       "var gd = document.getElementById('94b3543a-fc9f-4fb5-8b76-a614ee616a4e');\n",
       "var x = new MutationObserver(function (mutations, observer) {{\n",
       "        var display = window.getComputedStyle(gd).display;\n",
       "        if (!display || display === 'none') {{\n",
       "            console.log([gd, 'removed!']);\n",
       "            Plotly.purge(gd);\n",
       "            observer.disconnect();\n",
       "        }}\n",
       "}});\n",
       "\n",
       "// Listen for the removal of the full notebook cells\n",
       "var notebookContainer = gd.closest('#notebook-container');\n",
       "if (notebookContainer) {{\n",
       "    x.observe(notebookContainer, {childList: true});\n",
       "}}\n",
       "\n",
       "// Listen for the clearing of the current output cell\n",
       "var outputEl = gd.closest('.output');\n",
       "if (outputEl) {{\n",
       "    x.observe(outputEl, {childList: true});\n",
       "}}\n",
       "\n",
       "                        })                };                });            </script>        </div>"
      ]
     },
     "metadata": {},
     "output_type": "display_data"
    }
   ],
   "source": [
    "from plotly.subplots import make_subplots\n",
    "import plotly.graph_objects as go\n",
    "\n",
    "fig = go.Figure([\n",
    "    # 훈련 데이터-------------------------------------------------------\n",
    "    go.Scatter(x = y_train_log.index, y = y_train_log, name = \"Train\", mode = 'lines'\n",
    "              ,line=dict(color = 'royalblue'))\n",
    "    # 테스트 데이터------------------------------------------------------\n",
    "    , go.Scatter(x = y_test_log.index, y = y_test_log, name = \"Test\", mode = 'lines'\n",
    "                ,line = dict(color = 'rgba(0,0,30,0.5)'))\n",
    "    # 예측값-----------------------------------------------------------\n",
    "    , go.Scatter(x = y_test.index, y = y_pred_log, name = \"Prediction\", mode = 'lines'\n",
    "                     ,line = dict(color = 'red', dash = 'dot', width=3))\n",
    "    \n",
    "    # 신뢰 구간---------------------------------------------------------\n",
    "    , go.Scatter(x = y_test.index.tolist() + y_test.index[::-1].tolist() \n",
    "                ,y = pred_upper + pred_lower[::-1] ## 상위 신뢰 구간 -> 하위 신뢰 구간 역순으로\n",
    "                ,fill='toself'\n",
    "                ,fillcolor='rgba(0,0,30,0.1)'\n",
    "                ,line=dict(color='rgba(0,0,0,0)')\n",
    "                ,hoverinfo=\"skip\"\n",
    "                ,showlegend=False)\n",
    "])\n",
    "\n",
    "fig.update_layout(height=400, width=1000, title_text=\"ARIMA(1,2,0)모형\")\n",
    "fig.show()"
   ]
  },
  {
   "cell_type": "code",
   "execution_count": 814,
   "id": "ed7d25fd",
   "metadata": {},
   "outputs": [
    {
     "data": {
      "text/plain": [
       "[23.75544089536916,\n",
       " 24.40543474801569,\n",
       " 22.506877270123475,\n",
       " 22.45881144948527,\n",
       " 23.510404005407604,\n",
       " 24.14234836289245,\n",
       " 22.867405192181064,\n",
       " 22.29185554080506,\n",
       " 22.375270090956796,\n",
       " 22.904477415994094,\n",
       " 22.352985724141114,\n",
       " 22.176769547905938,\n",
       " 23.40064332877749,\n",
       " 23.12328691114575,\n",
       " 22.58318257073132,\n",
       " 22.043093741831015,\n",
       " 23.712231366130347,\n",
       " 23.48535301278193,\n",
       " 23.791704223832,\n",
       " 23.034019938179377,\n",
       " 23.514436084136676,\n",
       " 22.707809728415764,\n",
       " 23.152603853006816,\n",
       " 21.891551531459086,\n",
       " 23.036586398685806,\n",
       " 22.573194146966603,\n",
       " 23.13858338431145,\n",
       " 22.92955010296879,\n",
       " 22.316036139782245,\n",
       " 23.881783842352338,\n",
       " 23.417108852546367,\n",
       " 23.158362566641472,\n",
       " 22.143082145783705,\n",
       " 22.57092832125268,\n",
       " 22.225340252350133,\n",
       " 22.654238834382163,\n",
       " 22.882732670425277,\n",
       " 23.185436705167568,\n",
       " 22.82718319130462,\n",
       " 23.21862740472073,\n",
       " 22.736700096377994,\n",
       " 23.154538940103798,\n",
       " 23.665182590773842,\n",
       " 22.723025115163964,\n",
       " 22.68586171827677,\n",
       " 21.038239727677592,\n",
       " 22.2071652382065,\n",
       " 23.602860857512933,\n",
       " 22.559719786792893,\n",
       " 22.814685707621333,\n",
       " 23.417782567536225,\n",
       " 24.094813475829724,\n",
       " 24.177123488674724,\n",
       " 23.257693565684114,\n",
       " 22.49974496087526,\n",
       " 23.151716771897554,\n",
       " 23.539155868120716,\n",
       " 24.146502629482438,\n",
       " 22.681875557148256]"
      ]
     },
     "execution_count": 814,
     "metadata": {},
     "output_type": "execute_result"
    }
   ],
   "source": [
    "y_pred_log"
   ]
  },
  {
   "cell_type": "code",
   "execution_count": 813,
   "id": "5342513c",
   "metadata": {},
   "outputs": [
    {
     "data": {
      "text/plain": [
       "[23.04917536171751,\n",
       " 23.166743559613316,\n",
       " 23.10224114667148,\n",
       " 23.065936330273296,\n",
       " 23.104526504576388,\n",
       " 23.20779517195789,\n",
       " 23.168533162941237,\n",
       " 23.077290846203464,\n",
       " 22.966195252679857,\n",
       " 22.940696968619314,\n",
       " 22.867049241877538,\n",
       " 22.7858470429937,\n",
       " 22.873805366859262,\n",
       " 22.893026864972335,\n",
       " 22.843238386923893,\n",
       " 22.741825772252966,\n",
       " 22.900851215691986,\n",
       " 22.9670941643783,\n",
       " 23.059112569692747,\n",
       " 23.058111736141175,\n",
       " 23.145974688149458,\n",
       " 23.0656050429122,\n",
       " 23.061609359212902,\n",
       " 22.90500686084863,\n",
       " 22.959082168532785,\n",
       " 22.892287607391403,\n",
       " 22.909083400079936,\n",
       " 22.908607189467258,\n",
       " 22.860511515092828,\n",
       " 22.990388085254953,\n",
       " 23.03024093012681,\n",
       " 23.033164645126703,\n",
       " 22.93479324944021,\n",
       " 22.893666514695486,\n",
       " 22.794670681333056,\n",
       " 22.770698559474972,\n",
       " 22.807382872549695,\n",
       " 22.85975022193056,\n",
       " 22.83484042797122,\n",
       " 22.881903894215466,\n",
       " 22.883026686265957,\n",
       " 22.919918994406817,\n",
       " 23.000619022220747,\n",
       " 22.952756515077702,\n",
       " 22.93401671954028,\n",
       " 22.68686560055083,\n",
       " 22.62334569837187,\n",
       " 22.769910084003605,\n",
       " 22.740863142433987,\n",
       " 22.73065336088264,\n",
       " 22.829161031830672,\n",
       " 23.004753168036153,\n",
       " 23.134781646850108,\n",
       " 23.116854687679318,\n",
       " 23.046463836808236,\n",
       " 23.09831692520435,\n",
       " 23.14692441142183,\n",
       " 23.24108299372116,\n",
       " 23.16573889122795]"
      ]
     },
     "execution_count": 813,
     "metadata": {},
     "output_type": "execute_result"
    }
   ],
   "source": [
    "y_pred"
   ]
  },
  {
   "cell_type": "code",
   "execution_count": 147,
   "id": "c634c322",
   "metadata": {},
   "outputs": [
    {
     "name": "stdout",
     "output_type": "stream",
     "text": [
      "MAPE: 2.616\n"
     ]
    }
   ],
   "source": [
    "def MAPE(y_test, y_pred):\n",
    "\treturn np.mean(np.abs((y_test - y_pred) / y_test)) * 100 \n",
    "    \n",
    "print(f\"MAPE: {MAPE(y_test_log, y_pred_log):.3f}\")\n",
    "# MAPE: 0.792"
   ]
  },
  {
   "cell_type": "code",
   "execution_count": 150,
   "id": "3abc18f4",
   "metadata": {},
   "outputs": [
    {
     "data": {
      "text/plain": [
       "date\n",
       "2018-04-08   inf\n",
       "2018-04-15   inf\n",
       "2018-04-22   inf\n",
       "2018-04-29   inf\n",
       "2018-05-06   inf\n",
       "              ..\n",
       "2020-10-18   inf\n",
       "2020-10-25   inf\n",
       "2020-11-01   inf\n",
       "2020-11-08   inf\n",
       "2020-11-15   inf\n",
       "Freq: W-SUN, Name: 추정가격, Length: 137, dtype: float64"
      ]
     },
     "execution_count": 150,
     "metadata": {},
     "output_type": "execute_result"
    }
   ],
   "source": [
    "y_train_exp = np.exp(y_train)\n",
    "#y_train_exp\n",
    "\n",
    "y_test_exp = np.exp(y_test)\n",
    "\n",
    "y_pred_exp = np.exp(y_pred_log)"
   ]
  },
  {
   "cell_type": "code",
   "execution_count": 163,
   "id": "dab5fe9f",
   "metadata": {
    "scrolled": true
   },
   "outputs": [
    {
     "data": {
      "application/vnd.plotly.v1+json": {
       "config": {
        "plotlyServerURL": "https://plot.ly"
       },
       "data": [
        {
         "line": {
          "color": "royalblue"
         },
         "mode": "lines",
         "name": "Train",
         "type": "scatter",
         "x": [
          "2018-04-08T00:00:00",
          "2018-04-15T00:00:00",
          "2018-04-22T00:00:00",
          "2018-04-29T00:00:00",
          "2018-05-06T00:00:00",
          "2018-05-13T00:00:00",
          "2018-05-20T00:00:00",
          "2018-05-27T00:00:00",
          "2018-06-03T00:00:00",
          "2018-06-10T00:00:00",
          "2018-06-17T00:00:00",
          "2018-06-24T00:00:00",
          "2018-07-01T00:00:00",
          "2018-07-08T00:00:00",
          "2018-07-15T00:00:00",
          "2018-07-22T00:00:00",
          "2018-07-29T00:00:00",
          "2018-08-05T00:00:00",
          "2018-08-12T00:00:00",
          "2018-08-19T00:00:00",
          "2018-08-26T00:00:00",
          "2018-09-02T00:00:00",
          "2018-09-09T00:00:00",
          "2018-09-16T00:00:00",
          "2018-09-23T00:00:00",
          "2018-09-30T00:00:00",
          "2018-10-07T00:00:00",
          "2018-10-14T00:00:00",
          "2018-10-21T00:00:00",
          "2018-10-28T00:00:00",
          "2018-11-04T00:00:00",
          "2018-11-11T00:00:00",
          "2018-11-18T00:00:00",
          "2018-11-25T00:00:00",
          "2018-12-02T00:00:00",
          "2018-12-09T00:00:00",
          "2018-12-16T00:00:00",
          "2018-12-23T00:00:00",
          "2018-12-30T00:00:00",
          "2019-01-06T00:00:00",
          "2019-01-13T00:00:00",
          "2019-01-20T00:00:00",
          "2019-01-27T00:00:00",
          "2019-02-03T00:00:00",
          "2019-02-10T00:00:00",
          "2019-02-17T00:00:00",
          "2019-02-24T00:00:00",
          "2019-03-03T00:00:00",
          "2019-03-10T00:00:00",
          "2019-03-17T00:00:00",
          "2019-03-24T00:00:00",
          "2019-03-31T00:00:00",
          "2019-04-07T00:00:00",
          "2019-04-14T00:00:00",
          "2019-04-21T00:00:00",
          "2019-04-28T00:00:00",
          "2019-05-05T00:00:00",
          "2019-05-12T00:00:00",
          "2019-05-19T00:00:00",
          "2019-05-26T00:00:00",
          "2019-06-02T00:00:00",
          "2019-06-09T00:00:00",
          "2019-06-16T00:00:00",
          "2019-06-23T00:00:00",
          "2019-06-30T00:00:00",
          "2019-07-07T00:00:00",
          "2019-07-14T00:00:00",
          "2019-07-21T00:00:00",
          "2019-07-28T00:00:00",
          "2019-08-04T00:00:00",
          "2019-08-11T00:00:00",
          "2019-08-18T00:00:00",
          "2019-08-25T00:00:00",
          "2019-09-01T00:00:00",
          "2019-09-08T00:00:00",
          "2019-09-15T00:00:00",
          "2019-09-22T00:00:00",
          "2019-09-29T00:00:00",
          "2019-10-06T00:00:00",
          "2019-10-13T00:00:00",
          "2019-10-20T00:00:00",
          "2019-10-27T00:00:00",
          "2019-11-03T00:00:00",
          "2019-11-10T00:00:00",
          "2019-11-17T00:00:00",
          "2019-11-24T00:00:00",
          "2019-12-01T00:00:00",
          "2019-12-08T00:00:00",
          "2019-12-15T00:00:00",
          "2019-12-22T00:00:00",
          "2019-12-29T00:00:00",
          "2020-01-05T00:00:00",
          "2020-01-12T00:00:00",
          "2020-01-19T00:00:00",
          "2020-01-26T00:00:00",
          "2020-02-02T00:00:00",
          "2020-02-09T00:00:00",
          "2020-02-16T00:00:00",
          "2020-02-23T00:00:00",
          "2020-03-01T00:00:00",
          "2020-03-08T00:00:00",
          "2020-03-15T00:00:00",
          "2020-03-22T00:00:00",
          "2020-03-29T00:00:00",
          "2020-04-05T00:00:00",
          "2020-04-12T00:00:00",
          "2020-04-19T00:00:00",
          "2020-04-26T00:00:00",
          "2020-05-03T00:00:00",
          "2020-05-10T00:00:00",
          "2020-05-17T00:00:00",
          "2020-05-24T00:00:00",
          "2020-05-31T00:00:00",
          "2020-06-07T00:00:00",
          "2020-06-14T00:00:00",
          "2020-06-21T00:00:00",
          "2020-06-28T00:00:00",
          "2020-07-05T00:00:00",
          "2020-07-12T00:00:00",
          "2020-07-19T00:00:00",
          "2020-07-26T00:00:00",
          "2020-08-02T00:00:00",
          "2020-08-09T00:00:00",
          "2020-08-16T00:00:00",
          "2020-08-23T00:00:00",
          "2020-08-30T00:00:00",
          "2020-09-06T00:00:00",
          "2020-09-13T00:00:00",
          "2020-09-20T00:00:00",
          "2020-09-27T00:00:00",
          "2020-10-04T00:00:00",
          "2020-10-11T00:00:00",
          "2020-10-18T00:00:00",
          "2020-10-25T00:00:00",
          "2020-11-01T00:00:00",
          "2020-11-08T00:00:00",
          "2020-11-15T00:00:00"
         ],
         "y": [
          null,
          null,
          null,
          null,
          null,
          null,
          null,
          null,
          null,
          null,
          null,
          null,
          null,
          null,
          null,
          null,
          null,
          null,
          null,
          null,
          null,
          null,
          null,
          null,
          null,
          null,
          null,
          null,
          null,
          null,
          null,
          null,
          null,
          null,
          null,
          null,
          null,
          null,
          null,
          null,
          null,
          null,
          null,
          null,
          null,
          null,
          null,
          null,
          null,
          null,
          null,
          null,
          null,
          null,
          null,
          null,
          null,
          null,
          null,
          null,
          null,
          null,
          null,
          null,
          null,
          null,
          null,
          null,
          null,
          null,
          null,
          null,
          null,
          null,
          null,
          null,
          null,
          null,
          null,
          null,
          null,
          null,
          null,
          null,
          null,
          null,
          null,
          null,
          null,
          null,
          null,
          null,
          null,
          null,
          null,
          null,
          null,
          null,
          null,
          null,
          null,
          null,
          null,
          null,
          null,
          null,
          null,
          null,
          null,
          null,
          null,
          null,
          null,
          null,
          null,
          null,
          null,
          null,
          null,
          null,
          null,
          null,
          null,
          null,
          null,
          null,
          null,
          null,
          null,
          null,
          null,
          null,
          null,
          null,
          null,
          null,
          null
         ]
        },
        {
         "line": {
          "color": "rgba(0,0,30,0.5)"
         },
         "mode": "lines",
         "name": "Test",
         "type": "scatter",
         "x": [
          "2020-11-22T00:00:00",
          "2020-11-29T00:00:00",
          "2020-12-06T00:00:00",
          "2020-12-13T00:00:00",
          "2020-12-20T00:00:00",
          "2020-12-27T00:00:00",
          "2021-01-03T00:00:00",
          "2021-01-10T00:00:00",
          "2021-01-17T00:00:00",
          "2021-01-24T00:00:00",
          "2021-01-31T00:00:00",
          "2021-02-07T00:00:00",
          "2021-02-14T00:00:00",
          "2021-02-21T00:00:00",
          "2021-02-28T00:00:00",
          "2021-03-07T00:00:00",
          "2021-03-14T00:00:00",
          "2021-03-21T00:00:00",
          "2021-03-28T00:00:00",
          "2021-04-04T00:00:00",
          "2021-04-11T00:00:00",
          "2021-04-18T00:00:00",
          "2021-04-25T00:00:00",
          "2021-05-02T00:00:00",
          "2021-05-09T00:00:00",
          "2021-05-16T00:00:00",
          "2021-05-23T00:00:00",
          "2021-05-30T00:00:00",
          "2021-06-06T00:00:00",
          "2021-06-13T00:00:00",
          "2021-06-20T00:00:00",
          "2021-06-27T00:00:00",
          "2021-07-04T00:00:00",
          "2021-07-11T00:00:00",
          "2021-07-18T00:00:00",
          "2021-07-25T00:00:00",
          "2021-08-01T00:00:00",
          "2021-08-08T00:00:00",
          "2021-08-15T00:00:00",
          "2021-08-22T00:00:00",
          "2021-08-29T00:00:00",
          "2021-09-05T00:00:00",
          "2021-09-12T00:00:00",
          "2021-09-19T00:00:00",
          "2021-09-26T00:00:00",
          "2021-10-03T00:00:00",
          "2021-10-10T00:00:00",
          "2021-10-17T00:00:00",
          "2021-10-24T00:00:00",
          "2021-10-31T00:00:00",
          "2021-11-07T00:00:00",
          "2021-11-14T00:00:00",
          "2021-11-21T00:00:00",
          "2021-11-28T00:00:00",
          "2021-12-05T00:00:00",
          "2021-12-12T00:00:00",
          "2021-12-19T00:00:00",
          "2021-12-26T00:00:00",
          "2022-01-02T00:00:00"
         ],
         "y": [
          null,
          null,
          null,
          null,
          null,
          null,
          null,
          null,
          null,
          null,
          null,
          null,
          null,
          null,
          null,
          null,
          null,
          null,
          null,
          null,
          null,
          null,
          null,
          null,
          null,
          null,
          null,
          null,
          null,
          null,
          null,
          null,
          null,
          null,
          null,
          null,
          null,
          null,
          null,
          null,
          null,
          null,
          null,
          null,
          null,
          null,
          null,
          null,
          null,
          null,
          null,
          null,
          null,
          null,
          null,
          null,
          null,
          null,
          null
         ]
        },
        {
         "line": {
          "color": "red",
          "dash": "dot",
          "width": 3
         },
         "mode": "lines",
         "name": "Prediction",
         "type": "scatter",
         "x": [
          "2020-11-22T00:00:00",
          "2020-11-29T00:00:00",
          "2020-12-06T00:00:00",
          "2020-12-13T00:00:00",
          "2020-12-20T00:00:00",
          "2020-12-27T00:00:00",
          "2021-01-03T00:00:00",
          "2021-01-10T00:00:00",
          "2021-01-17T00:00:00",
          "2021-01-24T00:00:00",
          "2021-01-31T00:00:00",
          "2021-02-07T00:00:00",
          "2021-02-14T00:00:00",
          "2021-02-21T00:00:00",
          "2021-02-28T00:00:00",
          "2021-03-07T00:00:00",
          "2021-03-14T00:00:00",
          "2021-03-21T00:00:00",
          "2021-03-28T00:00:00",
          "2021-04-04T00:00:00",
          "2021-04-11T00:00:00",
          "2021-04-18T00:00:00",
          "2021-04-25T00:00:00",
          "2021-05-02T00:00:00",
          "2021-05-09T00:00:00",
          "2021-05-16T00:00:00",
          "2021-05-23T00:00:00",
          "2021-05-30T00:00:00",
          "2021-06-06T00:00:00",
          "2021-06-13T00:00:00",
          "2021-06-20T00:00:00",
          "2021-06-27T00:00:00",
          "2021-07-04T00:00:00",
          "2021-07-11T00:00:00",
          "2021-07-18T00:00:00",
          "2021-07-25T00:00:00",
          "2021-08-01T00:00:00",
          "2021-08-08T00:00:00",
          "2021-08-15T00:00:00",
          "2021-08-22T00:00:00",
          "2021-08-29T00:00:00",
          "2021-09-05T00:00:00",
          "2021-09-12T00:00:00",
          "2021-09-19T00:00:00",
          "2021-09-26T00:00:00",
          "2021-10-03T00:00:00",
          "2021-10-10T00:00:00",
          "2021-10-17T00:00:00",
          "2021-10-24T00:00:00",
          "2021-10-31T00:00:00",
          "2021-11-07T00:00:00",
          "2021-11-14T00:00:00",
          "2021-11-21T00:00:00",
          "2021-11-28T00:00:00",
          "2021-12-05T00:00:00",
          "2021-12-12T00:00:00",
          "2021-12-19T00:00:00",
          "2021-12-26T00:00:00",
          "2022-01-02T00:00:00"
         ],
         "y": [
          13383181004.754122,
          25660327490.366013,
          18746314797.502872,
          12231945530.006378,
          10468892681.651485,
          13052906493.19037,
          10108203175.552393,
          8832857587.509636,
          6623213795.982512,
          5099942377.1167345,
          3525702885.5841203,
          3721386203.2097907,
          9305058038.154886,
          11272824888.36493,
          8555667024.848206,
          6502342729.785433,
          13846296429.394934,
          12451554958.849957,
          16352525388.462729,
          20298860002.704803,
          25787745826.675213,
          10353777347.523296,
          7659095748.228151,
          4172317427.5235233,
          5876198553.336354,
          5166452359.907865,
          6461559011.435288,
          9916808075.18554,
          8259623764.6504,
          15069343697.555553,
          15895266365.271887,
          13709409561.940538,
          8765220553.068468,
          6935918552.003311,
          3560171258.595097,
          3357738141.816631,
          6246882935.6198435,
          10395891375.025583,
          10385477332.292309,
          13951534220.878384,
          12215670728.910948,
          10455009733.435875,
          14230733882.189322,
          10262265120.286774,
          8881121985.660112,
          2699351837.9227424,
          2216037699.084886,
          5795356022.1125765,
          5169353965.215959,
          7750147316.791079,
          22637301312.49842,
          36688322106.277145,
          30541884707.777035,
          22349549474.01969,
          14791979690.559275,
          12247490637.91813,
          8694051416.673244,
          12313112050.437027,
          11566658364.839806
         ]
        },
        {
         "fill": "toself",
         "fillcolor": "rgba(0,0,30,0.1)",
         "hoverinfo": "skip",
         "line": {
          "color": "rgba(0,0,0,0)"
         },
         "showlegend": false,
         "type": "scatter",
         "x": [
          "2020-11-22T00:00:00",
          "2020-11-29T00:00:00",
          "2020-12-06T00:00:00",
          "2020-12-13T00:00:00",
          "2020-12-20T00:00:00",
          "2020-12-27T00:00:00",
          "2021-01-03T00:00:00",
          "2021-01-10T00:00:00",
          "2021-01-17T00:00:00",
          "2021-01-24T00:00:00",
          "2021-01-31T00:00:00",
          "2021-02-07T00:00:00",
          "2021-02-14T00:00:00",
          "2021-02-21T00:00:00",
          "2021-02-28T00:00:00",
          "2021-03-07T00:00:00",
          "2021-03-14T00:00:00",
          "2021-03-21T00:00:00",
          "2021-03-28T00:00:00",
          "2021-04-04T00:00:00",
          "2021-04-11T00:00:00",
          "2021-04-18T00:00:00",
          "2021-04-25T00:00:00",
          "2021-05-02T00:00:00",
          "2021-05-09T00:00:00",
          "2021-05-16T00:00:00",
          "2021-05-23T00:00:00",
          "2021-05-30T00:00:00",
          "2021-06-06T00:00:00",
          "2021-06-13T00:00:00",
          "2021-06-20T00:00:00",
          "2021-06-27T00:00:00",
          "2021-07-04T00:00:00",
          "2021-07-11T00:00:00",
          "2021-07-18T00:00:00",
          "2021-07-25T00:00:00",
          "2021-08-01T00:00:00",
          "2021-08-08T00:00:00",
          "2021-08-15T00:00:00",
          "2021-08-22T00:00:00",
          "2021-08-29T00:00:00",
          "2021-09-05T00:00:00",
          "2021-09-12T00:00:00",
          "2021-09-19T00:00:00",
          "2021-09-26T00:00:00",
          "2021-10-03T00:00:00",
          "2021-10-10T00:00:00",
          "2021-10-17T00:00:00",
          "2021-10-24T00:00:00",
          "2021-10-31T00:00:00",
          "2021-11-07T00:00:00",
          "2021-11-14T00:00:00",
          "2021-11-21T00:00:00",
          "2021-11-28T00:00:00",
          "2021-12-05T00:00:00",
          "2021-12-12T00:00:00",
          "2021-12-19T00:00:00",
          "2021-12-26T00:00:00",
          "2022-01-02T00:00:00",
          "2022-01-02T00:00:00",
          "2021-12-26T00:00:00",
          "2021-12-19T00:00:00",
          "2021-12-12T00:00:00",
          "2021-12-05T00:00:00",
          "2021-11-28T00:00:00",
          "2021-11-21T00:00:00",
          "2021-11-14T00:00:00",
          "2021-11-07T00:00:00",
          "2021-10-31T00:00:00",
          "2021-10-24T00:00:00",
          "2021-10-17T00:00:00",
          "2021-10-10T00:00:00",
          "2021-10-03T00:00:00",
          "2021-09-26T00:00:00",
          "2021-09-19T00:00:00",
          "2021-09-12T00:00:00",
          "2021-09-05T00:00:00",
          "2021-08-29T00:00:00",
          "2021-08-22T00:00:00",
          "2021-08-15T00:00:00",
          "2021-08-08T00:00:00",
          "2021-08-01T00:00:00",
          "2021-07-25T00:00:00",
          "2021-07-18T00:00:00",
          "2021-07-11T00:00:00",
          "2021-07-04T00:00:00",
          "2021-06-27T00:00:00",
          "2021-06-20T00:00:00",
          "2021-06-13T00:00:00",
          "2021-06-06T00:00:00",
          "2021-05-30T00:00:00",
          "2021-05-23T00:00:00",
          "2021-05-16T00:00:00",
          "2021-05-09T00:00:00",
          "2021-05-02T00:00:00",
          "2021-04-25T00:00:00",
          "2021-04-18T00:00:00",
          "2021-04-11T00:00:00",
          "2021-04-04T00:00:00",
          "2021-03-28T00:00:00",
          "2021-03-21T00:00:00",
          "2021-03-14T00:00:00",
          "2021-03-07T00:00:00",
          "2021-02-28T00:00:00",
          "2021-02-21T00:00:00",
          "2021-02-14T00:00:00",
          "2021-02-07T00:00:00",
          "2021-01-31T00:00:00",
          "2021-01-24T00:00:00",
          "2021-01-17T00:00:00",
          "2021-01-10T00:00:00",
          "2021-01-03T00:00:00",
          "2020-12-27T00:00:00",
          "2020-12-20T00:00:00",
          "2020-12-13T00:00:00",
          "2020-12-06T00:00:00",
          "2020-11-29T00:00:00",
          "2020-11-22T00:00:00"
         ],
         "y": [
          25.572562380779633,
          26.217258133968212,
          25.90469499250296,
          25.47369400991529,
          25.310048256964865,
          25.526260882468044,
          25.263336763852134,
          25.12221026784661,
          24.828882256840515,
          24.559990778061394,
          24.18326317754591,
          24.230484319190257,
          25.150149743414445,
          25.33459959551786,
          25.05354188462041,
          24.774849232084346,
          25.53216815061947,
          25.419076668358386,
          25.685416580803615,
          25.895697260392428,
          26.128075326657118,
          25.21979051605817,
          24.911387489097443,
          24.301234214362715,
          24.644281383668208,
          24.50875572363804,
          24.728108256628676,
          25.150476125866554,
          24.962251732378846,
          25.56239499420733,
          25.609427356383804,
          25.456101667995863,
          25.008537444448947,
          24.768599924559773,
          24.096932670631524,
          24.03422381467964,
          24.655557780860057,
          25.161022504545876,
          25.154750321463162,
          25.444016559828682,
          25.30636938526594,
          25.144807324744416,
          25.4484126041828,
          25.118483336870685,
          24.968539170913125,
          23.790015476036885,
          23.588419812960552,
          24.56743050605784,
          24.448457509955603,
          24.848167314760342,
          25.91719773265849,
          26.39541224394523,
          26.206886062858157,
          25.89585852454503,
          25.485194173902798,
          25.290962084360373,
          24.94312389944095,
          25.29038136679049,
          25.224034292580978,
          21.118750742406352,
          21.177479736988104,
          20.82868586763228,
          21.166211729777885,
          21.349507742154444,
          21.764285475536642,
          22.077843632333003,
          22.256036441318635,
          21.768532033738563,
          20.693788062738076,
          20.28356960861769,
          20.393214989814176,
          19.449553422857775,
          19.642539566181235,
          20.84584830049794,
          20.98499551168985,
          21.3089270370289,
          20.99588687687638,
          21.14560151556519,
          21.27369407848674,
          20.972598192232212,
          20.968330505340617,
          20.45513911111309,
          19.834843009642523,
          19.889216303368904,
          20.551358742570123,
          20.779577591414146,
          21.226594858723917,
          21.369147021558874,
          21.309461602542136,
          20.707038016357366,
          20.88451775383514,
          20.450164660699937,
          20.222148461593413,
          20.344070386828072,
          20.00224069845163,
          20.606932041295458,
          20.90144398631992,
          21.818255169508177,
          21.571963867437642,
          21.349879779940817,
          21.071146028344423,
          21.170399105381705,
          20.41600750567429,
          20.686177535894313,
          20.956721982816763,
          20.75749818524475,
          19.844239822993014,
          19.78342812945165,
          20.144999377955205,
          20.39881085668968,
          20.681278575758,
          20.809889489628883,
          21.05829244893485,
          20.833299933377045,
          20.980939695064457,
          21.403831059321682,
          21.71916578349649,
          21.061966832510787
         ]
        }
       ],
       "layout": {
        "height": 400,
        "template": {
         "data": {
          "bar": [
           {
            "error_x": {
             "color": "#2a3f5f"
            },
            "error_y": {
             "color": "#2a3f5f"
            },
            "marker": {
             "line": {
              "color": "#E5ECF6",
              "width": 0.5
             },
             "pattern": {
              "fillmode": "overlay",
              "size": 10,
              "solidity": 0.2
             }
            },
            "type": "bar"
           }
          ],
          "barpolar": [
           {
            "marker": {
             "line": {
              "color": "#E5ECF6",
              "width": 0.5
             },
             "pattern": {
              "fillmode": "overlay",
              "size": 10,
              "solidity": 0.2
             }
            },
            "type": "barpolar"
           }
          ],
          "carpet": [
           {
            "aaxis": {
             "endlinecolor": "#2a3f5f",
             "gridcolor": "white",
             "linecolor": "white",
             "minorgridcolor": "white",
             "startlinecolor": "#2a3f5f"
            },
            "baxis": {
             "endlinecolor": "#2a3f5f",
             "gridcolor": "white",
             "linecolor": "white",
             "minorgridcolor": "white",
             "startlinecolor": "#2a3f5f"
            },
            "type": "carpet"
           }
          ],
          "choropleth": [
           {
            "colorbar": {
             "outlinewidth": 0,
             "ticks": ""
            },
            "type": "choropleth"
           }
          ],
          "contour": [
           {
            "colorbar": {
             "outlinewidth": 0,
             "ticks": ""
            },
            "colorscale": [
             [
              0,
              "#0d0887"
             ],
             [
              0.1111111111111111,
              "#46039f"
             ],
             [
              0.2222222222222222,
              "#7201a8"
             ],
             [
              0.3333333333333333,
              "#9c179e"
             ],
             [
              0.4444444444444444,
              "#bd3786"
             ],
             [
              0.5555555555555556,
              "#d8576b"
             ],
             [
              0.6666666666666666,
              "#ed7953"
             ],
             [
              0.7777777777777778,
              "#fb9f3a"
             ],
             [
              0.8888888888888888,
              "#fdca26"
             ],
             [
              1,
              "#f0f921"
             ]
            ],
            "type": "contour"
           }
          ],
          "contourcarpet": [
           {
            "colorbar": {
             "outlinewidth": 0,
             "ticks": ""
            },
            "type": "contourcarpet"
           }
          ],
          "heatmap": [
           {
            "colorbar": {
             "outlinewidth": 0,
             "ticks": ""
            },
            "colorscale": [
             [
              0,
              "#0d0887"
             ],
             [
              0.1111111111111111,
              "#46039f"
             ],
             [
              0.2222222222222222,
              "#7201a8"
             ],
             [
              0.3333333333333333,
              "#9c179e"
             ],
             [
              0.4444444444444444,
              "#bd3786"
             ],
             [
              0.5555555555555556,
              "#d8576b"
             ],
             [
              0.6666666666666666,
              "#ed7953"
             ],
             [
              0.7777777777777778,
              "#fb9f3a"
             ],
             [
              0.8888888888888888,
              "#fdca26"
             ],
             [
              1,
              "#f0f921"
             ]
            ],
            "type": "heatmap"
           }
          ],
          "heatmapgl": [
           {
            "colorbar": {
             "outlinewidth": 0,
             "ticks": ""
            },
            "colorscale": [
             [
              0,
              "#0d0887"
             ],
             [
              0.1111111111111111,
              "#46039f"
             ],
             [
              0.2222222222222222,
              "#7201a8"
             ],
             [
              0.3333333333333333,
              "#9c179e"
             ],
             [
              0.4444444444444444,
              "#bd3786"
             ],
             [
              0.5555555555555556,
              "#d8576b"
             ],
             [
              0.6666666666666666,
              "#ed7953"
             ],
             [
              0.7777777777777778,
              "#fb9f3a"
             ],
             [
              0.8888888888888888,
              "#fdca26"
             ],
             [
              1,
              "#f0f921"
             ]
            ],
            "type": "heatmapgl"
           }
          ],
          "histogram": [
           {
            "marker": {
             "pattern": {
              "fillmode": "overlay",
              "size": 10,
              "solidity": 0.2
             }
            },
            "type": "histogram"
           }
          ],
          "histogram2d": [
           {
            "colorbar": {
             "outlinewidth": 0,
             "ticks": ""
            },
            "colorscale": [
             [
              0,
              "#0d0887"
             ],
             [
              0.1111111111111111,
              "#46039f"
             ],
             [
              0.2222222222222222,
              "#7201a8"
             ],
             [
              0.3333333333333333,
              "#9c179e"
             ],
             [
              0.4444444444444444,
              "#bd3786"
             ],
             [
              0.5555555555555556,
              "#d8576b"
             ],
             [
              0.6666666666666666,
              "#ed7953"
             ],
             [
              0.7777777777777778,
              "#fb9f3a"
             ],
             [
              0.8888888888888888,
              "#fdca26"
             ],
             [
              1,
              "#f0f921"
             ]
            ],
            "type": "histogram2d"
           }
          ],
          "histogram2dcontour": [
           {
            "colorbar": {
             "outlinewidth": 0,
             "ticks": ""
            },
            "colorscale": [
             [
              0,
              "#0d0887"
             ],
             [
              0.1111111111111111,
              "#46039f"
             ],
             [
              0.2222222222222222,
              "#7201a8"
             ],
             [
              0.3333333333333333,
              "#9c179e"
             ],
             [
              0.4444444444444444,
              "#bd3786"
             ],
             [
              0.5555555555555556,
              "#d8576b"
             ],
             [
              0.6666666666666666,
              "#ed7953"
             ],
             [
              0.7777777777777778,
              "#fb9f3a"
             ],
             [
              0.8888888888888888,
              "#fdca26"
             ],
             [
              1,
              "#f0f921"
             ]
            ],
            "type": "histogram2dcontour"
           }
          ],
          "mesh3d": [
           {
            "colorbar": {
             "outlinewidth": 0,
             "ticks": ""
            },
            "type": "mesh3d"
           }
          ],
          "parcoords": [
           {
            "line": {
             "colorbar": {
              "outlinewidth": 0,
              "ticks": ""
             }
            },
            "type": "parcoords"
           }
          ],
          "pie": [
           {
            "automargin": true,
            "type": "pie"
           }
          ],
          "scatter": [
           {
            "marker": {
             "colorbar": {
              "outlinewidth": 0,
              "ticks": ""
             }
            },
            "type": "scatter"
           }
          ],
          "scatter3d": [
           {
            "line": {
             "colorbar": {
              "outlinewidth": 0,
              "ticks": ""
             }
            },
            "marker": {
             "colorbar": {
              "outlinewidth": 0,
              "ticks": ""
             }
            },
            "type": "scatter3d"
           }
          ],
          "scattercarpet": [
           {
            "marker": {
             "colorbar": {
              "outlinewidth": 0,
              "ticks": ""
             }
            },
            "type": "scattercarpet"
           }
          ],
          "scattergeo": [
           {
            "marker": {
             "colorbar": {
              "outlinewidth": 0,
              "ticks": ""
             }
            },
            "type": "scattergeo"
           }
          ],
          "scattergl": [
           {
            "marker": {
             "colorbar": {
              "outlinewidth": 0,
              "ticks": ""
             }
            },
            "type": "scattergl"
           }
          ],
          "scattermapbox": [
           {
            "marker": {
             "colorbar": {
              "outlinewidth": 0,
              "ticks": ""
             }
            },
            "type": "scattermapbox"
           }
          ],
          "scatterpolar": [
           {
            "marker": {
             "colorbar": {
              "outlinewidth": 0,
              "ticks": ""
             }
            },
            "type": "scatterpolar"
           }
          ],
          "scatterpolargl": [
           {
            "marker": {
             "colorbar": {
              "outlinewidth": 0,
              "ticks": ""
             }
            },
            "type": "scatterpolargl"
           }
          ],
          "scatterternary": [
           {
            "marker": {
             "colorbar": {
              "outlinewidth": 0,
              "ticks": ""
             }
            },
            "type": "scatterternary"
           }
          ],
          "surface": [
           {
            "colorbar": {
             "outlinewidth": 0,
             "ticks": ""
            },
            "colorscale": [
             [
              0,
              "#0d0887"
             ],
             [
              0.1111111111111111,
              "#46039f"
             ],
             [
              0.2222222222222222,
              "#7201a8"
             ],
             [
              0.3333333333333333,
              "#9c179e"
             ],
             [
              0.4444444444444444,
              "#bd3786"
             ],
             [
              0.5555555555555556,
              "#d8576b"
             ],
             [
              0.6666666666666666,
              "#ed7953"
             ],
             [
              0.7777777777777778,
              "#fb9f3a"
             ],
             [
              0.8888888888888888,
              "#fdca26"
             ],
             [
              1,
              "#f0f921"
             ]
            ],
            "type": "surface"
           }
          ],
          "table": [
           {
            "cells": {
             "fill": {
              "color": "#EBF0F8"
             },
             "line": {
              "color": "white"
             }
            },
            "header": {
             "fill": {
              "color": "#C8D4E3"
             },
             "line": {
              "color": "white"
             }
            },
            "type": "table"
           }
          ]
         },
         "layout": {
          "annotationdefaults": {
           "arrowcolor": "#2a3f5f",
           "arrowhead": 0,
           "arrowwidth": 1
          },
          "autotypenumbers": "strict",
          "coloraxis": {
           "colorbar": {
            "outlinewidth": 0,
            "ticks": ""
           }
          },
          "colorscale": {
           "diverging": [
            [
             0,
             "#8e0152"
            ],
            [
             0.1,
             "#c51b7d"
            ],
            [
             0.2,
             "#de77ae"
            ],
            [
             0.3,
             "#f1b6da"
            ],
            [
             0.4,
             "#fde0ef"
            ],
            [
             0.5,
             "#f7f7f7"
            ],
            [
             0.6,
             "#e6f5d0"
            ],
            [
             0.7,
             "#b8e186"
            ],
            [
             0.8,
             "#7fbc41"
            ],
            [
             0.9,
             "#4d9221"
            ],
            [
             1,
             "#276419"
            ]
           ],
           "sequential": [
            [
             0,
             "#0d0887"
            ],
            [
             0.1111111111111111,
             "#46039f"
            ],
            [
             0.2222222222222222,
             "#7201a8"
            ],
            [
             0.3333333333333333,
             "#9c179e"
            ],
            [
             0.4444444444444444,
             "#bd3786"
            ],
            [
             0.5555555555555556,
             "#d8576b"
            ],
            [
             0.6666666666666666,
             "#ed7953"
            ],
            [
             0.7777777777777778,
             "#fb9f3a"
            ],
            [
             0.8888888888888888,
             "#fdca26"
            ],
            [
             1,
             "#f0f921"
            ]
           ],
           "sequentialminus": [
            [
             0,
             "#0d0887"
            ],
            [
             0.1111111111111111,
             "#46039f"
            ],
            [
             0.2222222222222222,
             "#7201a8"
            ],
            [
             0.3333333333333333,
             "#9c179e"
            ],
            [
             0.4444444444444444,
             "#bd3786"
            ],
            [
             0.5555555555555556,
             "#d8576b"
            ],
            [
             0.6666666666666666,
             "#ed7953"
            ],
            [
             0.7777777777777778,
             "#fb9f3a"
            ],
            [
             0.8888888888888888,
             "#fdca26"
            ],
            [
             1,
             "#f0f921"
            ]
           ]
          },
          "colorway": [
           "#636efa",
           "#EF553B",
           "#00cc96",
           "#ab63fa",
           "#FFA15A",
           "#19d3f3",
           "#FF6692",
           "#B6E880",
           "#FF97FF",
           "#FECB52"
          ],
          "font": {
           "color": "#2a3f5f"
          },
          "geo": {
           "bgcolor": "white",
           "lakecolor": "white",
           "landcolor": "#E5ECF6",
           "showlakes": true,
           "showland": true,
           "subunitcolor": "white"
          },
          "hoverlabel": {
           "align": "left"
          },
          "hovermode": "closest",
          "mapbox": {
           "style": "light"
          },
          "paper_bgcolor": "white",
          "plot_bgcolor": "#E5ECF6",
          "polar": {
           "angularaxis": {
            "gridcolor": "white",
            "linecolor": "white",
            "ticks": ""
           },
           "bgcolor": "#E5ECF6",
           "radialaxis": {
            "gridcolor": "white",
            "linecolor": "white",
            "ticks": ""
           }
          },
          "scene": {
           "xaxis": {
            "backgroundcolor": "#E5ECF6",
            "gridcolor": "white",
            "gridwidth": 2,
            "linecolor": "white",
            "showbackground": true,
            "ticks": "",
            "zerolinecolor": "white"
           },
           "yaxis": {
            "backgroundcolor": "#E5ECF6",
            "gridcolor": "white",
            "gridwidth": 2,
            "linecolor": "white",
            "showbackground": true,
            "ticks": "",
            "zerolinecolor": "white"
           },
           "zaxis": {
            "backgroundcolor": "#E5ECF6",
            "gridcolor": "white",
            "gridwidth": 2,
            "linecolor": "white",
            "showbackground": true,
            "ticks": "",
            "zerolinecolor": "white"
           }
          },
          "shapedefaults": {
           "line": {
            "color": "#2a3f5f"
           }
          },
          "ternary": {
           "aaxis": {
            "gridcolor": "white",
            "linecolor": "white",
            "ticks": ""
           },
           "baxis": {
            "gridcolor": "white",
            "linecolor": "white",
            "ticks": ""
           },
           "bgcolor": "#E5ECF6",
           "caxis": {
            "gridcolor": "white",
            "linecolor": "white",
            "ticks": ""
           }
          },
          "title": {
           "x": 0.05
          },
          "xaxis": {
           "automargin": true,
           "gridcolor": "white",
           "linecolor": "white",
           "ticks": "",
           "title": {
            "standoff": 15
           },
           "zerolinecolor": "white",
           "zerolinewidth": 2
          },
          "yaxis": {
           "automargin": true,
           "gridcolor": "white",
           "linecolor": "white",
           "ticks": "",
           "title": {
            "standoff": 15
           },
           "zerolinecolor": "white",
           "zerolinewidth": 2
          }
         }
        },
        "title": {
         "text": "ARIMA(0,1,0)모형"
        },
        "width": 1000
       }
      },
      "text/html": [
       "<div>                            <div id=\"72db33a0-17e7-4d63-be51-975999afcedb\" class=\"plotly-graph-div\" style=\"height:400px; width:1000px;\"></div>            <script type=\"text/javascript\">                require([\"plotly\"], function(Plotly) {                    window.PLOTLYENV=window.PLOTLYENV || {};                                    if (document.getElementById(\"72db33a0-17e7-4d63-be51-975999afcedb\")) {                    Plotly.newPlot(                        \"72db33a0-17e7-4d63-be51-975999afcedb\",                        [{\"line\":{\"color\":\"royalblue\"},\"mode\":\"lines\",\"name\":\"Train\",\"x\":[\"2018-04-08T00:00:00\",\"2018-04-15T00:00:00\",\"2018-04-22T00:00:00\",\"2018-04-29T00:00:00\",\"2018-05-06T00:00:00\",\"2018-05-13T00:00:00\",\"2018-05-20T00:00:00\",\"2018-05-27T00:00:00\",\"2018-06-03T00:00:00\",\"2018-06-10T00:00:00\",\"2018-06-17T00:00:00\",\"2018-06-24T00:00:00\",\"2018-07-01T00:00:00\",\"2018-07-08T00:00:00\",\"2018-07-15T00:00:00\",\"2018-07-22T00:00:00\",\"2018-07-29T00:00:00\",\"2018-08-05T00:00:00\",\"2018-08-12T00:00:00\",\"2018-08-19T00:00:00\",\"2018-08-26T00:00:00\",\"2018-09-02T00:00:00\",\"2018-09-09T00:00:00\",\"2018-09-16T00:00:00\",\"2018-09-23T00:00:00\",\"2018-09-30T00:00:00\",\"2018-10-07T00:00:00\",\"2018-10-14T00:00:00\",\"2018-10-21T00:00:00\",\"2018-10-28T00:00:00\",\"2018-11-04T00:00:00\",\"2018-11-11T00:00:00\",\"2018-11-18T00:00:00\",\"2018-11-25T00:00:00\",\"2018-12-02T00:00:00\",\"2018-12-09T00:00:00\",\"2018-12-16T00:00:00\",\"2018-12-23T00:00:00\",\"2018-12-30T00:00:00\",\"2019-01-06T00:00:00\",\"2019-01-13T00:00:00\",\"2019-01-20T00:00:00\",\"2019-01-27T00:00:00\",\"2019-02-03T00:00:00\",\"2019-02-10T00:00:00\",\"2019-02-17T00:00:00\",\"2019-02-24T00:00:00\",\"2019-03-03T00:00:00\",\"2019-03-10T00:00:00\",\"2019-03-17T00:00:00\",\"2019-03-24T00:00:00\",\"2019-03-31T00:00:00\",\"2019-04-07T00:00:00\",\"2019-04-14T00:00:00\",\"2019-04-21T00:00:00\",\"2019-04-28T00:00:00\",\"2019-05-05T00:00:00\",\"2019-05-12T00:00:00\",\"2019-05-19T00:00:00\",\"2019-05-26T00:00:00\",\"2019-06-02T00:00:00\",\"2019-06-09T00:00:00\",\"2019-06-16T00:00:00\",\"2019-06-23T00:00:00\",\"2019-06-30T00:00:00\",\"2019-07-07T00:00:00\",\"2019-07-14T00:00:00\",\"2019-07-21T00:00:00\",\"2019-07-28T00:00:00\",\"2019-08-04T00:00:00\",\"2019-08-11T00:00:00\",\"2019-08-18T00:00:00\",\"2019-08-25T00:00:00\",\"2019-09-01T00:00:00\",\"2019-09-08T00:00:00\",\"2019-09-15T00:00:00\",\"2019-09-22T00:00:00\",\"2019-09-29T00:00:00\",\"2019-10-06T00:00:00\",\"2019-10-13T00:00:00\",\"2019-10-20T00:00:00\",\"2019-10-27T00:00:00\",\"2019-11-03T00:00:00\",\"2019-11-10T00:00:00\",\"2019-11-17T00:00:00\",\"2019-11-24T00:00:00\",\"2019-12-01T00:00:00\",\"2019-12-08T00:00:00\",\"2019-12-15T00:00:00\",\"2019-12-22T00:00:00\",\"2019-12-29T00:00:00\",\"2020-01-05T00:00:00\",\"2020-01-12T00:00:00\",\"2020-01-19T00:00:00\",\"2020-01-26T00:00:00\",\"2020-02-02T00:00:00\",\"2020-02-09T00:00:00\",\"2020-02-16T00:00:00\",\"2020-02-23T00:00:00\",\"2020-03-01T00:00:00\",\"2020-03-08T00:00:00\",\"2020-03-15T00:00:00\",\"2020-03-22T00:00:00\",\"2020-03-29T00:00:00\",\"2020-04-05T00:00:00\",\"2020-04-12T00:00:00\",\"2020-04-19T00:00:00\",\"2020-04-26T00:00:00\",\"2020-05-03T00:00:00\",\"2020-05-10T00:00:00\",\"2020-05-17T00:00:00\",\"2020-05-24T00:00:00\",\"2020-05-31T00:00:00\",\"2020-06-07T00:00:00\",\"2020-06-14T00:00:00\",\"2020-06-21T00:00:00\",\"2020-06-28T00:00:00\",\"2020-07-05T00:00:00\",\"2020-07-12T00:00:00\",\"2020-07-19T00:00:00\",\"2020-07-26T00:00:00\",\"2020-08-02T00:00:00\",\"2020-08-09T00:00:00\",\"2020-08-16T00:00:00\",\"2020-08-23T00:00:00\",\"2020-08-30T00:00:00\",\"2020-09-06T00:00:00\",\"2020-09-13T00:00:00\",\"2020-09-20T00:00:00\",\"2020-09-27T00:00:00\",\"2020-10-04T00:00:00\",\"2020-10-11T00:00:00\",\"2020-10-18T00:00:00\",\"2020-10-25T00:00:00\",\"2020-11-01T00:00:00\",\"2020-11-08T00:00:00\",\"2020-11-15T00:00:00\"],\"y\":[null,null,null,null,null,null,null,null,null,null,null,null,null,null,null,null,null,null,null,null,null,null,null,null,null,null,null,null,null,null,null,null,null,null,null,null,null,null,null,null,null,null,null,null,null,null,null,null,null,null,null,null,null,null,null,null,null,null,null,null,null,null,null,null,null,null,null,null,null,null,null,null,null,null,null,null,null,null,null,null,null,null,null,null,null,null,null,null,null,null,null,null,null,null,null,null,null,null,null,null,null,null,null,null,null,null,null,null,null,null,null,null,null,null,null,null,null,null,null,null,null,null,null,null,null,null,null,null,null,null,null,null,null,null,null,null,null],\"type\":\"scatter\"},{\"line\":{\"color\":\"rgba(0,0,30,0.5)\"},\"mode\":\"lines\",\"name\":\"Test\",\"x\":[\"2020-11-22T00:00:00\",\"2020-11-29T00:00:00\",\"2020-12-06T00:00:00\",\"2020-12-13T00:00:00\",\"2020-12-20T00:00:00\",\"2020-12-27T00:00:00\",\"2021-01-03T00:00:00\",\"2021-01-10T00:00:00\",\"2021-01-17T00:00:00\",\"2021-01-24T00:00:00\",\"2021-01-31T00:00:00\",\"2021-02-07T00:00:00\",\"2021-02-14T00:00:00\",\"2021-02-21T00:00:00\",\"2021-02-28T00:00:00\",\"2021-03-07T00:00:00\",\"2021-03-14T00:00:00\",\"2021-03-21T00:00:00\",\"2021-03-28T00:00:00\",\"2021-04-04T00:00:00\",\"2021-04-11T00:00:00\",\"2021-04-18T00:00:00\",\"2021-04-25T00:00:00\",\"2021-05-02T00:00:00\",\"2021-05-09T00:00:00\",\"2021-05-16T00:00:00\",\"2021-05-23T00:00:00\",\"2021-05-30T00:00:00\",\"2021-06-06T00:00:00\",\"2021-06-13T00:00:00\",\"2021-06-20T00:00:00\",\"2021-06-27T00:00:00\",\"2021-07-04T00:00:00\",\"2021-07-11T00:00:00\",\"2021-07-18T00:00:00\",\"2021-07-25T00:00:00\",\"2021-08-01T00:00:00\",\"2021-08-08T00:00:00\",\"2021-08-15T00:00:00\",\"2021-08-22T00:00:00\",\"2021-08-29T00:00:00\",\"2021-09-05T00:00:00\",\"2021-09-12T00:00:00\",\"2021-09-19T00:00:00\",\"2021-09-26T00:00:00\",\"2021-10-03T00:00:00\",\"2021-10-10T00:00:00\",\"2021-10-17T00:00:00\",\"2021-10-24T00:00:00\",\"2021-10-31T00:00:00\",\"2021-11-07T00:00:00\",\"2021-11-14T00:00:00\",\"2021-11-21T00:00:00\",\"2021-11-28T00:00:00\",\"2021-12-05T00:00:00\",\"2021-12-12T00:00:00\",\"2021-12-19T00:00:00\",\"2021-12-26T00:00:00\",\"2022-01-02T00:00:00\"],\"y\":[null,null,null,null,null,null,null,null,null,null,null,null,null,null,null,null,null,null,null,null,null,null,null,null,null,null,null,null,null,null,null,null,null,null,null,null,null,null,null,null,null,null,null,null,null,null,null,null,null,null,null,null,null,null,null,null,null,null,null],\"type\":\"scatter\"},{\"line\":{\"color\":\"red\",\"dash\":\"dot\",\"width\":3},\"mode\":\"lines\",\"name\":\"Prediction\",\"x\":[\"2020-11-22T00:00:00\",\"2020-11-29T00:00:00\",\"2020-12-06T00:00:00\",\"2020-12-13T00:00:00\",\"2020-12-20T00:00:00\",\"2020-12-27T00:00:00\",\"2021-01-03T00:00:00\",\"2021-01-10T00:00:00\",\"2021-01-17T00:00:00\",\"2021-01-24T00:00:00\",\"2021-01-31T00:00:00\",\"2021-02-07T00:00:00\",\"2021-02-14T00:00:00\",\"2021-02-21T00:00:00\",\"2021-02-28T00:00:00\",\"2021-03-07T00:00:00\",\"2021-03-14T00:00:00\",\"2021-03-21T00:00:00\",\"2021-03-28T00:00:00\",\"2021-04-04T00:00:00\",\"2021-04-11T00:00:00\",\"2021-04-18T00:00:00\",\"2021-04-25T00:00:00\",\"2021-05-02T00:00:00\",\"2021-05-09T00:00:00\",\"2021-05-16T00:00:00\",\"2021-05-23T00:00:00\",\"2021-05-30T00:00:00\",\"2021-06-06T00:00:00\",\"2021-06-13T00:00:00\",\"2021-06-20T00:00:00\",\"2021-06-27T00:00:00\",\"2021-07-04T00:00:00\",\"2021-07-11T00:00:00\",\"2021-07-18T00:00:00\",\"2021-07-25T00:00:00\",\"2021-08-01T00:00:00\",\"2021-08-08T00:00:00\",\"2021-08-15T00:00:00\",\"2021-08-22T00:00:00\",\"2021-08-29T00:00:00\",\"2021-09-05T00:00:00\",\"2021-09-12T00:00:00\",\"2021-09-19T00:00:00\",\"2021-09-26T00:00:00\",\"2021-10-03T00:00:00\",\"2021-10-10T00:00:00\",\"2021-10-17T00:00:00\",\"2021-10-24T00:00:00\",\"2021-10-31T00:00:00\",\"2021-11-07T00:00:00\",\"2021-11-14T00:00:00\",\"2021-11-21T00:00:00\",\"2021-11-28T00:00:00\",\"2021-12-05T00:00:00\",\"2021-12-12T00:00:00\",\"2021-12-19T00:00:00\",\"2021-12-26T00:00:00\",\"2022-01-02T00:00:00\"],\"y\":[13383181004.754122,25660327490.366013,18746314797.502872,12231945530.006378,10468892681.651485,13052906493.19037,10108203175.552393,8832857587.509636,6623213795.982512,5099942377.1167345,3525702885.5841203,3721386203.2097907,9305058038.154886,11272824888.36493,8555667024.848206,6502342729.785433,13846296429.394934,12451554958.849957,16352525388.462729,20298860002.704803,25787745826.675213,10353777347.523296,7659095748.228151,4172317427.5235233,5876198553.336354,5166452359.907865,6461559011.435288,9916808075.18554,8259623764.6504,15069343697.555553,15895266365.271887,13709409561.940538,8765220553.068468,6935918552.003311,3560171258.595097,3357738141.816631,6246882935.6198435,10395891375.025583,10385477332.292309,13951534220.878384,12215670728.910948,10455009733.435875,14230733882.189322,10262265120.286774,8881121985.660112,2699351837.9227424,2216037699.084886,5795356022.1125765,5169353965.215959,7750147316.791079,22637301312.49842,36688322106.277145,30541884707.777035,22349549474.01969,14791979690.559275,12247490637.91813,8694051416.673244,12313112050.437027,11566658364.839806],\"type\":\"scatter\"},{\"fill\":\"toself\",\"fillcolor\":\"rgba(0,0,30,0.1)\",\"hoverinfo\":\"skip\",\"line\":{\"color\":\"rgba(0,0,0,0)\"},\"showlegend\":false,\"x\":[\"2020-11-22T00:00:00\",\"2020-11-29T00:00:00\",\"2020-12-06T00:00:00\",\"2020-12-13T00:00:00\",\"2020-12-20T00:00:00\",\"2020-12-27T00:00:00\",\"2021-01-03T00:00:00\",\"2021-01-10T00:00:00\",\"2021-01-17T00:00:00\",\"2021-01-24T00:00:00\",\"2021-01-31T00:00:00\",\"2021-02-07T00:00:00\",\"2021-02-14T00:00:00\",\"2021-02-21T00:00:00\",\"2021-02-28T00:00:00\",\"2021-03-07T00:00:00\",\"2021-03-14T00:00:00\",\"2021-03-21T00:00:00\",\"2021-03-28T00:00:00\",\"2021-04-04T00:00:00\",\"2021-04-11T00:00:00\",\"2021-04-18T00:00:00\",\"2021-04-25T00:00:00\",\"2021-05-02T00:00:00\",\"2021-05-09T00:00:00\",\"2021-05-16T00:00:00\",\"2021-05-23T00:00:00\",\"2021-05-30T00:00:00\",\"2021-06-06T00:00:00\",\"2021-06-13T00:00:00\",\"2021-06-20T00:00:00\",\"2021-06-27T00:00:00\",\"2021-07-04T00:00:00\",\"2021-07-11T00:00:00\",\"2021-07-18T00:00:00\",\"2021-07-25T00:00:00\",\"2021-08-01T00:00:00\",\"2021-08-08T00:00:00\",\"2021-08-15T00:00:00\",\"2021-08-22T00:00:00\",\"2021-08-29T00:00:00\",\"2021-09-05T00:00:00\",\"2021-09-12T00:00:00\",\"2021-09-19T00:00:00\",\"2021-09-26T00:00:00\",\"2021-10-03T00:00:00\",\"2021-10-10T00:00:00\",\"2021-10-17T00:00:00\",\"2021-10-24T00:00:00\",\"2021-10-31T00:00:00\",\"2021-11-07T00:00:00\",\"2021-11-14T00:00:00\",\"2021-11-21T00:00:00\",\"2021-11-28T00:00:00\",\"2021-12-05T00:00:00\",\"2021-12-12T00:00:00\",\"2021-12-19T00:00:00\",\"2021-12-26T00:00:00\",\"2022-01-02T00:00:00\",\"2022-01-02T00:00:00\",\"2021-12-26T00:00:00\",\"2021-12-19T00:00:00\",\"2021-12-12T00:00:00\",\"2021-12-05T00:00:00\",\"2021-11-28T00:00:00\",\"2021-11-21T00:00:00\",\"2021-11-14T00:00:00\",\"2021-11-07T00:00:00\",\"2021-10-31T00:00:00\",\"2021-10-24T00:00:00\",\"2021-10-17T00:00:00\",\"2021-10-10T00:00:00\",\"2021-10-03T00:00:00\",\"2021-09-26T00:00:00\",\"2021-09-19T00:00:00\",\"2021-09-12T00:00:00\",\"2021-09-05T00:00:00\",\"2021-08-29T00:00:00\",\"2021-08-22T00:00:00\",\"2021-08-15T00:00:00\",\"2021-08-08T00:00:00\",\"2021-08-01T00:00:00\",\"2021-07-25T00:00:00\",\"2021-07-18T00:00:00\",\"2021-07-11T00:00:00\",\"2021-07-04T00:00:00\",\"2021-06-27T00:00:00\",\"2021-06-20T00:00:00\",\"2021-06-13T00:00:00\",\"2021-06-06T00:00:00\",\"2021-05-30T00:00:00\",\"2021-05-23T00:00:00\",\"2021-05-16T00:00:00\",\"2021-05-09T00:00:00\",\"2021-05-02T00:00:00\",\"2021-04-25T00:00:00\",\"2021-04-18T00:00:00\",\"2021-04-11T00:00:00\",\"2021-04-04T00:00:00\",\"2021-03-28T00:00:00\",\"2021-03-21T00:00:00\",\"2021-03-14T00:00:00\",\"2021-03-07T00:00:00\",\"2021-02-28T00:00:00\",\"2021-02-21T00:00:00\",\"2021-02-14T00:00:00\",\"2021-02-07T00:00:00\",\"2021-01-31T00:00:00\",\"2021-01-24T00:00:00\",\"2021-01-17T00:00:00\",\"2021-01-10T00:00:00\",\"2021-01-03T00:00:00\",\"2020-12-27T00:00:00\",\"2020-12-20T00:00:00\",\"2020-12-13T00:00:00\",\"2020-12-06T00:00:00\",\"2020-11-29T00:00:00\",\"2020-11-22T00:00:00\"],\"y\":[25.572562380779633,26.217258133968212,25.90469499250296,25.47369400991529,25.310048256964865,25.526260882468044,25.263336763852134,25.12221026784661,24.828882256840515,24.559990778061394,24.18326317754591,24.230484319190257,25.150149743414445,25.33459959551786,25.05354188462041,24.774849232084346,25.53216815061947,25.419076668358386,25.685416580803615,25.895697260392428,26.128075326657118,25.21979051605817,24.911387489097443,24.301234214362715,24.644281383668208,24.50875572363804,24.728108256628676,25.150476125866554,24.962251732378846,25.56239499420733,25.609427356383804,25.456101667995863,25.008537444448947,24.768599924559773,24.096932670631524,24.03422381467964,24.655557780860057,25.161022504545876,25.154750321463162,25.444016559828682,25.30636938526594,25.144807324744416,25.4484126041828,25.118483336870685,24.968539170913125,23.790015476036885,23.588419812960552,24.56743050605784,24.448457509955603,24.848167314760342,25.91719773265849,26.39541224394523,26.206886062858157,25.89585852454503,25.485194173902798,25.290962084360373,24.94312389944095,25.29038136679049,25.224034292580978,21.118750742406352,21.177479736988104,20.82868586763228,21.166211729777885,21.349507742154444,21.764285475536642,22.077843632333003,22.256036441318635,21.768532033738563,20.693788062738076,20.28356960861769,20.393214989814176,19.449553422857775,19.642539566181235,20.84584830049794,20.98499551168985,21.3089270370289,20.99588687687638,21.14560151556519,21.27369407848674,20.972598192232212,20.968330505340617,20.45513911111309,19.834843009642523,19.889216303368904,20.551358742570123,20.779577591414146,21.226594858723917,21.369147021558874,21.309461602542136,20.707038016357366,20.88451775383514,20.450164660699937,20.222148461593413,20.344070386828072,20.00224069845163,20.606932041295458,20.90144398631992,21.818255169508177,21.571963867437642,21.349879779940817,21.071146028344423,21.170399105381705,20.41600750567429,20.686177535894313,20.956721982816763,20.75749818524475,19.844239822993014,19.78342812945165,20.144999377955205,20.39881085668968,20.681278575758,20.809889489628883,21.05829244893485,20.833299933377045,20.980939695064457,21.403831059321682,21.71916578349649,21.061966832510787],\"type\":\"scatter\"}],                        {\"template\":{\"data\":{\"bar\":[{\"error_x\":{\"color\":\"#2a3f5f\"},\"error_y\":{\"color\":\"#2a3f5f\"},\"marker\":{\"line\":{\"color\":\"#E5ECF6\",\"width\":0.5},\"pattern\":{\"fillmode\":\"overlay\",\"size\":10,\"solidity\":0.2}},\"type\":\"bar\"}],\"barpolar\":[{\"marker\":{\"line\":{\"color\":\"#E5ECF6\",\"width\":0.5},\"pattern\":{\"fillmode\":\"overlay\",\"size\":10,\"solidity\":0.2}},\"type\":\"barpolar\"}],\"carpet\":[{\"aaxis\":{\"endlinecolor\":\"#2a3f5f\",\"gridcolor\":\"white\",\"linecolor\":\"white\",\"minorgridcolor\":\"white\",\"startlinecolor\":\"#2a3f5f\"},\"baxis\":{\"endlinecolor\":\"#2a3f5f\",\"gridcolor\":\"white\",\"linecolor\":\"white\",\"minorgridcolor\":\"white\",\"startlinecolor\":\"#2a3f5f\"},\"type\":\"carpet\"}],\"choropleth\":[{\"colorbar\":{\"outlinewidth\":0,\"ticks\":\"\"},\"type\":\"choropleth\"}],\"contour\":[{\"colorbar\":{\"outlinewidth\":0,\"ticks\":\"\"},\"colorscale\":[[0.0,\"#0d0887\"],[0.1111111111111111,\"#46039f\"],[0.2222222222222222,\"#7201a8\"],[0.3333333333333333,\"#9c179e\"],[0.4444444444444444,\"#bd3786\"],[0.5555555555555556,\"#d8576b\"],[0.6666666666666666,\"#ed7953\"],[0.7777777777777778,\"#fb9f3a\"],[0.8888888888888888,\"#fdca26\"],[1.0,\"#f0f921\"]],\"type\":\"contour\"}],\"contourcarpet\":[{\"colorbar\":{\"outlinewidth\":0,\"ticks\":\"\"},\"type\":\"contourcarpet\"}],\"heatmap\":[{\"colorbar\":{\"outlinewidth\":0,\"ticks\":\"\"},\"colorscale\":[[0.0,\"#0d0887\"],[0.1111111111111111,\"#46039f\"],[0.2222222222222222,\"#7201a8\"],[0.3333333333333333,\"#9c179e\"],[0.4444444444444444,\"#bd3786\"],[0.5555555555555556,\"#d8576b\"],[0.6666666666666666,\"#ed7953\"],[0.7777777777777778,\"#fb9f3a\"],[0.8888888888888888,\"#fdca26\"],[1.0,\"#f0f921\"]],\"type\":\"heatmap\"}],\"heatmapgl\":[{\"colorbar\":{\"outlinewidth\":0,\"ticks\":\"\"},\"colorscale\":[[0.0,\"#0d0887\"],[0.1111111111111111,\"#46039f\"],[0.2222222222222222,\"#7201a8\"],[0.3333333333333333,\"#9c179e\"],[0.4444444444444444,\"#bd3786\"],[0.5555555555555556,\"#d8576b\"],[0.6666666666666666,\"#ed7953\"],[0.7777777777777778,\"#fb9f3a\"],[0.8888888888888888,\"#fdca26\"],[1.0,\"#f0f921\"]],\"type\":\"heatmapgl\"}],\"histogram\":[{\"marker\":{\"pattern\":{\"fillmode\":\"overlay\",\"size\":10,\"solidity\":0.2}},\"type\":\"histogram\"}],\"histogram2d\":[{\"colorbar\":{\"outlinewidth\":0,\"ticks\":\"\"},\"colorscale\":[[0.0,\"#0d0887\"],[0.1111111111111111,\"#46039f\"],[0.2222222222222222,\"#7201a8\"],[0.3333333333333333,\"#9c179e\"],[0.4444444444444444,\"#bd3786\"],[0.5555555555555556,\"#d8576b\"],[0.6666666666666666,\"#ed7953\"],[0.7777777777777778,\"#fb9f3a\"],[0.8888888888888888,\"#fdca26\"],[1.0,\"#f0f921\"]],\"type\":\"histogram2d\"}],\"histogram2dcontour\":[{\"colorbar\":{\"outlinewidth\":0,\"ticks\":\"\"},\"colorscale\":[[0.0,\"#0d0887\"],[0.1111111111111111,\"#46039f\"],[0.2222222222222222,\"#7201a8\"],[0.3333333333333333,\"#9c179e\"],[0.4444444444444444,\"#bd3786\"],[0.5555555555555556,\"#d8576b\"],[0.6666666666666666,\"#ed7953\"],[0.7777777777777778,\"#fb9f3a\"],[0.8888888888888888,\"#fdca26\"],[1.0,\"#f0f921\"]],\"type\":\"histogram2dcontour\"}],\"mesh3d\":[{\"colorbar\":{\"outlinewidth\":0,\"ticks\":\"\"},\"type\":\"mesh3d\"}],\"parcoords\":[{\"line\":{\"colorbar\":{\"outlinewidth\":0,\"ticks\":\"\"}},\"type\":\"parcoords\"}],\"pie\":[{\"automargin\":true,\"type\":\"pie\"}],\"scatter\":[{\"marker\":{\"colorbar\":{\"outlinewidth\":0,\"ticks\":\"\"}},\"type\":\"scatter\"}],\"scatter3d\":[{\"line\":{\"colorbar\":{\"outlinewidth\":0,\"ticks\":\"\"}},\"marker\":{\"colorbar\":{\"outlinewidth\":0,\"ticks\":\"\"}},\"type\":\"scatter3d\"}],\"scattercarpet\":[{\"marker\":{\"colorbar\":{\"outlinewidth\":0,\"ticks\":\"\"}},\"type\":\"scattercarpet\"}],\"scattergeo\":[{\"marker\":{\"colorbar\":{\"outlinewidth\":0,\"ticks\":\"\"}},\"type\":\"scattergeo\"}],\"scattergl\":[{\"marker\":{\"colorbar\":{\"outlinewidth\":0,\"ticks\":\"\"}},\"type\":\"scattergl\"}],\"scattermapbox\":[{\"marker\":{\"colorbar\":{\"outlinewidth\":0,\"ticks\":\"\"}},\"type\":\"scattermapbox\"}],\"scatterpolar\":[{\"marker\":{\"colorbar\":{\"outlinewidth\":0,\"ticks\":\"\"}},\"type\":\"scatterpolar\"}],\"scatterpolargl\":[{\"marker\":{\"colorbar\":{\"outlinewidth\":0,\"ticks\":\"\"}},\"type\":\"scatterpolargl\"}],\"scatterternary\":[{\"marker\":{\"colorbar\":{\"outlinewidth\":0,\"ticks\":\"\"}},\"type\":\"scatterternary\"}],\"surface\":[{\"colorbar\":{\"outlinewidth\":0,\"ticks\":\"\"},\"colorscale\":[[0.0,\"#0d0887\"],[0.1111111111111111,\"#46039f\"],[0.2222222222222222,\"#7201a8\"],[0.3333333333333333,\"#9c179e\"],[0.4444444444444444,\"#bd3786\"],[0.5555555555555556,\"#d8576b\"],[0.6666666666666666,\"#ed7953\"],[0.7777777777777778,\"#fb9f3a\"],[0.8888888888888888,\"#fdca26\"],[1.0,\"#f0f921\"]],\"type\":\"surface\"}],\"table\":[{\"cells\":{\"fill\":{\"color\":\"#EBF0F8\"},\"line\":{\"color\":\"white\"}},\"header\":{\"fill\":{\"color\":\"#C8D4E3\"},\"line\":{\"color\":\"white\"}},\"type\":\"table\"}]},\"layout\":{\"annotationdefaults\":{\"arrowcolor\":\"#2a3f5f\",\"arrowhead\":0,\"arrowwidth\":1},\"autotypenumbers\":\"strict\",\"coloraxis\":{\"colorbar\":{\"outlinewidth\":0,\"ticks\":\"\"}},\"colorscale\":{\"diverging\":[[0,\"#8e0152\"],[0.1,\"#c51b7d\"],[0.2,\"#de77ae\"],[0.3,\"#f1b6da\"],[0.4,\"#fde0ef\"],[0.5,\"#f7f7f7\"],[0.6,\"#e6f5d0\"],[0.7,\"#b8e186\"],[0.8,\"#7fbc41\"],[0.9,\"#4d9221\"],[1,\"#276419\"]],\"sequential\":[[0.0,\"#0d0887\"],[0.1111111111111111,\"#46039f\"],[0.2222222222222222,\"#7201a8\"],[0.3333333333333333,\"#9c179e\"],[0.4444444444444444,\"#bd3786\"],[0.5555555555555556,\"#d8576b\"],[0.6666666666666666,\"#ed7953\"],[0.7777777777777778,\"#fb9f3a\"],[0.8888888888888888,\"#fdca26\"],[1.0,\"#f0f921\"]],\"sequentialminus\":[[0.0,\"#0d0887\"],[0.1111111111111111,\"#46039f\"],[0.2222222222222222,\"#7201a8\"],[0.3333333333333333,\"#9c179e\"],[0.4444444444444444,\"#bd3786\"],[0.5555555555555556,\"#d8576b\"],[0.6666666666666666,\"#ed7953\"],[0.7777777777777778,\"#fb9f3a\"],[0.8888888888888888,\"#fdca26\"],[1.0,\"#f0f921\"]]},\"colorway\":[\"#636efa\",\"#EF553B\",\"#00cc96\",\"#ab63fa\",\"#FFA15A\",\"#19d3f3\",\"#FF6692\",\"#B6E880\",\"#FF97FF\",\"#FECB52\"],\"font\":{\"color\":\"#2a3f5f\"},\"geo\":{\"bgcolor\":\"white\",\"lakecolor\":\"white\",\"landcolor\":\"#E5ECF6\",\"showlakes\":true,\"showland\":true,\"subunitcolor\":\"white\"},\"hoverlabel\":{\"align\":\"left\"},\"hovermode\":\"closest\",\"mapbox\":{\"style\":\"light\"},\"paper_bgcolor\":\"white\",\"plot_bgcolor\":\"#E5ECF6\",\"polar\":{\"angularaxis\":{\"gridcolor\":\"white\",\"linecolor\":\"white\",\"ticks\":\"\"},\"bgcolor\":\"#E5ECF6\",\"radialaxis\":{\"gridcolor\":\"white\",\"linecolor\":\"white\",\"ticks\":\"\"}},\"scene\":{\"xaxis\":{\"backgroundcolor\":\"#E5ECF6\",\"gridcolor\":\"white\",\"gridwidth\":2,\"linecolor\":\"white\",\"showbackground\":true,\"ticks\":\"\",\"zerolinecolor\":\"white\"},\"yaxis\":{\"backgroundcolor\":\"#E5ECF6\",\"gridcolor\":\"white\",\"gridwidth\":2,\"linecolor\":\"white\",\"showbackground\":true,\"ticks\":\"\",\"zerolinecolor\":\"white\"},\"zaxis\":{\"backgroundcolor\":\"#E5ECF6\",\"gridcolor\":\"white\",\"gridwidth\":2,\"linecolor\":\"white\",\"showbackground\":true,\"ticks\":\"\",\"zerolinecolor\":\"white\"}},\"shapedefaults\":{\"line\":{\"color\":\"#2a3f5f\"}},\"ternary\":{\"aaxis\":{\"gridcolor\":\"white\",\"linecolor\":\"white\",\"ticks\":\"\"},\"baxis\":{\"gridcolor\":\"white\",\"linecolor\":\"white\",\"ticks\":\"\"},\"bgcolor\":\"#E5ECF6\",\"caxis\":{\"gridcolor\":\"white\",\"linecolor\":\"white\",\"ticks\":\"\"}},\"title\":{\"x\":0.05},\"xaxis\":{\"automargin\":true,\"gridcolor\":\"white\",\"linecolor\":\"white\",\"ticks\":\"\",\"title\":{\"standoff\":15},\"zerolinecolor\":\"white\",\"zerolinewidth\":2},\"yaxis\":{\"automargin\":true,\"gridcolor\":\"white\",\"linecolor\":\"white\",\"ticks\":\"\",\"title\":{\"standoff\":15},\"zerolinecolor\":\"white\",\"zerolinewidth\":2}}},\"title\":{\"text\":\"ARIMA(0,1,0)\\ubaa8\\ud615\"},\"height\":400,\"width\":1000},                        {\"responsive\": true}                    ).then(function(){\n",
       "                            \n",
       "var gd = document.getElementById('72db33a0-17e7-4d63-be51-975999afcedb');\n",
       "var x = new MutationObserver(function (mutations, observer) {{\n",
       "        var display = window.getComputedStyle(gd).display;\n",
       "        if (!display || display === 'none') {{\n",
       "            console.log([gd, 'removed!']);\n",
       "            Plotly.purge(gd);\n",
       "            observer.disconnect();\n",
       "        }}\n",
       "}});\n",
       "\n",
       "// Listen for the removal of the full notebook cells\n",
       "var notebookContainer = gd.closest('#notebook-container');\n",
       "if (notebookContainer) {{\n",
       "    x.observe(notebookContainer, {childList: true});\n",
       "}}\n",
       "\n",
       "// Listen for the clearing of the current output cell\n",
       "var outputEl = gd.closest('.output');\n",
       "if (outputEl) {{\n",
       "    x.observe(outputEl, {childList: true});\n",
       "}}\n",
       "\n",
       "                        })                };                });            </script>        </div>"
      ]
     },
     "metadata": {},
     "output_type": "display_data"
    }
   ],
   "source": [
    "from plotly.subplots import make_subplots\n",
    "import plotly.graph_objects as go\n",
    "\n",
    "fig = go.Figure([\n",
    "    # 훈련 데이터-------------------------------------------------------\n",
    "    go.Scatter(x = y_train_exp.index, y = y_train_exp, name = \"Train\", mode = 'lines'\n",
    "              ,line=dict(color = 'royalblue'))\n",
    "    # 테스트 데이터------------------------------------------------------\n",
    "    , go.Scatter(x = y_test_exp.index, y = y_test_exp, name = \"Test\", mode = 'lines'\n",
    "                ,line = dict(color = 'rgba(0,0,30,0.5)'))\n",
    "    # 예측값-----------------------------------------------------------\n",
    "    , go.Scatter(x = y_test_exp.index, y = y_pred_exp, name = \"Prediction\", mode = 'lines'\n",
    "                     ,line = dict(color = 'red', dash = 'dot', width=3))\n",
    "    \n",
    "    # 신뢰 구간---------------------------------------------------------\n",
    "    , go.Scatter(x = y_test_exp.index.tolist() + y_test_exp.index[::-1].tolist() \n",
    "                ,y = pred_upper + pred_lower[::-1] ## 상위 신뢰 구간 -> 하위 신뢰 구간 역순으로\n",
    "                ,fill='toself'\n",
    "                ,fillcolor='rgba(0,0,30,0.1)'\n",
    "                ,line=dict(color='rgba(0,0,0,0)')\n",
    "                ,hoverinfo=\"skip\"\n",
    "                ,showlegend=False)\n",
    "])\n",
    "\n",
    "fig.update_layout(height=400, width=1000, title_text=\"ARIMA(0,1,0)모형\")\n",
    "fig.show()"
   ]
  },
  {
   "cell_type": "code",
   "execution_count": 831,
   "id": "5dd2c64d",
   "metadata": {},
   "outputs": [
    {
     "name": "stdout",
     "output_type": "stream",
     "text": [
      "MAPE: 82.051\n"
     ]
    }
   ],
   "source": [
    "def MAPE(y_test, y_pred):\n",
    "\treturn np.mean(np.abs((y_test_exp - y_pred_exp) / y_test_exp)) * 100\n",
    "    \n",
    "print(f\"MAPE: {MAPE(y_test_exp.values, y_pred_exp):.3f}\")\n",
    "# MAPE: 0.792"
   ]
  },
  {
   "cell_type": "code",
   "execution_count": 830,
   "id": "32727cfd",
   "metadata": {},
   "outputs": [
    {
     "data": {
      "text/plain": [
       "array([2.34246797e+10, 7.32688900e+09, 8.33526606e+09, 1.37006598e+10,\n",
       "       2.25679721e+10, 9.09618427e+09, 5.99495770e+09, 4.73064344e+09,\n",
       "       7.87353000e+09, 5.52930481e+09, 4.98352090e+09, 1.41340964e+10,\n",
       "       9.80635600e+09, 6.16838637e+09, 4.15700100e+09, 2.27818698e+10,\n",
       "       1.42231402e+10, 1.84211589e+10, 1.02635400e+10, 1.92417996e+10,\n",
       "       6.40886450e+09, 1.01051738e+10, 3.25450350e+09, 1.32105691e+10,\n",
       "       5.67766980e+09, 9.90867422e+09, 8.86616206e+09, 6.21565470e+09,\n",
       "       2.24493657e+10, 1.31011206e+10, 1.02698236e+10, 4.75249530e+09,\n",
       "       6.65494272e+09, 4.16102183e+09, 6.65975258e+09, 1.01446979e+10,\n",
       "       1.19432459e+10, 6.99434168e+09, 1.18580703e+10, 8.73462567e+09,\n",
       "       1.15216009e+10, 1.67099742e+10, 6.77145710e+09, 8.03855357e+09,\n",
       "       1.33991757e+09, 4.47489100e+09, 2.02475069e+10, 6.10887210e+09,\n",
       "       6.83622286e+09, 1.64891940e+10, 3.46921307e+10, 2.74382787e+10,\n",
       "       9.33273520e+09, 6.45225793e+09, 1.53238713e+10, 1.55726232e+10,\n",
       "       2.30781955e+10, 6.93709404e+09, 4.56613880e+09])"
      ]
     },
     "execution_count": 830,
     "metadata": {},
     "output_type": "execute_result"
    }
   ],
   "source": [
    "y_test_exp.values"
   ]
  },
  {
   "cell_type": "code",
   "execution_count": 146,
   "id": "61e8d021",
   "metadata": {},
   "outputs": [
    {
     "name": "stdout",
     "output_type": "stream",
     "text": [
      "-0.5991222879276845\n"
     ]
    }
   ],
   "source": [
    "from sklearn.metrics import r2_score\n",
    "R2 = r2_score(y_test_log.values, y_pred_log)\n",
    "print(R2)"
   ]
  },
  {
   "cell_type": "markdown",
   "id": "16e7494d",
   "metadata": {},
   "source": [
    "- sklearn의 r2_score의 경우 데이터가 arbitrarily할 경우 음수가 나올수 있음\n",
    "- 음수가 나올경우 모두 일괄 평균으로 예측하는 것보다 모델의 성능이 떨어진다는 의미\n",
    "- 이는 모델의 예측값이 평균값으로 예측하는것보다 정확하지 않을때 발생함"
   ]
  },
  {
   "cell_type": "markdown",
   "id": "f6718c33",
   "metadata": {},
   "source": [
    "3,2,0\n",
    "\n",
    "2,2,0\n",
    "\n",
    "2,1,0\n",
    "\n",
    "5,2,0"
   ]
  },
  {
   "cell_type": "code",
   "execution_count": null,
   "id": "68f5829b",
   "metadata": {},
   "outputs": [],
   "source": []
  }
 ],
 "metadata": {
  "kernelspec": {
   "display_name": "Python 3 (ipykernel)",
   "language": "python",
   "name": "python3"
  },
  "language_info": {
   "codemirror_mode": {
    "name": "ipython",
    "version": 3
   },
   "file_extension": ".py",
   "mimetype": "text/x-python",
   "name": "python",
   "nbconvert_exporter": "python",
   "pygments_lexer": "ipython3",
   "version": "3.9.7"
  }
 },
 "nbformat": 4,
 "nbformat_minor": 5
}
