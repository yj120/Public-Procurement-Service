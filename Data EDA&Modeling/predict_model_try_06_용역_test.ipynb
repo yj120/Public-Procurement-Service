{
 "cells": [
  {
   "cell_type": "code",
   "execution_count": 3,
   "id": "721ece6d",
   "metadata": {},
   "outputs": [
    {
     "data": {
      "text/html": [
       "        <script type=\"text/javascript\">\n",
       "        window.PlotlyConfig = {MathJaxConfig: 'local'};\n",
       "        if (window.MathJax) {MathJax.Hub.Config({SVG: {font: \"STIX-Web\"}});}\n",
       "        if (typeof require !== 'undefined') {\n",
       "        require.undef(\"plotly\");\n",
       "        requirejs.config({\n",
       "            paths: {\n",
       "                'plotly': ['https://cdn.plot.ly/plotly-2.6.3.min']\n",
       "            }\n",
       "        });\n",
       "        require(['plotly'], function(Plotly) {\n",
       "            window._Plotly = Plotly;\n",
       "        });\n",
       "        }\n",
       "        </script>\n",
       "        "
      ]
     },
     "metadata": {},
     "output_type": "display_data"
    },
    {
     "data": {
      "text/html": [
       "        <script type=\"text/javascript\">\n",
       "        window.PlotlyConfig = {MathJaxConfig: 'local'};\n",
       "        if (window.MathJax) {MathJax.Hub.Config({SVG: {font: \"STIX-Web\"}});}\n",
       "        if (typeof require !== 'undefined') {\n",
       "        require.undef(\"plotly\");\n",
       "        requirejs.config({\n",
       "            paths: {\n",
       "                'plotly': ['https://cdn.plot.ly/plotly-2.6.3.min']\n",
       "            }\n",
       "        });\n",
       "        require(['plotly'], function(Plotly) {\n",
       "            window._Plotly = Plotly;\n",
       "        });\n",
       "        }\n",
       "        </script>\n",
       "        "
      ]
     },
     "metadata": {},
     "output_type": "display_data"
    }
   ],
   "source": [
    "import pandas as pd\n",
    "from datetime import datetime   # 패키지 - 모듈 (이름 같음)\n",
    "import pandas as pd   # csv file read\n",
    "import matplotlib.pyplot as plt   # 시계열 시각화\n",
    "from sklearn.preprocessing import LabelEncoder # 인코딩\n",
    "import numpy as np\n",
    "import statsmodels.api as sm\n",
    "from statsmodels.graphics.tsaplots import plot_pacf\n",
    "from statsmodels.graphics.tsaplots import plot_acf\n",
    "from statsmodels.tsa.arima_process import ArmaProcess\n",
    "from statsmodels.tsa.stattools import pacf\n",
    "from statsmodels.regression.linear_model import yule_walker\n",
    "from statsmodels.tsa.stattools import adfuller\n",
    "import matplotlib.pyplot as plt\n",
    "import numpy as np\n",
    "%matplotlib inline\n",
    "\n",
    "plt.rcParams['font.family'] ='Malgun Gothic'\n",
    "\n",
    "plt.rcParams['axes.unicode_minus'] =False\n",
    "plt.rcParams['axes.unicode_minus'] =False\n",
    "from plotly.offline import init_notebook_mode, iplot\n",
    "init_notebook_mode(connected=True)\n",
    "import plotly.graph_objs as go\n",
    "import warnings\n",
    "warnings.filterwarnings(\"ignore\")\n",
    "import os\n",
    "plt.style.use('ggplot')\n",
    "import pandas as pd\n",
    "from datetime import datetime   # 패키지 - 모듈 (이름 같음)\n",
    "import pandas as pd   # csv file read\n",
    "import matplotlib.pyplot as plt   # 시계열 시각화\n",
    "from sklearn.preprocessing import LabelEncoder # 인코딩\n",
    "import numpy as np\n",
    "import statsmodels.api as sm\n",
    "pd.options.display.float_format = '{:.2f}'.format\n",
    "import datetime\n",
    "plt.rcParams['font.family'] ='Malgun Gothic'\n",
    "\n",
    "plt.rcParams['axes.unicode_minus'] =False\n",
    "from plotly.offline import init_notebook_mode, iplot\n",
    "init_notebook_mode(connected=True)\n",
    "import plotly.graph_objs as go\n",
    "import warnings\n",
    "warnings.filterwarnings(\"ignore\")\n",
    "import os\n",
    "plt.style.use('ggplot')\n"
   ]
  },
  {
   "cell_type": "code",
   "execution_count": 4,
   "id": "130cfe96",
   "metadata": {},
   "outputs": [],
   "source": [
    "df = pd.read_csv('C:/Users/yjhon/OneDrive/바탕 화면/조달청_공모전/Regression_timeseries/물품용역공사_2017_2021.xls',index_col='공고게시일자')"
   ]
  },
  {
   "cell_type": "code",
   "execution_count": 5,
   "id": "25bd2051",
   "metadata": {},
   "outputs": [],
   "source": [
    "df.index = df.index.astype(str)\n",
    "\n",
    "df.index = pd.to_datetime(df.index)"
   ]
  },
  {
   "cell_type": "code",
   "execution_count": 6,
   "id": "e57dac47",
   "metadata": {},
   "outputs": [],
   "source": [
    "water_df = df[df.수요기관명 == \"한국수자원공사\"] # 용역\n",
    "water_df_service = water_df[water_df.대상 == \"용역\"]"
   ]
  },
  {
   "cell_type": "code",
   "execution_count": 7,
   "id": "c26ab83e",
   "metadata": {},
   "outputs": [],
   "source": [
    "col_name = [\"추정가격\"]\n",
    "water_service = pd.DataFrame(data = water_df_service,columns = col_name)"
   ]
  },
  {
   "cell_type": "code",
   "execution_count": 8,
   "id": "221ec707",
   "metadata": {},
   "outputs": [
    {
     "data": {
      "text/html": [
       "<div>\n",
       "<style scoped>\n",
       "    .dataframe tbody tr th:only-of-type {\n",
       "        vertical-align: middle;\n",
       "    }\n",
       "\n",
       "    .dataframe tbody tr th {\n",
       "        vertical-align: top;\n",
       "    }\n",
       "\n",
       "    .dataframe thead th {\n",
       "        text-align: right;\n",
       "    }\n",
       "</style>\n",
       "<table border=\"1\" class=\"dataframe\">\n",
       "  <thead>\n",
       "    <tr style=\"text-align: right;\">\n",
       "      <th></th>\n",
       "      <th>추정가격</th>\n",
       "    </tr>\n",
       "    <tr>\n",
       "      <th>date</th>\n",
       "      <th></th>\n",
       "    </tr>\n",
       "  </thead>\n",
       "  <tbody>\n",
       "    <tr>\n",
       "      <th>2021-12-27</th>\n",
       "      <td>162250600.00</td>\n",
       "    </tr>\n",
       "    <tr>\n",
       "      <th>2021-12-28</th>\n",
       "      <td>306701000.00</td>\n",
       "    </tr>\n",
       "    <tr>\n",
       "      <th>2021-12-29</th>\n",
       "      <td>361531000.00</td>\n",
       "    </tr>\n",
       "    <tr>\n",
       "      <th>2021-12-30</th>\n",
       "      <td>689758200.00</td>\n",
       "    </tr>\n",
       "    <tr>\n",
       "      <th>2021-12-31</th>\n",
       "      <td>3045898000.00</td>\n",
       "    </tr>\n",
       "  </tbody>\n",
       "</table>\n",
       "</div>"
      ],
      "text/plain": [
       "                    추정가격\n",
       "date                    \n",
       "2021-12-27  162250600.00\n",
       "2021-12-28  306701000.00\n",
       "2021-12-29  361531000.00\n",
       "2021-12-30  689758200.00\n",
       "2021-12-31 3045898000.00"
      ]
     },
     "execution_count": 8,
     "metadata": {},
     "output_type": "execute_result"
    }
   ],
   "source": [
    "water_service['date'] = water_service.index\n",
    "water_service.dtypes\n",
    "\n",
    "water_service['date'] = water_service['date'].astype(str)\n",
    "\n",
    "water_service['date'] = pd.to_datetime(water_service['date'])\n",
    "\n",
    "water_groups = water_service.groupby([\"date\"]).추정가격.sum()\n",
    "water_group_df = pd.DataFrame(data=water_groups, index = water_groups.index)\n",
    "\n",
    "water_group_df.tail()"
   ]
  },
  {
   "cell_type": "code",
   "execution_count": 9,
   "id": "f45ea09e",
   "metadata": {},
   "outputs": [],
   "source": [
    "water_sample = water_group_df.resample(rule='w').sum()"
   ]
  },
  {
   "cell_type": "code",
   "execution_count": 10,
   "id": "435edafd",
   "metadata": {},
   "outputs": [],
   "source": [
    "water_sample = water_sample[water_sample.추정가격!=0] # 0값 제외한 데이터프레임"
   ]
  },
  {
   "cell_type": "code",
   "execution_count": 11,
   "id": "499dac78",
   "metadata": {},
   "outputs": [
    {
     "data": {
      "text/html": [
       "<div>\n",
       "<style scoped>\n",
       "    .dataframe tbody tr th:only-of-type {\n",
       "        vertical-align: middle;\n",
       "    }\n",
       "\n",
       "    .dataframe tbody tr th {\n",
       "        vertical-align: top;\n",
       "    }\n",
       "\n",
       "    .dataframe thead th {\n",
       "        text-align: right;\n",
       "    }\n",
       "</style>\n",
       "<table border=\"1\" class=\"dataframe\">\n",
       "  <thead>\n",
       "    <tr style=\"text-align: right;\">\n",
       "      <th></th>\n",
       "      <th>추정가격</th>\n",
       "    </tr>\n",
       "    <tr>\n",
       "      <th>date</th>\n",
       "      <th></th>\n",
       "    </tr>\n",
       "  </thead>\n",
       "  <tbody>\n",
       "    <tr>\n",
       "      <th>2018-04-08</th>\n",
       "      <td>1213394500.00</td>\n",
       "    </tr>\n",
       "    <tr>\n",
       "      <th>2018-04-15</th>\n",
       "      <td>2100809455.00</td>\n",
       "    </tr>\n",
       "    <tr>\n",
       "      <th>2018-04-22</th>\n",
       "      <td>5161653780.00</td>\n",
       "    </tr>\n",
       "    <tr>\n",
       "      <th>2018-04-29</th>\n",
       "      <td>1889171056.00</td>\n",
       "    </tr>\n",
       "    <tr>\n",
       "      <th>2018-05-06</th>\n",
       "      <td>8386696600.00</td>\n",
       "    </tr>\n",
       "    <tr>\n",
       "      <th>...</th>\n",
       "      <td>...</td>\n",
       "    </tr>\n",
       "    <tr>\n",
       "      <th>2021-12-05</th>\n",
       "      <td>15323871280.00</td>\n",
       "    </tr>\n",
       "    <tr>\n",
       "      <th>2021-12-12</th>\n",
       "      <td>15572623196.00</td>\n",
       "    </tr>\n",
       "    <tr>\n",
       "      <th>2021-12-19</th>\n",
       "      <td>23078195505.00</td>\n",
       "    </tr>\n",
       "    <tr>\n",
       "      <th>2021-12-26</th>\n",
       "      <td>6937094040.00</td>\n",
       "    </tr>\n",
       "    <tr>\n",
       "      <th>2022-01-02</th>\n",
       "      <td>4566138800.00</td>\n",
       "    </tr>\n",
       "  </tbody>\n",
       "</table>\n",
       "<p>196 rows × 1 columns</p>\n",
       "</div>"
      ],
      "text/plain": [
       "                     추정가격\n",
       "date                     \n",
       "2018-04-08  1213394500.00\n",
       "2018-04-15  2100809455.00\n",
       "2018-04-22  5161653780.00\n",
       "2018-04-29  1889171056.00\n",
       "2018-05-06  8386696600.00\n",
       "...                   ...\n",
       "2021-12-05 15323871280.00\n",
       "2021-12-12 15572623196.00\n",
       "2021-12-19 23078195505.00\n",
       "2021-12-26  6937094040.00\n",
       "2022-01-02  4566138800.00\n",
       "\n",
       "[196 rows x 1 columns]"
      ]
     },
     "execution_count": 11,
     "metadata": {},
     "output_type": "execute_result"
    }
   ],
   "source": [
    "water_sample"
   ]
  },
  {
   "cell_type": "code",
   "execution_count": 12,
   "id": "8edad176",
   "metadata": {},
   "outputs": [
    {
     "data": {
      "text/plain": [
       "Text(0.5, 1.0, '한국수자원공사 용역 추정가격_week')"
      ]
     },
     "execution_count": 12,
     "metadata": {},
     "output_type": "execute_result"
    },
    {
     "data": {
      "image/png": "[encoded data removed]",
      "text/plain": [
       "<Figure size 2016x576 with 1 Axes>"
      ]
     },
     "metadata": {},
     "output_type": "display_data"
    }
   ],
   "source": [
    "water_sample.plot(figsize=(28,8))\n",
    "plt.title(\"한국수자원공사 용역 추정가격_week\",fontsize=35)"
   ]
  },
  {
   "cell_type": "code",
   "execution_count": 13,
   "id": "da82e747",
   "metadata": {},
   "outputs": [
    {
     "name": "stdout",
     "output_type": "stream",
     "text": [
      "ADF Statistic: -13.060865\n",
      "p-value : 0.000000\n",
      "Critical values:\n",
      "\t1%:-3.465\n",
      "\t5%:-2.877\n",
      "\t10%:-2.575\n"
     ]
    }
   ],
   "source": [
    "from statsmodels.tsa.stattools import adfuller\n",
    "result = adfuller(water_sample[1:])\n",
    "print('ADF Statistic: %f'%result[0])\n",
    "print('p-value : %f'%result[1])\n",
    "print('Critical values:')\n",
    "for key, value in result[4].items():\n",
    "    print('\\t%s:%.3f'%(key,value))"
   ]
  },
  {
   "cell_type": "code",
   "execution_count": 14,
   "id": "dd3aa96c",
   "metadata": {},
   "outputs": [],
   "source": [
    "# 검정통계량(ADF Statistics)가 Critical Value 보다 작으면 Stationary한 데이터\n",
    "# 혹은 p-value가 설정한 신뢰수준 값 (0.05)보다 작으면 Stationary한 데이터"
   ]
  },
  {
   "cell_type": "code",
   "execution_count": 15,
   "id": "a929968d",
   "metadata": {},
   "outputs": [
    {
     "data": {
      "image/png": "[encoded data removed]",
      "text/plain": [
       "<Figure size 432x288 with 1 Axes>"
      ]
     },
     "execution_count": 15,
     "metadata": {},
     "output_type": "execute_result"
    },
    {
     "data": {
      "image/png": "[encoded data removed]",
      "text/plain": [
       "<Figure size 432x288 with 1 Axes>"
      ]
     },
     "metadata": {},
     "output_type": "display_data"
    },
    {
     "data": {
      "image/png": "[encoded data removed]",
      "text/plain": [
       "<Figure size 432x288 with 1 Axes>"
      ]
     },
     "metadata": {},
     "output_type": "display_data"
    }
   ],
   "source": [
    "import matplotlib.pyplot as plt\n",
    "from statsmodels.graphics.tsaplots import plot_acf, plot_pacf\n",
    "\n",
    "plot_acf(water_sample.추정가격)\n",
    "plot_pacf(water_sample.추정가격)"
   ]
  },
  {
   "cell_type": "code",
   "execution_count": 471,
   "id": "eb11c790",
   "metadata": {},
   "outputs": [
    {
     "data": {
      "text/plain": [
       "(196, 1)"
      ]
     },
     "execution_count": 471,
     "metadata": {},
     "output_type": "execute_result"
    }
   ],
   "source": [
    "water_sample_log = np.log(water_sample)\n",
    "water_sample_log.shape"
   ]
  },
  {
   "cell_type": "code",
   "execution_count": 472,
   "id": "7f264a3c",
   "metadata": {},
   "outputs": [
    {
     "data": {
      "text/plain": [
       "<AxesSubplot:xlabel='date'>"
      ]
     },
     "execution_count": 472,
     "metadata": {},
     "output_type": "execute_result"
    },
    {
     "data": {
      "image/png": "[encoded data removed]",
      "text/plain": [
       "<Figure size 432x288 with 1 Axes>"
      ]
     },
     "metadata": {},
     "output_type": "display_data"
    }
   ],
   "source": [
    "y_train = water_sample_log['추정가격'][:141]\n",
    "y_test = water_sample_log['추정가격'][140:196]\n",
    "y_train.plot()\n",
    "y_test.plot()"
   ]
  },
  {
   "cell_type": "code",
   "execution_count": 473,
   "id": "c58c75d8",
   "metadata": {},
   "outputs": [
    {
     "name": "stdout",
     "output_type": "stream",
     "text": [
      "추정된 차수 d = 1\n"
     ]
    }
   ],
   "source": [
    "import pandas as pd\n",
    "import matplotlib.pyplot as plt\n",
    "import numpy as np\n",
    "from pmdarima.arima import ndiffs\n",
    "import pmdarima as pm\n",
    "\n",
    "kpss_diffs = ndiffs(y_train, alpha=0.05, test='kpss', max_d=6)\n",
    "adf_diffs = ndiffs(y_train, alpha=0.05, test='adf', max_d=6)\n",
    "n_diffs = max(adf_diffs, kpss_diffs)\n",
    "print(f\"추정된 차수 d = {n_diffs}\")"
   ]
  },
  {
   "cell_type": "code",
   "execution_count": 474,
   "id": "1d7a3683",
   "metadata": {},
   "outputs": [
    {
     "name": "stdout",
     "output_type": "stream",
     "text": [
      "Performing stepwise search to minimize aic\n",
      " ARIMA(0,1,0)(1,0,1)[52] intercept   : AIC=inf, Time=1.24 sec\n",
      " ARIMA(0,1,0)(0,0,0)[52] intercept   : AIC=456.247, Time=0.02 sec\n",
      " ARIMA(1,1,0)(1,0,0)[52] intercept   : AIC=428.556, Time=0.57 sec\n",
      " ARIMA(0,1,1)(0,0,1)[52] intercept   : AIC=398.280, Time=1.10 sec\n",
      " ARIMA(0,1,0)(0,0,0)[52]             : AIC=454.275, Time=0.02 sec\n",
      " ARIMA(0,1,1)(0,0,0)[52] intercept   : AIC=397.693, Time=0.09 sec\n",
      " ARIMA(0,1,1)(1,0,0)[52] intercept   : AIC=398.449, Time=0.83 sec\n",
      " ARIMA(0,1,1)(1,0,1)[52] intercept   : AIC=inf, Time=2.70 sec\n",
      " ARIMA(1,1,1)(0,0,0)[52] intercept   : AIC=inf, Time=0.38 sec\n",
      " ARIMA(0,1,2)(0,0,0)[52] intercept   : AIC=397.975, Time=0.11 sec\n",
      " ARIMA(1,1,0)(0,0,0)[52] intercept   : AIC=427.066, Time=0.04 sec\n",
      " ARIMA(1,1,2)(0,0,0)[52] intercept   : AIC=inf, Time=0.36 sec\n",
      " ARIMA(0,1,1)(0,0,0)[52]             : AIC=395.892, Time=0.03 sec\n",
      " ARIMA(0,1,1)(1,0,0)[52]             : AIC=396.677, Time=0.48 sec\n",
      " ARIMA(0,1,1)(0,0,1)[52]             : AIC=396.502, Time=0.52 sec\n",
      " ARIMA(0,1,1)(1,0,1)[52]             : AIC=inf, Time=1.73 sec\n",
      " ARIMA(1,1,1)(0,0,0)[52]             : AIC=396.069, Time=0.07 sec\n",
      " ARIMA(0,1,2)(0,0,0)[52]             : AIC=396.310, Time=0.07 sec\n",
      " ARIMA(1,1,0)(0,0,0)[52]             : AIC=425.122, Time=0.03 sec\n",
      " ARIMA(1,1,2)(0,0,0)[52]             : AIC=396.506, Time=0.17 sec\n",
      "\n",
      "Best model:  ARIMA(0,1,1)(0,0,0)[52]          \n",
      "Total fit time: 10.603 seconds\n"
     ]
    },
    {
     "data": {
      "text/plain": [
       "ARIMA(order=(0, 1, 1), scoring_args={}, seasonal_order=(0, 0, 0, 52),\n",
       "      suppress_warnings=True, with_intercept=False)"
      ]
     },
     "execution_count": 474,
     "metadata": {},
     "output_type": "execute_result"
    }
   ],
   "source": [
    "model = pm.auto_arima(y = y_train        # 데이터\n",
    "                      , d =1            # 차분 차수, ndiffs 결과!\n",
    "                      , start_p = 0 \n",
    "                      , max_p = 5   \n",
    "                      , start_q = 0 \n",
    "                      , max_q = 5   \n",
    "                      , m = 52       \n",
    "                      , seasonal = True # 계절성 ARIMA가 아니라면 필수!\n",
    "                      , stepwise = True\n",
    "                      , trace=True\n",
    "                      #, trend = True\n",
    "                      )\n",
    "model.fit(y_train)"
   ]
  },
  {
   "cell_type": "code",
   "execution_count": 546,
   "id": "8dc83aa3",
   "metadata": {},
   "outputs": [
    {
     "name": "stdout",
     "output_type": "stream",
     "text": [
      "Performing stepwise search to minimize aic\n",
      " ARIMA(0,0,0)(1,1,1)[52] intercept   : AIC=309.406, Time=2.16 sec\n",
      " ARIMA(0,0,0)(0,1,0)[52] intercept   : AIC=312.594, Time=0.10 sec\n",
      " ARIMA(1,0,0)(1,1,0)[52] intercept   : AIC=305.259, Time=2.22 sec\n",
      " ARIMA(0,0,1)(0,1,1)[52] intercept   : AIC=305.649, Time=2.93 sec\n",
      " ARIMA(0,0,0)(0,1,0)[52]             : AIC=321.558, Time=0.12 sec\n",
      " ARIMA(1,0,0)(0,1,0)[52] intercept   : AIC=309.994, Time=0.26 sec\n",
      " ARIMA(1,0,0)(2,1,0)[52] intercept   : AIC=307.259, Time=6.47 sec\n",
      " ARIMA(1,0,0)(1,1,1)[52] intercept   : AIC=307.259, Time=2.40 sec\n",
      " ARIMA(1,0,0)(0,1,1)[52] intercept   : AIC=305.259, Time=3.71 sec\n",
      " ARIMA(1,0,0)(0,1,2)[52] intercept   : AIC=inf, Time=7.71 sec\n",
      " ARIMA(1,0,0)(1,1,2)[52] intercept   : AIC=309.259, Time=6.37 sec\n",
      " ARIMA(0,0,0)(0,1,1)[52] intercept   : AIC=307.406, Time=2.64 sec\n",
      " ARIMA(1,0,1)(0,1,1)[52] intercept   : AIC=307.057, Time=4.05 sec\n",
      " ARIMA(1,0,0)(0,1,1)[52]             : AIC=312.813, Time=1.74 sec\n",
      "\n",
      "Best model:  ARIMA(1,0,0)(0,1,1)[52] intercept\n",
      "Total fit time: 42.940 seconds\n"
     ]
    }
   ],
   "source": [
    "from pmdarima import auto_arima\n",
    "stepwise_model = auto_arima(y_train, start_p=0, start_q=0,\n",
    "                           max_p=1, max_q=1, m=52,\n",
    "                           start_P=1, seasonal=True\n",
    "                           #d=1\n",
    "                            , D=1, trace=True,\n",
    "                           error_action='ignore',  \n",
    "                           suppress_warnings=True, \n",
    "                           stepwise=True)"
   ]
  },
  {
   "cell_type": "code",
   "execution_count": null,
   "id": "572c53ce",
   "metadata": {},
   "outputs": [],
   "source": []
  },
  {
   "cell_type": "code",
   "execution_count": 723,
   "id": "f3d9d354",
   "metadata": {},
   "outputs": [
    {
     "ename": "ValueError",
     "evalue": "Length of endogenous variable must be larger the the number of lags used in the model and the number of observations burned in the log-likelihood calculation.",
     "output_type": "error",
     "traceback": [
      "\u001b[1;31m---------------------------------------------------------------------------\u001b[0m",
      "\u001b[1;31mValueError\u001b[0m                                Traceback (most recent call last)",
      "\u001b[1;32m~\\AppData\\Local\\Temp/ipykernel_14104/390430431.py\u001b[0m in \u001b[0;36m<module>\u001b[1;34m\u001b[0m\n\u001b[0;32m      3\u001b[0m \u001b[0mSARIMA_results_month\u001b[0m \u001b[1;33m=\u001b[0m \u001b[0mSARIMAMonth\u001b[0m\u001b[1;33m.\u001b[0m\u001b[0mfit\u001b[0m\u001b[1;33m(\u001b[0m\u001b[1;33m)\u001b[0m\u001b[1;33m\u001b[0m\u001b[1;33m\u001b[0m\u001b[0m\n\u001b[0;32m      4\u001b[0m \u001b[1;33m\u001b[0m\u001b[0m\n\u001b[1;32m----> 5\u001b[1;33m \u001b[0mSARIMA_results_month\u001b[0m\u001b[1;33m.\u001b[0m\u001b[0mplot_diagnostics\u001b[0m\u001b[1;33m(\u001b[0m\u001b[0mfigsize\u001b[0m\u001b[1;33m=\u001b[0m\u001b[1;33m(\u001b[0m\u001b[1;36m16\u001b[0m\u001b[1;33m,\u001b[0m \u001b[1;36m8\u001b[0m\u001b[1;33m)\u001b[0m\u001b[1;33m)\u001b[0m\u001b[1;33m\u001b[0m\u001b[1;33m\u001b[0m\u001b[0m\n\u001b[0m\u001b[0;32m      6\u001b[0m \u001b[0mplt\u001b[0m\u001b[1;33m.\u001b[0m\u001b[0mshow\u001b[0m\u001b[1;33m(\u001b[0m\u001b[1;33m)\u001b[0m\u001b[1;33m\u001b[0m\u001b[1;33m\u001b[0m\u001b[0m\n",
      "\u001b[1;32m~\\anaconda3\\lib\\site-packages\\statsmodels\\tsa\\statespace\\mlemodel.py\u001b[0m in \u001b[0;36mplot_diagnostics\u001b[1;34m(self, variable, lags, fig, figsize, truncate_endog_names)\u001b[0m\n\u001b[0;32m   4282\u001b[0m \u001b[1;33m\u001b[0m\u001b[0m\n\u001b[0;32m   4283\u001b[0m         \u001b[1;32mif\u001b[0m \u001b[0mresid\u001b[0m\u001b[1;33m.\u001b[0m\u001b[0mshape\u001b[0m\u001b[1;33m[\u001b[0m\u001b[1;36m0\u001b[0m\u001b[1;33m]\u001b[0m \u001b[1;33m<\u001b[0m \u001b[0mmax\u001b[0m\u001b[1;33m(\u001b[0m\u001b[0md\u001b[0m\u001b[1;33m,\u001b[0m \u001b[0mlags\u001b[0m\u001b[1;33m)\u001b[0m\u001b[1;33m:\u001b[0m\u001b[1;33m\u001b[0m\u001b[1;33m\u001b[0m\u001b[0m\n\u001b[1;32m-> 4284\u001b[1;33m             raise ValueError(\n\u001b[0m\u001b[0;32m   4285\u001b[0m                 \u001b[1;34m\"Length of endogenous variable must be larger the the number \"\u001b[0m\u001b[1;33m\u001b[0m\u001b[1;33m\u001b[0m\u001b[0m\n\u001b[0;32m   4286\u001b[0m                 \u001b[1;34m\"of lags used in the model and the number of observations \"\u001b[0m\u001b[1;33m\u001b[0m\u001b[1;33m\u001b[0m\u001b[0m\n",
      "\u001b[1;31mValueError\u001b[0m: Length of endogenous variable must be larger the the number of lags used in the model and the number of observations burned in the log-likelihood calculation."
     ]
    },
    {
     "data": {
      "text/plain": [
       "<Figure size 1152x576 with 0 Axes>"
      ]
     },
     "metadata": {},
     "output_type": "display_data"
    }
   ],
   "source": [
    "SARIMAMonth = sm.tsa.statespace.SARIMAX(y_train, order=(1,1,0), seasonal_order=(0,1,1,52) ,enforce_stationarity=False,enforce_invertibility=False)\n",
    "\n",
    "SARIMA_results_month = SARIMAMonth.fit()\n",
    "\n",
    "SARIMA_results_month.plot_diagnostics(figsize=(16, 8))\n",
    "plt.show()"
   ]
  },
  {
   "cell_type": "code",
   "execution_count": 728,
   "id": "b071c1b3",
   "metadata": {},
   "outputs": [
    {
     "data": {
      "image/png": "[encoded data removed]",
      "text/plain": [
       "<Figure size 1080x360 with 1 Axes>"
      ]
     },
     "metadata": {},
     "output_type": "display_data"
    }
   ],
   "source": [
    "# 2017년 12개월 데이터로 예측\n",
    "SARIMA_predict_month_train = SARIMA_results_month.predict(start=140,end=196)\n",
    "\n",
    "# 결과 비교를 위해 기존에 마련해둔 test데이터에 결과를 붙임\n",
    "#salesbymonth_test_final['SeasonalARIMA'] = SARIMA_predict_month_1\n",
    "\n",
    "# RMSE를 살펴 봄\n",
    "#RMSE_Month_Seasonal_ARIMA  = np.mean(np.sqrt((salesbymonth_test_final['SeasonalARIMA'] - salesbymonth_test_final['sales']) ** 2)) \n",
    "#print(RMSE_Month_Seasonal_ARIMA)\n",
    "\n",
    "# test 데이터와 예측 결과치를 비교\n",
    "plt.figure(figsize=(15,5))\n",
    "plt.plot(SARIMA_predict_month_train,label = 'predicted_mean')\n",
    "plt.plot(y_train,label='y_test')\n",
    "plt.plot(y_test,label='y_test')\n",
    "plt.legend()\n",
    "plt.show()"
   ]
  },
  {
   "cell_type": "code",
   "execution_count": 722,
   "id": "4fd1c619",
   "metadata": {},
   "outputs": [
    {
     "data": {
      "text/plain": [
       "<AxesSubplot:>"
      ]
     },
     "execution_count": 722,
     "metadata": {},
     "output_type": "execute_result"
    },
    {
     "data": {
      "image/png": "[encoded data removed]",
      "text/plain": [
       "<Figure size 432x288 with 1 Axes>"
      ]
     },
     "metadata": {},
     "output_type": "display_data"
    }
   ],
   "source": [
    "test_pred=pd.DataFrame({\"test\": y_test, \"pred\": SARIMA_predict_month_train})\n",
    "test_pred.plot()\n",
    "#test_pred #11061990545.46"
   ]
  },
  {
   "cell_type": "code",
   "execution_count": 740,
   "id": "daa7cc43",
   "metadata": {},
   "outputs": [],
   "source": [
    "prediction = SARIMA_results_month.get_forecast(len(y_test))\n",
    "predicted_value = prediction.predicted_mean\n",
    "predicted_ub = prediction.conf_int()['lower 추정가격']\n",
    "predicted_lb = prediction.conf_int()['upper 추정가격']\n",
    "predict_index = list(y_test.index)\n",
    "r2 = r2_score(y_test, predicted_value)"
   ]
  },
  {
   "cell_type": "code",
   "execution_count": 741,
   "id": "f86ca022",
   "metadata": {},
   "outputs": [
    {
     "data": {
      "text/plain": [
       "2020-12-20   21.55\n",
       "2020-12-27   18.32\n",
       "2021-01-03   18.65\n",
       "2021-01-10   17.09\n",
       "2021-01-17   17.82\n",
       "2021-01-24   15.93\n",
       "2021-01-31   17.03\n",
       "2021-02-07   16.84\n",
       "2021-02-14   15.99\n",
       "2021-02-21   16.12\n",
       "2021-02-28   16.40\n",
       "2021-03-07   14.64\n",
       "2021-03-14   15.36\n",
       "2021-03-21   14.53\n",
       "2021-03-28   14.54\n",
       "2021-04-04   13.85\n",
       "2021-04-11   13.73\n",
       "2021-04-18   14.86\n",
       "2021-04-25   13.02\n",
       "2021-05-02   13.10\n",
       "2021-05-09   12.84\n",
       "2021-05-16   12.47\n",
       "2021-05-23   12.99\n",
       "2021-05-30   13.05\n",
       "2021-06-06   13.02\n",
       "2021-06-13   12.23\n",
       "2021-06-20   12.00\n",
       "2021-06-27   12.51\n",
       "2021-07-04   11.06\n",
       "2021-07-11   10.89\n",
       "2021-07-18   10.89\n",
       "2021-07-25    9.66\n",
       "2021-08-01   10.43\n",
       "2021-08-08   10.91\n",
       "2021-08-15   10.42\n",
       "2021-08-22    9.35\n",
       "2021-08-29    8.26\n",
       "2021-09-05    8.76\n",
       "2021-09-12    9.54\n",
       "2021-09-19    9.04\n",
       "2021-09-26    8.15\n",
       "2021-10-03    9.08\n",
       "2021-10-10    8.28\n",
       "2021-10-17    8.61\n",
       "2021-10-24    7.49\n",
       "2021-10-31    7.78\n",
       "2021-11-07    7.99\n",
       "2021-11-14    7.64\n",
       "2021-11-21    8.24\n",
       "2021-11-28    6.97\n",
       "2021-12-05    6.88\n",
       "2021-12-12    7.12\n",
       "2021-12-19    7.48\n",
       "2021-12-26    4.70\n",
       "2022-01-02    5.33\n",
       "2022-01-09    3.97\n",
       "Freq: W-SUN, Name: lower 추정가격, dtype: float64"
      ]
     },
     "execution_count": 741,
     "metadata": {},
     "output_type": "execute_result"
    }
   ],
   "source": [
    "predicted_ub"
   ]
  },
  {
   "cell_type": "code",
   "execution_count": 742,
   "id": "9eca85e0",
   "metadata": {},
   "outputs": [
    {
     "data": {
      "text/plain": [
       "<matplotlib.legend.Legend at 0x1d427734970>"
      ]
     },
     "execution_count": 742,
     "metadata": {},
     "output_type": "execute_result"
    },
    {
     "data": {
      "image/png": "[encoded data removed]",
      "text/plain": [
       "<Figure size 864x432 with 1 Axes>"
      ]
     },
     "metadata": {},
     "output_type": "display_data"
    }
   ],
   "source": [
    "fig, ax = plt.subplots(figsize=(12,6))\n",
    "ax.plot(predict_index, predicted_value, linestyle='--', label='Prediction', color='gray')\n",
    "ax.plot(y_test[predict_index[0]:].index, y_test[predict_index[0]:], label='passengers',color='blue')\n",
    "ax.fill_between(predict_index, predicted_lb, predicted_ub, color='k', alpha=0.1, label='0.95 prediction interval')\n",
    "plt.legend(loc='upper left')"
   ]
  },
  {
   "cell_type": "code",
   "execution_count": null,
   "id": "8ec37407",
   "metadata": {},
   "outputs": [],
   "source": []
  },
  {
   "cell_type": "code",
   "execution_count": 668,
   "id": "5c55c923",
   "metadata": {},
   "outputs": [
    {
     "name": "stdout",
     "output_type": "stream",
     "text": [
      "-0.14094999043361067\n"
     ]
    }
   ],
   "source": [
    "from sklearn.metrics import r2_score\n",
    "y_test_temp = y_test[:6]\n",
    "R2 = r2_score(y_test_temp.values, SARIMA_predict_month_train.values)\n",
    "print(R2)"
   ]
  },
  {
   "cell_type": "code",
   "execution_count": 730,
   "id": "c3891ba6",
   "metadata": {},
   "outputs": [
    {
     "data": {
      "text/plain": [
       "<AxesSubplot:xlabel='date'>"
      ]
     },
     "execution_count": 730,
     "metadata": {},
     "output_type": "execute_result"
    },
    {
     "data": {
      "image/png": "[encoded data removed]",
      "text/plain": [
       "<Figure size 432x288 with 1 Axes>"
      ]
     },
     "metadata": {},
     "output_type": "display_data"
    }
   ],
   "source": [
    "y_test.plot()\n",
    "SARIMA_predict_month_train.plot()"
   ]
  },
  {
   "cell_type": "code",
   "execution_count": null,
   "id": "6f193526",
   "metadata": {},
   "outputs": [],
   "source": []
  },
  {
   "cell_type": "code",
   "execution_count": 767,
   "id": "369049b3",
   "metadata": {},
   "outputs": [
    {
     "data": {
      "application/vnd.plotly.v1+json": {
       "config": {
        "plotlyServerURL": "https://plot.ly"
       },
       "data": [
        {
         "line": {
          "color": "royalblue"
         },
         "mode": "lines",
         "name": "Train",
         "type": "scatter",
         "x": [
          "2018-04-08T00:00:00",
          "2018-04-15T00:00:00",
          "2018-04-22T00:00:00",
          "2018-04-29T00:00:00",
          "2018-05-06T00:00:00",
          "2018-05-13T00:00:00",
          "2018-05-20T00:00:00",
          "2018-05-27T00:00:00",
          "2018-06-03T00:00:00",
          "2018-06-10T00:00:00",
          "2018-06-17T00:00:00",
          "2018-06-24T00:00:00",
          "2018-07-01T00:00:00",
          "2018-07-08T00:00:00",
          "2018-07-15T00:00:00",
          "2018-07-22T00:00:00",
          "2018-07-29T00:00:00",
          "2018-08-05T00:00:00",
          "2018-08-12T00:00:00",
          "2018-08-19T00:00:00",
          "2018-08-26T00:00:00",
          "2018-09-02T00:00:00",
          "2018-09-09T00:00:00",
          "2018-09-16T00:00:00",
          "2018-09-23T00:00:00",
          "2018-09-30T00:00:00",
          "2018-10-07T00:00:00",
          "2018-10-14T00:00:00",
          "2018-10-21T00:00:00",
          "2018-10-28T00:00:00",
          "2018-11-04T00:00:00",
          "2018-11-11T00:00:00",
          "2018-11-18T00:00:00",
          "2018-11-25T00:00:00",
          "2018-12-02T00:00:00",
          "2018-12-09T00:00:00",
          "2018-12-16T00:00:00",
          "2018-12-23T00:00:00",
          "2018-12-30T00:00:00",
          "2019-01-06T00:00:00",
          "2019-01-13T00:00:00",
          "2019-01-20T00:00:00",
          "2019-01-27T00:00:00",
          "2019-02-03T00:00:00",
          "2019-02-10T00:00:00",
          "2019-02-17T00:00:00",
          "2019-02-24T00:00:00",
          "2019-03-03T00:00:00",
          "2019-03-10T00:00:00",
          "2019-03-17T00:00:00",
          "2019-03-24T00:00:00",
          "2019-03-31T00:00:00",
          "2019-04-07T00:00:00",
          "2019-04-14T00:00:00",
          "2019-04-21T00:00:00",
          "2019-04-28T00:00:00",
          "2019-05-05T00:00:00",
          "2019-05-12T00:00:00",
          "2019-05-19T00:00:00",
          "2019-05-26T00:00:00",
          "2019-06-02T00:00:00",
          "2019-06-09T00:00:00",
          "2019-06-16T00:00:00",
          "2019-06-23T00:00:00",
          "2019-06-30T00:00:00",
          "2019-07-07T00:00:00",
          "2019-07-14T00:00:00",
          "2019-07-21T00:00:00",
          "2019-07-28T00:00:00",
          "2019-08-04T00:00:00",
          "2019-08-11T00:00:00",
          "2019-08-18T00:00:00",
          "2019-08-25T00:00:00",
          "2019-09-01T00:00:00",
          "2019-09-08T00:00:00",
          "2019-09-15T00:00:00",
          "2019-09-22T00:00:00",
          "2019-09-29T00:00:00",
          "2019-10-06T00:00:00",
          "2019-10-13T00:00:00",
          "2019-10-20T00:00:00",
          "2019-10-27T00:00:00",
          "2019-11-03T00:00:00",
          "2019-11-10T00:00:00",
          "2019-11-17T00:00:00",
          "2019-11-24T00:00:00",
          "2019-12-01T00:00:00",
          "2019-12-08T00:00:00",
          "2019-12-15T00:00:00",
          "2019-12-22T00:00:00",
          "2019-12-29T00:00:00",
          "2020-01-05T00:00:00",
          "2020-01-12T00:00:00",
          "2020-01-19T00:00:00",
          "2020-01-26T00:00:00",
          "2020-02-02T00:00:00",
          "2020-02-09T00:00:00",
          "2020-02-16T00:00:00",
          "2020-02-23T00:00:00",
          "2020-03-01T00:00:00",
          "2020-03-08T00:00:00",
          "2020-03-15T00:00:00",
          "2020-03-22T00:00:00",
          "2020-03-29T00:00:00",
          "2020-04-05T00:00:00",
          "2020-04-12T00:00:00",
          "2020-04-19T00:00:00",
          "2020-04-26T00:00:00",
          "2020-05-03T00:00:00",
          "2020-05-10T00:00:00",
          "2020-05-17T00:00:00",
          "2020-05-24T00:00:00",
          "2020-05-31T00:00:00",
          "2020-06-07T00:00:00",
          "2020-06-14T00:00:00",
          "2020-06-21T00:00:00",
          "2020-06-28T00:00:00",
          "2020-07-05T00:00:00",
          "2020-07-12T00:00:00",
          "2020-07-19T00:00:00",
          "2020-07-26T00:00:00",
          "2020-08-02T00:00:00",
          "2020-08-09T00:00:00",
          "2020-08-16T00:00:00",
          "2020-08-23T00:00:00",
          "2020-08-30T00:00:00",
          "2020-09-06T00:00:00",
          "2020-09-13T00:00:00",
          "2020-09-20T00:00:00",
          "2020-09-27T00:00:00",
          "2020-10-04T00:00:00",
          "2020-10-11T00:00:00",
          "2020-10-18T00:00:00",
          "2020-10-25T00:00:00",
          "2020-11-01T00:00:00",
          "2020-11-08T00:00:00",
          "2020-11-15T00:00:00",
          "2020-11-22T00:00:00",
          "2020-11-29T00:00:00",
          "2020-12-06T00:00:00",
          "2020-12-13T00:00:00"
         ],
         "y": [
          20.916687640744215,
          21.465588562169092,
          22.364522865090727,
          21.359403975098175,
          22.849912549261564,
          26.024385147505466,
          23.007629299809366,
          22.265601987546543,
          24.075465366448476,
          24.644013670130217,
          21.77259722605417,
          21.11133755321854,
          22.122404357557496,
          21.69999678850656,
          23.792088458586058,
          21.55016003688176,
          22.286279407644916,
          22.372259752471685,
          22.00457055529329,
          22.414249804000004,
          21.71848425262443,
          23.49661311515985,
          22.06103596890802,
          22.621976555943643,
          22.89210432558812,
          20.129397713404025,
          20.924553561007258,
          20.92595506480062,
          20.604502076661806,
          21.559561697536186,
          20.514640262946756,
          21.46329946599653,
          20.990075821462792,
          21.087155958773835,
          22.534806626054102,
          22.182200854953596,
          22.0801256201086,
          21.5662015215785,
          22.033615351429603,
          20.341202752879813,
          20.40729210309093,
          21.983152457588684,
          20.73608565184006,
          23.07690809404645,
          20.3338197381533,
          22.205730902285993,
          22.6069518985522,
          24.294684809627757,
          22.29915937528863,
          23.385049973657445,
          22.251568224800035,
          22.55664747646868,
          22.79427716564949,
          23.793425676578543,
          22.69759827580601,
          22.097747982731462,
          22.69930816627172,
          22.869946785141646,
          21.86476774464525,
          21.760969275909165,
          22.168896510603894,
          23.148545283705438,
          23.111705574372866,
          22.06695439971148,
          22.193356965815006,
          22.927631287120384,
          22.670561939410156,
          22.89385612758477,
          22.437783779846043,
          23.28509383657359,
          22.63766902805084,
          21.617636624630133,
          22.652736136311447,
          21.832002037441242,
          22.332015252420867,
          21.157156030448313,
          22.67174848143902,
          22.826924503800146,
          23.086378661416116,
          23.82527584384545,
          24.837026205727824,
          22.677644172345072,
          23.01521827305582,
          22.18995648937562,
          22.36383622536911,
          24.25020415966392,
          22.169358410265062,
          22.278835775770215,
          22.66229546081281,
          24.1345675904021,
          20.53157007930452,
          22.795803350577504,
          21.39874790409879,
          22.540512427449453,
          21.082130900820655,
          22.275030546588876,
          23.829277146914254,
          22.35175817527519,
          22.906599491708516,
          23.081937489227276,
          21.917262289045627,
          22.951823044733537,
          22.72225710417949,
          23.045399767485723,
          22.36677907249706,
          22.175242804800785,
          24.54294024851204,
          22.535402604916683,
          22.609308296782373,
          22.0501851233656,
          22.693615523644503,
          24.0053783089819,
          24.021978353191326,
          23.90058669039908,
          23.521555063073688,
          23.984459803747942,
          24.88765719497762,
          22.83541046567167,
          22.66072610034602,
          23.246969151658615,
          21.74595435081162,
          22.906475394429023,
          24.229713764079893,
          24.087161601981663,
          22.497450201676244,
          21.164067779552234,
          22.246409860389342,
          24.048855986099856,
          22.983617158081383,
          22.28902156424535,
          23.7535790080684,
          22.55220925502443,
          23.009056894352057,
          22.207047982440564,
          22.94217601418682,
          23.66120437500403,
          23.406222006733866,
          23.877055991551586,
          22.714816842562232,
          22.84376127297566,
          23.340709827015072
         ]
        },
        {
         "line": {
          "color": "rgba(0,0,30,0.5)"
         },
         "mode": "lines",
         "name": "Test",
         "type": "scatter",
         "x": [
          "2020-12-13T00:00:00",
          "2020-12-20T00:00:00",
          "2020-12-27T00:00:00",
          "2021-01-03T00:00:00",
          "2021-01-10T00:00:00",
          "2021-01-17T00:00:00",
          "2021-01-24T00:00:00",
          "2021-01-31T00:00:00",
          "2021-02-07T00:00:00",
          "2021-02-14T00:00:00",
          "2021-02-21T00:00:00",
          "2021-02-28T00:00:00",
          "2021-03-07T00:00:00",
          "2021-03-14T00:00:00",
          "2021-03-21T00:00:00",
          "2021-03-28T00:00:00",
          "2021-04-04T00:00:00",
          "2021-04-11T00:00:00",
          "2021-04-18T00:00:00",
          "2021-04-25T00:00:00",
          "2021-05-02T00:00:00",
          "2021-05-09T00:00:00",
          "2021-05-16T00:00:00",
          "2021-05-23T00:00:00",
          "2021-05-30T00:00:00",
          "2021-06-06T00:00:00",
          "2021-06-13T00:00:00",
          "2021-06-20T00:00:00",
          "2021-06-27T00:00:00",
          "2021-07-04T00:00:00",
          "2021-07-11T00:00:00",
          "2021-07-18T00:00:00",
          "2021-07-25T00:00:00",
          "2021-08-01T00:00:00",
          "2021-08-08T00:00:00",
          "2021-08-15T00:00:00",
          "2021-08-22T00:00:00",
          "2021-08-29T00:00:00",
          "2021-09-05T00:00:00",
          "2021-09-12T00:00:00",
          "2021-09-19T00:00:00",
          "2021-09-26T00:00:00",
          "2021-10-03T00:00:00",
          "2021-10-10T00:00:00",
          "2021-10-17T00:00:00",
          "2021-10-24T00:00:00",
          "2021-10-31T00:00:00",
          "2021-11-07T00:00:00",
          "2021-11-14T00:00:00",
          "2021-11-21T00:00:00",
          "2021-11-28T00:00:00",
          "2021-12-05T00:00:00",
          "2021-12-12T00:00:00",
          "2021-12-19T00:00:00",
          "2021-12-26T00:00:00",
          "2022-01-02T00:00:00"
         ],
         "y": [
          23.340709827015072,
          23.839797573894188,
          22.931120851764643,
          22.514184569521095,
          22.277327063813743,
          22.78677233756705,
          22.433327932100784,
          22.32940248620266,
          23.371855898846555,
          23.006296583819957,
          22.542703112296156,
          22.14805973777498,
          23.849230871711192,
          23.37813606465011,
          23.636765781103932,
          23.0518636464199,
          23.68035081117798,
          22.58094794710114,
          23.036313391612445,
          21.903305566410154,
          23.304283038579808,
          22.45980673902649,
          23.016676394300347,
          22.90550785158181,
          22.550336898436623,
          23.834528195501633,
          23.29596360349518,
          23.052475685958473,
          22.281935642531522,
          22.61862568109303,
          22.149026513028144,
          22.61934817005785,
          23.040217034325003,
          23.203431762236548,
          22.668367327411197,
          23.19627451146009,
          22.890560925578683,
          23.16748945347873,
          23.539271635566884,
          22.63598213025414,
          22.807514999350524,
          21.01587393334542,
          22.22174783083468,
          23.731297505635453,
          22.533007994889896,
          22.6455012024583,
          23.5259710942154,
          24.2697787172007,
          24.035204906823303,
          22.95679397068564,
          22.58769597316172,
          23.452677663853947,
          23.468780286186664,
          23.862154091171,
          22.660148797550036,
          22.241933783190323
         ]
        },
        {
         "line": {
          "color": "red",
          "dash": "dot",
          "width": 3
         },
         "mode": "lines",
         "name": "Prediction",
         "type": "scatter",
         "x": [
          "2020-12-13T00:00:00",
          "2020-12-20T00:00:00",
          "2020-12-27T00:00:00",
          "2021-01-03T00:00:00",
          "2021-01-10T00:00:00",
          "2021-01-17T00:00:00",
          "2021-01-24T00:00:00",
          "2021-01-31T00:00:00",
          "2021-02-07T00:00:00",
          "2021-02-14T00:00:00",
          "2021-02-21T00:00:00",
          "2021-02-28T00:00:00",
          "2021-03-07T00:00:00",
          "2021-03-14T00:00:00",
          "2021-03-21T00:00:00",
          "2021-03-28T00:00:00",
          "2021-04-04T00:00:00",
          "2021-04-11T00:00:00",
          "2021-04-18T00:00:00",
          "2021-04-25T00:00:00",
          "2021-05-02T00:00:00",
          "2021-05-09T00:00:00",
          "2021-05-16T00:00:00",
          "2021-05-23T00:00:00",
          "2021-05-30T00:00:00",
          "2021-06-06T00:00:00",
          "2021-06-13T00:00:00",
          "2021-06-20T00:00:00",
          "2021-06-27T00:00:00",
          "2021-07-04T00:00:00",
          "2021-07-11T00:00:00",
          "2021-07-18T00:00:00",
          "2021-07-25T00:00:00",
          "2021-08-01T00:00:00",
          "2021-08-08T00:00:00",
          "2021-08-15T00:00:00",
          "2021-08-22T00:00:00",
          "2021-08-29T00:00:00",
          "2021-09-05T00:00:00",
          "2021-09-12T00:00:00",
          "2021-09-19T00:00:00",
          "2021-09-26T00:00:00",
          "2021-10-03T00:00:00",
          "2021-10-10T00:00:00",
          "2021-10-17T00:00:00",
          "2021-10-24T00:00:00",
          "2021-10-31T00:00:00",
          "2021-11-07T00:00:00",
          "2021-11-14T00:00:00",
          "2021-11-21T00:00:00",
          "2021-11-28T00:00:00",
          "2021-12-05T00:00:00",
          "2021-12-12T00:00:00",
          "2021-12-19T00:00:00",
          "2021-12-26T00:00:00",
          "2022-01-02T00:00:00"
         ],
         "y": [
          23.059583303100524,
          24.17306269572925,
          21.822903622265137,
          22.872308679588986,
          21.924387151882183,
          23.199384475358716,
          21.805863159932738,
          23.35109786151488,
          23.5863509307634,
          23.13688233966568,
          23.644572488769303,
          24.284114194283653,
          22.864423857064413,
          23.91473931839094,
          23.407731922111296,
          23.725330287486656,
          23.32793716189414,
          23.501892241805827,
          24.902400251043098,
          23.329833139940966,
          23.674979980999993,
          23.67555914622018,
          23.55113244006148,
          24.316844445174894,
          24.61185773701408,
          24.82080309394803,
          24.262912217147985,
          24.25482441538799,
          24.98681073448042,
          23.758491023563856,
          23.80021686210628,
          24.007074641259624,
          22.98413977617301,
          23.95934457124156,
          24.643906446123538,
          24.352713607605764,
          23.472414298997943,
          22.583043100497296,
          23.266746637143655,
          24.2408491272346,
          23.920369316427994,
          23.210246493710926,
          24.32216384544668,
          23.701560851308578,
          24.207779337003352,
          23.269737308268986,
          23.726364040841332,
          24.106599133536193,
          23.929636552557646,
          24.694035743365543,
          23.58750624578354,
          23.6617947285074,
          24.06978836330349,
          24.912405237390207,
          22.56106185835667,
          23.61060356600667,
          22.662666270991053
         ]
        },
        {
         "fill": "toself",
         "fillcolor": "rgba(0,0,30,0.1)",
         "hoverinfo": "skip",
         "line": {
          "color": "rgba(0,0,0,0)"
         },
         "showlegend": false,
         "type": "scatter",
         "x": [
          "2020-12-13T00:00:00",
          "2020-12-20T00:00:00",
          "2020-12-27T00:00:00",
          "2021-01-03T00:00:00",
          "2021-01-10T00:00:00",
          "2021-01-17T00:00:00",
          "2021-01-24T00:00:00",
          "2021-01-31T00:00:00",
          "2021-02-07T00:00:00",
          "2021-02-14T00:00:00",
          "2021-02-21T00:00:00",
          "2021-02-28T00:00:00",
          "2021-03-07T00:00:00",
          "2021-03-14T00:00:00",
          "2021-03-21T00:00:00",
          "2021-03-28T00:00:00",
          "2021-04-04T00:00:00",
          "2021-04-11T00:00:00",
          "2021-04-18T00:00:00",
          "2021-04-25T00:00:00",
          "2021-05-02T00:00:00",
          "2021-05-09T00:00:00",
          "2021-05-16T00:00:00",
          "2021-05-23T00:00:00",
          "2021-05-30T00:00:00",
          "2021-06-06T00:00:00",
          "2021-06-13T00:00:00",
          "2021-06-20T00:00:00",
          "2021-06-27T00:00:00",
          "2021-07-04T00:00:00",
          "2021-07-11T00:00:00",
          "2021-07-18T00:00:00",
          "2021-07-25T00:00:00",
          "2021-08-01T00:00:00",
          "2021-08-08T00:00:00",
          "2021-08-15T00:00:00",
          "2021-08-22T00:00:00",
          "2021-08-29T00:00:00",
          "2021-09-05T00:00:00",
          "2021-09-12T00:00:00",
          "2021-09-19T00:00:00",
          "2021-09-26T00:00:00",
          "2021-10-03T00:00:00",
          "2021-10-10T00:00:00",
          "2021-10-17T00:00:00",
          "2021-10-24T00:00:00",
          "2021-10-31T00:00:00",
          "2021-11-07T00:00:00",
          "2021-11-14T00:00:00",
          "2021-11-21T00:00:00",
          "2021-11-28T00:00:00",
          "2021-12-05T00:00:00",
          "2021-12-12T00:00:00",
          "2021-12-19T00:00:00",
          "2021-12-26T00:00:00",
          "2022-01-02T00:00:00",
          "2022-01-02T00:00:00",
          "2021-12-26T00:00:00",
          "2021-12-19T00:00:00",
          "2021-12-12T00:00:00",
          "2021-12-05T00:00:00",
          "2021-11-28T00:00:00",
          "2021-11-21T00:00:00",
          "2021-11-14T00:00:00",
          "2021-11-07T00:00:00",
          "2021-10-31T00:00:00",
          "2021-10-24T00:00:00",
          "2021-10-17T00:00:00",
          "2021-10-10T00:00:00",
          "2021-10-03T00:00:00",
          "2021-09-26T00:00:00",
          "2021-09-19T00:00:00",
          "2021-09-12T00:00:00",
          "2021-09-05T00:00:00",
          "2021-08-29T00:00:00",
          "2021-08-22T00:00:00",
          "2021-08-15T00:00:00",
          "2021-08-08T00:00:00",
          "2021-08-01T00:00:00",
          "2021-07-25T00:00:00",
          "2021-07-18T00:00:00",
          "2021-07-11T00:00:00",
          "2021-07-04T00:00:00",
          "2021-06-27T00:00:00",
          "2021-06-20T00:00:00",
          "2021-06-13T00:00:00",
          "2021-06-06T00:00:00",
          "2021-05-30T00:00:00",
          "2021-05-23T00:00:00",
          "2021-05-16T00:00:00",
          "2021-05-09T00:00:00",
          "2021-05-02T00:00:00",
          "2021-04-25T00:00:00",
          "2021-04-18T00:00:00",
          "2021-04-11T00:00:00",
          "2021-04-04T00:00:00",
          "2021-03-28T00:00:00",
          "2021-03-21T00:00:00",
          "2021-03-14T00:00:00",
          "2021-03-07T00:00:00",
          "2021-02-28T00:00:00",
          "2021-02-21T00:00:00",
          "2021-02-14T00:00:00",
          "2021-02-07T00:00:00",
          "2021-01-31T00:00:00",
          "2021-01-24T00:00:00",
          "2021-01-17T00:00:00",
          "2021-01-10T00:00:00",
          "2021-01-03T00:00:00",
          "2020-12-27T00:00:00",
          "2020-12-20T00:00:00",
          "2020-12-13T00:00:00"
         ],
         "y": [
          24.17306269572925,
          21.822903622265137,
          22.872308679588986,
          21.924387151882183,
          23.199384475358716,
          21.805863159932738,
          23.35109786151488,
          23.5863509307634,
          23.13688233966568,
          23.644572488769303,
          24.284114194283653,
          22.864423857064413,
          23.91473931839094,
          23.407731922111296,
          23.725330287486656,
          23.32793716189414,
          23.501892241805827,
          24.902400251043098,
          23.329833139940966,
          23.674979980999993,
          23.67555914622018,
          23.55113244006148,
          24.316844445174894,
          24.611857737014077,
          24.82080309394803,
          24.262912217147985,
          24.25482441538799,
          24.98681073448042,
          23.758491023563856,
          23.800216862106275,
          24.007074641259624,
          22.98413977617301,
          23.95934457124156,
          24.643906446123538,
          24.352713607605764,
          23.472414298997943,
          22.583043100497292,
          23.266746637143655,
          24.240849127234597,
          23.920369316427994,
          23.210246493710926,
          24.32216384544668,
          23.701560851308578,
          24.207779337003352,
          23.269737308268986,
          23.726364040841332,
          24.106599133536193,
          23.929636552557646,
          24.694035743365546,
          23.587506245783537,
          23.6617947285074,
          24.06978836330349,
          24.912405237390207,
          22.561061858356673,
          23.610603566006667,
          22.662666270991053
         ]
        }
       ],
       "layout": {
        "height": 400,
        "template": {
         "data": {
          "bar": [
           {
            "error_x": {
             "color": "#2a3f5f"
            },
            "error_y": {
             "color": "#2a3f5f"
            },
            "marker": {
             "line": {
              "color": "#E5ECF6",
              "width": 0.5
             },
             "pattern": {
              "fillmode": "overlay",
              "size": 10,
              "solidity": 0.2
             }
            },
            "type": "bar"
           }
          ],
          "barpolar": [
           {
            "marker": {
             "line": {
              "color": "#E5ECF6",
              "width": 0.5
             },
             "pattern": {
              "fillmode": "overlay",
              "size": 10,
              "solidity": 0.2
             }
            },
            "type": "barpolar"
           }
          ],
          "carpet": [
           {
            "aaxis": {
             "endlinecolor": "#2a3f5f",
             "gridcolor": "white",
             "linecolor": "white",
             "minorgridcolor": "white",
             "startlinecolor": "#2a3f5f"
            },
            "baxis": {
             "endlinecolor": "#2a3f5f",
             "gridcolor": "white",
             "linecolor": "white",
             "minorgridcolor": "white",
             "startlinecolor": "#2a3f5f"
            },
            "type": "carpet"
           }
          ],
          "choropleth": [
           {
            "colorbar": {
             "outlinewidth": 0,
             "ticks": ""
            },
            "type": "choropleth"
           }
          ],
          "contour": [
           {
            "colorbar": {
             "outlinewidth": 0,
             "ticks": ""
            },
            "colorscale": [
             [
              0,
              "#0d0887"
             ],
             [
              0.1111111111111111,
              "#46039f"
             ],
             [
              0.2222222222222222,
              "#7201a8"
             ],
             [
              0.3333333333333333,
              "#9c179e"
             ],
             [
              0.4444444444444444,
              "#bd3786"
             ],
             [
              0.5555555555555556,
              "#d8576b"
             ],
             [
              0.6666666666666666,
              "#ed7953"
             ],
             [
              0.7777777777777778,
              "#fb9f3a"
             ],
             [
              0.8888888888888888,
              "#fdca26"
             ],
             [
              1,
              "#f0f921"
             ]
            ],
            "type": "contour"
           }
          ],
          "contourcarpet": [
           {
            "colorbar": {
             "outlinewidth": 0,
             "ticks": ""
            },
            "type": "contourcarpet"
           }
          ],
          "heatmap": [
           {
            "colorbar": {
             "outlinewidth": 0,
             "ticks": ""
            },
            "colorscale": [
             [
              0,
              "#0d0887"
             ],
             [
              0.1111111111111111,
              "#46039f"
             ],
             [
              0.2222222222222222,
              "#7201a8"
             ],
             [
              0.3333333333333333,
              "#9c179e"
             ],
             [
              0.4444444444444444,
              "#bd3786"
             ],
             [
              0.5555555555555556,
              "#d8576b"
             ],
             [
              0.6666666666666666,
              "#ed7953"
             ],
             [
              0.7777777777777778,
              "#fb9f3a"
             ],
             [
              0.8888888888888888,
              "#fdca26"
             ],
             [
              1,
              "#f0f921"
             ]
            ],
            "type": "heatmap"
           }
          ],
          "heatmapgl": [
           {
            "colorbar": {
             "outlinewidth": 0,
             "ticks": ""
            },
            "colorscale": [
             [
              0,
              "#0d0887"
             ],
             [
              0.1111111111111111,
              "#46039f"
             ],
             [
              0.2222222222222222,
              "#7201a8"
             ],
             [
              0.3333333333333333,
              "#9c179e"
             ],
             [
              0.4444444444444444,
              "#bd3786"
             ],
             [
              0.5555555555555556,
              "#d8576b"
             ],
             [
              0.6666666666666666,
              "#ed7953"
             ],
             [
              0.7777777777777778,
              "#fb9f3a"
             ],
             [
              0.8888888888888888,
              "#fdca26"
             ],
             [
              1,
              "#f0f921"
             ]
            ],
            "type": "heatmapgl"
           }
          ],
          "histogram": [
           {
            "marker": {
             "pattern": {
              "fillmode": "overlay",
              "size": 10,
              "solidity": 0.2
             }
            },
            "type": "histogram"
           }
          ],
          "histogram2d": [
           {
            "colorbar": {
             "outlinewidth": 0,
             "ticks": ""
            },
            "colorscale": [
             [
              0,
              "#0d0887"
             ],
             [
              0.1111111111111111,
              "#46039f"
             ],
             [
              0.2222222222222222,
              "#7201a8"
             ],
             [
              0.3333333333333333,
              "#9c179e"
             ],
             [
              0.4444444444444444,
              "#bd3786"
             ],
             [
              0.5555555555555556,
              "#d8576b"
             ],
             [
              0.6666666666666666,
              "#ed7953"
             ],
             [
              0.7777777777777778,
              "#fb9f3a"
             ],
             [
              0.8888888888888888,
              "#fdca26"
             ],
             [
              1,
              "#f0f921"
             ]
            ],
            "type": "histogram2d"
           }
          ],
          "histogram2dcontour": [
           {
            "colorbar": {
             "outlinewidth": 0,
             "ticks": ""
            },
            "colorscale": [
             [
              0,
              "#0d0887"
             ],
             [
              0.1111111111111111,
              "#46039f"
             ],
             [
              0.2222222222222222,
              "#7201a8"
             ],
             [
              0.3333333333333333,
              "#9c179e"
             ],
             [
              0.4444444444444444,
              "#bd3786"
             ],
             [
              0.5555555555555556,
              "#d8576b"
             ],
             [
              0.6666666666666666,
              "#ed7953"
             ],
             [
              0.7777777777777778,
              "#fb9f3a"
             ],
             [
              0.8888888888888888,
              "#fdca26"
             ],
             [
              1,
              "#f0f921"
             ]
            ],
            "type": "histogram2dcontour"
           }
          ],
          "mesh3d": [
           {
            "colorbar": {
             "outlinewidth": 0,
             "ticks": ""
            },
            "type": "mesh3d"
           }
          ],
          "parcoords": [
           {
            "line": {
             "colorbar": {
              "outlinewidth": 0,
              "ticks": ""
             }
            },
            "type": "parcoords"
           }
          ],
          "pie": [
           {
            "automargin": true,
            "type": "pie"
           }
          ],
          "scatter": [
           {
            "marker": {
             "colorbar": {
              "outlinewidth": 0,
              "ticks": ""
             }
            },
            "type": "scatter"
           }
          ],
          "scatter3d": [
           {
            "line": {
             "colorbar": {
              "outlinewidth": 0,
              "ticks": ""
             }
            },
            "marker": {
             "colorbar": {
              "outlinewidth": 0,
              "ticks": ""
             }
            },
            "type": "scatter3d"
           }
          ],
          "scattercarpet": [
           {
            "marker": {
             "colorbar": {
              "outlinewidth": 0,
              "ticks": ""
             }
            },
            "type": "scattercarpet"
           }
          ],
          "scattergeo": [
           {
            "marker": {
             "colorbar": {
              "outlinewidth": 0,
              "ticks": ""
             }
            },
            "type": "scattergeo"
           }
          ],
          "scattergl": [
           {
            "marker": {
             "colorbar": {
              "outlinewidth": 0,
              "ticks": ""
             }
            },
            "type": "scattergl"
           }
          ],
          "scattermapbox": [
           {
            "marker": {
             "colorbar": {
              "outlinewidth": 0,
              "ticks": ""
             }
            },
            "type": "scattermapbox"
           }
          ],
          "scatterpolar": [
           {
            "marker": {
             "colorbar": {
              "outlinewidth": 0,
              "ticks": ""
             }
            },
            "type": "scatterpolar"
           }
          ],
          "scatterpolargl": [
           {
            "marker": {
             "colorbar": {
              "outlinewidth": 0,
              "ticks": ""
             }
            },
            "type": "scatterpolargl"
           }
          ],
          "scatterternary": [
           {
            "marker": {
             "colorbar": {
              "outlinewidth": 0,
              "ticks": ""
             }
            },
            "type": "scatterternary"
           }
          ],
          "surface": [
           {
            "colorbar": {
             "outlinewidth": 0,
             "ticks": ""
            },
            "colorscale": [
             [
              0,
              "#0d0887"
             ],
             [
              0.1111111111111111,
              "#46039f"
             ],
             [
              0.2222222222222222,
              "#7201a8"
             ],
             [
              0.3333333333333333,
              "#9c179e"
             ],
             [
              0.4444444444444444,
              "#bd3786"
             ],
             [
              0.5555555555555556,
              "#d8576b"
             ],
             [
              0.6666666666666666,
              "#ed7953"
             ],
             [
              0.7777777777777778,
              "#fb9f3a"
             ],
             [
              0.8888888888888888,
              "#fdca26"
             ],
             [
              1,
              "#f0f921"
             ]
            ],
            "type": "surface"
           }
          ],
          "table": [
           {
            "cells": {
             "fill": {
              "color": "#EBF0F8"
             },
             "line": {
              "color": "white"
             }
            },
            "header": {
             "fill": {
              "color": "#C8D4E3"
             },
             "line": {
              "color": "white"
             }
            },
            "type": "table"
           }
          ]
         },
         "layout": {
          "annotationdefaults": {
           "arrowcolor": "#2a3f5f",
           "arrowhead": 0,
           "arrowwidth": 1
          },
          "autotypenumbers": "strict",
          "coloraxis": {
           "colorbar": {
            "outlinewidth": 0,
            "ticks": ""
           }
          },
          "colorscale": {
           "diverging": [
            [
             0,
             "#8e0152"
            ],
            [
             0.1,
             "#c51b7d"
            ],
            [
             0.2,
             "#de77ae"
            ],
            [
             0.3,
             "#f1b6da"
            ],
            [
             0.4,
             "#fde0ef"
            ],
            [
             0.5,
             "#f7f7f7"
            ],
            [
             0.6,
             "#e6f5d0"
            ],
            [
             0.7,
             "#b8e186"
            ],
            [
             0.8,
             "#7fbc41"
            ],
            [
             0.9,
             "#4d9221"
            ],
            [
             1,
             "#276419"
            ]
           ],
           "sequential": [
            [
             0,
             "#0d0887"
            ],
            [
             0.1111111111111111,
             "#46039f"
            ],
            [
             0.2222222222222222,
             "#7201a8"
            ],
            [
             0.3333333333333333,
             "#9c179e"
            ],
            [
             0.4444444444444444,
             "#bd3786"
            ],
            [
             0.5555555555555556,
             "#d8576b"
            ],
            [
             0.6666666666666666,
             "#ed7953"
            ],
            [
             0.7777777777777778,
             "#fb9f3a"
            ],
            [
             0.8888888888888888,
             "#fdca26"
            ],
            [
             1,
             "#f0f921"
            ]
           ],
           "sequentialminus": [
            [
             0,
             "#0d0887"
            ],
            [
             0.1111111111111111,
             "#46039f"
            ],
            [
             0.2222222222222222,
             "#7201a8"
            ],
            [
             0.3333333333333333,
             "#9c179e"
            ],
            [
             0.4444444444444444,
             "#bd3786"
            ],
            [
             0.5555555555555556,
             "#d8576b"
            ],
            [
             0.6666666666666666,
             "#ed7953"
            ],
            [
             0.7777777777777778,
             "#fb9f3a"
            ],
            [
             0.8888888888888888,
             "#fdca26"
            ],
            [
             1,
             "#f0f921"
            ]
           ]
          },
          "colorway": [
           "#636efa",
           "#EF553B",
           "#00cc96",
           "#ab63fa",
           "#FFA15A",
           "#19d3f3",
           "#FF6692",
           "#B6E880",
           "#FF97FF",
           "#FECB52"
          ],
          "font": {
           "color": "#2a3f5f"
          },
          "geo": {
           "bgcolor": "white",
           "lakecolor": "white",
           "landcolor": "#E5ECF6",
           "showlakes": true,
           "showland": true,
           "subunitcolor": "white"
          },
          "hoverlabel": {
           "align": "left"
          },
          "hovermode": "closest",
          "mapbox": {
           "style": "light"
          },
          "paper_bgcolor": "white",
          "plot_bgcolor": "#E5ECF6",
          "polar": {
           "angularaxis": {
            "gridcolor": "white",
            "linecolor": "white",
            "ticks": ""
           },
           "bgcolor": "#E5ECF6",
           "radialaxis": {
            "gridcolor": "white",
            "linecolor": "white",
            "ticks": ""
           }
          },
          "scene": {
           "xaxis": {
            "backgroundcolor": "#E5ECF6",
            "gridcolor": "white",
            "gridwidth": 2,
            "linecolor": "white",
            "showbackground": true,
            "ticks": "",
            "zerolinecolor": "white"
           },
           "yaxis": {
            "backgroundcolor": "#E5ECF6",
            "gridcolor": "white",
            "gridwidth": 2,
            "linecolor": "white",
            "showbackground": true,
            "ticks": "",
            "zerolinecolor": "white"
           },
           "zaxis": {
            "backgroundcolor": "#E5ECF6",
            "gridcolor": "white",
            "gridwidth": 2,
            "linecolor": "white",
            "showbackground": true,
            "ticks": "",
            "zerolinecolor": "white"
           }
          },
          "shapedefaults": {
           "line": {
            "color": "#2a3f5f"
           }
          },
          "ternary": {
           "aaxis": {
            "gridcolor": "white",
            "linecolor": "white",
            "ticks": ""
           },
           "baxis": {
            "gridcolor": "white",
            "linecolor": "white",
            "ticks": ""
           },
           "bgcolor": "#E5ECF6",
           "caxis": {
            "gridcolor": "white",
            "linecolor": "white",
            "ticks": ""
           }
          },
          "title": {
           "x": 0.05
          },
          "xaxis": {
           "automargin": true,
           "gridcolor": "white",
           "linecolor": "white",
           "ticks": "",
           "title": {
            "standoff": 15
           },
           "zerolinecolor": "white",
           "zerolinewidth": 2
          },
          "yaxis": {
           "automargin": true,
           "gridcolor": "white",
           "linecolor": "white",
           "ticks": "",
           "title": {
            "standoff": 15
           },
           "zerolinecolor": "white",
           "zerolinewidth": 2
          }
         }
        },
        "title": {
         "text": "한국수자원공사_용역_ARIMA(2,2,0)모형"
        },
        "width": 1000
       }
      },
      "text/html": [
       "<div>                            <div id=\"79e6034d-e93c-4c0b-a168-0458d7753817\" class=\"plotly-graph-div\" style=\"height:400px; width:1000px;\"></div>            <script type=\"text/javascript\">                require([\"plotly\"], function(Plotly) {                    window.PLOTLYENV=window.PLOTLYENV || {};                                    if (document.getElementById(\"79e6034d-e93c-4c0b-a168-0458d7753817\")) {                    Plotly.newPlot(                        \"79e6034d-e93c-4c0b-a168-0458d7753817\",                        [{\"line\":{\"color\":\"royalblue\"},\"mode\":\"lines\",\"name\":\"Train\",\"x\":[\"2018-04-08T00:00:00\",\"2018-04-15T00:00:00\",\"2018-04-22T00:00:00\",\"2018-04-29T00:00:00\",\"2018-05-06T00:00:00\",\"2018-05-13T00:00:00\",\"2018-05-20T00:00:00\",\"2018-05-27T00:00:00\",\"2018-06-03T00:00:00\",\"2018-06-10T00:00:00\",\"2018-06-17T00:00:00\",\"2018-06-24T00:00:00\",\"2018-07-01T00:00:00\",\"2018-07-08T00:00:00\",\"2018-07-15T00:00:00\",\"2018-07-22T00:00:00\",\"2018-07-29T00:00:00\",\"2018-08-05T00:00:00\",\"2018-08-12T00:00:00\",\"2018-08-19T00:00:00\",\"2018-08-26T00:00:00\",\"2018-09-02T00:00:00\",\"2018-09-09T00:00:00\",\"2018-09-16T00:00:00\",\"2018-09-23T00:00:00\",\"2018-09-30T00:00:00\",\"2018-10-07T00:00:00\",\"2018-10-14T00:00:00\",\"2018-10-21T00:00:00\",\"2018-10-28T00:00:00\",\"2018-11-04T00:00:00\",\"2018-11-11T00:00:00\",\"2018-11-18T00:00:00\",\"2018-11-25T00:00:00\",\"2018-12-02T00:00:00\",\"2018-12-09T00:00:00\",\"2018-12-16T00:00:00\",\"2018-12-23T00:00:00\",\"2018-12-30T00:00:00\",\"2019-01-06T00:00:00\",\"2019-01-13T00:00:00\",\"2019-01-20T00:00:00\",\"2019-01-27T00:00:00\",\"2019-02-03T00:00:00\",\"2019-02-10T00:00:00\",\"2019-02-17T00:00:00\",\"2019-02-24T00:00:00\",\"2019-03-03T00:00:00\",\"2019-03-10T00:00:00\",\"2019-03-17T00:00:00\",\"2019-03-24T00:00:00\",\"2019-03-31T00:00:00\",\"2019-04-07T00:00:00\",\"2019-04-14T00:00:00\",\"2019-04-21T00:00:00\",\"2019-04-28T00:00:00\",\"2019-05-05T00:00:00\",\"2019-05-12T00:00:00\",\"2019-05-19T00:00:00\",\"2019-05-26T00:00:00\",\"2019-06-02T00:00:00\",\"2019-06-09T00:00:00\",\"2019-06-16T00:00:00\",\"2019-06-23T00:00:00\",\"2019-06-30T00:00:00\",\"2019-07-07T00:00:00\",\"2019-07-14T00:00:00\",\"2019-07-21T00:00:00\",\"2019-07-28T00:00:00\",\"2019-08-04T00:00:00\",\"2019-08-11T00:00:00\",\"2019-08-18T00:00:00\",\"2019-08-25T00:00:00\",\"2019-09-01T00:00:00\",\"2019-09-08T00:00:00\",\"2019-09-15T00:00:00\",\"2019-09-22T00:00:00\",\"2019-09-29T00:00:00\",\"2019-10-06T00:00:00\",\"2019-10-13T00:00:00\",\"2019-10-20T00:00:00\",\"2019-10-27T00:00:00\",\"2019-11-03T00:00:00\",\"2019-11-10T00:00:00\",\"2019-11-17T00:00:00\",\"2019-11-24T00:00:00\",\"2019-12-01T00:00:00\",\"2019-12-08T00:00:00\",\"2019-12-15T00:00:00\",\"2019-12-22T00:00:00\",\"2019-12-29T00:00:00\",\"2020-01-05T00:00:00\",\"2020-01-12T00:00:00\",\"2020-01-19T00:00:00\",\"2020-01-26T00:00:00\",\"2020-02-02T00:00:00\",\"2020-02-09T00:00:00\",\"2020-02-16T00:00:00\",\"2020-02-23T00:00:00\",\"2020-03-01T00:00:00\",\"2020-03-08T00:00:00\",\"2020-03-15T00:00:00\",\"2020-03-22T00:00:00\",\"2020-03-29T00:00:00\",\"2020-04-05T00:00:00\",\"2020-04-12T00:00:00\",\"2020-04-19T00:00:00\",\"2020-04-26T00:00:00\",\"2020-05-03T00:00:00\",\"2020-05-10T00:00:00\",\"2020-05-17T00:00:00\",\"2020-05-24T00:00:00\",\"2020-05-31T00:00:00\",\"2020-06-07T00:00:00\",\"2020-06-14T00:00:00\",\"2020-06-21T00:00:00\",\"2020-06-28T00:00:00\",\"2020-07-05T00:00:00\",\"2020-07-12T00:00:00\",\"2020-07-19T00:00:00\",\"2020-07-26T00:00:00\",\"2020-08-02T00:00:00\",\"2020-08-09T00:00:00\",\"2020-08-16T00:00:00\",\"2020-08-23T00:00:00\",\"2020-08-30T00:00:00\",\"2020-09-06T00:00:00\",\"2020-09-13T00:00:00\",\"2020-09-20T00:00:00\",\"2020-09-27T00:00:00\",\"2020-10-04T00:00:00\",\"2020-10-11T00:00:00\",\"2020-10-18T00:00:00\",\"2020-10-25T00:00:00\",\"2020-11-01T00:00:00\",\"2020-11-08T00:00:00\",\"2020-11-15T00:00:00\",\"2020-11-22T00:00:00\",\"2020-11-29T00:00:00\",\"2020-12-06T00:00:00\",\"2020-12-13T00:00:00\"],\"y\":[20.916687640744215,21.465588562169092,22.364522865090727,21.359403975098175,22.849912549261564,26.024385147505466,23.007629299809366,22.265601987546543,24.075465366448476,24.644013670130217,21.77259722605417,21.11133755321854,22.122404357557496,21.69999678850656,23.792088458586058,21.55016003688176,22.286279407644916,22.372259752471685,22.00457055529329,22.414249804000004,21.71848425262443,23.49661311515985,22.06103596890802,22.621976555943643,22.89210432558812,20.129397713404025,20.924553561007258,20.92595506480062,20.604502076661806,21.559561697536186,20.514640262946756,21.46329946599653,20.990075821462792,21.087155958773835,22.534806626054102,22.182200854953596,22.0801256201086,21.5662015215785,22.033615351429603,20.341202752879813,20.40729210309093,21.983152457588684,20.73608565184006,23.07690809404645,20.3338197381533,22.205730902285993,22.6069518985522,24.294684809627757,22.29915937528863,23.385049973657445,22.251568224800035,22.55664747646868,22.79427716564949,23.793425676578543,22.69759827580601,22.097747982731462,22.69930816627172,22.869946785141646,21.86476774464525,21.760969275909165,22.168896510603894,23.148545283705438,23.111705574372866,22.06695439971148,22.193356965815006,22.927631287120384,22.670561939410156,22.89385612758477,22.437783779846043,23.28509383657359,22.63766902805084,21.617636624630133,22.652736136311447,21.832002037441242,22.332015252420867,21.157156030448313,22.67174848143902,22.826924503800146,23.086378661416116,23.82527584384545,24.837026205727824,22.677644172345072,23.01521827305582,22.18995648937562,22.36383622536911,24.25020415966392,22.169358410265062,22.278835775770215,22.66229546081281,24.1345675904021,20.53157007930452,22.795803350577504,21.39874790409879,22.540512427449453,21.082130900820655,22.275030546588876,23.829277146914254,22.35175817527519,22.906599491708516,23.081937489227276,21.917262289045627,22.951823044733537,22.72225710417949,23.045399767485723,22.36677907249706,22.175242804800785,24.54294024851204,22.535402604916683,22.609308296782373,22.0501851233656,22.693615523644503,24.0053783089819,24.021978353191326,23.90058669039908,23.521555063073688,23.984459803747942,24.88765719497762,22.83541046567167,22.66072610034602,23.246969151658615,21.74595435081162,22.906475394429023,24.229713764079893,24.087161601981663,22.497450201676244,21.164067779552234,22.246409860389342,24.048855986099856,22.983617158081383,22.28902156424535,23.7535790080684,22.55220925502443,23.009056894352057,22.207047982440564,22.94217601418682,23.66120437500403,23.406222006733866,23.877055991551586,22.714816842562232,22.84376127297566,23.340709827015072],\"type\":\"scatter\"},{\"line\":{\"color\":\"rgba(0,0,30,0.5)\"},\"mode\":\"lines\",\"name\":\"Test\",\"x\":[\"2020-12-13T00:00:00\",\"2020-12-20T00:00:00\",\"2020-12-27T00:00:00\",\"2021-01-03T00:00:00\",\"2021-01-10T00:00:00\",\"2021-01-17T00:00:00\",\"2021-01-24T00:00:00\",\"2021-01-31T00:00:00\",\"2021-02-07T00:00:00\",\"2021-02-14T00:00:00\",\"2021-02-21T00:00:00\",\"2021-02-28T00:00:00\",\"2021-03-07T00:00:00\",\"2021-03-14T00:00:00\",\"2021-03-21T00:00:00\",\"2021-03-28T00:00:00\",\"2021-04-04T00:00:00\",\"2021-04-11T00:00:00\",\"2021-04-18T00:00:00\",\"2021-04-25T00:00:00\",\"2021-05-02T00:00:00\",\"2021-05-09T00:00:00\",\"2021-05-16T00:00:00\",\"2021-05-23T00:00:00\",\"2021-05-30T00:00:00\",\"2021-06-06T00:00:00\",\"2021-06-13T00:00:00\",\"2021-06-20T00:00:00\",\"2021-06-27T00:00:00\",\"2021-07-04T00:00:00\",\"2021-07-11T00:00:00\",\"2021-07-18T00:00:00\",\"2021-07-25T00:00:00\",\"2021-08-01T00:00:00\",\"2021-08-08T00:00:00\",\"2021-08-15T00:00:00\",\"2021-08-22T00:00:00\",\"2021-08-29T00:00:00\",\"2021-09-05T00:00:00\",\"2021-09-12T00:00:00\",\"2021-09-19T00:00:00\",\"2021-09-26T00:00:00\",\"2021-10-03T00:00:00\",\"2021-10-10T00:00:00\",\"2021-10-17T00:00:00\",\"2021-10-24T00:00:00\",\"2021-10-31T00:00:00\",\"2021-11-07T00:00:00\",\"2021-11-14T00:00:00\",\"2021-11-21T00:00:00\",\"2021-11-28T00:00:00\",\"2021-12-05T00:00:00\",\"2021-12-12T00:00:00\",\"2021-12-19T00:00:00\",\"2021-12-26T00:00:00\",\"2022-01-02T00:00:00\"],\"y\":[23.340709827015072,23.839797573894188,22.931120851764643,22.514184569521095,22.277327063813743,22.78677233756705,22.433327932100784,22.32940248620266,23.371855898846555,23.006296583819957,22.542703112296156,22.14805973777498,23.849230871711192,23.37813606465011,23.636765781103932,23.0518636464199,23.68035081117798,22.58094794710114,23.036313391612445,21.903305566410154,23.304283038579808,22.45980673902649,23.016676394300347,22.90550785158181,22.550336898436623,23.834528195501633,23.29596360349518,23.052475685958473,22.281935642531522,22.61862568109303,22.149026513028144,22.61934817005785,23.040217034325003,23.203431762236548,22.668367327411197,23.19627451146009,22.890560925578683,23.16748945347873,23.539271635566884,22.63598213025414,22.807514999350524,21.01587393334542,22.22174783083468,23.731297505635453,22.533007994889896,22.6455012024583,23.5259710942154,24.2697787172007,24.035204906823303,22.95679397068564,22.58769597316172,23.452677663853947,23.468780286186664,23.862154091171,22.660148797550036,22.241933783190323],\"type\":\"scatter\"},{\"line\":{\"color\":\"red\",\"dash\":\"dot\",\"width\":3},\"mode\":\"lines\",\"name\":\"Prediction\",\"x\":[\"2020-12-13T00:00:00\",\"2020-12-20T00:00:00\",\"2020-12-27T00:00:00\",\"2021-01-03T00:00:00\",\"2021-01-10T00:00:00\",\"2021-01-17T00:00:00\",\"2021-01-24T00:00:00\",\"2021-01-31T00:00:00\",\"2021-02-07T00:00:00\",\"2021-02-14T00:00:00\",\"2021-02-21T00:00:00\",\"2021-02-28T00:00:00\",\"2021-03-07T00:00:00\",\"2021-03-14T00:00:00\",\"2021-03-21T00:00:00\",\"2021-03-28T00:00:00\",\"2021-04-04T00:00:00\",\"2021-04-11T00:00:00\",\"2021-04-18T00:00:00\",\"2021-04-25T00:00:00\",\"2021-05-02T00:00:00\",\"2021-05-09T00:00:00\",\"2021-05-16T00:00:00\",\"2021-05-23T00:00:00\",\"2021-05-30T00:00:00\",\"2021-06-06T00:00:00\",\"2021-06-13T00:00:00\",\"2021-06-20T00:00:00\",\"2021-06-27T00:00:00\",\"2021-07-04T00:00:00\",\"2021-07-11T00:00:00\",\"2021-07-18T00:00:00\",\"2021-07-25T00:00:00\",\"2021-08-01T00:00:00\",\"2021-08-08T00:00:00\",\"2021-08-15T00:00:00\",\"2021-08-22T00:00:00\",\"2021-08-29T00:00:00\",\"2021-09-05T00:00:00\",\"2021-09-12T00:00:00\",\"2021-09-19T00:00:00\",\"2021-09-26T00:00:00\",\"2021-10-03T00:00:00\",\"2021-10-10T00:00:00\",\"2021-10-17T00:00:00\",\"2021-10-24T00:00:00\",\"2021-10-31T00:00:00\",\"2021-11-07T00:00:00\",\"2021-11-14T00:00:00\",\"2021-11-21T00:00:00\",\"2021-11-28T00:00:00\",\"2021-12-05T00:00:00\",\"2021-12-12T00:00:00\",\"2021-12-19T00:00:00\",\"2021-12-26T00:00:00\",\"2022-01-02T00:00:00\"],\"y\":[23.059583303100524,24.17306269572925,21.822903622265137,22.872308679588986,21.924387151882183,23.199384475358716,21.805863159932738,23.35109786151488,23.5863509307634,23.13688233966568,23.644572488769303,24.284114194283653,22.864423857064413,23.91473931839094,23.407731922111296,23.725330287486656,23.32793716189414,23.501892241805827,24.902400251043098,23.329833139940966,23.674979980999993,23.67555914622018,23.55113244006148,24.316844445174894,24.61185773701408,24.82080309394803,24.262912217147985,24.25482441538799,24.98681073448042,23.758491023563856,23.80021686210628,24.007074641259624,22.98413977617301,23.95934457124156,24.643906446123538,24.352713607605764,23.472414298997943,22.583043100497296,23.266746637143655,24.2408491272346,23.920369316427994,23.210246493710926,24.32216384544668,23.701560851308578,24.207779337003352,23.269737308268986,23.726364040841332,24.106599133536193,23.929636552557646,24.694035743365543,23.58750624578354,23.6617947285074,24.06978836330349,24.912405237390207,22.56106185835667,23.61060356600667,22.662666270991053],\"type\":\"scatter\"},{\"fill\":\"toself\",\"fillcolor\":\"rgba(0,0,30,0.1)\",\"hoverinfo\":\"skip\",\"line\":{\"color\":\"rgba(0,0,0,0)\"},\"showlegend\":false,\"x\":[\"2020-12-13T00:00:00\",\"2020-12-20T00:00:00\",\"2020-12-27T00:00:00\",\"2021-01-03T00:00:00\",\"2021-01-10T00:00:00\",\"2021-01-17T00:00:00\",\"2021-01-24T00:00:00\",\"2021-01-31T00:00:00\",\"2021-02-07T00:00:00\",\"2021-02-14T00:00:00\",\"2021-02-21T00:00:00\",\"2021-02-28T00:00:00\",\"2021-03-07T00:00:00\",\"2021-03-14T00:00:00\",\"2021-03-21T00:00:00\",\"2021-03-28T00:00:00\",\"2021-04-04T00:00:00\",\"2021-04-11T00:00:00\",\"2021-04-18T00:00:00\",\"2021-04-25T00:00:00\",\"2021-05-02T00:00:00\",\"2021-05-09T00:00:00\",\"2021-05-16T00:00:00\",\"2021-05-23T00:00:00\",\"2021-05-30T00:00:00\",\"2021-06-06T00:00:00\",\"2021-06-13T00:00:00\",\"2021-06-20T00:00:00\",\"2021-06-27T00:00:00\",\"2021-07-04T00:00:00\",\"2021-07-11T00:00:00\",\"2021-07-18T00:00:00\",\"2021-07-25T00:00:00\",\"2021-08-01T00:00:00\",\"2021-08-08T00:00:00\",\"2021-08-15T00:00:00\",\"2021-08-22T00:00:00\",\"2021-08-29T00:00:00\",\"2021-09-05T00:00:00\",\"2021-09-12T00:00:00\",\"2021-09-19T00:00:00\",\"2021-09-26T00:00:00\",\"2021-10-03T00:00:00\",\"2021-10-10T00:00:00\",\"2021-10-17T00:00:00\",\"2021-10-24T00:00:00\",\"2021-10-31T00:00:00\",\"2021-11-07T00:00:00\",\"2021-11-14T00:00:00\",\"2021-11-21T00:00:00\",\"2021-11-28T00:00:00\",\"2021-12-05T00:00:00\",\"2021-12-12T00:00:00\",\"2021-12-19T00:00:00\",\"2021-12-26T00:00:00\",\"2022-01-02T00:00:00\",\"2022-01-02T00:00:00\",\"2021-12-26T00:00:00\",\"2021-12-19T00:00:00\",\"2021-12-12T00:00:00\",\"2021-12-05T00:00:00\",\"2021-11-28T00:00:00\",\"2021-11-21T00:00:00\",\"2021-11-14T00:00:00\",\"2021-11-07T00:00:00\",\"2021-10-31T00:00:00\",\"2021-10-24T00:00:00\",\"2021-10-17T00:00:00\",\"2021-10-10T00:00:00\",\"2021-10-03T00:00:00\",\"2021-09-26T00:00:00\",\"2021-09-19T00:00:00\",\"2021-09-12T00:00:00\",\"2021-09-05T00:00:00\",\"2021-08-29T00:00:00\",\"2021-08-22T00:00:00\",\"2021-08-15T00:00:00\",\"2021-08-08T00:00:00\",\"2021-08-01T00:00:00\",\"2021-07-25T00:00:00\",\"2021-07-18T00:00:00\",\"2021-07-11T00:00:00\",\"2021-07-04T00:00:00\",\"2021-06-27T00:00:00\",\"2021-06-20T00:00:00\",\"2021-06-13T00:00:00\",\"2021-06-06T00:00:00\",\"2021-05-30T00:00:00\",\"2021-05-23T00:00:00\",\"2021-05-16T00:00:00\",\"2021-05-09T00:00:00\",\"2021-05-02T00:00:00\",\"2021-04-25T00:00:00\",\"2021-04-18T00:00:00\",\"2021-04-11T00:00:00\",\"2021-04-04T00:00:00\",\"2021-03-28T00:00:00\",\"2021-03-21T00:00:00\",\"2021-03-14T00:00:00\",\"2021-03-07T00:00:00\",\"2021-02-28T00:00:00\",\"2021-02-21T00:00:00\",\"2021-02-14T00:00:00\",\"2021-02-07T00:00:00\",\"2021-01-31T00:00:00\",\"2021-01-24T00:00:00\",\"2021-01-17T00:00:00\",\"2021-01-10T00:00:00\",\"2021-01-03T00:00:00\",\"2020-12-27T00:00:00\",\"2020-12-20T00:00:00\",\"2020-12-13T00:00:00\"],\"y\":[24.17306269572925,21.822903622265137,22.872308679588986,21.924387151882183,23.199384475358716,21.805863159932738,23.35109786151488,23.5863509307634,23.13688233966568,23.644572488769303,24.284114194283653,22.864423857064413,23.91473931839094,23.407731922111296,23.725330287486656,23.32793716189414,23.501892241805827,24.902400251043098,23.329833139940966,23.674979980999993,23.67555914622018,23.55113244006148,24.316844445174894,24.611857737014077,24.82080309394803,24.262912217147985,24.25482441538799,24.98681073448042,23.758491023563856,23.800216862106275,24.007074641259624,22.98413977617301,23.95934457124156,24.643906446123538,24.352713607605764,23.472414298997943,22.583043100497292,23.266746637143655,24.240849127234597,23.920369316427994,23.210246493710926,24.32216384544668,23.701560851308578,24.207779337003352,23.269737308268986,23.726364040841332,24.106599133536193,23.929636552557646,24.694035743365546,23.587506245783537,23.6617947285074,24.06978836330349,24.912405237390207,22.561061858356673,23.610603566006667,22.662666270991053],\"type\":\"scatter\"}],                        {\"template\":{\"data\":{\"bar\":[{\"error_x\":{\"color\":\"#2a3f5f\"},\"error_y\":{\"color\":\"#2a3f5f\"},\"marker\":{\"line\":{\"color\":\"#E5ECF6\",\"width\":0.5},\"pattern\":{\"fillmode\":\"overlay\",\"size\":10,\"solidity\":0.2}},\"type\":\"bar\"}],\"barpolar\":[{\"marker\":{\"line\":{\"color\":\"#E5ECF6\",\"width\":0.5},\"pattern\":{\"fillmode\":\"overlay\",\"size\":10,\"solidity\":0.2}},\"type\":\"barpolar\"}],\"carpet\":[{\"aaxis\":{\"endlinecolor\":\"#2a3f5f\",\"gridcolor\":\"white\",\"linecolor\":\"white\",\"minorgridcolor\":\"white\",\"startlinecolor\":\"#2a3f5f\"},\"baxis\":{\"endlinecolor\":\"#2a3f5f\",\"gridcolor\":\"white\",\"linecolor\":\"white\",\"minorgridcolor\":\"white\",\"startlinecolor\":\"#2a3f5f\"},\"type\":\"carpet\"}],\"choropleth\":[{\"colorbar\":{\"outlinewidth\":0,\"ticks\":\"\"},\"type\":\"choropleth\"}],\"contour\":[{\"colorbar\":{\"outlinewidth\":0,\"ticks\":\"\"},\"colorscale\":[[0.0,\"#0d0887\"],[0.1111111111111111,\"#46039f\"],[0.2222222222222222,\"#7201a8\"],[0.3333333333333333,\"#9c179e\"],[0.4444444444444444,\"#bd3786\"],[0.5555555555555556,\"#d8576b\"],[0.6666666666666666,\"#ed7953\"],[0.7777777777777778,\"#fb9f3a\"],[0.8888888888888888,\"#fdca26\"],[1.0,\"#f0f921\"]],\"type\":\"contour\"}],\"contourcarpet\":[{\"colorbar\":{\"outlinewidth\":0,\"ticks\":\"\"},\"type\":\"contourcarpet\"}],\"heatmap\":[{\"colorbar\":{\"outlinewidth\":0,\"ticks\":\"\"},\"colorscale\":[[0.0,\"#0d0887\"],[0.1111111111111111,\"#46039f\"],[0.2222222222222222,\"#7201a8\"],[0.3333333333333333,\"#9c179e\"],[0.4444444444444444,\"#bd3786\"],[0.5555555555555556,\"#d8576b\"],[0.6666666666666666,\"#ed7953\"],[0.7777777777777778,\"#fb9f3a\"],[0.8888888888888888,\"#fdca26\"],[1.0,\"#f0f921\"]],\"type\":\"heatmap\"}],\"heatmapgl\":[{\"colorbar\":{\"outlinewidth\":0,\"ticks\":\"\"},\"colorscale\":[[0.0,\"#0d0887\"],[0.1111111111111111,\"#46039f\"],[0.2222222222222222,\"#7201a8\"],[0.3333333333333333,\"#9c179e\"],[0.4444444444444444,\"#bd3786\"],[0.5555555555555556,\"#d8576b\"],[0.6666666666666666,\"#ed7953\"],[0.7777777777777778,\"#fb9f3a\"],[0.8888888888888888,\"#fdca26\"],[1.0,\"#f0f921\"]],\"type\":\"heatmapgl\"}],\"histogram\":[{\"marker\":{\"pattern\":{\"fillmode\":\"overlay\",\"size\":10,\"solidity\":0.2}},\"type\":\"histogram\"}],\"histogram2d\":[{\"colorbar\":{\"outlinewidth\":0,\"ticks\":\"\"},\"colorscale\":[[0.0,\"#0d0887\"],[0.1111111111111111,\"#46039f\"],[0.2222222222222222,\"#7201a8\"],[0.3333333333333333,\"#9c179e\"],[0.4444444444444444,\"#bd3786\"],[0.5555555555555556,\"#d8576b\"],[0.6666666666666666,\"#ed7953\"],[0.7777777777777778,\"#fb9f3a\"],[0.8888888888888888,\"#fdca26\"],[1.0,\"#f0f921\"]],\"type\":\"histogram2d\"}],\"histogram2dcontour\":[{\"colorbar\":{\"outlinewidth\":0,\"ticks\":\"\"},\"colorscale\":[[0.0,\"#0d0887\"],[0.1111111111111111,\"#46039f\"],[0.2222222222222222,\"#7201a8\"],[0.3333333333333333,\"#9c179e\"],[0.4444444444444444,\"#bd3786\"],[0.5555555555555556,\"#d8576b\"],[0.6666666666666666,\"#ed7953\"],[0.7777777777777778,\"#fb9f3a\"],[0.8888888888888888,\"#fdca26\"],[1.0,\"#f0f921\"]],\"type\":\"histogram2dcontour\"}],\"mesh3d\":[{\"colorbar\":{\"outlinewidth\":0,\"ticks\":\"\"},\"type\":\"mesh3d\"}],\"parcoords\":[{\"line\":{\"colorbar\":{\"outlinewidth\":0,\"ticks\":\"\"}},\"type\":\"parcoords\"}],\"pie\":[{\"automargin\":true,\"type\":\"pie\"}],\"scatter\":[{\"marker\":{\"colorbar\":{\"outlinewidth\":0,\"ticks\":\"\"}},\"type\":\"scatter\"}],\"scatter3d\":[{\"line\":{\"colorbar\":{\"outlinewidth\":0,\"ticks\":\"\"}},\"marker\":{\"colorbar\":{\"outlinewidth\":0,\"ticks\":\"\"}},\"type\":\"scatter3d\"}],\"scattercarpet\":[{\"marker\":{\"colorbar\":{\"outlinewidth\":0,\"ticks\":\"\"}},\"type\":\"scattercarpet\"}],\"scattergeo\":[{\"marker\":{\"colorbar\":{\"outlinewidth\":0,\"ticks\":\"\"}},\"type\":\"scattergeo\"}],\"scattergl\":[{\"marker\":{\"colorbar\":{\"outlinewidth\":0,\"ticks\":\"\"}},\"type\":\"scattergl\"}],\"scattermapbox\":[{\"marker\":{\"colorbar\":{\"outlinewidth\":0,\"ticks\":\"\"}},\"type\":\"scattermapbox\"}],\"scatterpolar\":[{\"marker\":{\"colorbar\":{\"outlinewidth\":0,\"ticks\":\"\"}},\"type\":\"scatterpolar\"}],\"scatterpolargl\":[{\"marker\":{\"colorbar\":{\"outlinewidth\":0,\"ticks\":\"\"}},\"type\":\"scatterpolargl\"}],\"scatterternary\":[{\"marker\":{\"colorbar\":{\"outlinewidth\":0,\"ticks\":\"\"}},\"type\":\"scatterternary\"}],\"surface\":[{\"colorbar\":{\"outlinewidth\":0,\"ticks\":\"\"},\"colorscale\":[[0.0,\"#0d0887\"],[0.1111111111111111,\"#46039f\"],[0.2222222222222222,\"#7201a8\"],[0.3333333333333333,\"#9c179e\"],[0.4444444444444444,\"#bd3786\"],[0.5555555555555556,\"#d8576b\"],[0.6666666666666666,\"#ed7953\"],[0.7777777777777778,\"#fb9f3a\"],[0.8888888888888888,\"#fdca26\"],[1.0,\"#f0f921\"]],\"type\":\"surface\"}],\"table\":[{\"cells\":{\"fill\":{\"color\":\"#EBF0F8\"},\"line\":{\"color\":\"white\"}},\"header\":{\"fill\":{\"color\":\"#C8D4E3\"},\"line\":{\"color\":\"white\"}},\"type\":\"table\"}]},\"layout\":{\"annotationdefaults\":{\"arrowcolor\":\"#2a3f5f\",\"arrowhead\":0,\"arrowwidth\":1},\"autotypenumbers\":\"strict\",\"coloraxis\":{\"colorbar\":{\"outlinewidth\":0,\"ticks\":\"\"}},\"colorscale\":{\"diverging\":[[0,\"#8e0152\"],[0.1,\"#c51b7d\"],[0.2,\"#de77ae\"],[0.3,\"#f1b6da\"],[0.4,\"#fde0ef\"],[0.5,\"#f7f7f7\"],[0.6,\"#e6f5d0\"],[0.7,\"#b8e186\"],[0.8,\"#7fbc41\"],[0.9,\"#4d9221\"],[1,\"#276419\"]],\"sequential\":[[0.0,\"#0d0887\"],[0.1111111111111111,\"#46039f\"],[0.2222222222222222,\"#7201a8\"],[0.3333333333333333,\"#9c179e\"],[0.4444444444444444,\"#bd3786\"],[0.5555555555555556,\"#d8576b\"],[0.6666666666666666,\"#ed7953\"],[0.7777777777777778,\"#fb9f3a\"],[0.8888888888888888,\"#fdca26\"],[1.0,\"#f0f921\"]],\"sequentialminus\":[[0.0,\"#0d0887\"],[0.1111111111111111,\"#46039f\"],[0.2222222222222222,\"#7201a8\"],[0.3333333333333333,\"#9c179e\"],[0.4444444444444444,\"#bd3786\"],[0.5555555555555556,\"#d8576b\"],[0.6666666666666666,\"#ed7953\"],[0.7777777777777778,\"#fb9f3a\"],[0.8888888888888888,\"#fdca26\"],[1.0,\"#f0f921\"]]},\"colorway\":[\"#636efa\",\"#EF553B\",\"#00cc96\",\"#ab63fa\",\"#FFA15A\",\"#19d3f3\",\"#FF6692\",\"#B6E880\",\"#FF97FF\",\"#FECB52\"],\"font\":{\"color\":\"#2a3f5f\"},\"geo\":{\"bgcolor\":\"white\",\"lakecolor\":\"white\",\"landcolor\":\"#E5ECF6\",\"showlakes\":true,\"showland\":true,\"subunitcolor\":\"white\"},\"hoverlabel\":{\"align\":\"left\"},\"hovermode\":\"closest\",\"mapbox\":{\"style\":\"light\"},\"paper_bgcolor\":\"white\",\"plot_bgcolor\":\"#E5ECF6\",\"polar\":{\"angularaxis\":{\"gridcolor\":\"white\",\"linecolor\":\"white\",\"ticks\":\"\"},\"bgcolor\":\"#E5ECF6\",\"radialaxis\":{\"gridcolor\":\"white\",\"linecolor\":\"white\",\"ticks\":\"\"}},\"scene\":{\"xaxis\":{\"backgroundcolor\":\"#E5ECF6\",\"gridcolor\":\"white\",\"gridwidth\":2,\"linecolor\":\"white\",\"showbackground\":true,\"ticks\":\"\",\"zerolinecolor\":\"white\"},\"yaxis\":{\"backgroundcolor\":\"#E5ECF6\",\"gridcolor\":\"white\",\"gridwidth\":2,\"linecolor\":\"white\",\"showbackground\":true,\"ticks\":\"\",\"zerolinecolor\":\"white\"},\"zaxis\":{\"backgroundcolor\":\"#E5ECF6\",\"gridcolor\":\"white\",\"gridwidth\":2,\"linecolor\":\"white\",\"showbackground\":true,\"ticks\":\"\",\"zerolinecolor\":\"white\"}},\"shapedefaults\":{\"line\":{\"color\":\"#2a3f5f\"}},\"ternary\":{\"aaxis\":{\"gridcolor\":\"white\",\"linecolor\":\"white\",\"ticks\":\"\"},\"baxis\":{\"gridcolor\":\"white\",\"linecolor\":\"white\",\"ticks\":\"\"},\"bgcolor\":\"#E5ECF6\",\"caxis\":{\"gridcolor\":\"white\",\"linecolor\":\"white\",\"ticks\":\"\"}},\"title\":{\"x\":0.05},\"xaxis\":{\"automargin\":true,\"gridcolor\":\"white\",\"linecolor\":\"white\",\"ticks\":\"\",\"title\":{\"standoff\":15},\"zerolinecolor\":\"white\",\"zerolinewidth\":2},\"yaxis\":{\"automargin\":true,\"gridcolor\":\"white\",\"linecolor\":\"white\",\"ticks\":\"\",\"title\":{\"standoff\":15},\"zerolinecolor\":\"white\",\"zerolinewidth\":2}}},\"title\":{\"text\":\"\\ud55c\\uad6d\\uc218\\uc790\\uc6d0\\uacf5\\uc0ac_\\uc6a9\\uc5ed_ARIMA(2,2,0)\\ubaa8\\ud615\"},\"height\":400,\"width\":1000},                        {\"responsive\": true}                    ).then(function(){\n",
       "                            \n",
       "var gd = document.getElementById('79e6034d-e93c-4c0b-a168-0458d7753817');\n",
       "var x = new MutationObserver(function (mutations, observer) {{\n",
       "        var display = window.getComputedStyle(gd).display;\n",
       "        if (!display || display === 'none') {{\n",
       "            console.log([gd, 'removed!']);\n",
       "            Plotly.purge(gd);\n",
       "            observer.disconnect();\n",
       "        }}\n",
       "}});\n",
       "\n",
       "// Listen for the removal of the full notebook cells\n",
       "var notebookContainer = gd.closest('#notebook-container');\n",
       "if (notebookContainer) {{\n",
       "    x.observe(notebookContainer, {childList: true});\n",
       "}}\n",
       "\n",
       "// Listen for the clearing of the current output cell\n",
       "var outputEl = gd.closest('.output');\n",
       "if (outputEl) {{\n",
       "    x.observe(outputEl, {childList: true});\n",
       "}}\n",
       "\n",
       "                        })                };                });            </script>        </div>"
      ]
     },
     "metadata": {},
     "output_type": "display_data"
    }
   ],
   "source": [
    "from plotly.subplots import make_subplots\n",
    "import plotly.graph_objects as go\n",
    "\n",
    "fig = go.Figure([\n",
    "    # 훈련 데이터-------------------------------------------------------\n",
    "    go.Scatter(x = y_train.index, y = y_train, name = \"Train\", mode = 'lines'\n",
    "              ,line=dict(color = 'royalblue'))\n",
    "    # 테스트 데이터------------------------------------------------------\n",
    "    , go.Scatter(x = y_test.index, y = y_test, name = \"Test\", mode = 'lines'\n",
    "                ,line = dict(color = 'rgba(0,0,30,0.5)'))\n",
    "    # 예측값-----------------------------------------------------------\n",
    "    , go.Scatter(x = y_test.index, y = SARIMA_predict_month_train, name = \"Prediction\", mode = 'lines'\n",
    "                     ,line = dict(color = 'red', dash = 'dot', width=3))\n",
    "    \n",
    "    # 신뢰 구간---------------------------------------------------------\n",
    "    , go.Scatter(x = y_test.index.tolist() + y_test.index[::-1].tolist() \n",
    "                ,y = (predicted_ub + predicted_lb)/2 #[::-1] ## 상위 신뢰 구간 -> 하위 신뢰 구간 역순으로\n",
    "                ,fill='toself'\n",
    "                ,fillcolor='rgba(0,0,30,0.1)'\n",
    "                ,line=dict(color='rgba(0,0,0,0)')\n",
    "                ,hoverinfo=\"skip\"\n",
    "                ,showlegend=False)\n",
    "])\n",
    "\n",
    "fig.update_layout(height=400, width=1000, title_text=\"한국수자원공사_용역_ARIMA(2,2,0)모형\")\n",
    "fig.show()"
   ]
  },
  {
   "cell_type": "code",
   "execution_count": 765,
   "id": "e8e83054",
   "metadata": {},
   "outputs": [
    {
     "data": {
      "text/plain": [
       "2020-12-20   26.86\n",
       "2020-12-27   24.25\n",
       "2021-01-03   25.41\n",
       "2021-01-10   24.36\n",
       "2021-01-17   25.78\n",
       "2021-01-24   24.23\n",
       "2021-01-31   25.95\n",
       "2021-02-07   26.21\n",
       "2021-02-14   25.71\n",
       "2021-02-21   26.27\n",
       "2021-02-28   26.98\n",
       "2021-03-07   25.40\n",
       "2021-03-14   26.57\n",
       "2021-03-21   26.01\n",
       "2021-03-28   26.36\n",
       "2021-04-04   25.92\n",
       "2021-04-11   26.11\n",
       "2021-04-18   27.67\n",
       "2021-04-25   25.92\n",
       "2021-05-02   26.31\n",
       "2021-05-09   26.31\n",
       "2021-05-16   26.17\n",
       "2021-05-23   27.02\n",
       "2021-05-30   27.35\n",
       "2021-06-06   27.58\n",
       "2021-06-13   26.96\n",
       "2021-06-20   26.95\n",
       "2021-06-27   27.76\n",
       "2021-07-04   26.40\n",
       "2021-07-11   26.44\n",
       "2021-07-18   26.67\n",
       "2021-07-25   25.54\n",
       "2021-08-01   26.62\n",
       "2021-08-08   27.38\n",
       "2021-08-15   27.06\n",
       "2021-08-22   26.08\n",
       "2021-08-29   25.09\n",
       "2021-09-05   25.85\n",
       "2021-09-12   26.93\n",
       "2021-09-19   26.58\n",
       "2021-09-26   25.79\n",
       "2021-10-03   27.02\n",
       "2021-10-10   26.34\n",
       "2021-10-17   26.90\n",
       "2021-10-24   25.86\n",
       "2021-10-31   26.36\n",
       "2021-11-07   26.79\n",
       "2021-11-14   26.59\n",
       "2021-11-21   27.44\n",
       "2021-11-28   26.21\n",
       "2021-12-05   26.29\n",
       "2021-12-12   26.74\n",
       "2021-12-19   27.68\n",
       "2021-12-26   25.07\n",
       "2022-01-02   26.23\n",
       "2022-01-09   25.18\n",
       "Freq: W-SUN, dtype: float64"
      ]
     },
     "execution_count": 765,
     "metadata": {},
     "output_type": "execute_result"
    }
   ],
   "source": [
    "(predicted_ub + predicted_lb)/1.8"
   ]
  },
  {
   "cell_type": "code",
   "execution_count": 405,
   "id": "034fa686",
   "metadata": {},
   "outputs": [
    {
     "data": {
      "image/png": "[encoded data removed]",
      "text/plain": [
       "<Figure size 1080x360 with 1 Axes>"
      ]
     },
     "metadata": {},
     "output_type": "display_data"
    }
   ],
   "source": [
    "# 2017년 12개월 데이터로 예측\n",
    "SARIMA_predict_month_1 = SARIMA_results_month.predict(start=100,end=120)\n",
    "\n",
    "# 결과 비교를 위해 기존에 마련해둔 test데이터에 결과를 붙임\n",
    "#salesbymonth_test_final['SeasonalARIMA'] = SARIMA_predict_month_1\n",
    "\n",
    "# RMSE를 살펴 봄\n",
    "#RMSE_Month_Seasonal_ARIMA  = np.mean(np.sqrt((salesbymonth_test_final['SeasonalARIMA'] - salesbymonth_test_final['sales']) ** 2)) \n",
    "#print(RMSE_Month_Seasonal_ARIMA)\n",
    "\n",
    "# test 데이터와 예측 결과치를 비교\n",
    "plt.figure(figsize=(15,5))\n",
    "plt.plot(SARIMA_predict_month_1,label = 'predicted_mean')\n",
    "plt.plot(y_train,label='y_test')\n",
    "plt.plot(y_test,label='y_test')\n",
    "plt.legend()\n",
    "plt.show()"
   ]
  },
  {
   "cell_type": "code",
   "execution_count": 341,
   "id": "3b9ffa8a",
   "metadata": {},
   "outputs": [
    {
     "name": "stdout",
     "output_type": "stream",
     "text": [
      "-1.8920979521323158\n"
     ]
    }
   ],
   "source": [
    "from sklearn.metrics import r2_score\n",
    "R2 = r2_score(y_test[:4], SARIMA_predict_month_1.values)\n",
    "print(R2)"
   ]
  },
  {
   "cell_type": "code",
   "execution_count": 301,
   "id": "b6a782c8",
   "metadata": {},
   "outputs": [
    {
     "data": {
      "image/png": "[encoded data removed]",
      "text/plain": [
       "<Figure size 1152x576 with 4 Axes>"
      ]
     },
     "metadata": {},
     "output_type": "display_data"
    }
   ],
   "source": [
    "model.plot_diagnostics(figsize=(16, 8))\n",
    "plt.show()"
   ]
  },
  {
   "cell_type": "code",
   "execution_count": 754,
   "id": "91e86477",
   "metadata": {},
   "outputs": [
    {
     "data": {
      "image/png": "[encoded data removed]",
      "text/plain": [
       "<Figure size 864x288 with 1 Axes>"
      ]
     },
     "metadata": {},
     "output_type": "display_data"
    }
   ],
   "source": [
    "# 테스트 데이터 개수만큼 예측\n",
    "y_predict = model.predict(n_periods=len(y_train)) \n",
    "y_predict = pd.DataFrame(y_predict,index = y_train.index,columns=['Prediction'])\n",
    "\n",
    "# 그래프\n",
    "fig, axes = plt.subplots(1, 1, figsize=(12, 4))\n",
    "plt.plot(y_train, label='Train')        # 훈련 데이터\n",
    "plt.plot(y_test, label='Test')          # 테스트 데이터\n",
    "plt.plot(y_predict, label='Prediction')  # 예측 데이터\n",
    "plt.legend()\n",
    "plt.show()"
   ]
  },
  {
   "cell_type": "code",
   "execution_count": 755,
   "id": "9d326d51",
   "metadata": {},
   "outputs": [],
   "source": [
    "def forecast_one_step():\n",
    "    fc, conf_int = model.predict(n_periods=1 # 한 스텝씩!\n",
    "        , return_conf_int=True)              # 신뢰구간 출력\n",
    "    return (\n",
    "        fc.tolist()[0],\n",
    "        np.asarray(conf_int).tolist()[0]\n",
    "    )"
   ]
  },
  {
   "cell_type": "code",
   "execution_count": 756,
   "id": "f178c9b2",
   "metadata": {},
   "outputs": [],
   "source": [
    "forecasts = []\n",
    "y_pred = []\n",
    "pred_upper = []\n",
    "pred_lower = []\n",
    "\n",
    "for new_ob in y_train:\n",
    "    fc, conf = forecast_one_step()\n",
    "    y_pred.append(fc)\n",
    "    pred_upper.append(conf[1])\n",
    "    pred_lower.append(conf[0])\n",
    "\n",
    "    ## 모형 업데이트 !!\n",
    "    model.update(new_ob)"
   ]
  },
  {
   "cell_type": "code",
   "execution_count": 757,
   "id": "63c6628b",
   "metadata": {},
   "outputs": [],
   "source": [
    "test_pred=pd.DataFrame({\"test\": y_train, \"pred\": y_pred})\n",
    "#test_pred #11061990545.46"
   ]
  },
  {
   "cell_type": "code",
   "execution_count": 758,
   "id": "8a10bc44",
   "metadata": {},
   "outputs": [
    {
     "data": {
      "text/plain": [
       "<AxesSubplot:xlabel='date'>"
      ]
     },
     "execution_count": 758,
     "metadata": {},
     "output_type": "execute_result"
    },
    {
     "data": {
      "image/png": "[encoded data removed]",
      "text/plain": [
       "<Figure size 432x288 with 1 Axes>"
      ]
     },
     "metadata": {},
     "output_type": "display_data"
    }
   ],
   "source": [
    "test_pred.plot()"
   ]
  },
  {
   "cell_type": "code",
   "execution_count": 759,
   "id": "5ef54046",
   "metadata": {},
   "outputs": [
    {
     "data": {
      "image/png": "[encoded data removed]",
      "text/plain": [
       "<Figure size 864x288 with 1 Axes>"
      ]
     },
     "metadata": {},
     "output_type": "display_data"
    }
   ],
   "source": [
    "# 테스트 데이터 개수만큼 예측\n",
    "y_predict = model.predict(n_periods=len(water_sample)) \n",
    "y_predict = pd.DataFrame(y_predict,index = water_sample.index,columns=['Prediction'])\n",
    "y_pred_df = pd.DataFrame(data=y_pred,index=y_train.index)\n",
    "# 그래프\n",
    "fig, axes = plt.subplots(1, 1, figsize=(12, 4))\n",
    "plt.plot(y_train, label='Train')        # 훈련 데이터\n",
    "plt.plot(y_test, label='Test')          # 테스트 데이터\n",
    "plt.plot(y_pred_df, label='Prediction')  # 예측 데이터\n",
    "plt.legend()\n",
    "plt.show()"
   ]
  },
  {
   "cell_type": "code",
   "execution_count": null,
   "id": "ee328a96",
   "metadata": {},
   "outputs": [],
   "source": []
  },
  {
   "cell_type": "code",
   "execution_count": null,
   "id": "643725f4",
   "metadata": {},
   "outputs": [],
   "source": []
  },
  {
   "cell_type": "code",
   "execution_count": 760,
   "id": "4479a2ef",
   "metadata": {},
   "outputs": [
    {
     "data": {
      "application/vnd.plotly.v1+json": {
       "config": {
        "plotlyServerURL": "https://plot.ly"
       },
       "data": [
        {
         "line": {
          "color": "royalblue"
         },
         "mode": "lines",
         "name": "Train",
         "type": "scatter",
         "x": [
          "2018-04-08T00:00:00",
          "2018-04-15T00:00:00",
          "2018-04-22T00:00:00",
          "2018-04-29T00:00:00",
          "2018-05-06T00:00:00",
          "2018-05-13T00:00:00",
          "2018-05-20T00:00:00",
          "2018-05-27T00:00:00",
          "2018-06-03T00:00:00",
          "2018-06-10T00:00:00",
          "2018-06-17T00:00:00",
          "2018-06-24T00:00:00",
          "2018-07-01T00:00:00",
          "2018-07-08T00:00:00",
          "2018-07-15T00:00:00",
          "2018-07-22T00:00:00",
          "2018-07-29T00:00:00",
          "2018-08-05T00:00:00",
          "2018-08-12T00:00:00",
          "2018-08-19T00:00:00",
          "2018-08-26T00:00:00",
          "2018-09-02T00:00:00",
          "2018-09-09T00:00:00",
          "2018-09-16T00:00:00",
          "2018-09-23T00:00:00",
          "2018-09-30T00:00:00",
          "2018-10-07T00:00:00",
          "2018-10-14T00:00:00",
          "2018-10-21T00:00:00",
          "2018-10-28T00:00:00",
          "2018-11-04T00:00:00",
          "2018-11-11T00:00:00",
          "2018-11-18T00:00:00",
          "2018-11-25T00:00:00",
          "2018-12-02T00:00:00",
          "2018-12-09T00:00:00",
          "2018-12-16T00:00:00",
          "2018-12-23T00:00:00",
          "2018-12-30T00:00:00",
          "2019-01-06T00:00:00",
          "2019-01-13T00:00:00",
          "2019-01-20T00:00:00",
          "2019-01-27T00:00:00",
          "2019-02-03T00:00:00",
          "2019-02-10T00:00:00",
          "2019-02-17T00:00:00",
          "2019-02-24T00:00:00",
          "2019-03-03T00:00:00",
          "2019-03-10T00:00:00",
          "2019-03-17T00:00:00",
          "2019-03-24T00:00:00",
          "2019-03-31T00:00:00",
          "2019-04-07T00:00:00",
          "2019-04-14T00:00:00",
          "2019-04-21T00:00:00",
          "2019-04-28T00:00:00",
          "2019-05-05T00:00:00",
          "2019-05-12T00:00:00",
          "2019-05-19T00:00:00",
          "2019-05-26T00:00:00",
          "2019-06-02T00:00:00",
          "2019-06-09T00:00:00",
          "2019-06-16T00:00:00",
          "2019-06-23T00:00:00",
          "2019-06-30T00:00:00",
          "2019-07-07T00:00:00",
          "2019-07-14T00:00:00",
          "2019-07-21T00:00:00",
          "2019-07-28T00:00:00",
          "2019-08-04T00:00:00",
          "2019-08-11T00:00:00",
          "2019-08-18T00:00:00",
          "2019-08-25T00:00:00",
          "2019-09-01T00:00:00",
          "2019-09-08T00:00:00",
          "2019-09-15T00:00:00",
          "2019-09-22T00:00:00",
          "2019-09-29T00:00:00",
          "2019-10-06T00:00:00",
          "2019-10-13T00:00:00",
          "2019-10-20T00:00:00",
          "2019-10-27T00:00:00",
          "2019-11-03T00:00:00",
          "2019-11-10T00:00:00",
          "2019-11-17T00:00:00",
          "2019-11-24T00:00:00",
          "2019-12-01T00:00:00",
          "2019-12-08T00:00:00",
          "2019-12-15T00:00:00",
          "2019-12-22T00:00:00",
          "2019-12-29T00:00:00",
          "2020-01-05T00:00:00",
          "2020-01-12T00:00:00",
          "2020-01-19T00:00:00",
          "2020-01-26T00:00:00",
          "2020-02-02T00:00:00",
          "2020-02-09T00:00:00",
          "2020-02-16T00:00:00",
          "2020-02-23T00:00:00",
          "2020-03-01T00:00:00",
          "2020-03-08T00:00:00",
          "2020-03-15T00:00:00",
          "2020-03-22T00:00:00",
          "2020-03-29T00:00:00",
          "2020-04-05T00:00:00",
          "2020-04-12T00:00:00",
          "2020-04-19T00:00:00",
          "2020-04-26T00:00:00",
          "2020-05-03T00:00:00",
          "2020-05-10T00:00:00",
          "2020-05-17T00:00:00",
          "2020-05-24T00:00:00",
          "2020-05-31T00:00:00",
          "2020-06-07T00:00:00",
          "2020-06-14T00:00:00",
          "2020-06-21T00:00:00",
          "2020-06-28T00:00:00",
          "2020-07-05T00:00:00",
          "2020-07-12T00:00:00",
          "2020-07-19T00:00:00",
          "2020-07-26T00:00:00",
          "2020-08-02T00:00:00",
          "2020-08-09T00:00:00",
          "2020-08-16T00:00:00",
          "2020-08-23T00:00:00",
          "2020-08-30T00:00:00",
          "2020-09-06T00:00:00",
          "2020-09-13T00:00:00",
          "2020-09-20T00:00:00",
          "2020-09-27T00:00:00",
          "2020-10-04T00:00:00",
          "2020-10-11T00:00:00",
          "2020-10-18T00:00:00",
          "2020-10-25T00:00:00",
          "2020-11-01T00:00:00",
          "2020-11-08T00:00:00",
          "2020-11-15T00:00:00",
          "2020-11-22T00:00:00",
          "2020-11-29T00:00:00",
          "2020-12-06T00:00:00",
          "2020-12-13T00:00:00"
         ],
         "y": [
          20.916687640744215,
          21.465588562169092,
          22.364522865090727,
          21.359403975098175,
          22.849912549261564,
          26.024385147505466,
          23.007629299809366,
          22.265601987546543,
          24.075465366448476,
          24.644013670130217,
          21.77259722605417,
          21.11133755321854,
          22.122404357557496,
          21.69999678850656,
          23.792088458586058,
          21.55016003688176,
          22.286279407644916,
          22.372259752471685,
          22.00457055529329,
          22.414249804000004,
          21.71848425262443,
          23.49661311515985,
          22.06103596890802,
          22.621976555943643,
          22.89210432558812,
          20.129397713404025,
          20.924553561007258,
          20.92595506480062,
          20.604502076661806,
          21.559561697536186,
          20.514640262946756,
          21.46329946599653,
          20.990075821462792,
          21.087155958773835,
          22.534806626054102,
          22.182200854953596,
          22.0801256201086,
          21.5662015215785,
          22.033615351429603,
          20.341202752879813,
          20.40729210309093,
          21.983152457588684,
          20.73608565184006,
          23.07690809404645,
          20.3338197381533,
          22.205730902285993,
          22.6069518985522,
          24.294684809627757,
          22.29915937528863,
          23.385049973657445,
          22.251568224800035,
          22.55664747646868,
          22.79427716564949,
          23.793425676578543,
          22.69759827580601,
          22.097747982731462,
          22.69930816627172,
          22.869946785141646,
          21.86476774464525,
          21.760969275909165,
          22.168896510603894,
          23.148545283705438,
          23.111705574372866,
          22.06695439971148,
          22.193356965815006,
          22.927631287120384,
          22.670561939410156,
          22.89385612758477,
          22.437783779846043,
          23.28509383657359,
          22.63766902805084,
          21.617636624630133,
          22.652736136311447,
          21.832002037441242,
          22.332015252420867,
          21.157156030448313,
          22.67174848143902,
          22.826924503800146,
          23.086378661416116,
          23.82527584384545,
          24.837026205727824,
          22.677644172345072,
          23.01521827305582,
          22.18995648937562,
          22.36383622536911,
          24.25020415966392,
          22.169358410265062,
          22.278835775770215,
          22.66229546081281,
          24.1345675904021,
          20.53157007930452,
          22.795803350577504,
          21.39874790409879,
          22.540512427449453,
          21.082130900820655,
          22.275030546588876,
          23.829277146914254,
          22.35175817527519,
          22.906599491708516,
          23.081937489227276,
          21.917262289045627,
          22.951823044733537,
          22.72225710417949,
          23.045399767485723,
          22.36677907249706,
          22.175242804800785,
          24.54294024851204,
          22.535402604916683,
          22.609308296782373,
          22.0501851233656,
          22.693615523644503,
          24.0053783089819,
          24.021978353191326,
          23.90058669039908,
          23.521555063073688,
          23.984459803747942,
          24.88765719497762,
          22.83541046567167,
          22.66072610034602,
          23.246969151658615,
          21.74595435081162,
          22.906475394429023,
          24.229713764079893,
          24.087161601981663,
          22.497450201676244,
          21.164067779552234,
          22.246409860389342,
          24.048855986099856,
          22.983617158081383,
          22.28902156424535,
          23.7535790080684,
          22.55220925502443,
          23.009056894352057,
          22.207047982440564,
          22.94217601418682,
          23.66120437500403,
          23.406222006733866,
          23.877055991551586,
          22.714816842562232,
          22.84376127297566,
          23.340709827015072
         ]
        },
        {
         "line": {
          "color": "rgba(0,0,30,0.5)"
         },
         "mode": "lines",
         "name": "Test",
         "type": "scatter",
         "x": [
          "2020-12-13T00:00:00",
          "2020-12-20T00:00:00",
          "2020-12-27T00:00:00",
          "2021-01-03T00:00:00",
          "2021-01-10T00:00:00",
          "2021-01-17T00:00:00",
          "2021-01-24T00:00:00",
          "2021-01-31T00:00:00",
          "2021-02-07T00:00:00",
          "2021-02-14T00:00:00",
          "2021-02-21T00:00:00",
          "2021-02-28T00:00:00",
          "2021-03-07T00:00:00",
          "2021-03-14T00:00:00",
          "2021-03-21T00:00:00",
          "2021-03-28T00:00:00",
          "2021-04-04T00:00:00",
          "2021-04-11T00:00:00",
          "2021-04-18T00:00:00",
          "2021-04-25T00:00:00",
          "2021-05-02T00:00:00",
          "2021-05-09T00:00:00",
          "2021-05-16T00:00:00",
          "2021-05-23T00:00:00",
          "2021-05-30T00:00:00",
          "2021-06-06T00:00:00",
          "2021-06-13T00:00:00",
          "2021-06-20T00:00:00",
          "2021-06-27T00:00:00",
          "2021-07-04T00:00:00",
          "2021-07-11T00:00:00",
          "2021-07-18T00:00:00",
          "2021-07-25T00:00:00",
          "2021-08-01T00:00:00",
          "2021-08-08T00:00:00",
          "2021-08-15T00:00:00",
          "2021-08-22T00:00:00",
          "2021-08-29T00:00:00",
          "2021-09-05T00:00:00",
          "2021-09-12T00:00:00",
          "2021-09-19T00:00:00",
          "2021-09-26T00:00:00",
          "2021-10-03T00:00:00",
          "2021-10-10T00:00:00",
          "2021-10-17T00:00:00",
          "2021-10-24T00:00:00",
          "2021-10-31T00:00:00",
          "2021-11-07T00:00:00",
          "2021-11-14T00:00:00",
          "2021-11-21T00:00:00",
          "2021-11-28T00:00:00",
          "2021-12-05T00:00:00",
          "2021-12-12T00:00:00",
          "2021-12-19T00:00:00",
          "2021-12-26T00:00:00",
          "2022-01-02T00:00:00"
         ],
         "y": [
          23.340709827015072,
          23.839797573894188,
          22.931120851764643,
          22.514184569521095,
          22.277327063813743,
          22.78677233756705,
          22.433327932100784,
          22.32940248620266,
          23.371855898846555,
          23.006296583819957,
          22.542703112296156,
          22.14805973777498,
          23.849230871711192,
          23.37813606465011,
          23.636765781103932,
          23.0518636464199,
          23.68035081117798,
          22.58094794710114,
          23.036313391612445,
          21.903305566410154,
          23.304283038579808,
          22.45980673902649,
          23.016676394300347,
          22.90550785158181,
          22.550336898436623,
          23.834528195501633,
          23.29596360349518,
          23.052475685958473,
          22.281935642531522,
          22.61862568109303,
          22.149026513028144,
          22.61934817005785,
          23.040217034325003,
          23.203431762236548,
          22.668367327411197,
          23.19627451146009,
          22.890560925578683,
          23.16748945347873,
          23.539271635566884,
          22.63598213025414,
          22.807514999350524,
          21.01587393334542,
          22.22174783083468,
          23.731297505635453,
          22.533007994889896,
          22.6455012024583,
          23.5259710942154,
          24.2697787172007,
          24.035204906823303,
          22.95679397068564,
          22.58769597316172,
          23.452677663853947,
          23.468780286186664,
          23.862154091171,
          22.660148797550036,
          22.241933783190323
         ]
        },
        {
         "line": {
          "color": "red",
          "dash": "dot",
          "width": 3
         },
         "mode": "lines",
         "name": "Prediction",
         "type": "scatter",
         "x": [
          "2020-12-13T00:00:00",
          "2020-12-20T00:00:00",
          "2020-12-27T00:00:00",
          "2021-01-03T00:00:00",
          "2021-01-10T00:00:00",
          "2021-01-17T00:00:00",
          "2021-01-24T00:00:00",
          "2021-01-31T00:00:00",
          "2021-02-07T00:00:00",
          "2021-02-14T00:00:00",
          "2021-02-21T00:00:00",
          "2021-02-28T00:00:00",
          "2021-03-07T00:00:00",
          "2021-03-14T00:00:00",
          "2021-03-21T00:00:00",
          "2021-03-28T00:00:00",
          "2021-04-04T00:00:00",
          "2021-04-11T00:00:00",
          "2021-04-18T00:00:00",
          "2021-04-25T00:00:00",
          "2021-05-02T00:00:00",
          "2021-05-09T00:00:00",
          "2021-05-16T00:00:00",
          "2021-05-23T00:00:00",
          "2021-05-30T00:00:00",
          "2021-06-06T00:00:00",
          "2021-06-13T00:00:00",
          "2021-06-20T00:00:00",
          "2021-06-27T00:00:00",
          "2021-07-04T00:00:00",
          "2021-07-11T00:00:00",
          "2021-07-18T00:00:00",
          "2021-07-25T00:00:00",
          "2021-08-01T00:00:00",
          "2021-08-08T00:00:00",
          "2021-08-15T00:00:00",
          "2021-08-22T00:00:00",
          "2021-08-29T00:00:00",
          "2021-09-05T00:00:00",
          "2021-09-12T00:00:00",
          "2021-09-19T00:00:00",
          "2021-09-26T00:00:00",
          "2021-10-03T00:00:00",
          "2021-10-10T00:00:00",
          "2021-10-17T00:00:00",
          "2021-10-24T00:00:00",
          "2021-10-31T00:00:00",
          "2021-11-07T00:00:00",
          "2021-11-14T00:00:00",
          "2021-11-21T00:00:00",
          "2021-11-28T00:00:00",
          "2021-12-05T00:00:00",
          "2021-12-12T00:00:00",
          "2021-12-19T00:00:00",
          "2021-12-26T00:00:00",
          "2022-01-02T00:00:00"
         ],
         "y": [
          23.10786402811672,
          22.768312273201303,
          22.562788453420936,
          22.528998986371995,
          22.33627241530278,
          22.421464340448683,
          22.983798483998658,
          22.98549881391507,
          22.875867991670567,
          23.057019181788018,
          23.3013375386047,
          23.065886899528397,
          22.774872695969485,
          22.677757961197667,
          22.529409920224047,
          22.719828528654933,
          22.546557580362563,
          22.507363864487825,
          22.48729731723417,
          22.414202729424495,
          22.414206731551218,
          22.309176265999287,
          22.48796346571119,
          22.424688275044065,
          22.4539228858208,
          22.518864148191216,
          22.164735605968872,
          21.974735383926667,
          21.808275973253977,
          21.611600297864083,
          21.599823424410623,
          21.416020034326152,
          21.42357160894139,
          21.35156936729703,
          21.30610346250081,
          21.50848939367778,
          21.615792391107167,
          21.689187623108076,
          21.669761217228874,
          21.727219953637096,
          21.50866875988267,
          21.333781520861844,
          21.43739778236889,
          21.326224954251035,
          21.6020636502651,
          21.404558031403877,
          21.529218719878862,
          21.696393267749272,
          22.106094942406664,
          22.138217361810387,
          22.34691111493009,
          22.330625347406205,
          22.368501250193408,
          22.439153523593404,
          22.670086961849204,
          22.674639916712138,
          22.577018201273088,
          22.597072827947013,
          22.64255608559766,
          22.514046160910002,
          22.39124925373569,
          22.355061315114142,
          22.484072732630565,
          22.586299772406797,
          22.501640666423167,
          22.451599479645672,
          22.528865183889828,
          22.551863304166165,
          22.60737694399559,
          22.579849111969526,
          22.694608775469202,
          22.68534989629661,
          22.512008654709483,
          22.534785091396365,
          22.42104728564072,
          22.406632305455148,
          22.20321716202071,
          22.2798560775084,
          22.3687051541393,
          22.484582615380226,
          22.70137186409377,
          23.056281368509733,
          22.99153248002685,
          22.995419469928063,
          22.86240981856449,
          22.781450791121298,
          23.01968312630615,
          22.881086950272586,
          22.784162201639123,
          22.764580859090927,
          22.98448500083903,
          22.593860147465918,
          22.62583120393382,
          22.430320525917445,
          22.447846568982452,
          22.22786755062056,
          22.234767411133113,
          22.490901824731516,
          22.46913638626813,
          22.53812421061962,
          22.623877926988605,
          22.5125222817305,
          22.5816210839757,
          22.6037411981295,
          22.67321265615129,
          22.62501100653553,
          22.554269037663445,
          22.866289504157745,
          22.81438316018882,
          22.78176391130198,
          22.667409733751324,
          22.67149274679352,
          22.879319951580385,
          23.059279968916126,
          23.19543877699138,
          23.24872000017442,
          23.369698160092927,
          23.62216997715685,
          23.491586541458922,
          23.354977957064808,
          23.33770792811614,
          23.084377118371012,
          23.056178123175393,
          23.241949226378846,
          23.37573871448631,
          23.236622174815096,
          22.91090280789332,
          22.804949625901692,
          23.002429348897223,
          22.999493721196355,
          22.888633206347183,
          23.023597449431456,
          22.950268727931203,
          22.959419843962284,
          22.84229654873705,
          22.857839856738178,
          22.982877371266547,
          23.0486532038762,
          23.17766198818841,
          23.10541327326862,
          23.064795447952914
         ]
        },
        {
         "fill": "toself",
         "fillcolor": "rgba(0,0,30,0.1)",
         "hoverinfo": "skip",
         "line": {
          "color": "rgba(0,0,0,0)"
         },
         "showlegend": false,
         "type": "scatter",
         "x": [
          "2020-12-13T00:00:00",
          "2020-12-20T00:00:00",
          "2020-12-27T00:00:00",
          "2021-01-03T00:00:00",
          "2021-01-10T00:00:00",
          "2021-01-17T00:00:00",
          "2021-01-24T00:00:00",
          "2021-01-31T00:00:00",
          "2021-02-07T00:00:00",
          "2021-02-14T00:00:00",
          "2021-02-21T00:00:00",
          "2021-02-28T00:00:00",
          "2021-03-07T00:00:00",
          "2021-03-14T00:00:00",
          "2021-03-21T00:00:00",
          "2021-03-28T00:00:00",
          "2021-04-04T00:00:00",
          "2021-04-11T00:00:00",
          "2021-04-18T00:00:00",
          "2021-04-25T00:00:00",
          "2021-05-02T00:00:00",
          "2021-05-09T00:00:00",
          "2021-05-16T00:00:00",
          "2021-05-23T00:00:00",
          "2021-05-30T00:00:00",
          "2021-06-06T00:00:00",
          "2021-06-13T00:00:00",
          "2021-06-20T00:00:00",
          "2021-06-27T00:00:00",
          "2021-07-04T00:00:00",
          "2021-07-11T00:00:00",
          "2021-07-18T00:00:00",
          "2021-07-25T00:00:00",
          "2021-08-01T00:00:00",
          "2021-08-08T00:00:00",
          "2021-08-15T00:00:00",
          "2021-08-22T00:00:00",
          "2021-08-29T00:00:00",
          "2021-09-05T00:00:00",
          "2021-09-12T00:00:00",
          "2021-09-19T00:00:00",
          "2021-09-26T00:00:00",
          "2021-10-03T00:00:00",
          "2021-10-10T00:00:00",
          "2021-10-17T00:00:00",
          "2021-10-24T00:00:00",
          "2021-10-31T00:00:00",
          "2021-11-07T00:00:00",
          "2021-11-14T00:00:00",
          "2021-11-21T00:00:00",
          "2021-11-28T00:00:00",
          "2021-12-05T00:00:00",
          "2021-12-12T00:00:00",
          "2021-12-19T00:00:00",
          "2021-12-26T00:00:00",
          "2022-01-02T00:00:00",
          "2022-01-02T00:00:00",
          "2021-12-26T00:00:00",
          "2021-12-19T00:00:00",
          "2021-12-12T00:00:00",
          "2021-12-05T00:00:00",
          "2021-11-28T00:00:00",
          "2021-11-21T00:00:00",
          "2021-11-14T00:00:00",
          "2021-11-07T00:00:00",
          "2021-10-31T00:00:00",
          "2021-10-24T00:00:00",
          "2021-10-17T00:00:00",
          "2021-10-10T00:00:00",
          "2021-10-03T00:00:00",
          "2021-09-26T00:00:00",
          "2021-09-19T00:00:00",
          "2021-09-12T00:00:00",
          "2021-09-05T00:00:00",
          "2021-08-29T00:00:00",
          "2021-08-22T00:00:00",
          "2021-08-15T00:00:00",
          "2021-08-08T00:00:00",
          "2021-08-01T00:00:00",
          "2021-07-25T00:00:00",
          "2021-07-18T00:00:00",
          "2021-07-11T00:00:00",
          "2021-07-04T00:00:00",
          "2021-06-27T00:00:00",
          "2021-06-20T00:00:00",
          "2021-06-13T00:00:00",
          "2021-06-06T00:00:00",
          "2021-05-30T00:00:00",
          "2021-05-23T00:00:00",
          "2021-05-16T00:00:00",
          "2021-05-09T00:00:00",
          "2021-05-02T00:00:00",
          "2021-04-25T00:00:00",
          "2021-04-18T00:00:00",
          "2021-04-11T00:00:00",
          "2021-04-04T00:00:00",
          "2021-03-28T00:00:00",
          "2021-03-21T00:00:00",
          "2021-03-14T00:00:00",
          "2021-03-07T00:00:00",
          "2021-02-28T00:00:00",
          "2021-02-21T00:00:00",
          "2021-02-14T00:00:00",
          "2021-02-07T00:00:00",
          "2021-01-31T00:00:00",
          "2021-01-24T00:00:00",
          "2021-01-17T00:00:00",
          "2021-01-10T00:00:00",
          "2021-01-03T00:00:00",
          "2020-12-27T00:00:00",
          "2020-12-20T00:00:00",
          "2020-12-13T00:00:00"
         ],
         "y": [
          25.02849472661038,
          24.69549439528883,
          24.49023015915843,
          24.456081859403977,
          24.263865679042596,
          24.34864998933754,
          24.926996086649865,
          24.930169691975344,
          24.82064712488337,
          25.00248689752148,
          25.24840190044976,
          25.014387920578155,
          24.72959751087892,
          24.632418680849305,
          24.48367491549468,
          24.673711030651177,
          24.502446132722266,
          24.461689939355608,
          24.439969593380383,
          24.36585602749507,
          24.363928901797276,
          24.258702167654928,
          24.437528700652496,
          24.372889915605036,
          24.40053790331589,
          24.465479165382614,
          24.117915274472903,
          23.927634664825902,
          23.760778337786263,
          23.563890261950878,
          23.552315627777876,
          23.36875542670941,
          23.375631518419578,
          23.303079329561644,
          23.255445748608025,
          23.45901354589314,
          23.56508325429337,
          23.637085596314154,
          23.615901197682653,
          23.673359933686676,
          23.45483470602486,
          23.280032154943157,
          23.38325265296276,
          23.27160617132757,
          23.5494983766146,
          23.353910761849722,
          23.478416492914228,
          23.645482547570623,
          24.064004270382526,
          24.095230679065626,
          24.30520176215313,
          24.286810538832782,
          24.323207272319813,
          24.393096772255202,
          24.62521682313467,
          24.62779245995055,
          24.52962028092089,
          24.547585289080946,
          24.59164687040966,
          24.46251576863895,
          24.339251408658374,
          24.30137650084521,
          24.42984263212431,
          24.53099289584956,
          24.44534490982055,
          24.39388878949325,
          24.469966346381177,
          24.49145540586758,
          24.54561445244769,
          24.516598591410304,
          24.630541743924947,
          24.619828203906224,
          24.44653884095533,
          24.468024231120665,
          24.353539731306412,
          24.337629632899322,
          24.134717244596647,
          24.210833333455923,
          24.298377428745663,
          24.41356386106604,
          24.631644424845735,
          24.99145559387222,
          24.92610825420848,
          24.92846227504828,
          24.79493028594181,
          24.712741448803595,
          24.95290438021399,
          24.81391731678503,
          24.715941108930316,
          24.69502061593507,
          24.916304297961194,
          24.53289638782892,
          24.564867444287646,
          24.36914752266429,
          24.385214898694393,
          24.165690935995435,
          24.172048613261815,
          24.42888707120814,
          24.40727850477974,
          24.47506794794299,
          24.559803594405803,
          24.44780804571111,
          24.515664130864117,
          24.536361440698247,
          24.60467408700691,
          24.555165910084362,
          24.48327912875258,
          24.799659189547405,
          24.747752845554565,
          24.712187829815093,
          24.597545107742906,
          24.600194905013833,
          24.80921960981949,
          24.98907471741376,
          25.125458793942915,
          25.17747670358461,
          25.29783297037145,
          25.550324176728644,
          25.420389885932558,
          25.284120247715688,
          25.265456135830988,
          25.01410922923942,
          24.984827115676985,
          25.170833454586777,
          25.30460929227635,
          25.165198639569184,
          24.84418781647108,
          24.7380949447354,
          24.935848236092017,
          24.931519565389372,
          24.82065905051836,
          24.95562329360263,
          24.880229094237276,
          24.888005280655452,
          24.770294920229052,
          24.78447653543015,
          24.909251415019668,
          24.973715728965985,
          25.102310252873643,
          25.02887236087052,
          24.987114525320433,
          21.142476370585396,
          21.181954185666722,
          21.25301372350318,
          21.123590678786414,
          21.056503327513425,
          20.931203178046204,
          20.914298177245048,
          21.030834407269115,
          21.02030836162513,
          21.09157160526028,
          20.95660736217601,
          21.067467877003338,
          21.06901046170243,
          20.871804307067983,
          20.977617799315556,
          21.30804571006101,
          21.44686813669627,
          21.313064998170915,
          21.1275291306738,
          21.154645007502605,
          21.40995972040129,
          21.425835666413928,
          21.562783196985286,
          21.694015777585058,
          21.441563349814405,
          21.31996329676423,
          21.265418760039847,
          21.12948522041849,
          20.94942029334128,
          20.742790588573204,
          20.73727435975974,
          20.851339992788866,
          20.881013474823078,
          20.932919818768084,
          20.62525894657431,
          20.694856102986698,
          20.74175122529567,
          20.671120955560756,
          20.647578037087285,
          20.577236517749892,
          20.687952259571407,
          20.601180473296253,
          20.53099426775652,
          20.55291657825489,
          20.29748620900441,
          20.290044165245682,
          20.510478239270512,
          20.4914935291706,
          20.686794963579995,
          20.654823907102916,
          21.052665703716865,
          20.834141102246782,
          20.85238329434793,
          20.94825658376014,
          21.086461872398306,
          20.850160133439,
          20.92988935118717,
          21.062376664807847,
          21.056956705845224,
          21.121107143147245,
          20.771099303341803,
          20.55560136969441,
          20.439032879532935,
          20.348878821560874,
          20.271717079444773,
          20.475634978010973,
          20.48855483997503,
          20.601545951672065,
          20.577478468463635,
          20.750871588686998,
          20.758675807013457,
          20.64309963252875,
          20.66913943554349,
          20.61227120246475,
          20.587764021398478,
          20.509310169798095,
          20.557936423025783,
          20.641606648964032,
          20.53830283313682,
          20.408746129383076,
          20.443247098813007,
          20.565576553181053,
          20.69346530078566,
          20.64656036681308,
          20.624416121625284,
          20.721487373473725,
          20.714957100563737,
          20.485210274931607,
          20.413795228067002,
          20.374440155979627,
          20.388620467707053,
          20.181204044555148,
          20.1481856144308,
          19.74730398792792,
          19.580020946843497,
          19.45520530095803,
          19.654628923915602,
          19.3808437371745,
          19.49154291177502,
          19.38753088678053,
          19.56250281374048,
          19.781079973587516,
          19.723621236775095,
          19.741289649901997,
          19.666501527920964,
          19.557965241462423,
          19.356761176393597,
          19.40005940503242,
          19.471511699463203,
          19.463284641942895,
          19.64733122104337,
          19.659310333777288,
          19.85577360872169,
          20.021836103027432,
          20.21155593746484,
          20.57224913099982,
          20.507307868325707,
          20.476486634483095,
          20.538398230769882,
          20.359650364343647,
          20.46448456130516,
          20.46254943135392,
          20.534625041087956,
          20.553037789620042,
          20.59066902800286,
          20.76594602665869,
          20.575144924953413,
          20.72309724154603,
          20.82014788106005,
          21.11738587847864,
          21.354273176759637,
          21.111551466054557,
          20.931088858457766,
          21.040827935854793,
          21.04060088134745,
          20.494278691559824,
          20.408679151562964,
          20.601916113340014,
          20.635346747683442,
          20.841130151113777,
          21.18723332962306
         ]
        }
       ],
       "layout": {
        "height": 400,
        "template": {
         "data": {
          "bar": [
           {
            "error_x": {
             "color": "#2a3f5f"
            },
            "error_y": {
             "color": "#2a3f5f"
            },
            "marker": {
             "line": {
              "color": "#E5ECF6",
              "width": 0.5
             },
             "pattern": {
              "fillmode": "overlay",
              "size": 10,
              "solidity": 0.2
             }
            },
            "type": "bar"
           }
          ],
          "barpolar": [
           {
            "marker": {
             "line": {
              "color": "#E5ECF6",
              "width": 0.5
             },
             "pattern": {
              "fillmode": "overlay",
              "size": 10,
              "solidity": 0.2
             }
            },
            "type": "barpolar"
           }
          ],
          "carpet": [
           {
            "aaxis": {
             "endlinecolor": "#2a3f5f",
             "gridcolor": "white",
             "linecolor": "white",
             "minorgridcolor": "white",
             "startlinecolor": "#2a3f5f"
            },
            "baxis": {
             "endlinecolor": "#2a3f5f",
             "gridcolor": "white",
             "linecolor": "white",
             "minorgridcolor": "white",
             "startlinecolor": "#2a3f5f"
            },
            "type": "carpet"
           }
          ],
          "choropleth": [
           {
            "colorbar": {
             "outlinewidth": 0,
             "ticks": ""
            },
            "type": "choropleth"
           }
          ],
          "contour": [
           {
            "colorbar": {
             "outlinewidth": 0,
             "ticks": ""
            },
            "colorscale": [
             [
              0,
              "#0d0887"
             ],
             [
              0.1111111111111111,
              "#46039f"
             ],
             [
              0.2222222222222222,
              "#7201a8"
             ],
             [
              0.3333333333333333,
              "#9c179e"
             ],
             [
              0.4444444444444444,
              "#bd3786"
             ],
             [
              0.5555555555555556,
              "#d8576b"
             ],
             [
              0.6666666666666666,
              "#ed7953"
             ],
             [
              0.7777777777777778,
              "#fb9f3a"
             ],
             [
              0.8888888888888888,
              "#fdca26"
             ],
             [
              1,
              "#f0f921"
             ]
            ],
            "type": "contour"
           }
          ],
          "contourcarpet": [
           {
            "colorbar": {
             "outlinewidth": 0,
             "ticks": ""
            },
            "type": "contourcarpet"
           }
          ],
          "heatmap": [
           {
            "colorbar": {
             "outlinewidth": 0,
             "ticks": ""
            },
            "colorscale": [
             [
              0,
              "#0d0887"
             ],
             [
              0.1111111111111111,
              "#46039f"
             ],
             [
              0.2222222222222222,
              "#7201a8"
             ],
             [
              0.3333333333333333,
              "#9c179e"
             ],
             [
              0.4444444444444444,
              "#bd3786"
             ],
             [
              0.5555555555555556,
              "#d8576b"
             ],
             [
              0.6666666666666666,
              "#ed7953"
             ],
             [
              0.7777777777777778,
              "#fb9f3a"
             ],
             [
              0.8888888888888888,
              "#fdca26"
             ],
             [
              1,
              "#f0f921"
             ]
            ],
            "type": "heatmap"
           }
          ],
          "heatmapgl": [
           {
            "colorbar": {
             "outlinewidth": 0,
             "ticks": ""
            },
            "colorscale": [
             [
              0,
              "#0d0887"
             ],
             [
              0.1111111111111111,
              "#46039f"
             ],
             [
              0.2222222222222222,
              "#7201a8"
             ],
             [
              0.3333333333333333,
              "#9c179e"
             ],
             [
              0.4444444444444444,
              "#bd3786"
             ],
             [
              0.5555555555555556,
              "#d8576b"
             ],
             [
              0.6666666666666666,
              "#ed7953"
             ],
             [
              0.7777777777777778,
              "#fb9f3a"
             ],
             [
              0.8888888888888888,
              "#fdca26"
             ],
             [
              1,
              "#f0f921"
             ]
            ],
            "type": "heatmapgl"
           }
          ],
          "histogram": [
           {
            "marker": {
             "pattern": {
              "fillmode": "overlay",
              "size": 10,
              "solidity": 0.2
             }
            },
            "type": "histogram"
           }
          ],
          "histogram2d": [
           {
            "colorbar": {
             "outlinewidth": 0,
             "ticks": ""
            },
            "colorscale": [
             [
              0,
              "#0d0887"
             ],
             [
              0.1111111111111111,
              "#46039f"
             ],
             [
              0.2222222222222222,
              "#7201a8"
             ],
             [
              0.3333333333333333,
              "#9c179e"
             ],
             [
              0.4444444444444444,
              "#bd3786"
             ],
             [
              0.5555555555555556,
              "#d8576b"
             ],
             [
              0.6666666666666666,
              "#ed7953"
             ],
             [
              0.7777777777777778,
              "#fb9f3a"
             ],
             [
              0.8888888888888888,
              "#fdca26"
             ],
             [
              1,
              "#f0f921"
             ]
            ],
            "type": "histogram2d"
           }
          ],
          "histogram2dcontour": [
           {
            "colorbar": {
             "outlinewidth": 0,
             "ticks": ""
            },
            "colorscale": [
             [
              0,
              "#0d0887"
             ],
             [
              0.1111111111111111,
              "#46039f"
             ],
             [
              0.2222222222222222,
              "#7201a8"
             ],
             [
              0.3333333333333333,
              "#9c179e"
             ],
             [
              0.4444444444444444,
              "#bd3786"
             ],
             [
              0.5555555555555556,
              "#d8576b"
             ],
             [
              0.6666666666666666,
              "#ed7953"
             ],
             [
              0.7777777777777778,
              "#fb9f3a"
             ],
             [
              0.8888888888888888,
              "#fdca26"
             ],
             [
              1,
              "#f0f921"
             ]
            ],
            "type": "histogram2dcontour"
           }
          ],
          "mesh3d": [
           {
            "colorbar": {
             "outlinewidth": 0,
             "ticks": ""
            },
            "type": "mesh3d"
           }
          ],
          "parcoords": [
           {
            "line": {
             "colorbar": {
              "outlinewidth": 0,
              "ticks": ""
             }
            },
            "type": "parcoords"
           }
          ],
          "pie": [
           {
            "automargin": true,
            "type": "pie"
           }
          ],
          "scatter": [
           {
            "marker": {
             "colorbar": {
              "outlinewidth": 0,
              "ticks": ""
             }
            },
            "type": "scatter"
           }
          ],
          "scatter3d": [
           {
            "line": {
             "colorbar": {
              "outlinewidth": 0,
              "ticks": ""
             }
            },
            "marker": {
             "colorbar": {
              "outlinewidth": 0,
              "ticks": ""
             }
            },
            "type": "scatter3d"
           }
          ],
          "scattercarpet": [
           {
            "marker": {
             "colorbar": {
              "outlinewidth": 0,
              "ticks": ""
             }
            },
            "type": "scattercarpet"
           }
          ],
          "scattergeo": [
           {
            "marker": {
             "colorbar": {
              "outlinewidth": 0,
              "ticks": ""
             }
            },
            "type": "scattergeo"
           }
          ],
          "scattergl": [
           {
            "marker": {
             "colorbar": {
              "outlinewidth": 0,
              "ticks": ""
             }
            },
            "type": "scattergl"
           }
          ],
          "scattermapbox": [
           {
            "marker": {
             "colorbar": {
              "outlinewidth": 0,
              "ticks": ""
             }
            },
            "type": "scattermapbox"
           }
          ],
          "scatterpolar": [
           {
            "marker": {
             "colorbar": {
              "outlinewidth": 0,
              "ticks": ""
             }
            },
            "type": "scatterpolar"
           }
          ],
          "scatterpolargl": [
           {
            "marker": {
             "colorbar": {
              "outlinewidth": 0,
              "ticks": ""
             }
            },
            "type": "scatterpolargl"
           }
          ],
          "scatterternary": [
           {
            "marker": {
             "colorbar": {
              "outlinewidth": 0,
              "ticks": ""
             }
            },
            "type": "scatterternary"
           }
          ],
          "surface": [
           {
            "colorbar": {
             "outlinewidth": 0,
             "ticks": ""
            },
            "colorscale": [
             [
              0,
              "#0d0887"
             ],
             [
              0.1111111111111111,
              "#46039f"
             ],
             [
              0.2222222222222222,
              "#7201a8"
             ],
             [
              0.3333333333333333,
              "#9c179e"
             ],
             [
              0.4444444444444444,
              "#bd3786"
             ],
             [
              0.5555555555555556,
              "#d8576b"
             ],
             [
              0.6666666666666666,
              "#ed7953"
             ],
             [
              0.7777777777777778,
              "#fb9f3a"
             ],
             [
              0.8888888888888888,
              "#fdca26"
             ],
             [
              1,
              "#f0f921"
             ]
            ],
            "type": "surface"
           }
          ],
          "table": [
           {
            "cells": {
             "fill": {
              "color": "#EBF0F8"
             },
             "line": {
              "color": "white"
             }
            },
            "header": {
             "fill": {
              "color": "#C8D4E3"
             },
             "line": {
              "color": "white"
             }
            },
            "type": "table"
           }
          ]
         },
         "layout": {
          "annotationdefaults": {
           "arrowcolor": "#2a3f5f",
           "arrowhead": 0,
           "arrowwidth": 1
          },
          "autotypenumbers": "strict",
          "coloraxis": {
           "colorbar": {
            "outlinewidth": 0,
            "ticks": ""
           }
          },
          "colorscale": {
           "diverging": [
            [
             0,
             "#8e0152"
            ],
            [
             0.1,
             "#c51b7d"
            ],
            [
             0.2,
             "#de77ae"
            ],
            [
             0.3,
             "#f1b6da"
            ],
            [
             0.4,
             "#fde0ef"
            ],
            [
             0.5,
             "#f7f7f7"
            ],
            [
             0.6,
             "#e6f5d0"
            ],
            [
             0.7,
             "#b8e186"
            ],
            [
             0.8,
             "#7fbc41"
            ],
            [
             0.9,
             "#4d9221"
            ],
            [
             1,
             "#276419"
            ]
           ],
           "sequential": [
            [
             0,
             "#0d0887"
            ],
            [
             0.1111111111111111,
             "#46039f"
            ],
            [
             0.2222222222222222,
             "#7201a8"
            ],
            [
             0.3333333333333333,
             "#9c179e"
            ],
            [
             0.4444444444444444,
             "#bd3786"
            ],
            [
             0.5555555555555556,
             "#d8576b"
            ],
            [
             0.6666666666666666,
             "#ed7953"
            ],
            [
             0.7777777777777778,
             "#fb9f3a"
            ],
            [
             0.8888888888888888,
             "#fdca26"
            ],
            [
             1,
             "#f0f921"
            ]
           ],
           "sequentialminus": [
            [
             0,
             "#0d0887"
            ],
            [
             0.1111111111111111,
             "#46039f"
            ],
            [
             0.2222222222222222,
             "#7201a8"
            ],
            [
             0.3333333333333333,
             "#9c179e"
            ],
            [
             0.4444444444444444,
             "#bd3786"
            ],
            [
             0.5555555555555556,
             "#d8576b"
            ],
            [
             0.6666666666666666,
             "#ed7953"
            ],
            [
             0.7777777777777778,
             "#fb9f3a"
            ],
            [
             0.8888888888888888,
             "#fdca26"
            ],
            [
             1,
             "#f0f921"
            ]
           ]
          },
          "colorway": [
           "#636efa",
           "#EF553B",
           "#00cc96",
           "#ab63fa",
           "#FFA15A",
           "#19d3f3",
           "#FF6692",
           "#B6E880",
           "#FF97FF",
           "#FECB52"
          ],
          "font": {
           "color": "#2a3f5f"
          },
          "geo": {
           "bgcolor": "white",
           "lakecolor": "white",
           "landcolor": "#E5ECF6",
           "showlakes": true,
           "showland": true,
           "subunitcolor": "white"
          },
          "hoverlabel": {
           "align": "left"
          },
          "hovermode": "closest",
          "mapbox": {
           "style": "light"
          },
          "paper_bgcolor": "white",
          "plot_bgcolor": "#E5ECF6",
          "polar": {
           "angularaxis": {
            "gridcolor": "white",
            "linecolor": "white",
            "ticks": ""
           },
           "bgcolor": "#E5ECF6",
           "radialaxis": {
            "gridcolor": "white",
            "linecolor": "white",
            "ticks": ""
           }
          },
          "scene": {
           "xaxis": {
            "backgroundcolor": "#E5ECF6",
            "gridcolor": "white",
            "gridwidth": 2,
            "linecolor": "white",
            "showbackground": true,
            "ticks": "",
            "zerolinecolor": "white"
           },
           "yaxis": {
            "backgroundcolor": "#E5ECF6",
            "gridcolor": "white",
            "gridwidth": 2,
            "linecolor": "white",
            "showbackground": true,
            "ticks": "",
            "zerolinecolor": "white"
           },
           "zaxis": {
            "backgroundcolor": "#E5ECF6",
            "gridcolor": "white",
            "gridwidth": 2,
            "linecolor": "white",
            "showbackground": true,
            "ticks": "",
            "zerolinecolor": "white"
           }
          },
          "shapedefaults": {
           "line": {
            "color": "#2a3f5f"
           }
          },
          "ternary": {
           "aaxis": {
            "gridcolor": "white",
            "linecolor": "white",
            "ticks": ""
           },
           "baxis": {
            "gridcolor": "white",
            "linecolor": "white",
            "ticks": ""
           },
           "bgcolor": "#E5ECF6",
           "caxis": {
            "gridcolor": "white",
            "linecolor": "white",
            "ticks": ""
           }
          },
          "title": {
           "x": 0.05
          },
          "xaxis": {
           "automargin": true,
           "gridcolor": "white",
           "linecolor": "white",
           "ticks": "",
           "title": {
            "standoff": 15
           },
           "zerolinecolor": "white",
           "zerolinewidth": 2
          },
          "yaxis": {
           "automargin": true,
           "gridcolor": "white",
           "linecolor": "white",
           "ticks": "",
           "title": {
            "standoff": 15
           },
           "zerolinecolor": "white",
           "zerolinewidth": 2
          }
         }
        },
        "title": {
         "text": "한국수자원공사_용역_ARIMA(2,2,0)모형"
        },
        "width": 1000
       }
      },
      "text/html": [
       "<div>                            <div id=\"2bf6d496-248d-4187-9972-98c435aa123b\" class=\"plotly-graph-div\" style=\"height:400px; width:1000px;\"></div>            <script type=\"text/javascript\">                require([\"plotly\"], function(Plotly) {                    window.PLOTLYENV=window.PLOTLYENV || {};                                    if (document.getElementById(\"2bf6d496-248d-4187-9972-98c435aa123b\")) {                    Plotly.newPlot(                        \"2bf6d496-248d-4187-9972-98c435aa123b\",                        [{\"line\":{\"color\":\"royalblue\"},\"mode\":\"lines\",\"name\":\"Train\",\"x\":[\"2018-04-08T00:00:00\",\"2018-04-15T00:00:00\",\"2018-04-22T00:00:00\",\"2018-04-29T00:00:00\",\"2018-05-06T00:00:00\",\"2018-05-13T00:00:00\",\"2018-05-20T00:00:00\",\"2018-05-27T00:00:00\",\"2018-06-03T00:00:00\",\"2018-06-10T00:00:00\",\"2018-06-17T00:00:00\",\"2018-06-24T00:00:00\",\"2018-07-01T00:00:00\",\"2018-07-08T00:00:00\",\"2018-07-15T00:00:00\",\"2018-07-22T00:00:00\",\"2018-07-29T00:00:00\",\"2018-08-05T00:00:00\",\"2018-08-12T00:00:00\",\"2018-08-19T00:00:00\",\"2018-08-26T00:00:00\",\"2018-09-02T00:00:00\",\"2018-09-09T00:00:00\",\"2018-09-16T00:00:00\",\"2018-09-23T00:00:00\",\"2018-09-30T00:00:00\",\"2018-10-07T00:00:00\",\"2018-10-14T00:00:00\",\"2018-10-21T00:00:00\",\"2018-10-28T00:00:00\",\"2018-11-04T00:00:00\",\"2018-11-11T00:00:00\",\"2018-11-18T00:00:00\",\"2018-11-25T00:00:00\",\"2018-12-02T00:00:00\",\"2018-12-09T00:00:00\",\"2018-12-16T00:00:00\",\"2018-12-23T00:00:00\",\"2018-12-30T00:00:00\",\"2019-01-06T00:00:00\",\"2019-01-13T00:00:00\",\"2019-01-20T00:00:00\",\"2019-01-27T00:00:00\",\"2019-02-03T00:00:00\",\"2019-02-10T00:00:00\",\"2019-02-17T00:00:00\",\"2019-02-24T00:00:00\",\"2019-03-03T00:00:00\",\"2019-03-10T00:00:00\",\"2019-03-17T00:00:00\",\"2019-03-24T00:00:00\",\"2019-03-31T00:00:00\",\"2019-04-07T00:00:00\",\"2019-04-14T00:00:00\",\"2019-04-21T00:00:00\",\"2019-04-28T00:00:00\",\"2019-05-05T00:00:00\",\"2019-05-12T00:00:00\",\"2019-05-19T00:00:00\",\"2019-05-26T00:00:00\",\"2019-06-02T00:00:00\",\"2019-06-09T00:00:00\",\"2019-06-16T00:00:00\",\"2019-06-23T00:00:00\",\"2019-06-30T00:00:00\",\"2019-07-07T00:00:00\",\"2019-07-14T00:00:00\",\"2019-07-21T00:00:00\",\"2019-07-28T00:00:00\",\"2019-08-04T00:00:00\",\"2019-08-11T00:00:00\",\"2019-08-18T00:00:00\",\"2019-08-25T00:00:00\",\"2019-09-01T00:00:00\",\"2019-09-08T00:00:00\",\"2019-09-15T00:00:00\",\"2019-09-22T00:00:00\",\"2019-09-29T00:00:00\",\"2019-10-06T00:00:00\",\"2019-10-13T00:00:00\",\"2019-10-20T00:00:00\",\"2019-10-27T00:00:00\",\"2019-11-03T00:00:00\",\"2019-11-10T00:00:00\",\"2019-11-17T00:00:00\",\"2019-11-24T00:00:00\",\"2019-12-01T00:00:00\",\"2019-12-08T00:00:00\",\"2019-12-15T00:00:00\",\"2019-12-22T00:00:00\",\"2019-12-29T00:00:00\",\"2020-01-05T00:00:00\",\"2020-01-12T00:00:00\",\"2020-01-19T00:00:00\",\"2020-01-26T00:00:00\",\"2020-02-02T00:00:00\",\"2020-02-09T00:00:00\",\"2020-02-16T00:00:00\",\"2020-02-23T00:00:00\",\"2020-03-01T00:00:00\",\"2020-03-08T00:00:00\",\"2020-03-15T00:00:00\",\"2020-03-22T00:00:00\",\"2020-03-29T00:00:00\",\"2020-04-05T00:00:00\",\"2020-04-12T00:00:00\",\"2020-04-19T00:00:00\",\"2020-04-26T00:00:00\",\"2020-05-03T00:00:00\",\"2020-05-10T00:00:00\",\"2020-05-17T00:00:00\",\"2020-05-24T00:00:00\",\"2020-05-31T00:00:00\",\"2020-06-07T00:00:00\",\"2020-06-14T00:00:00\",\"2020-06-21T00:00:00\",\"2020-06-28T00:00:00\",\"2020-07-05T00:00:00\",\"2020-07-12T00:00:00\",\"2020-07-19T00:00:00\",\"2020-07-26T00:00:00\",\"2020-08-02T00:00:00\",\"2020-08-09T00:00:00\",\"2020-08-16T00:00:00\",\"2020-08-23T00:00:00\",\"2020-08-30T00:00:00\",\"2020-09-06T00:00:00\",\"2020-09-13T00:00:00\",\"2020-09-20T00:00:00\",\"2020-09-27T00:00:00\",\"2020-10-04T00:00:00\",\"2020-10-11T00:00:00\",\"2020-10-18T00:00:00\",\"2020-10-25T00:00:00\",\"2020-11-01T00:00:00\",\"2020-11-08T00:00:00\",\"2020-11-15T00:00:00\",\"2020-11-22T00:00:00\",\"2020-11-29T00:00:00\",\"2020-12-06T00:00:00\",\"2020-12-13T00:00:00\"],\"y\":[20.916687640744215,21.465588562169092,22.364522865090727,21.359403975098175,22.849912549261564,26.024385147505466,23.007629299809366,22.265601987546543,24.075465366448476,24.644013670130217,21.77259722605417,21.11133755321854,22.122404357557496,21.69999678850656,23.792088458586058,21.55016003688176,22.286279407644916,22.372259752471685,22.00457055529329,22.414249804000004,21.71848425262443,23.49661311515985,22.06103596890802,22.621976555943643,22.89210432558812,20.129397713404025,20.924553561007258,20.92595506480062,20.604502076661806,21.559561697536186,20.514640262946756,21.46329946599653,20.990075821462792,21.087155958773835,22.534806626054102,22.182200854953596,22.0801256201086,21.5662015215785,22.033615351429603,20.341202752879813,20.40729210309093,21.983152457588684,20.73608565184006,23.07690809404645,20.3338197381533,22.205730902285993,22.6069518985522,24.294684809627757,22.29915937528863,23.385049973657445,22.251568224800035,22.55664747646868,22.79427716564949,23.793425676578543,22.69759827580601,22.097747982731462,22.69930816627172,22.869946785141646,21.86476774464525,21.760969275909165,22.168896510603894,23.148545283705438,23.111705574372866,22.06695439971148,22.193356965815006,22.927631287120384,22.670561939410156,22.89385612758477,22.437783779846043,23.28509383657359,22.63766902805084,21.617636624630133,22.652736136311447,21.832002037441242,22.332015252420867,21.157156030448313,22.67174848143902,22.826924503800146,23.086378661416116,23.82527584384545,24.837026205727824,22.677644172345072,23.01521827305582,22.18995648937562,22.36383622536911,24.25020415966392,22.169358410265062,22.278835775770215,22.66229546081281,24.1345675904021,20.53157007930452,22.795803350577504,21.39874790409879,22.540512427449453,21.082130900820655,22.275030546588876,23.829277146914254,22.35175817527519,22.906599491708516,23.081937489227276,21.917262289045627,22.951823044733537,22.72225710417949,23.045399767485723,22.36677907249706,22.175242804800785,24.54294024851204,22.535402604916683,22.609308296782373,22.0501851233656,22.693615523644503,24.0053783089819,24.021978353191326,23.90058669039908,23.521555063073688,23.984459803747942,24.88765719497762,22.83541046567167,22.66072610034602,23.246969151658615,21.74595435081162,22.906475394429023,24.229713764079893,24.087161601981663,22.497450201676244,21.164067779552234,22.246409860389342,24.048855986099856,22.983617158081383,22.28902156424535,23.7535790080684,22.55220925502443,23.009056894352057,22.207047982440564,22.94217601418682,23.66120437500403,23.406222006733866,23.877055991551586,22.714816842562232,22.84376127297566,23.340709827015072],\"type\":\"scatter\"},{\"line\":{\"color\":\"rgba(0,0,30,0.5)\"},\"mode\":\"lines\",\"name\":\"Test\",\"x\":[\"2020-12-13T00:00:00\",\"2020-12-20T00:00:00\",\"2020-12-27T00:00:00\",\"2021-01-03T00:00:00\",\"2021-01-10T00:00:00\",\"2021-01-17T00:00:00\",\"2021-01-24T00:00:00\",\"2021-01-31T00:00:00\",\"2021-02-07T00:00:00\",\"2021-02-14T00:00:00\",\"2021-02-21T00:00:00\",\"2021-02-28T00:00:00\",\"2021-03-07T00:00:00\",\"2021-03-14T00:00:00\",\"2021-03-21T00:00:00\",\"2021-03-28T00:00:00\",\"2021-04-04T00:00:00\",\"2021-04-11T00:00:00\",\"2021-04-18T00:00:00\",\"2021-04-25T00:00:00\",\"2021-05-02T00:00:00\",\"2021-05-09T00:00:00\",\"2021-05-16T00:00:00\",\"2021-05-23T00:00:00\",\"2021-05-30T00:00:00\",\"2021-06-06T00:00:00\",\"2021-06-13T00:00:00\",\"2021-06-20T00:00:00\",\"2021-06-27T00:00:00\",\"2021-07-04T00:00:00\",\"2021-07-11T00:00:00\",\"2021-07-18T00:00:00\",\"2021-07-25T00:00:00\",\"2021-08-01T00:00:00\",\"2021-08-08T00:00:00\",\"2021-08-15T00:00:00\",\"2021-08-22T00:00:00\",\"2021-08-29T00:00:00\",\"2021-09-05T00:00:00\",\"2021-09-12T00:00:00\",\"2021-09-19T00:00:00\",\"2021-09-26T00:00:00\",\"2021-10-03T00:00:00\",\"2021-10-10T00:00:00\",\"2021-10-17T00:00:00\",\"2021-10-24T00:00:00\",\"2021-10-31T00:00:00\",\"2021-11-07T00:00:00\",\"2021-11-14T00:00:00\",\"2021-11-21T00:00:00\",\"2021-11-28T00:00:00\",\"2021-12-05T00:00:00\",\"2021-12-12T00:00:00\",\"2021-12-19T00:00:00\",\"2021-12-26T00:00:00\",\"2022-01-02T00:00:00\"],\"y\":[23.340709827015072,23.839797573894188,22.931120851764643,22.514184569521095,22.277327063813743,22.78677233756705,22.433327932100784,22.32940248620266,23.371855898846555,23.006296583819957,22.542703112296156,22.14805973777498,23.849230871711192,23.37813606465011,23.636765781103932,23.0518636464199,23.68035081117798,22.58094794710114,23.036313391612445,21.903305566410154,23.304283038579808,22.45980673902649,23.016676394300347,22.90550785158181,22.550336898436623,23.834528195501633,23.29596360349518,23.052475685958473,22.281935642531522,22.61862568109303,22.149026513028144,22.61934817005785,23.040217034325003,23.203431762236548,22.668367327411197,23.19627451146009,22.890560925578683,23.16748945347873,23.539271635566884,22.63598213025414,22.807514999350524,21.01587393334542,22.22174783083468,23.731297505635453,22.533007994889896,22.6455012024583,23.5259710942154,24.2697787172007,24.035204906823303,22.95679397068564,22.58769597316172,23.452677663853947,23.468780286186664,23.862154091171,22.660148797550036,22.241933783190323],\"type\":\"scatter\"},{\"line\":{\"color\":\"red\",\"dash\":\"dot\",\"width\":3},\"mode\":\"lines\",\"name\":\"Prediction\",\"x\":[\"2020-12-13T00:00:00\",\"2020-12-20T00:00:00\",\"2020-12-27T00:00:00\",\"2021-01-03T00:00:00\",\"2021-01-10T00:00:00\",\"2021-01-17T00:00:00\",\"2021-01-24T00:00:00\",\"2021-01-31T00:00:00\",\"2021-02-07T00:00:00\",\"2021-02-14T00:00:00\",\"2021-02-21T00:00:00\",\"2021-02-28T00:00:00\",\"2021-03-07T00:00:00\",\"2021-03-14T00:00:00\",\"2021-03-21T00:00:00\",\"2021-03-28T00:00:00\",\"2021-04-04T00:00:00\",\"2021-04-11T00:00:00\",\"2021-04-18T00:00:00\",\"2021-04-25T00:00:00\",\"2021-05-02T00:00:00\",\"2021-05-09T00:00:00\",\"2021-05-16T00:00:00\",\"2021-05-23T00:00:00\",\"2021-05-30T00:00:00\",\"2021-06-06T00:00:00\",\"2021-06-13T00:00:00\",\"2021-06-20T00:00:00\",\"2021-06-27T00:00:00\",\"2021-07-04T00:00:00\",\"2021-07-11T00:00:00\",\"2021-07-18T00:00:00\",\"2021-07-25T00:00:00\",\"2021-08-01T00:00:00\",\"2021-08-08T00:00:00\",\"2021-08-15T00:00:00\",\"2021-08-22T00:00:00\",\"2021-08-29T00:00:00\",\"2021-09-05T00:00:00\",\"2021-09-12T00:00:00\",\"2021-09-19T00:00:00\",\"2021-09-26T00:00:00\",\"2021-10-03T00:00:00\",\"2021-10-10T00:00:00\",\"2021-10-17T00:00:00\",\"2021-10-24T00:00:00\",\"2021-10-31T00:00:00\",\"2021-11-07T00:00:00\",\"2021-11-14T00:00:00\",\"2021-11-21T00:00:00\",\"2021-11-28T00:00:00\",\"2021-12-05T00:00:00\",\"2021-12-12T00:00:00\",\"2021-12-19T00:00:00\",\"2021-12-26T00:00:00\",\"2022-01-02T00:00:00\"],\"y\":[23.10786402811672,22.768312273201303,22.562788453420936,22.528998986371995,22.33627241530278,22.421464340448683,22.983798483998658,22.98549881391507,22.875867991670567,23.057019181788018,23.3013375386047,23.065886899528397,22.774872695969485,22.677757961197667,22.529409920224047,22.719828528654933,22.546557580362563,22.507363864487825,22.48729731723417,22.414202729424495,22.414206731551218,22.309176265999287,22.48796346571119,22.424688275044065,22.4539228858208,22.518864148191216,22.164735605968872,21.974735383926667,21.808275973253977,21.611600297864083,21.599823424410623,21.416020034326152,21.42357160894139,21.35156936729703,21.30610346250081,21.50848939367778,21.615792391107167,21.689187623108076,21.669761217228874,21.727219953637096,21.50866875988267,21.333781520861844,21.43739778236889,21.326224954251035,21.6020636502651,21.404558031403877,21.529218719878862,21.696393267749272,22.106094942406664,22.138217361810387,22.34691111493009,22.330625347406205,22.368501250193408,22.439153523593404,22.670086961849204,22.674639916712138,22.577018201273088,22.597072827947013,22.64255608559766,22.514046160910002,22.39124925373569,22.355061315114142,22.484072732630565,22.586299772406797,22.501640666423167,22.451599479645672,22.528865183889828,22.551863304166165,22.60737694399559,22.579849111969526,22.694608775469202,22.68534989629661,22.512008654709483,22.534785091396365,22.42104728564072,22.406632305455148,22.20321716202071,22.2798560775084,22.3687051541393,22.484582615380226,22.70137186409377,23.056281368509733,22.99153248002685,22.995419469928063,22.86240981856449,22.781450791121298,23.01968312630615,22.881086950272586,22.784162201639123,22.764580859090927,22.98448500083903,22.593860147465918,22.62583120393382,22.430320525917445,22.447846568982452,22.22786755062056,22.234767411133113,22.490901824731516,22.46913638626813,22.53812421061962,22.623877926988605,22.5125222817305,22.5816210839757,22.6037411981295,22.67321265615129,22.62501100653553,22.554269037663445,22.866289504157745,22.81438316018882,22.78176391130198,22.667409733751324,22.67149274679352,22.879319951580385,23.059279968916126,23.19543877699138,23.24872000017442,23.369698160092927,23.62216997715685,23.491586541458922,23.354977957064808,23.33770792811614,23.084377118371012,23.056178123175393,23.241949226378846,23.37573871448631,23.236622174815096,22.91090280789332,22.804949625901692,23.002429348897223,22.999493721196355,22.888633206347183,23.023597449431456,22.950268727931203,22.959419843962284,22.84229654873705,22.857839856738178,22.982877371266547,23.0486532038762,23.17766198818841,23.10541327326862,23.064795447952914],\"type\":\"scatter\"},{\"fill\":\"toself\",\"fillcolor\":\"rgba(0,0,30,0.1)\",\"hoverinfo\":\"skip\",\"line\":{\"color\":\"rgba(0,0,0,0)\"},\"showlegend\":false,\"x\":[\"2020-12-13T00:00:00\",\"2020-12-20T00:00:00\",\"2020-12-27T00:00:00\",\"2021-01-03T00:00:00\",\"2021-01-10T00:00:00\",\"2021-01-17T00:00:00\",\"2021-01-24T00:00:00\",\"2021-01-31T00:00:00\",\"2021-02-07T00:00:00\",\"2021-02-14T00:00:00\",\"2021-02-21T00:00:00\",\"2021-02-28T00:00:00\",\"2021-03-07T00:00:00\",\"2021-03-14T00:00:00\",\"2021-03-21T00:00:00\",\"2021-03-28T00:00:00\",\"2021-04-04T00:00:00\",\"2021-04-11T00:00:00\",\"2021-04-18T00:00:00\",\"2021-04-25T00:00:00\",\"2021-05-02T00:00:00\",\"2021-05-09T00:00:00\",\"2021-05-16T00:00:00\",\"2021-05-23T00:00:00\",\"2021-05-30T00:00:00\",\"2021-06-06T00:00:00\",\"2021-06-13T00:00:00\",\"2021-06-20T00:00:00\",\"2021-06-27T00:00:00\",\"2021-07-04T00:00:00\",\"2021-07-11T00:00:00\",\"2021-07-18T00:00:00\",\"2021-07-25T00:00:00\",\"2021-08-01T00:00:00\",\"2021-08-08T00:00:00\",\"2021-08-15T00:00:00\",\"2021-08-22T00:00:00\",\"2021-08-29T00:00:00\",\"2021-09-05T00:00:00\",\"2021-09-12T00:00:00\",\"2021-09-19T00:00:00\",\"2021-09-26T00:00:00\",\"2021-10-03T00:00:00\",\"2021-10-10T00:00:00\",\"2021-10-17T00:00:00\",\"2021-10-24T00:00:00\",\"2021-10-31T00:00:00\",\"2021-11-07T00:00:00\",\"2021-11-14T00:00:00\",\"2021-11-21T00:00:00\",\"2021-11-28T00:00:00\",\"2021-12-05T00:00:00\",\"2021-12-12T00:00:00\",\"2021-12-19T00:00:00\",\"2021-12-26T00:00:00\",\"2022-01-02T00:00:00\",\"2022-01-02T00:00:00\",\"2021-12-26T00:00:00\",\"2021-12-19T00:00:00\",\"2021-12-12T00:00:00\",\"2021-12-05T00:00:00\",\"2021-11-28T00:00:00\",\"2021-11-21T00:00:00\",\"2021-11-14T00:00:00\",\"2021-11-07T00:00:00\",\"2021-10-31T00:00:00\",\"2021-10-24T00:00:00\",\"2021-10-17T00:00:00\",\"2021-10-10T00:00:00\",\"2021-10-03T00:00:00\",\"2021-09-26T00:00:00\",\"2021-09-19T00:00:00\",\"2021-09-12T00:00:00\",\"2021-09-05T00:00:00\",\"2021-08-29T00:00:00\",\"2021-08-22T00:00:00\",\"2021-08-15T00:00:00\",\"2021-08-08T00:00:00\",\"2021-08-01T00:00:00\",\"2021-07-25T00:00:00\",\"2021-07-18T00:00:00\",\"2021-07-11T00:00:00\",\"2021-07-04T00:00:00\",\"2021-06-27T00:00:00\",\"2021-06-20T00:00:00\",\"2021-06-13T00:00:00\",\"2021-06-06T00:00:00\",\"2021-05-30T00:00:00\",\"2021-05-23T00:00:00\",\"2021-05-16T00:00:00\",\"2021-05-09T00:00:00\",\"2021-05-02T00:00:00\",\"2021-04-25T00:00:00\",\"2021-04-18T00:00:00\",\"2021-04-11T00:00:00\",\"2021-04-04T00:00:00\",\"2021-03-28T00:00:00\",\"2021-03-21T00:00:00\",\"2021-03-14T00:00:00\",\"2021-03-07T00:00:00\",\"2021-02-28T00:00:00\",\"2021-02-21T00:00:00\",\"2021-02-14T00:00:00\",\"2021-02-07T00:00:00\",\"2021-01-31T00:00:00\",\"2021-01-24T00:00:00\",\"2021-01-17T00:00:00\",\"2021-01-10T00:00:00\",\"2021-01-03T00:00:00\",\"2020-12-27T00:00:00\",\"2020-12-20T00:00:00\",\"2020-12-13T00:00:00\"],\"y\":[25.02849472661038,24.69549439528883,24.49023015915843,24.456081859403977,24.263865679042596,24.34864998933754,24.926996086649865,24.930169691975344,24.82064712488337,25.00248689752148,25.24840190044976,25.014387920578155,24.72959751087892,24.632418680849305,24.48367491549468,24.673711030651177,24.502446132722266,24.461689939355608,24.439969593380383,24.36585602749507,24.363928901797276,24.258702167654928,24.437528700652496,24.372889915605036,24.40053790331589,24.465479165382614,24.117915274472903,23.927634664825902,23.760778337786263,23.563890261950878,23.552315627777876,23.36875542670941,23.375631518419578,23.303079329561644,23.255445748608025,23.45901354589314,23.56508325429337,23.637085596314154,23.615901197682653,23.673359933686676,23.45483470602486,23.280032154943157,23.38325265296276,23.27160617132757,23.5494983766146,23.353910761849722,23.478416492914228,23.645482547570623,24.064004270382526,24.095230679065626,24.30520176215313,24.286810538832782,24.323207272319813,24.393096772255202,24.62521682313467,24.62779245995055,24.52962028092089,24.547585289080946,24.59164687040966,24.46251576863895,24.339251408658374,24.30137650084521,24.42984263212431,24.53099289584956,24.44534490982055,24.39388878949325,24.469966346381177,24.49145540586758,24.54561445244769,24.516598591410304,24.630541743924947,24.619828203906224,24.44653884095533,24.468024231120665,24.353539731306412,24.337629632899322,24.134717244596647,24.210833333455923,24.298377428745663,24.41356386106604,24.631644424845735,24.99145559387222,24.92610825420848,24.92846227504828,24.79493028594181,24.712741448803595,24.95290438021399,24.81391731678503,24.715941108930316,24.69502061593507,24.916304297961194,24.53289638782892,24.564867444287646,24.36914752266429,24.385214898694393,24.165690935995435,24.172048613261815,24.42888707120814,24.40727850477974,24.47506794794299,24.559803594405803,24.44780804571111,24.515664130864117,24.536361440698247,24.60467408700691,24.555165910084362,24.48327912875258,24.799659189547405,24.747752845554565,24.712187829815093,24.597545107742906,24.600194905013833,24.80921960981949,24.98907471741376,25.125458793942915,25.17747670358461,25.29783297037145,25.550324176728644,25.420389885932558,25.284120247715688,25.265456135830988,25.01410922923942,24.984827115676985,25.170833454586777,25.30460929227635,25.165198639569184,24.84418781647108,24.7380949447354,24.935848236092017,24.931519565389372,24.82065905051836,24.95562329360263,24.880229094237276,24.888005280655452,24.770294920229052,24.78447653543015,24.909251415019668,24.973715728965985,25.102310252873643,25.02887236087052,24.987114525320433,21.142476370585396,21.181954185666722,21.25301372350318,21.123590678786414,21.056503327513425,20.931203178046204,20.914298177245048,21.030834407269115,21.02030836162513,21.09157160526028,20.95660736217601,21.067467877003338,21.06901046170243,20.871804307067983,20.977617799315556,21.30804571006101,21.44686813669627,21.313064998170915,21.1275291306738,21.154645007502605,21.40995972040129,21.425835666413928,21.562783196985286,21.694015777585058,21.441563349814405,21.31996329676423,21.265418760039847,21.12948522041849,20.94942029334128,20.742790588573204,20.73727435975974,20.851339992788866,20.881013474823078,20.932919818768084,20.62525894657431,20.694856102986698,20.74175122529567,20.671120955560756,20.647578037087285,20.577236517749892,20.687952259571407,20.601180473296253,20.53099426775652,20.55291657825489,20.29748620900441,20.290044165245682,20.510478239270512,20.4914935291706,20.686794963579995,20.654823907102916,21.052665703716865,20.834141102246782,20.85238329434793,20.94825658376014,21.086461872398306,20.850160133439,20.92988935118717,21.062376664807847,21.056956705845224,21.121107143147245,20.771099303341803,20.55560136969441,20.439032879532935,20.348878821560874,20.271717079444773,20.475634978010973,20.48855483997503,20.601545951672065,20.577478468463635,20.750871588686998,20.758675807013457,20.64309963252875,20.66913943554349,20.61227120246475,20.587764021398478,20.509310169798095,20.557936423025783,20.641606648964032,20.53830283313682,20.408746129383076,20.443247098813007,20.565576553181053,20.69346530078566,20.64656036681308,20.624416121625284,20.721487373473725,20.714957100563737,20.485210274931607,20.413795228067002,20.374440155979627,20.388620467707053,20.181204044555148,20.1481856144308,19.74730398792792,19.580020946843497,19.45520530095803,19.654628923915602,19.3808437371745,19.49154291177502,19.38753088678053,19.56250281374048,19.781079973587516,19.723621236775095,19.741289649901997,19.666501527920964,19.557965241462423,19.356761176393597,19.40005940503242,19.471511699463203,19.463284641942895,19.64733122104337,19.659310333777288,19.85577360872169,20.021836103027432,20.21155593746484,20.57224913099982,20.507307868325707,20.476486634483095,20.538398230769882,20.359650364343647,20.46448456130516,20.46254943135392,20.534625041087956,20.553037789620042,20.59066902800286,20.76594602665869,20.575144924953413,20.72309724154603,20.82014788106005,21.11738587847864,21.354273176759637,21.111551466054557,20.931088858457766,21.040827935854793,21.04060088134745,20.494278691559824,20.408679151562964,20.601916113340014,20.635346747683442,20.841130151113777,21.18723332962306],\"type\":\"scatter\"}],                        {\"template\":{\"data\":{\"bar\":[{\"error_x\":{\"color\":\"#2a3f5f\"},\"error_y\":{\"color\":\"#2a3f5f\"},\"marker\":{\"line\":{\"color\":\"#E5ECF6\",\"width\":0.5},\"pattern\":{\"fillmode\":\"overlay\",\"size\":10,\"solidity\":0.2}},\"type\":\"bar\"}],\"barpolar\":[{\"marker\":{\"line\":{\"color\":\"#E5ECF6\",\"width\":0.5},\"pattern\":{\"fillmode\":\"overlay\",\"size\":10,\"solidity\":0.2}},\"type\":\"barpolar\"}],\"carpet\":[{\"aaxis\":{\"endlinecolor\":\"#2a3f5f\",\"gridcolor\":\"white\",\"linecolor\":\"white\",\"minorgridcolor\":\"white\",\"startlinecolor\":\"#2a3f5f\"},\"baxis\":{\"endlinecolor\":\"#2a3f5f\",\"gridcolor\":\"white\",\"linecolor\":\"white\",\"minorgridcolor\":\"white\",\"startlinecolor\":\"#2a3f5f\"},\"type\":\"carpet\"}],\"choropleth\":[{\"colorbar\":{\"outlinewidth\":0,\"ticks\":\"\"},\"type\":\"choropleth\"}],\"contour\":[{\"colorbar\":{\"outlinewidth\":0,\"ticks\":\"\"},\"colorscale\":[[0.0,\"#0d0887\"],[0.1111111111111111,\"#46039f\"],[0.2222222222222222,\"#7201a8\"],[0.3333333333333333,\"#9c179e\"],[0.4444444444444444,\"#bd3786\"],[0.5555555555555556,\"#d8576b\"],[0.6666666666666666,\"#ed7953\"],[0.7777777777777778,\"#fb9f3a\"],[0.8888888888888888,\"#fdca26\"],[1.0,\"#f0f921\"]],\"type\":\"contour\"}],\"contourcarpet\":[{\"colorbar\":{\"outlinewidth\":0,\"ticks\":\"\"},\"type\":\"contourcarpet\"}],\"heatmap\":[{\"colorbar\":{\"outlinewidth\":0,\"ticks\":\"\"},\"colorscale\":[[0.0,\"#0d0887\"],[0.1111111111111111,\"#46039f\"],[0.2222222222222222,\"#7201a8\"],[0.3333333333333333,\"#9c179e\"],[0.4444444444444444,\"#bd3786\"],[0.5555555555555556,\"#d8576b\"],[0.6666666666666666,\"#ed7953\"],[0.7777777777777778,\"#fb9f3a\"],[0.8888888888888888,\"#fdca26\"],[1.0,\"#f0f921\"]],\"type\":\"heatmap\"}],\"heatmapgl\":[{\"colorbar\":{\"outlinewidth\":0,\"ticks\":\"\"},\"colorscale\":[[0.0,\"#0d0887\"],[0.1111111111111111,\"#46039f\"],[0.2222222222222222,\"#7201a8\"],[0.3333333333333333,\"#9c179e\"],[0.4444444444444444,\"#bd3786\"],[0.5555555555555556,\"#d8576b\"],[0.6666666666666666,\"#ed7953\"],[0.7777777777777778,\"#fb9f3a\"],[0.8888888888888888,\"#fdca26\"],[1.0,\"#f0f921\"]],\"type\":\"heatmapgl\"}],\"histogram\":[{\"marker\":{\"pattern\":{\"fillmode\":\"overlay\",\"size\":10,\"solidity\":0.2}},\"type\":\"histogram\"}],\"histogram2d\":[{\"colorbar\":{\"outlinewidth\":0,\"ticks\":\"\"},\"colorscale\":[[0.0,\"#0d0887\"],[0.1111111111111111,\"#46039f\"],[0.2222222222222222,\"#7201a8\"],[0.3333333333333333,\"#9c179e\"],[0.4444444444444444,\"#bd3786\"],[0.5555555555555556,\"#d8576b\"],[0.6666666666666666,\"#ed7953\"],[0.7777777777777778,\"#fb9f3a\"],[0.8888888888888888,\"#fdca26\"],[1.0,\"#f0f921\"]],\"type\":\"histogram2d\"}],\"histogram2dcontour\":[{\"colorbar\":{\"outlinewidth\":0,\"ticks\":\"\"},\"colorscale\":[[0.0,\"#0d0887\"],[0.1111111111111111,\"#46039f\"],[0.2222222222222222,\"#7201a8\"],[0.3333333333333333,\"#9c179e\"],[0.4444444444444444,\"#bd3786\"],[0.5555555555555556,\"#d8576b\"],[0.6666666666666666,\"#ed7953\"],[0.7777777777777778,\"#fb9f3a\"],[0.8888888888888888,\"#fdca26\"],[1.0,\"#f0f921\"]],\"type\":\"histogram2dcontour\"}],\"mesh3d\":[{\"colorbar\":{\"outlinewidth\":0,\"ticks\":\"\"},\"type\":\"mesh3d\"}],\"parcoords\":[{\"line\":{\"colorbar\":{\"outlinewidth\":0,\"ticks\":\"\"}},\"type\":\"parcoords\"}],\"pie\":[{\"automargin\":true,\"type\":\"pie\"}],\"scatter\":[{\"marker\":{\"colorbar\":{\"outlinewidth\":0,\"ticks\":\"\"}},\"type\":\"scatter\"}],\"scatter3d\":[{\"line\":{\"colorbar\":{\"outlinewidth\":0,\"ticks\":\"\"}},\"marker\":{\"colorbar\":{\"outlinewidth\":0,\"ticks\":\"\"}},\"type\":\"scatter3d\"}],\"scattercarpet\":[{\"marker\":{\"colorbar\":{\"outlinewidth\":0,\"ticks\":\"\"}},\"type\":\"scattercarpet\"}],\"scattergeo\":[{\"marker\":{\"colorbar\":{\"outlinewidth\":0,\"ticks\":\"\"}},\"type\":\"scattergeo\"}],\"scattergl\":[{\"marker\":{\"colorbar\":{\"outlinewidth\":0,\"ticks\":\"\"}},\"type\":\"scattergl\"}],\"scattermapbox\":[{\"marker\":{\"colorbar\":{\"outlinewidth\":0,\"ticks\":\"\"}},\"type\":\"scattermapbox\"}],\"scatterpolar\":[{\"marker\":{\"colorbar\":{\"outlinewidth\":0,\"ticks\":\"\"}},\"type\":\"scatterpolar\"}],\"scatterpolargl\":[{\"marker\":{\"colorbar\":{\"outlinewidth\":0,\"ticks\":\"\"}},\"type\":\"scatterpolargl\"}],\"scatterternary\":[{\"marker\":{\"colorbar\":{\"outlinewidth\":0,\"ticks\":\"\"}},\"type\":\"scatterternary\"}],\"surface\":[{\"colorbar\":{\"outlinewidth\":0,\"ticks\":\"\"},\"colorscale\":[[0.0,\"#0d0887\"],[0.1111111111111111,\"#46039f\"],[0.2222222222222222,\"#7201a8\"],[0.3333333333333333,\"#9c179e\"],[0.4444444444444444,\"#bd3786\"],[0.5555555555555556,\"#d8576b\"],[0.6666666666666666,\"#ed7953\"],[0.7777777777777778,\"#fb9f3a\"],[0.8888888888888888,\"#fdca26\"],[1.0,\"#f0f921\"]],\"type\":\"surface\"}],\"table\":[{\"cells\":{\"fill\":{\"color\":\"#EBF0F8\"},\"line\":{\"color\":\"white\"}},\"header\":{\"fill\":{\"color\":\"#C8D4E3\"},\"line\":{\"color\":\"white\"}},\"type\":\"table\"}]},\"layout\":{\"annotationdefaults\":{\"arrowcolor\":\"#2a3f5f\",\"arrowhead\":0,\"arrowwidth\":1},\"autotypenumbers\":\"strict\",\"coloraxis\":{\"colorbar\":{\"outlinewidth\":0,\"ticks\":\"\"}},\"colorscale\":{\"diverging\":[[0,\"#8e0152\"],[0.1,\"#c51b7d\"],[0.2,\"#de77ae\"],[0.3,\"#f1b6da\"],[0.4,\"#fde0ef\"],[0.5,\"#f7f7f7\"],[0.6,\"#e6f5d0\"],[0.7,\"#b8e186\"],[0.8,\"#7fbc41\"],[0.9,\"#4d9221\"],[1,\"#276419\"]],\"sequential\":[[0.0,\"#0d0887\"],[0.1111111111111111,\"#46039f\"],[0.2222222222222222,\"#7201a8\"],[0.3333333333333333,\"#9c179e\"],[0.4444444444444444,\"#bd3786\"],[0.5555555555555556,\"#d8576b\"],[0.6666666666666666,\"#ed7953\"],[0.7777777777777778,\"#fb9f3a\"],[0.8888888888888888,\"#fdca26\"],[1.0,\"#f0f921\"]],\"sequentialminus\":[[0.0,\"#0d0887\"],[0.1111111111111111,\"#46039f\"],[0.2222222222222222,\"#7201a8\"],[0.3333333333333333,\"#9c179e\"],[0.4444444444444444,\"#bd3786\"],[0.5555555555555556,\"#d8576b\"],[0.6666666666666666,\"#ed7953\"],[0.7777777777777778,\"#fb9f3a\"],[0.8888888888888888,\"#fdca26\"],[1.0,\"#f0f921\"]]},\"colorway\":[\"#636efa\",\"#EF553B\",\"#00cc96\",\"#ab63fa\",\"#FFA15A\",\"#19d3f3\",\"#FF6692\",\"#B6E880\",\"#FF97FF\",\"#FECB52\"],\"font\":{\"color\":\"#2a3f5f\"},\"geo\":{\"bgcolor\":\"white\",\"lakecolor\":\"white\",\"landcolor\":\"#E5ECF6\",\"showlakes\":true,\"showland\":true,\"subunitcolor\":\"white\"},\"hoverlabel\":{\"align\":\"left\"},\"hovermode\":\"closest\",\"mapbox\":{\"style\":\"light\"},\"paper_bgcolor\":\"white\",\"plot_bgcolor\":\"#E5ECF6\",\"polar\":{\"angularaxis\":{\"gridcolor\":\"white\",\"linecolor\":\"white\",\"ticks\":\"\"},\"bgcolor\":\"#E5ECF6\",\"radialaxis\":{\"gridcolor\":\"white\",\"linecolor\":\"white\",\"ticks\":\"\"}},\"scene\":{\"xaxis\":{\"backgroundcolor\":\"#E5ECF6\",\"gridcolor\":\"white\",\"gridwidth\":2,\"linecolor\":\"white\",\"showbackground\":true,\"ticks\":\"\",\"zerolinecolor\":\"white\"},\"yaxis\":{\"backgroundcolor\":\"#E5ECF6\",\"gridcolor\":\"white\",\"gridwidth\":2,\"linecolor\":\"white\",\"showbackground\":true,\"ticks\":\"\",\"zerolinecolor\":\"white\"},\"zaxis\":{\"backgroundcolor\":\"#E5ECF6\",\"gridcolor\":\"white\",\"gridwidth\":2,\"linecolor\":\"white\",\"showbackground\":true,\"ticks\":\"\",\"zerolinecolor\":\"white\"}},\"shapedefaults\":{\"line\":{\"color\":\"#2a3f5f\"}},\"ternary\":{\"aaxis\":{\"gridcolor\":\"white\",\"linecolor\":\"white\",\"ticks\":\"\"},\"baxis\":{\"gridcolor\":\"white\",\"linecolor\":\"white\",\"ticks\":\"\"},\"bgcolor\":\"#E5ECF6\",\"caxis\":{\"gridcolor\":\"white\",\"linecolor\":\"white\",\"ticks\":\"\"}},\"title\":{\"x\":0.05},\"xaxis\":{\"automargin\":true,\"gridcolor\":\"white\",\"linecolor\":\"white\",\"ticks\":\"\",\"title\":{\"standoff\":15},\"zerolinecolor\":\"white\",\"zerolinewidth\":2},\"yaxis\":{\"automargin\":true,\"gridcolor\":\"white\",\"linecolor\":\"white\",\"ticks\":\"\",\"title\":{\"standoff\":15},\"zerolinecolor\":\"white\",\"zerolinewidth\":2}}},\"title\":{\"text\":\"\\ud55c\\uad6d\\uc218\\uc790\\uc6d0\\uacf5\\uc0ac_\\uc6a9\\uc5ed_ARIMA(2,2,0)\\ubaa8\\ud615\"},\"height\":400,\"width\":1000},                        {\"responsive\": true}                    ).then(function(){\n",
       "                            \n",
       "var gd = document.getElementById('2bf6d496-248d-4187-9972-98c435aa123b');\n",
       "var x = new MutationObserver(function (mutations, observer) {{\n",
       "        var display = window.getComputedStyle(gd).display;\n",
       "        if (!display || display === 'none') {{\n",
       "            console.log([gd, 'removed!']);\n",
       "            Plotly.purge(gd);\n",
       "            observer.disconnect();\n",
       "        }}\n",
       "}});\n",
       "\n",
       "// Listen for the removal of the full notebook cells\n",
       "var notebookContainer = gd.closest('#notebook-container');\n",
       "if (notebookContainer) {{\n",
       "    x.observe(notebookContainer, {childList: true});\n",
       "}}\n",
       "\n",
       "// Listen for the clearing of the current output cell\n",
       "var outputEl = gd.closest('.output');\n",
       "if (outputEl) {{\n",
       "    x.observe(outputEl, {childList: true});\n",
       "}}\n",
       "\n",
       "                        })                };                });            </script>        </div>"
      ]
     },
     "metadata": {},
     "output_type": "display_data"
    }
   ],
   "source": [
    "from plotly.subplots import make_subplots\n",
    "import plotly.graph_objects as go\n",
    "\n",
    "fig = go.Figure([\n",
    "    # 훈련 데이터-------------------------------------------------------\n",
    "    go.Scatter(x = y_train.index, y = y_train, name = \"Train\", mode = 'lines'\n",
    "              ,line=dict(color = 'royalblue'))\n",
    "    # 테스트 데이터------------------------------------------------------\n",
    "    , go.Scatter(x = y_test.index, y = y_test, name = \"Test\", mode = 'lines'\n",
    "                ,line = dict(color = 'rgba(0,0,30,0.5)'))\n",
    "    # 예측값-----------------------------------------------------------\n",
    "    , go.Scatter(x = y_test.index, y = y_pred, name = \"Prediction\", mode = 'lines'\n",
    "                     ,line = dict(color = 'red', dash = 'dot', width=3))\n",
    "    \n",
    "    # 신뢰 구간---------------------------------------------------------\n",
    "    , go.Scatter(x = y_test.index.tolist() + y_test.index[::-1].tolist() \n",
    "                ,y = pred_upper + pred_lower[::-1] ## 상위 신뢰 구간 -> 하위 신뢰 구간 역순으로\n",
    "                ,fill='toself'\n",
    "                ,fillcolor='rgba(0,0,30,0.1)'\n",
    "                ,line=dict(color='rgba(0,0,0,0)')\n",
    "                ,hoverinfo=\"skip\"\n",
    "                ,showlegend=False)\n",
    "])\n",
    "\n",
    "fig.update_layout(height=400, width=1000, title_text=\"한국수자원공사_용역_ARIMA(2,2,0)모형\")\n",
    "fig.show()"
   ]
  },
  {
   "cell_type": "code",
   "execution_count": 753,
   "id": "50e0863b",
   "metadata": {},
   "outputs": [
    {
     "data": {
      "text/plain": [
       "[]"
      ]
     },
     "execution_count": 753,
     "metadata": {},
     "output_type": "execute_result"
    }
   ],
   "source": [
    "pred_lower"
   ]
  },
  {
   "cell_type": "code",
   "execution_count": 208,
   "id": "be46069c",
   "metadata": {},
   "outputs": [
    {
     "name": "stdout",
     "output_type": "stream",
     "text": [
      "0.0009220905240979738\n"
     ]
    }
   ],
   "source": [
    "from sklearn.metrics import r2_score\n",
    "R2 = r2_score(y_train.values, y_pred)\n",
    "print(R2)"
   ]
  },
  {
   "cell_type": "code",
   "execution_count": 159,
   "id": "d6683a7b",
   "metadata": {},
   "outputs": [
    {
     "name": "stdout",
     "output_type": "stream",
     "text": [
      "raw\n",
      "===> mse: 3.6323770472875168e+19\n",
      "===> mae: 4329591107.18805\n",
      "===> rmse: 6026920480.052409\n",
      "===> r2: -0.38220534480099433\n"
     ]
    }
   ],
   "source": [
    "from sklearn.metrics import mean_absolute_error \n",
    "from sklearn.metrics import mean_squared_error\n",
    "\n",
    "mse = mean_squared_error(y_test, y_pred) \n",
    "mae = mean_absolute_error(y_test, y_pred) \n",
    "rmse = mse ** 0.5 \n",
    "r2 = r2_score(y_test, y_pred)\n",
    "\n",
    "print(\"raw\")\n",
    "print(\"===> mse:\",mse)\n",
    "print(\"===> mae:\",mae)\n",
    "print(\"===> rmse:\",rmse)\n",
    "print(\"===> r2:\",r2)"
   ]
  },
  {
   "cell_type": "code",
   "execution_count": null,
   "id": "bd0e68a5",
   "metadata": {},
   "outputs": [],
   "source": [
    "def Mpe(y,pred):\n",
    "    return np.mean((y-pred)/y)*100\n",
    "print(Mpe(y_test,y_pred))"
   ]
  },
  {
   "cell_type": "code",
   "execution_count": null,
   "id": "dce37632",
   "metadata": {},
   "outputs": [],
   "source": []
  },
  {
   "cell_type": "code",
   "execution_count": null,
   "id": "f31efe52",
   "metadata": {},
   "outputs": [],
   "source": []
  },
  {
   "cell_type": "code",
   "execution_count": null,
   "id": "10b40366",
   "metadata": {},
   "outputs": [],
   "source": []
  },
  {
   "cell_type": "code",
   "execution_count": null,
   "id": "ef740a8b",
   "metadata": {},
   "outputs": [],
   "source": []
  }
 ],
 "metadata": {
  "kernelspec": {
   "display_name": "Python 3 (ipykernel)",
   "language": "python",
   "name": "python3"
  },
  "language_info": {
   "codemirror_mode": {
    "name": "ipython",
    "version": 3
   },
   "file_extension": ".py",
   "mimetype": "text/x-python",
   "name": "python",
   "nbconvert_exporter": "python",
   "pygments_lexer": "ipython3",
   "version": "3.9.7"
  }
 },
 "nbformat": 4,
 "nbformat_minor": 5
}
