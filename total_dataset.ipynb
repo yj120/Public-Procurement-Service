{
 "cells": [
  {
   "cell_type": "code",
   "execution_count": 1,
   "id": "f3755b56",
   "metadata": {},
   "outputs": [],
   "source": [
    "import pandas as pd\n",
    "\n",
    "import warnings\n",
    "\n",
    "with warnings.catch_warnings(record=True):\n",
    "    warnings.simplefilter(\"always\")\n",
    "    df = pd.read_excel(path, engine=\"openpyxl\")"
   ]
  },
  {
   "cell_type": "code",
   "execution_count": 19,
   "id": "781bf830",
   "metadata": {},
   "outputs": [],
   "source": [
    "df1 = pd.read_excel(\"C:/Users/yjhon/OneDrive/바탕 화면/조달청_공모전/Regression/공사+입찰공고+및+진행+내역(00023)_20220204205201_2017.xlsx\")\n",
    "\n",
    "df2 = pd.read_excel(\"C:/Users/yjhon/OneDrive/바탕 화면/조달청_공모전/Regression/공사+입찰공고+및+진행+내역(00023)_20220204205201_2017.xlsx\")\n",
    "\n",
    "df3 = pd.read_excel(\"C:/Users/yjhon/OneDrive/바탕 화면/조달청_공모전/Regression/공사+입찰공고+및+진행+내역(00023)_20220204205558_2019.xlsx\")\n",
    "\n",
    "df4 = pd.read_excel(\"C:/Users/yjhon/OneDrive/바탕 화면/조달청_공모전/Regression/공사+입찰공고+및+진행+내역(00023)_20220204210648_2020.xlsx\")\n",
    "\n",
    "df5 = pd.read_excel(\"C:/Users/yjhon/OneDrive/바탕 화면/조달청_공모전/Regression/공사+입찰공고+및+진행+내역(00023)_20220204210825_2021.xlsx\")\n",
    "\n"
   ]
  },
  {
   "cell_type": "code",
   "execution_count": 20,
   "id": "cfda8e79",
   "metadata": {},
   "outputs": [
    {
     "data": {
      "text/plain": [
       "Index(['등록유형', '조달구분', '공고시스템명', '입찰공고번호', '입찰공고차수', '공고게시일자', '공고명', '공사현장',\n",
       "       '입찰방식', '낙찰자결정적용법규', '낙찰자결정방법', '입찰계약방법', '예가방법', '긴급공고여부', '업종제한여부',\n",
       "       '업종제한내용', '지역제한내용', '지역의무공동도급여부', '공동도급지역', '공동도급구성방식명', '기초금액',\n",
       "       '관급자설치관급자재금액', '도급자설치관급자재금액', '추정금액', '추정가격', '예정가격', '입찰서개시일자',\n",
       "       '입찰서마감일자', '개찰일자', '공고기관명', '공고기관코드', '실수요기관명', '수요기관명', '수요기관코드',\n",
       "       '수요기관구분', '수요기관지역명', '입찰진행구분', '입찰진행내용', '낙찰자결정여부', '참가수',\n",
       "       '개찰1순위업체목록내용', '개찰1순위투찰율', '개찰1순위투찰금액', '낙찰업체목록내용', '낙찰업체투찰률',\n",
       "       '낙찰업체투찰금액', '낙찰하한율', '적격심사평가기준', '적격심사주공종', '적격심사주공종추정금액',\n",
       "       '적격심사주공종추정가격', '적격심사업종평가비율', 'PQ심사접수방식', 'PQ심사신청서접수기한', '국제입찰여부',\n",
       "       '국제입찰사유', '정정공고여부', '취소공고여부', '발주계획통합번호', '조달요청번호', '공공조달분류명',\n",
       "       '사전규격등록번호', '참조번호', '이전입찰공고번호'],\n",
       "      dtype='object')"
      ]
     },
     "execution_count": 20,
     "metadata": {},
     "output_type": "execute_result"
    }
   ],
   "source": [
    "df_list = [df1, df2, df3, df4, df5]\n",
    "df_all = pd.concat(df_list, ignore_index=True)\n",
    "df_all\n",
    "df_all.columns"
   ]
  },
  {
   "cell_type": "code",
   "execution_count": 21,
   "id": "d422f072",
   "metadata": {},
   "outputs": [],
   "source": [
    "col_name=[\"등록유형\",\"공고게시일자\",\"조달구분\",\"입찰공고차수\",\"수요기관명\",\"수요기관코드\",\"긴급공고여부\",\"정정공고여부\",\"취소공고여부\",\"추정가격\",\"입찰방식\",\"낙찰자결정방법\",\"입찰계약방법\",\n",
    "\"예가방법\",\"업종제한내용\",\"지역제한내용\"]\n",
    "\n",
    "df_corporation = pd.DataFrame(data=df_all,columns = col_name)\n"
   ]
  },
  {
   "cell_type": "code",
   "execution_count": 22,
   "id": "a1e46a40",
   "metadata": {},
   "outputs": [],
   "source": [
    "df_corporation['대상'] = '공사'"
   ]
  },
  {
   "cell_type": "code",
   "execution_count": 24,
   "id": "02ba207a",
   "metadata": {},
   "outputs": [
    {
     "data": {
      "text/html": [
       "<div>\n",
       "<style scoped>\n",
       "    .dataframe tbody tr th:only-of-type {\n",
       "        vertical-align: middle;\n",
       "    }\n",
       "\n",
       "    .dataframe tbody tr th {\n",
       "        vertical-align: top;\n",
       "    }\n",
       "\n",
       "    .dataframe thead th {\n",
       "        text-align: right;\n",
       "    }\n",
       "</style>\n",
       "<table border=\"1\" class=\"dataframe\">\n",
       "  <thead>\n",
       "    <tr style=\"text-align: right;\">\n",
       "      <th></th>\n",
       "      <th>등록유형</th>\n",
       "      <th>공고게시일자</th>\n",
       "      <th>조달구분</th>\n",
       "      <th>입찰공고차수</th>\n",
       "      <th>수요기관명</th>\n",
       "      <th>수요기관코드</th>\n",
       "      <th>긴급공고여부</th>\n",
       "      <th>정정공고여부</th>\n",
       "      <th>취소공고여부</th>\n",
       "      <th>추정가격</th>\n",
       "      <th>입찰방식</th>\n",
       "      <th>낙찰자결정방법</th>\n",
       "      <th>입찰계약방법</th>\n",
       "      <th>예가방법</th>\n",
       "      <th>업종제한내용</th>\n",
       "      <th>지역제한내용</th>\n",
       "      <th>대상</th>\n",
       "    </tr>\n",
       "  </thead>\n",
       "  <tbody>\n",
       "    <tr>\n",
       "      <th>0</th>\n",
       "      <td>나라장터(G2B)</td>\n",
       "      <td>20170102</td>\n",
       "      <td>자체조달</td>\n",
       "      <td>1</td>\n",
       "      <td>경상남도합천교육청 합천중학교</td>\n",
       "      <td>9220014</td>\n",
       "      <td>Y</td>\n",
       "      <td>N</td>\n",
       "      <td>Y</td>\n",
       "      <td>6.130300e+07</td>\n",
       "      <td>전자입찰</td>\n",
       "      <td>수의(견적제출)</td>\n",
       "      <td>수의(소액)</td>\n",
       "      <td>복수예가</td>\n",
       "      <td>[금속구조물·창호·온실공사업(1440)]</td>\n",
       "      <td>경상남도 합천군[48890], 경상남도 거창군[48880]</td>\n",
       "      <td>공사</td>\n",
       "    </tr>\n",
       "    <tr>\n",
       "      <th>1</th>\n",
       "      <td>나라장터(G2B)</td>\n",
       "      <td>20170102</td>\n",
       "      <td>자체조달</td>\n",
       "      <td>1</td>\n",
       "      <td>경기도 양주시</td>\n",
       "      <td>5590000</td>\n",
       "      <td>N</td>\n",
       "      <td>N</td>\n",
       "      <td>Y</td>\n",
       "      <td>6.363636e+07</td>\n",
       "      <td>전자입찰</td>\n",
       "      <td>수의(견적제출)</td>\n",
       "      <td>수의(소액)(단가)</td>\n",
       "      <td>복수예가</td>\n",
       "      <td>[금속구조물·창호·온실공사업(1440)]</td>\n",
       "      <td>경기도 양주시[41630]</td>\n",
       "      <td>공사</td>\n",
       "    </tr>\n",
       "    <tr>\n",
       "      <th>2</th>\n",
       "      <td>나라장터(G2B)</td>\n",
       "      <td>20170102</td>\n",
       "      <td>자체조달</td>\n",
       "      <td>2</td>\n",
       "      <td>경상북도안동교육청 경안여자중학교</td>\n",
       "      <td>8790030</td>\n",
       "      <td>N</td>\n",
       "      <td>N</td>\n",
       "      <td>Y</td>\n",
       "      <td>2.504000e+07</td>\n",
       "      <td>전자입찰</td>\n",
       "      <td>추정가격 8천만원미만(전기통신,소방시설,문화재 등)</td>\n",
       "      <td>지역제한</td>\n",
       "      <td>복수예가</td>\n",
       "      <td>[전기공사업(0037)]</td>\n",
       "      <td>경상북도 안동시[47170]</td>\n",
       "      <td>공사</td>\n",
       "    </tr>\n",
       "    <tr>\n",
       "      <th>3</th>\n",
       "      <td>나라장터(G2B)</td>\n",
       "      <td>20170102</td>\n",
       "      <td>자체조달</td>\n",
       "      <td>0</td>\n",
       "      <td>경기도교육청 광동고등학교</td>\n",
       "      <td>7530542</td>\n",
       "      <td>N</td>\n",
       "      <td>N</td>\n",
       "      <td>N</td>\n",
       "      <td>6.570000e+06</td>\n",
       "      <td>전자입찰</td>\n",
       "      <td>추정가격 1억원미만(전문)</td>\n",
       "      <td>수의(소액)</td>\n",
       "      <td>복수예가</td>\n",
       "      <td>[기계설비공사업(0017)]</td>\n",
       "      <td>경기도 남양주시[41360], 경기도 구리시[41310]</td>\n",
       "      <td>공사</td>\n",
       "    </tr>\n",
       "    <tr>\n",
       "      <th>4</th>\n",
       "      <td>나라장터(G2B)</td>\n",
       "      <td>20170102</td>\n",
       "      <td>자체조달</td>\n",
       "      <td>0</td>\n",
       "      <td>경상남도 양산시</td>\n",
       "      <td>5380000</td>\n",
       "      <td>Y</td>\n",
       "      <td>N</td>\n",
       "      <td>N</td>\n",
       "      <td>4.641182e+07</td>\n",
       "      <td>전자입찰</td>\n",
       "      <td>수의(견적제출)</td>\n",
       "      <td>수의(소액)</td>\n",
       "      <td>복수예가</td>\n",
       "      <td>[석공사업(0009)]</td>\n",
       "      <td>경상남도 양산시[48330]</td>\n",
       "      <td>공사</td>\n",
       "    </tr>\n",
       "    <tr>\n",
       "      <th>...</th>\n",
       "      <td>...</td>\n",
       "      <td>...</td>\n",
       "      <td>...</td>\n",
       "      <td>...</td>\n",
       "      <td>...</td>\n",
       "      <td>...</td>\n",
       "      <td>...</td>\n",
       "      <td>...</td>\n",
       "      <td>...</td>\n",
       "      <td>...</td>\n",
       "      <td>...</td>\n",
       "      <td>...</td>\n",
       "      <td>...</td>\n",
       "      <td>...</td>\n",
       "      <td>...</td>\n",
       "      <td>...</td>\n",
       "      <td>...</td>\n",
       "    </tr>\n",
       "    <tr>\n",
       "      <th>739951</th>\n",
       "      <td>자체전자조달시스템</td>\n",
       "      <td>20210813</td>\n",
       "      <td>자체조달</td>\n",
       "      <td>1</td>\n",
       "      <td>한국수자원공사</td>\n",
       "      <td>B500001</td>\n",
       "      <td>N</td>\n",
       "      <td>Y</td>\n",
       "      <td>N</td>\n",
       "      <td>7.534814e+09</td>\n",
       "      <td>전자입찰</td>\n",
       "      <td>적격심사</td>\n",
       "      <td>제한경쟁</td>\n",
       "      <td>NaN</td>\n",
       "      <td>NaN</td>\n",
       "      <td>[41000]경기도</td>\n",
       "      <td>공사</td>\n",
       "    </tr>\n",
       "    <tr>\n",
       "      <th>739952</th>\n",
       "      <td>자체전자조달시스템</td>\n",
       "      <td>20211220</td>\n",
       "      <td>자체조달</td>\n",
       "      <td>2</td>\n",
       "      <td>방위사업청</td>\n",
       "      <td>1690000</td>\n",
       "      <td>N</td>\n",
       "      <td>N</td>\n",
       "      <td>Y</td>\n",
       "      <td>NaN</td>\n",
       "      <td>전자입찰</td>\n",
       "      <td>적격심사제</td>\n",
       "      <td>수의(총액)소액-견적입찰(단일응찰 허용)</td>\n",
       "      <td>NaN</td>\n",
       "      <td>[0002] 건축공사업,[0003] 토목건축공사업,[0007] 토공사업,[0015]...</td>\n",
       "      <td>[41000] 경기도</td>\n",
       "      <td>공사</td>\n",
       "    </tr>\n",
       "    <tr>\n",
       "      <th>739953</th>\n",
       "      <td>자체전자조달시스템</td>\n",
       "      <td>20211026</td>\n",
       "      <td>자체조달</td>\n",
       "      <td>1</td>\n",
       "      <td>방위사업청</td>\n",
       "      <td>1690000</td>\n",
       "      <td>Y</td>\n",
       "      <td>N</td>\n",
       "      <td>N</td>\n",
       "      <td>NaN</td>\n",
       "      <td>전자입찰</td>\n",
       "      <td>적격심사제</td>\n",
       "      <td>수의(소액)-여성기업또는장애인기업간견적입찰(단일응찰 허용)</td>\n",
       "      <td>NaN</td>\n",
       "      <td>[0037] 전기공사업</td>\n",
       "      <td>NaN</td>\n",
       "      <td>공사</td>\n",
       "    </tr>\n",
       "    <tr>\n",
       "      <th>739954</th>\n",
       "      <td>자체전자조달시스템</td>\n",
       "      <td>20211210</td>\n",
       "      <td>자체조달</td>\n",
       "      <td>1</td>\n",
       "      <td>방위사업청</td>\n",
       "      <td>1690000</td>\n",
       "      <td>Y</td>\n",
       "      <td>N</td>\n",
       "      <td>N</td>\n",
       "      <td>NaN</td>\n",
       "      <td>전자입찰</td>\n",
       "      <td>적격심사제</td>\n",
       "      <td>수의(총액)소액-견적입찰(단일응찰 허용)</td>\n",
       "      <td>NaN</td>\n",
       "      <td>[0038] 일반소방시설공사업(기계),[0039] 일반소방시설공사업(전기),[004...</td>\n",
       "      <td>[28000] 인천광역시</td>\n",
       "      <td>공사</td>\n",
       "    </tr>\n",
       "    <tr>\n",
       "      <th>739955</th>\n",
       "      <td>자체전자조달시스템</td>\n",
       "      <td>20210420</td>\n",
       "      <td>자체조달</td>\n",
       "      <td>1</td>\n",
       "      <td>한국도로공사</td>\n",
       "      <td>B500004</td>\n",
       "      <td>N</td>\n",
       "      <td>N</td>\n",
       "      <td>Y</td>\n",
       "      <td>0.000000e+00</td>\n",
       "      <td>전자입찰</td>\n",
       "      <td>적격심사</td>\n",
       "      <td>제한경쟁</td>\n",
       "      <td>복수예가</td>\n",
       "      <td>NaN</td>\n",
       "      <td>[41000]경기도, [28000]인천광역시</td>\n",
       "      <td>공사</td>\n",
       "    </tr>\n",
       "  </tbody>\n",
       "</table>\n",
       "<p>739956 rows × 17 columns</p>\n",
       "</div>"
      ],
      "text/plain": [
       "             등록유형    공고게시일자  조달구분  입찰공고차수              수요기관명   수요기관코드 긴급공고여부  \\\n",
       "0       나라장터(G2B)  20170102  자체조달       1    경상남도합천교육청 합천중학교  9220014      Y   \n",
       "1       나라장터(G2B)  20170102  자체조달       1            경기도 양주시  5590000      N   \n",
       "2       나라장터(G2B)  20170102  자체조달       2  경상북도안동교육청 경안여자중학교  8790030      N   \n",
       "3       나라장터(G2B)  20170102  자체조달       0      경기도교육청 광동고등학교  7530542      N   \n",
       "4       나라장터(G2B)  20170102  자체조달       0           경상남도 양산시  5380000      Y   \n",
       "...           ...       ...   ...     ...                ...      ...    ...   \n",
       "739951  자체전자조달시스템  20210813  자체조달       1            한국수자원공사  B500001      N   \n",
       "739952  자체전자조달시스템  20211220  자체조달       2              방위사업청  1690000      N   \n",
       "739953  자체전자조달시스템  20211026  자체조달       1              방위사업청  1690000      Y   \n",
       "739954  자체전자조달시스템  20211210  자체조달       1              방위사업청  1690000      Y   \n",
       "739955  자체전자조달시스템  20210420  자체조달       1             한국도로공사  B500004      N   \n",
       "\n",
       "       정정공고여부 취소공고여부          추정가격  입찰방식                       낙찰자결정방법  \\\n",
       "0           N      Y  6.130300e+07  전자입찰                      수의(견적제출)   \n",
       "1           N      Y  6.363636e+07  전자입찰                      수의(견적제출)   \n",
       "2           N      Y  2.504000e+07  전자입찰  추정가격 8천만원미만(전기통신,소방시설,문화재 등)   \n",
       "3           N      N  6.570000e+06  전자입찰                추정가격 1억원미만(전문)   \n",
       "4           N      N  4.641182e+07  전자입찰                      수의(견적제출)   \n",
       "...       ...    ...           ...   ...                           ...   \n",
       "739951      Y      N  7.534814e+09  전자입찰                          적격심사   \n",
       "739952      N      Y           NaN  전자입찰                         적격심사제   \n",
       "739953      N      N           NaN  전자입찰                         적격심사제   \n",
       "739954      N      N           NaN  전자입찰                         적격심사제   \n",
       "739955      N      Y  0.000000e+00  전자입찰                          적격심사   \n",
       "\n",
       "                                  입찰계약방법  예가방법  \\\n",
       "0                                 수의(소액)  복수예가   \n",
       "1                             수의(소액)(단가)  복수예가   \n",
       "2                                   지역제한  복수예가   \n",
       "3                                 수의(소액)  복수예가   \n",
       "4                                 수의(소액)  복수예가   \n",
       "...                                  ...   ...   \n",
       "739951                              제한경쟁   NaN   \n",
       "739952            수의(총액)소액-견적입찰(단일응찰 허용)   NaN   \n",
       "739953  수의(소액)-여성기업또는장애인기업간견적입찰(단일응찰 허용)   NaN   \n",
       "739954            수의(총액)소액-견적입찰(단일응찰 허용)   NaN   \n",
       "739955                              제한경쟁  복수예가   \n",
       "\n",
       "                                                   업종제한내용  \\\n",
       "0                                  [금속구조물·창호·온실공사업(1440)]   \n",
       "1                                  [금속구조물·창호·온실공사업(1440)]   \n",
       "2                                           [전기공사업(0037)]   \n",
       "3                                         [기계설비공사업(0017)]   \n",
       "4                                            [석공사업(0009)]   \n",
       "...                                                   ...   \n",
       "739951                                                NaN   \n",
       "739952  [0002] 건축공사업,[0003] 토목건축공사업,[0007] 토공사업,[0015]...   \n",
       "739953                                       [0037] 전기공사업   \n",
       "739954  [0038] 일반소방시설공사업(기계),[0039] 일반소방시설공사업(전기),[004...   \n",
       "739955                                                NaN   \n",
       "\n",
       "                                  지역제한내용  대상  \n",
       "0       경상남도 합천군[48890], 경상남도 거창군[48880]  공사  \n",
       "1                         경기도 양주시[41630]  공사  \n",
       "2                        경상북도 안동시[47170]  공사  \n",
       "3        경기도 남양주시[41360], 경기도 구리시[41310]  공사  \n",
       "4                        경상남도 양산시[48330]  공사  \n",
       "...                                  ...  ..  \n",
       "739951                        [41000]경기도  공사  \n",
       "739952                       [41000] 경기도  공사  \n",
       "739953                               NaN  공사  \n",
       "739954                     [28000] 인천광역시  공사  \n",
       "739955          [41000]경기도, [28000]인천광역시  공사  \n",
       "\n",
       "[739956 rows x 17 columns]"
      ]
     },
     "execution_count": 24,
     "metadata": {},
     "output_type": "execute_result"
    }
   ],
   "source": [
    "df_corporation.shape\n",
    "df_corporation"
   ]
  },
  {
   "cell_type": "code",
   "execution_count": 25,
   "id": "40dfb796",
   "metadata": {},
   "outputs": [
    {
     "name": "stderr",
     "output_type": "stream",
     "text": [
      "C:\\Users\\yjhon\\anaconda3\\lib\\site-packages\\openpyxl\\styles\\stylesheet.py:226: UserWarning: Workbook contains no default style, apply openpyxl's default\n",
      "  warn(\"Workbook contains no default style, apply openpyxl's default\")\n"
     ]
    }
   ],
   "source": [
    "df6 = pd.read_excel(\"C:/Users/yjhon/OneDrive/바탕 화면/조달청_공모전/Regression/물품+입찰공고+내역(00020)_20220204173615_2017.xlsx\")\n",
    "\n",
    "df7 = pd.read_excel(\"C:/Users/yjhon/OneDrive/바탕 화면/조달청_공모전/Regression/물품+입찰공고+내역(00020)_20220204173730_2018.xlsx\")\n",
    "\n",
    "df8 = pd.read_excel(\"C:/Users/yjhon/OneDrive/바탕 화면/조달청_공모전/Regression/물품+입찰공고+내역(00020)_20220204173853_2019.xlsx\")\n",
    "\n",
    "df9 = pd.read_excel(\"C:/Users/yjhon/OneDrive/바탕 화면/조달청_공모전/Regression/물품+입찰공고+내역(00020)_20220204174423_2020.xlsx\")\n",
    "\n",
    "df10 = pd.read_excel(\"C:/Users/yjhon/OneDrive/바탕 화면/조달청_공모전/Regression/물품+입찰공고+내역(00020)_20220204204134_2021.xlsx\")\n",
    "\n"
   ]
  },
  {
   "cell_type": "code",
   "execution_count": 26,
   "id": "a0d198d9",
   "metadata": {},
   "outputs": [
    {
     "data": {
      "text/plain": [
       "(595306, 55)"
      ]
     },
     "execution_count": 26,
     "metadata": {},
     "output_type": "execute_result"
    }
   ],
   "source": [
    "df_list_2 = [df6, df7, df8, df9, df10]\n",
    "df_all_2 = pd.concat(df_list_2, ignore_index=True)\n",
    "df_all_2\n",
    "df_all_2.shape"
   ]
  },
  {
   "cell_type": "code",
   "execution_count": 27,
   "id": "c413c583",
   "metadata": {},
   "outputs": [],
   "source": [
    "df_item = pd.DataFrame(data=df_all_2,columns = col_name)"
   ]
  },
  {
   "cell_type": "code",
   "execution_count": 28,
   "id": "ba50aaa4",
   "metadata": {},
   "outputs": [],
   "source": [
    "df_item['대상'] = '물품'"
   ]
  },
  {
   "cell_type": "code",
   "execution_count": 29,
   "id": "43ef03b6",
   "metadata": {},
   "outputs": [
    {
     "data": {
      "text/plain": [
       "(595306, 17)"
      ]
     },
     "execution_count": 29,
     "metadata": {},
     "output_type": "execute_result"
    }
   ],
   "source": [
    "df_item.shape"
   ]
  },
  {
   "cell_type": "code",
   "execution_count": null,
   "id": "cd91dbd0",
   "metadata": {},
   "outputs": [],
   "source": []
  },
  {
   "cell_type": "code",
   "execution_count": 32,
   "id": "ef5e2b08",
   "metadata": {},
   "outputs": [
    {
     "name": "stderr",
     "output_type": "stream",
     "text": [
      "C:\\Users\\yjhon\\anaconda3\\lib\\site-packages\\openpyxl\\styles\\stylesheet.py:226: UserWarning: Workbook contains no default style, apply openpyxl's default\n",
      "  warn(\"Workbook contains no default style, apply openpyxl's default\")\n"
     ]
    }
   ],
   "source": [
    "df11 = pd.read_excel(\"C:/Users/yjhon/OneDrive/바탕 화면/조달청_공모전/Regression/용역+입찰공고+내역(00027)_20220204211719_2017.xlsx\")\n",
    "\n",
    "df12 = pd.read_excel(\"C:/Users/yjhon/OneDrive/바탕 화면/조달청_공모전/Regression/용역+입찰공고+내역(00027)_20220204211838_2018.xlsx\")\n",
    "\n",
    "df13 = pd.read_excel(\"C:/Users/yjhon/OneDrive/바탕 화면/조달청_공모전/Regression/용역+입찰공고+내역(00027)_20220204212022_2019.xlsx\")\n",
    "\n",
    "df14 = pd.read_excel(\"C:/Users/yjhon/OneDrive/바탕 화면/조달청_공모전/Regression/용역+입찰공고+내역(00027)_20220204212212_2020.xlsx\")\n",
    "\n",
    "df15 = pd.read_excel(\"C:/Users/yjhon/OneDrive/바탕 화면/조달청_공모전/Regression/용역+입찰공고+내역(00027)_20220204212341_2021.xlsx\")\n",
    "\n"
   ]
  },
  {
   "cell_type": "code",
   "execution_count": 33,
   "id": "3cb0ba92",
   "metadata": {},
   "outputs": [],
   "source": [
    "df_list_3 = [df11, df12, df13, df14, df15]\n",
    "df_all_3 = pd.concat(df_list_3, ignore_index=True)\n",
    "df_all_3\n",
    "df_all_3\n",
    "\n",
    "\n",
    "df_service = pd.DataFrame(data=df_all_3,columns = col_name)"
   ]
  },
  {
   "cell_type": "code",
   "execution_count": 34,
   "id": "484234e1",
   "metadata": {},
   "outputs": [],
   "source": [
    "df_service['대상'] = '용역'"
   ]
  },
  {
   "cell_type": "code",
   "execution_count": 35,
   "id": "de6207e4",
   "metadata": {},
   "outputs": [
    {
     "data": {
      "text/html": [
       "<div>\n",
       "<style scoped>\n",
       "    .dataframe tbody tr th:only-of-type {\n",
       "        vertical-align: middle;\n",
       "    }\n",
       "\n",
       "    .dataframe tbody tr th {\n",
       "        vertical-align: top;\n",
       "    }\n",
       "\n",
       "    .dataframe thead th {\n",
       "        text-align: right;\n",
       "    }\n",
       "</style>\n",
       "<table border=\"1\" class=\"dataframe\">\n",
       "  <thead>\n",
       "    <tr style=\"text-align: right;\">\n",
       "      <th></th>\n",
       "      <th>등록유형</th>\n",
       "      <th>공고게시일자</th>\n",
       "      <th>조달구분</th>\n",
       "      <th>입찰공고차수</th>\n",
       "      <th>수요기관명</th>\n",
       "      <th>수요기관코드</th>\n",
       "      <th>긴급공고여부</th>\n",
       "      <th>정정공고여부</th>\n",
       "      <th>취소공고여부</th>\n",
       "      <th>추정가격</th>\n",
       "      <th>입찰방식</th>\n",
       "      <th>낙찰자결정방법</th>\n",
       "      <th>입찰계약방법</th>\n",
       "      <th>예가방법</th>\n",
       "      <th>업종제한내용</th>\n",
       "      <th>지역제한내용</th>\n",
       "      <th>대상</th>\n",
       "    </tr>\n",
       "  </thead>\n",
       "  <tbody>\n",
       "    <tr>\n",
       "      <th>0</th>\n",
       "      <td>나라장터(G2B)</td>\n",
       "      <td>20170331</td>\n",
       "      <td>자체조달</td>\n",
       "      <td>0</td>\n",
       "      <td>한국농어촌공사 농어촌연구원</td>\n",
       "      <td>D150099</td>\n",
       "      <td>N</td>\n",
       "      <td>N</td>\n",
       "      <td>N</td>\n",
       "      <td>132490909.0</td>\n",
       "      <td>전자입찰</td>\n",
       "      <td>협상에 의한 낙찰제</td>\n",
       "      <td>제한(총액)협상에의한계약</td>\n",
       "      <td>복수예가</td>\n",
       "      <td>[학술.연구용역(1169)]</td>\n",
       "      <td>NaN</td>\n",
       "      <td>용역</td>\n",
       "    </tr>\n",
       "    <tr>\n",
       "      <th>1</th>\n",
       "      <td>나라장터(G2B)</td>\n",
       "      <td>20170331</td>\n",
       "      <td>자체조달</td>\n",
       "      <td>0</td>\n",
       "      <td>강원도</td>\n",
       "      <td>6420000</td>\n",
       "      <td>N</td>\n",
       "      <td>N</td>\n",
       "      <td>N</td>\n",
       "      <td>153636363.0</td>\n",
       "      <td>전자입찰</td>\n",
       "      <td>제한최저</td>\n",
       "      <td>제한(총액)</td>\n",
       "      <td>복수예가</td>\n",
       "      <td>[폐기물중간처리업(건설폐기물)(1253) 과 폐기물수집.운반업(건설폐기물)(6728...</td>\n",
       "      <td>강원도[42000]</td>\n",
       "      <td>용역</td>\n",
       "    </tr>\n",
       "    <tr>\n",
       "      <th>2</th>\n",
       "      <td>나라장터(G2B)</td>\n",
       "      <td>20170331</td>\n",
       "      <td>자체조달</td>\n",
       "      <td>0</td>\n",
       "      <td>경상남도 진주시</td>\n",
       "      <td>5310000</td>\n",
       "      <td>N</td>\n",
       "      <td>N</td>\n",
       "      <td>N</td>\n",
       "      <td>19363636.0</td>\n",
       "      <td>전자입찰</td>\n",
       "      <td>제한최저</td>\n",
       "      <td>소액수의(견적입찰)</td>\n",
       "      <td>복수예가</td>\n",
       "      <td>NaN</td>\n",
       "      <td>경상남도[48000]</td>\n",
       "      <td>용역</td>\n",
       "    </tr>\n",
       "    <tr>\n",
       "      <th>3</th>\n",
       "      <td>나라장터(G2B)</td>\n",
       "      <td>20170331</td>\n",
       "      <td>자체조달</td>\n",
       "      <td>0</td>\n",
       "      <td>충청남도 서산시</td>\n",
       "      <td>4530000</td>\n",
       "      <td>N</td>\n",
       "      <td>N</td>\n",
       "      <td>N</td>\n",
       "      <td>34447272.0</td>\n",
       "      <td>전자입찰</td>\n",
       "      <td>제한최저</td>\n",
       "      <td>수의(총액)소액-견적입찰</td>\n",
       "      <td>복수예가</td>\n",
       "      <td>NaN</td>\n",
       "      <td>NaN</td>\n",
       "      <td>용역</td>\n",
       "    </tr>\n",
       "    <tr>\n",
       "      <th>4</th>\n",
       "      <td>나라장터(G2B)</td>\n",
       "      <td>20170331</td>\n",
       "      <td>자체조달</td>\n",
       "      <td>0</td>\n",
       "      <td>중소벤처기업연구원</td>\n",
       "      <td>Z010533</td>\n",
       "      <td>Y</td>\n",
       "      <td>N</td>\n",
       "      <td>N</td>\n",
       "      <td>38181818.0</td>\n",
       "      <td>전자입찰</td>\n",
       "      <td>협상에 의한 낙찰제</td>\n",
       "      <td>일반(총액)협상에의한계약</td>\n",
       "      <td>복수예가</td>\n",
       "      <td>NaN</td>\n",
       "      <td>NaN</td>\n",
       "      <td>용역</td>\n",
       "    </tr>\n",
       "    <tr>\n",
       "      <th>...</th>\n",
       "      <td>...</td>\n",
       "      <td>...</td>\n",
       "      <td>...</td>\n",
       "      <td>...</td>\n",
       "      <td>...</td>\n",
       "      <td>...</td>\n",
       "      <td>...</td>\n",
       "      <td>...</td>\n",
       "      <td>...</td>\n",
       "      <td>...</td>\n",
       "      <td>...</td>\n",
       "      <td>...</td>\n",
       "      <td>...</td>\n",
       "      <td>...</td>\n",
       "      <td>...</td>\n",
       "      <td>...</td>\n",
       "      <td>...</td>\n",
       "    </tr>\n",
       "    <tr>\n",
       "      <th>782347</th>\n",
       "      <td>자체전자조달시스템</td>\n",
       "      <td>20211231</td>\n",
       "      <td>자체조달</td>\n",
       "      <td>0</td>\n",
       "      <td>한국수자원공사</td>\n",
       "      <td>B500001</td>\n",
       "      <td>N</td>\n",
       "      <td>N</td>\n",
       "      <td>N</td>\n",
       "      <td>168500000.0</td>\n",
       "      <td>전자입찰</td>\n",
       "      <td>적격심사</td>\n",
       "      <td>일반경쟁</td>\n",
       "      <td>NaN</td>\n",
       "      <td>NaN</td>\n",
       "      <td>NaN</td>\n",
       "      <td>용역</td>\n",
       "    </tr>\n",
       "    <tr>\n",
       "      <th>782348</th>\n",
       "      <td>자체전자조달시스템</td>\n",
       "      <td>20211231</td>\n",
       "      <td>자체조달</td>\n",
       "      <td>0</td>\n",
       "      <td>한국수자원공사</td>\n",
       "      <td>B500001</td>\n",
       "      <td>N</td>\n",
       "      <td>N</td>\n",
       "      <td>N</td>\n",
       "      <td>171890000.0</td>\n",
       "      <td>전자입찰</td>\n",
       "      <td>적격심사</td>\n",
       "      <td>제한경쟁</td>\n",
       "      <td>NaN</td>\n",
       "      <td>NaN</td>\n",
       "      <td>[31000]울산광역시, [48000]경상남도</td>\n",
       "      <td>용역</td>\n",
       "    </tr>\n",
       "    <tr>\n",
       "      <th>782349</th>\n",
       "      <td>자체전자조달시스템</td>\n",
       "      <td>20211231</td>\n",
       "      <td>자체조달</td>\n",
       "      <td>0</td>\n",
       "      <td>한국수자원공사</td>\n",
       "      <td>B500001</td>\n",
       "      <td>N</td>\n",
       "      <td>N</td>\n",
       "      <td>N</td>\n",
       "      <td>219186000.0</td>\n",
       "      <td>전자입찰</td>\n",
       "      <td>적격심사</td>\n",
       "      <td>제한경쟁</td>\n",
       "      <td>NaN</td>\n",
       "      <td>NaN</td>\n",
       "      <td>[30000]대전광역시, [44000]충청남도, [45000]전라북도</td>\n",
       "      <td>용역</td>\n",
       "    </tr>\n",
       "    <tr>\n",
       "      <th>782350</th>\n",
       "      <td>자체전자조달시스템</td>\n",
       "      <td>20211231</td>\n",
       "      <td>자체조달</td>\n",
       "      <td>2</td>\n",
       "      <td>방위사업청</td>\n",
       "      <td>1690000</td>\n",
       "      <td>N</td>\n",
       "      <td>N</td>\n",
       "      <td>N</td>\n",
       "      <td>NaN</td>\n",
       "      <td>전자입찰</td>\n",
       "      <td>적격심사제</td>\n",
       "      <td>수의(소액)-여성기업또는장애인기업간견적입찰(단일응찰 허용)</td>\n",
       "      <td>NaN</td>\n",
       "      <td>NaN</td>\n",
       "      <td>NaN</td>\n",
       "      <td>용역</td>\n",
       "    </tr>\n",
       "    <tr>\n",
       "      <th>782351</th>\n",
       "      <td>자체전자조달시스템</td>\n",
       "      <td>20211231</td>\n",
       "      <td>자체조달</td>\n",
       "      <td>2</td>\n",
       "      <td>방위사업청</td>\n",
       "      <td>1690000</td>\n",
       "      <td>N</td>\n",
       "      <td>N</td>\n",
       "      <td>N</td>\n",
       "      <td>NaN</td>\n",
       "      <td>전자입찰</td>\n",
       "      <td>최저가격제</td>\n",
       "      <td>수의(총액)소액수의</td>\n",
       "      <td>NaN</td>\n",
       "      <td>NaN</td>\n",
       "      <td>NaN</td>\n",
       "      <td>용역</td>\n",
       "    </tr>\n",
       "  </tbody>\n",
       "</table>\n",
       "<p>782352 rows × 17 columns</p>\n",
       "</div>"
      ],
      "text/plain": [
       "             등록유형    공고게시일자  조달구분  입찰공고차수           수요기관명   수요기관코드 긴급공고여부  \\\n",
       "0       나라장터(G2B)  20170331  자체조달       0  한국농어촌공사 농어촌연구원  D150099      N   \n",
       "1       나라장터(G2B)  20170331  자체조달       0             강원도  6420000      N   \n",
       "2       나라장터(G2B)  20170331  자체조달       0        경상남도 진주시  5310000      N   \n",
       "3       나라장터(G2B)  20170331  자체조달       0        충청남도 서산시  4530000      N   \n",
       "4       나라장터(G2B)  20170331  자체조달       0       중소벤처기업연구원  Z010533      Y   \n",
       "...           ...       ...   ...     ...             ...      ...    ...   \n",
       "782347  자체전자조달시스템  20211231  자체조달       0         한국수자원공사  B500001      N   \n",
       "782348  자체전자조달시스템  20211231  자체조달       0         한국수자원공사  B500001      N   \n",
       "782349  자체전자조달시스템  20211231  자체조달       0         한국수자원공사  B500001      N   \n",
       "782350  자체전자조달시스템  20211231  자체조달       2           방위사업청  1690000      N   \n",
       "782351  자체전자조달시스템  20211231  자체조달       2           방위사업청  1690000      N   \n",
       "\n",
       "       정정공고여부 취소공고여부         추정가격  입찰방식     낙찰자결정방법  \\\n",
       "0           N      N  132490909.0  전자입찰  협상에 의한 낙찰제   \n",
       "1           N      N  153636363.0  전자입찰        제한최저   \n",
       "2           N      N   19363636.0  전자입찰        제한최저   \n",
       "3           N      N   34447272.0  전자입찰        제한최저   \n",
       "4           N      N   38181818.0  전자입찰  협상에 의한 낙찰제   \n",
       "...       ...    ...          ...   ...         ...   \n",
       "782347      N      N  168500000.0  전자입찰        적격심사   \n",
       "782348      N      N  171890000.0  전자입찰        적격심사   \n",
       "782349      N      N  219186000.0  전자입찰        적격심사   \n",
       "782350      N      N          NaN  전자입찰       적격심사제   \n",
       "782351      N      N          NaN  전자입찰       최저가격제   \n",
       "\n",
       "                                  입찰계약방법  예가방법  \\\n",
       "0                          제한(총액)협상에의한계약  복수예가   \n",
       "1                                 제한(총액)  복수예가   \n",
       "2                             소액수의(견적입찰)  복수예가   \n",
       "3                          수의(총액)소액-견적입찰  복수예가   \n",
       "4                          일반(총액)협상에의한계약  복수예가   \n",
       "...                                  ...   ...   \n",
       "782347                              일반경쟁   NaN   \n",
       "782348                              제한경쟁   NaN   \n",
       "782349                              제한경쟁   NaN   \n",
       "782350  수의(소액)-여성기업또는장애인기업간견적입찰(단일응찰 허용)   NaN   \n",
       "782351                        수의(총액)소액수의   NaN   \n",
       "\n",
       "                                                   업종제한내용  \\\n",
       "0                                         [학술.연구용역(1169)]   \n",
       "1       [폐기물중간처리업(건설폐기물)(1253) 과 폐기물수집.운반업(건설폐기물)(6728...   \n",
       "2                                                     NaN   \n",
       "3                                                     NaN   \n",
       "4                                                     NaN   \n",
       "...                                                   ...   \n",
       "782347                                                NaN   \n",
       "782348                                                NaN   \n",
       "782349                                                NaN   \n",
       "782350                                                NaN   \n",
       "782351                                                NaN   \n",
       "\n",
       "                                        지역제한내용  대상  \n",
       "0                                          NaN  용역  \n",
       "1                                   강원도[42000]  용역  \n",
       "2                                  경상남도[48000]  용역  \n",
       "3                                          NaN  용역  \n",
       "4                                          NaN  용역  \n",
       "...                                        ...  ..  \n",
       "782347                                     NaN  용역  \n",
       "782348               [31000]울산광역시, [48000]경상남도  용역  \n",
       "782349  [30000]대전광역시, [44000]충청남도, [45000]전라북도  용역  \n",
       "782350                                     NaN  용역  \n",
       "782351                                     NaN  용역  \n",
       "\n",
       "[782352 rows x 17 columns]"
      ]
     },
     "execution_count": 35,
     "metadata": {},
     "output_type": "execute_result"
    }
   ],
   "source": [
    "df_service"
   ]
  },
  {
   "cell_type": "code",
   "execution_count": 36,
   "id": "7a7c76d4",
   "metadata": {},
   "outputs": [],
   "source": [
    "df_list_total = [df_corporation, df_item, df_service]\n",
    "df_total = pd.concat(df_list_total, ignore_index=True)"
   ]
  },
  {
   "cell_type": "code",
   "execution_count": 42,
   "id": "4df353e4",
   "metadata": {},
   "outputs": [
    {
     "data": {
      "text/plain": [
       "(2117614, 17)"
      ]
     },
     "execution_count": 42,
     "metadata": {},
     "output_type": "execute_result"
    }
   ],
   "source": [
    "df_total.shape"
   ]
  },
  {
   "cell_type": "code",
   "execution_count": 1,
   "id": "b6856526",
   "metadata": {},
   "outputs": [
    {
     "ename": "NameError",
     "evalue": "name 'df_total' is not defined",
     "output_type": "error",
     "traceback": [
      "\u001b[1;31m---------------------------------------------------------------------------\u001b[0m",
      "\u001b[1;31mNameError\u001b[0m                                 Traceback (most recent call last)",
      "\u001b[1;32m~\\AppData\\Local\\Temp/ipykernel_17644/2575549613.py\u001b[0m in \u001b[0;36m<module>\u001b[1;34m\u001b[0m\n\u001b[1;32m----> 1\u001b[1;33m \u001b[0mdf_total\u001b[0m\u001b[1;33m.\u001b[0m\u001b[0misnull\u001b[0m\u001b[1;33m(\u001b[0m\u001b[1;33m)\u001b[0m\u001b[1;33m.\u001b[0m\u001b[0msum\u001b[0m\u001b[1;33m(\u001b[0m\u001b[1;33m)\u001b[0m\u001b[1;33m\u001b[0m\u001b[1;33m\u001b[0m\u001b[0m\n\u001b[0m",
      "\u001b[1;31mNameError\u001b[0m: name 'df_total' is not defined"
     ]
    }
   ],
   "source": [
    "df_total.isnull().sum()"
   ]
  },
  {
   "cell_type": "code",
   "execution_count": 40,
   "id": "1f2c7254",
   "metadata": {},
   "outputs": [],
   "source": [
    "df_total_final = df_total.dropna()"
   ]
  },
  {
   "cell_type": "code",
   "execution_count": 43,
   "id": "a2ca02f7",
   "metadata": {},
   "outputs": [
    {
     "data": {
      "text/plain": [
       "(1059039, 17)"
      ]
     },
     "execution_count": 43,
     "metadata": {},
     "output_type": "execute_result"
    }
   ],
   "source": [
    "df_total_final.shape"
   ]
  },
  {
   "cell_type": "code",
   "execution_count": 33,
   "id": "195e1b82",
   "metadata": {},
   "outputs": [
    {
     "name": "stdout",
     "output_type": "stream",
     "text": [
      "Requirement already satisfied: openpyxl in c:\\users\\yjhon\\anaconda3\\lib\\site-packages (3.0.9)\n",
      "Requirement already satisfied: et-xmlfile in c:\\users\\yjhon\\anaconda3\\lib\\site-packages (from openpyxl) (1.1.0)\n"
     ]
    }
   ],
   "source": [
    "!pip install openpyxl"
   ]
  },
  {
   "cell_type": "code",
   "execution_count": 44,
   "id": "a7c9de79",
   "metadata": {},
   "outputs": [],
   "source": [
    "df_total_final.to_csv('C:/Users/yjhon/OneDrive/바탕 화면/조달청_공모전/Regression/물품,용역,공사_20172021.xls', index = False)"
   ]
  },
  {
   "cell_type": "code",
   "execution_count": 46,
   "id": "fbc7fc17",
   "metadata": {},
   "outputs": [
    {
     "data": {
      "text/plain": [
       "등록유형       0\n",
       "공고게시일자     0\n",
       "조달구분       0\n",
       "입찰공고차수     0\n",
       "수요기관명      0\n",
       "수요기관코드     0\n",
       "긴급공고여부     0\n",
       "정정공고여부     0\n",
       "취소공고여부     0\n",
       "추정가격       0\n",
       "입찰방식       0\n",
       "낙찰자결정방법    0\n",
       "입찰계약방법     0\n",
       "예가방법       0\n",
       "업종제한내용     0\n",
       "지역제한내용     0\n",
       "대상         0\n",
       "dtype: int64"
      ]
     },
     "execution_count": 46,
     "metadata": {},
     "output_type": "execute_result"
    }
   ],
   "source": [
    "df_total_final.isnull().sum() # 결측치 갯수 확인"
   ]
  },
  {
   "cell_type": "markdown",
   "id": "7a9a9bcc",
   "metadata": {},
   "source": [
    "df_total_dropna=df_total.dropna() # 결측치제거\n",
    "df_total_dropna.isnull().sum()"
   ]
  },
  {
   "cell_type": "code",
   "execution_count": 47,
   "id": "393533bf",
   "metadata": {},
   "outputs": [
    {
     "data": {
      "text/plain": [
       "(1059039, 17)"
      ]
     },
     "execution_count": 47,
     "metadata": {},
     "output_type": "execute_result"
    }
   ],
   "source": [
    "df_total_final.shape"
   ]
  },
  {
   "cell_type": "code",
   "execution_count": 58,
   "id": "563abb76",
   "metadata": {},
   "outputs": [],
   "source": [
    "import scipy.stats as stats\n",
    "\n",
    "cov, p_val = stats.pearsonr(df_total_dropna[\"추정가격\"],df_total_dropna[\"추정가격\"])\n",
    "print(\"correlation coefficient : {},p-value: {}\".format(cov,p_val))\n",
    "\n",
    "# 표본의 상관계수(r) : correlation coefficient\n",
    "#유의확률이 0.0 이므로 유의수준 0.05에서 두 변수 간에 통계적으로 양의 상관관계가 있는 것으로 판단할 수 있다.\n",
    "# 따라서 stats.personr(a,b) 일때 a가 증가하면 b의 값도 증가하는 경향을 보인다고 말할 수 있는 것.\n"
   ]
  },
  {
   "cell_type": "code",
   "execution_count": 59,
   "id": "4a3a74f7",
   "metadata": {},
   "outputs": [],
   "source": [
    "#X=pd.get_dummies(df_total_dropna.drop(columns=[\"추정가격\"])) #ont-hot encoding\n",
    "#Y=df_total_dropna[\"추정가격\"]\n"
   ]
  },
  {
   "cell_type": "code",
   "execution_count": 55,
   "id": "4d888926",
   "metadata": {},
   "outputs": [
    {
     "name": "stdout",
     "output_type": "stream",
     "text": [
      "Python 3.9.7\n"
     ]
    }
   ],
   "source": [
    "!python --version"
   ]
  },
  {
   "cell_type": "code",
   "execution_count": 56,
   "id": "4d6ba2d6",
   "metadata": {},
   "outputs": [
    {
     "name": "stdout",
     "output_type": "stream",
     "text": [
      "^C\n"
     ]
    }
   ],
   "source": [
    "!python"
   ]
  },
  {
   "cell_type": "code",
   "execution_count": null,
   "id": "04f5cd3b",
   "metadata": {},
   "outputs": [],
   "source": []
  }
 ],
 "metadata": {
  "kernelspec": {
   "display_name": "Python 3 (ipykernel)",
   "language": "python",
   "name": "python3"
  },
  "language_info": {
   "codemirror_mode": {
    "name": "ipython",
    "version": 3
   },
   "file_extension": ".py",
   "mimetype": "text/x-python",
   "name": "python",
   "nbconvert_exporter": "python",
   "pygments_lexer": "ipython3",
   "version": "3.9.7"
  }
 },
 "nbformat": 4,
 "nbformat_minor": 5
}
