{
 "cells": [
  {
   "cell_type": "markdown",
   "id": "81fdfe6d",
   "metadata": {},
   "source": [
    "# 용역발주계획내역_2017, 용역입찰공고내역_2017"
   ]
  },
  {
   "cell_type": "code",
   "execution_count": 1,
   "id": "ada1de72",
   "metadata": {},
   "outputs": [],
   "source": [
    "import pandas as pd\n",
    "import numpy as np\n",
    "import matplotlib.pyplot as plt\n",
    "plt.rcParams[\"figure.figsize\"] = (10,6)"
   ]
  },
  {
   "cell_type": "code",
   "execution_count": 2,
   "id": "aa575b41",
   "metadata": {},
   "outputs": [
    {
     "name": "stderr",
     "output_type": "stream",
     "text": [
      "C:\\Users\\yjhon\\anaconda3\\lib\\site-packages\\openpyxl\\styles\\stylesheet.py:226: UserWarning: Workbook contains no default style, apply openpyxl's default\n",
      "  warn(\"Workbook contains no default style, apply openpyxl's default\")\n"
     ]
    }
   ],
   "source": [
    "#용역발주계획내역\n",
    "order_plan = pd.read_excel(\"C:/Users/yjhon/OneDrive/바탕 화면/조달청_공모전/EDA/용역+발주계획+내역(00008)_20220201131912_2017.xlsx\")"
   ]
  },
  {
   "cell_type": "code",
   "execution_count": 3,
   "id": "1fbfc234",
   "metadata": {},
   "outputs": [],
   "source": [
    "#용역입찰공고내역\n",
    "order_notice = pd.read_excel(\"C:/Users/yjhon/OneDrive/바탕 화면/조달청_공모전/EDA/용역+입찰공고+내역(00027)_20220201131828_2017.xlsx\")"
   ]
  },
  {
   "cell_type": "code",
   "execution_count": 164,
   "id": "2a7de91d",
   "metadata": {},
   "outputs": [
    {
     "data": {
      "text/plain": [
       "Index(['용역구분', '조달구분', '게시일자', '발주계획통합번호', '수요기관명', '수요기관구분', '수요기관지역명',\n",
       "       '수요기관코드', '발주시기', '발주금액', '용역명', '계약방법', '협정여부', '업무유형', '수의계약사유',\n",
       "       '발주번호', '발주기관부서명', '발주기관담당자명', '발주기관담당자전화번호'],\n",
       "      dtype='object')"
      ]
     },
     "execution_count": 164,
     "metadata": {},
     "output_type": "execute_result"
    }
   ],
   "source": [
    "order_plan.columns"
   ]
  },
  {
   "cell_type": "code",
   "execution_count": 163,
   "id": "e8708df7",
   "metadata": {},
   "outputs": [],
   "source": [
    "#order_notice"
   ]
  },
  {
   "cell_type": "code",
   "execution_count": 162,
   "id": "b785b3e6",
   "metadata": {},
   "outputs": [
    {
     "data": {
      "text/plain": [
       "array(['제한(총액)협상에의한계약', '제한(총액)', '소액수의(견적입찰)', '수의(총액)소액-견적입찰',\n",
       "       '일반(총액)협상에의한계약', '수의(총액)', '일반경쟁', '일반(총액)', '제한경쟁', '제한(단가)',\n",
       "       '수의(총액)소액수의', '수의(총액)일반수의', '제한(총액)규격가격동시', '지명경쟁', '제한(총액)2단계경쟁',\n",
       "       '수의계약', '수의(설계공모)', '일반(단가)', '일반(총액)규격가격동시', '제한(단가)협상에의한계약',\n",
       "       '일반(본청)', '지역', '일반경쟁(용역,PQ)', '수의(단가)', '일반(총액)2단계경쟁',\n",
       "       '수의(단가)소액수의', '일반(단가)규격가격동시', '수의(단가)제3자단가계약', 'PQ+기타',\n",
       "       '제한(단가)규격가격동시', '수의(총액)제조공급자 설치조립', '지명(총액)', '제한(총액)종합낙찰제',\n",
       "       '지명(총액)협상에의한계약', '수의(총액)소액-여성기업 추천', '일반(총액)종합낙찰제', '수의(총액)수의',\n",
       "       '실적', '일반(단가)협상에의한계약', '수의(총액)소액-견적입찰(여성)', '제한(단가)종합낙찰제',\n",
       "       '수의(소액)', '일반(단가)종합낙찰제', '일반경쟁(용역,PQ+기술자평가)', '수의(총액)특별법',\n",
       "       '수의(총액)특정인의 설계용역계약 등', '일반(총액)분류별', '제한(총액) P.Q', '일반경쟁(용역,PQ+TP)',\n",
       "       '수의(총액)사회복지법', '지명(총액)규격가격동시', '수의(총액)소액-조합추천', '수의(총액)위탁대행',\n",
       "       '일반(3자단가)분류별', '수의(총액)단일생산', '수의(총액)부품공급 설비확충', '수의(단가)일반수의',\n",
       "       '수의(단가)단체적', '제한(총액)분류별', '일반(3자단가)다수공급자물품계약', '수의(총액)희망수량',\n",
       "       '지명(단가)', '지명(총액) P.Q', '수의(총액)특정인의 부동산 매입', '수의(총액)보훈단체',\n",
       "       '일반(3자단가)협상에의한계약', '제한(단가)분류별', '제한(총액)특허제품', '소액수의(여성기업간견적입찰)'],\n",
       "      dtype=object)"
      ]
     },
     "execution_count": 162,
     "metadata": {},
     "output_type": "execute_result"
    }
   ],
   "source": [
    "order_notice.columns\n",
    "order_notice.입찰계약방법.unique()"
   ]
  },
  {
   "cell_type": "code",
   "execution_count": 37,
   "id": "53c3451d",
   "metadata": {},
   "outputs": [],
   "source": [
    "order_plan_feature = order_plan[['발주계획통합번호','수요기관코드','계약방법']]"
   ]
  },
  {
   "cell_type": "code",
   "execution_count": 8,
   "id": "0b841baf",
   "metadata": {},
   "outputs": [],
   "source": [
    "plan_col_name = [\"용역구분\",\"게시일자\",\"발주계획통합번호\",\"수요기관구분\",\"발주금액\"]\n",
    "notice_col_name = [\"용역구분\",\"공고게시일자\",\"발주계획통합번호\",\"수요기관구분\",\"배정예산\"]\n",
    "\n",
    "plan_reduce = pd.DataFrame(data=order_plan, columns = plan_col_name)\n",
    "notice_reduce = pd.DataFrame(data=order_notice, columns = notice_col_name)"
   ]
  },
  {
   "cell_type": "code",
   "execution_count": 242,
   "id": "1795fd87",
   "metadata": {},
   "outputs": [
    {
     "data": {
      "image/png": "[encoded data removed]",
      "text/plain": [
       "<Figure size 720x432 with 1 Axes>"
      ]
     },
     "metadata": {
      "needs_background": "light"
     },
     "output_type": "display_data"
    }
   ],
   "source": [
    "#notice_reduce.rename(columns={'공고게시일자':'게시일자'})\n",
    "plan_reduce[\"공통\"]=None\n",
    "notice_reduce[\"공통\"]=None\n",
    "\n",
    "plan_reduce.sort_values(by=\"발주계획통합번호\")\n",
    "notice_reduce.sort_values(by=\"발주계획통합번호\")\n",
    "a=notice_reduce.배정예산.sum()\n",
    "b=plan_reduce.발주금액.sum()\n",
    "\n",
    "ab = [a,b]\n",
    "#ab_name = [\"입찰공고\",\"발주계획\"]\n",
    "plt.bar([0,1],ab,color=['r','C2'])\n",
    "plt.title(\"입찰공고 vs 발주계획\",fontsize=30)\n",
    "plt.xticks(np.arange(2),labels= [\"입찰공고\",\"발주계획\"],fontsize=20)\n",
    "plt.xlabel(\"구분\",fontsize=13)\n",
    "plt.ylabel(\"금액\",fontsize=13)\n",
    "plt.show()"
   ]
  },
  {
   "cell_type": "code",
   "execution_count": 128,
   "id": "688623fc",
   "metadata": {},
   "outputs": [],
   "source": [
    "plan_reduce_arr=plan_reduce.발주계획통합번호.tolist()\n",
    "notice_reduce_arr=notice_reduce.발주계획통합번호.tolist()\n",
    "col_p = [\"plan\"]\n",
    "col_n = [\"notice\"]"
   ]
  },
  {
   "cell_type": "code",
   "execution_count": 147,
   "id": "055f34e6",
   "metadata": {},
   "outputs": [
    {
     "data": {
      "text/html": [
       "<div>\n",
       "<style scoped>\n",
       "    .dataframe tbody tr th:only-of-type {\n",
       "        vertical-align: middle;\n",
       "    }\n",
       "\n",
       "    .dataframe tbody tr th {\n",
       "        vertical-align: top;\n",
       "    }\n",
       "\n",
       "    .dataframe thead th {\n",
       "        text-align: right;\n",
       "    }\n",
       "</style>\n",
       "<table border=\"1\" class=\"dataframe\">\n",
       "  <thead>\n",
       "    <tr style=\"text-align: right;\">\n",
       "      <th></th>\n",
       "      <th>plan</th>\n",
       "      <th>notice</th>\n",
       "    </tr>\n",
       "  </thead>\n",
       "  <tbody>\n",
       "    <tr>\n",
       "      <th>0</th>\n",
       "      <td>5-1-2017-7490211-000001</td>\n",
       "      <td>5-1-2017-D150099-000033</td>\n",
       "    </tr>\n",
       "    <tr>\n",
       "      <th>1</th>\n",
       "      <td>5-1-2017-7121122-000002</td>\n",
       "      <td>5-1-2017-6420000-000489</td>\n",
       "    </tr>\n",
       "    <tr>\n",
       "      <th>2</th>\n",
       "      <td>5-1-2017-7121122-000003</td>\n",
       "      <td>5-1-2017-5310000-000046</td>\n",
       "    </tr>\n",
       "    <tr>\n",
       "      <th>3</th>\n",
       "      <td>5-1-2017-4040179-000004</td>\n",
       "      <td>5-1-2017-4530000-000106</td>\n",
       "    </tr>\n",
       "    <tr>\n",
       "      <th>4</th>\n",
       "      <td>5-1-2017-5450000-000002</td>\n",
       "      <td>5-1-2017-Z010533-000009</td>\n",
       "    </tr>\n",
       "    <tr>\n",
       "      <th>...</th>\n",
       "      <td>...</td>\n",
       "      <td>...</td>\n",
       "    </tr>\n",
       "    <tr>\n",
       "      <th>144417</th>\n",
       "      <td>NaN</td>\n",
       "      <td>5-1-2017-3030000-000039</td>\n",
       "    </tr>\n",
       "    <tr>\n",
       "      <th>144418</th>\n",
       "      <td>NaN</td>\n",
       "      <td>5-1-2017-3030000-000039</td>\n",
       "    </tr>\n",
       "    <tr>\n",
       "      <th>144419</th>\n",
       "      <td>NaN</td>\n",
       "      <td>5-1-2017-1430000-000129</td>\n",
       "    </tr>\n",
       "    <tr>\n",
       "      <th>144420</th>\n",
       "      <td>NaN</td>\n",
       "      <td>5-1-2017-Z031193-000002</td>\n",
       "    </tr>\n",
       "    <tr>\n",
       "      <th>144421</th>\n",
       "      <td>NaN</td>\n",
       "      <td>5-1-2017-4090000-000053</td>\n",
       "    </tr>\n",
       "  </tbody>\n",
       "</table>\n",
       "<p>144422 rows × 2 columns</p>\n",
       "</div>"
      ],
      "text/plain": [
       "                           plan                   notice\n",
       "0       5-1-2017-7490211-000001  5-1-2017-D150099-000033\n",
       "1       5-1-2017-7121122-000002  5-1-2017-6420000-000489\n",
       "2       5-1-2017-7121122-000003  5-1-2017-5310000-000046\n",
       "3       5-1-2017-4040179-000004  5-1-2017-4530000-000106\n",
       "4       5-1-2017-5450000-000002  5-1-2017-Z010533-000009\n",
       "...                         ...                      ...\n",
       "144417                      NaN  5-1-2017-3030000-000039\n",
       "144418                      NaN  5-1-2017-3030000-000039\n",
       "144419                      NaN  5-1-2017-1430000-000129\n",
       "144420                      NaN  5-1-2017-Z031193-000002\n",
       "144421                      NaN  5-1-2017-4090000-000053\n",
       "\n",
       "[144422 rows x 2 columns]"
      ]
     },
     "execution_count": 147,
     "metadata": {},
     "output_type": "execute_result"
    }
   ],
   "source": [
    "plan_df=pd.DataFrame(data=plan_reduce_arr,columns=col_p)\n",
    "notice_df =pd.DataFrame(data=notice_reduce_arr,columns=col_n)\n",
    "full_df=pd.concat([plan_df, notice_df], axis = 1)\n",
    "full_df"
   ]
  },
  {
   "cell_type": "code",
   "execution_count": 158,
   "id": "21d6d0a4",
   "metadata": {},
   "outputs": [
    {
     "name": "stdout",
     "output_type": "stream",
     "text": [
      "발주계획내역:123290\n",
      "입찰공고내역:118850\n",
      "발주계획내역과 입찰공고내역의 차이:4440\n"
     ]
    }
   ],
   "source": [
    "plan_count=full_df.plan.count()\n",
    "notice_count=full_df.notice.count()\n",
    "r = plan_count - notice_count\n",
    "print(\"발주계획내역:%d\"%plan_count)\n",
    "print(\"입찰공고내역:%d\"%notice_count)\n",
    "print(\"발주계획내역과 입찰공고내역의 차이:%d\"%r)"
   ]
  },
  {
   "cell_type": "code",
   "execution_count": 11,
   "id": "b532f81e",
   "metadata": {},
   "outputs": [],
   "source": [
    "notice_set = notice_reduce[['발주계획통합번호','배정예산']]\n",
    "plan_set = plan_reduce[['발주계획통합번호','발주금액']]"
   ]
  },
  {
   "cell_type": "code",
   "execution_count": 161,
   "id": "e5c3358d",
   "metadata": {},
   "outputs": [
    {
     "name": "stdout",
     "output_type": "stream",
     "text": [
      "발주계획내역, 입찰공고내역 공통 개수: 116161\n"
     ]
    }
   ],
   "source": [
    "total_set=pd.merge(notice_set, plan_set)\n",
    "total_set\n",
    "print(\"발주계획내역, 입찰공고내역 공통 개수:\",len(total_set))"
   ]
  },
  {
   "cell_type": "markdown",
   "id": "3b3528a9",
   "metadata": {},
   "source": [
    "## 용역발주계획내역:발주금액 == 용역입찰공고내역:배정예산\n",
    "\n",
    "\n",
    "\n",
    "\n",
    "# 발주계획 -> 입찰공고 비율 : 0.93 "
   ]
  },
  {
   "cell_type": "code",
   "execution_count": 234,
   "id": "2afd65cd",
   "metadata": {},
   "outputs": [
    {
     "data": {
      "image/png": "[encoded data removed]",
      "text/plain": [
       "<Figure size 720x432 with 2 Axes>"
      ]
     },
     "metadata": {
      "needs_background": "light"
     },
     "output_type": "display_data"
    }
   ],
   "source": [
    "corr=total_set.corr()\n",
    "import seaborn as sns\n",
    "sns.heatmap(corr, cmap='viridis')\n",
    "plt.rcParams['font.family'] = 'Malgun Gothic'\n",
    "plt.title(\"계획(발주금액) 공고(배정예산)\",fontsize=20)\n",
    "plt.show()"
   ]
  },
  {
   "cell_type": "markdown",
   "id": "fd173e37",
   "metadata": {},
   "source": []
  },
  {
   "cell_type": "code",
   "execution_count": null,
   "id": "43064b24",
   "metadata": {},
   "outputs": [],
   "source": []
  },
  {
   "cell_type": "code",
   "execution_count": null,
   "id": "515e92d7",
   "metadata": {},
   "outputs": [],
   "source": []
  },
  {
   "cell_type": "code",
   "execution_count": 1,
   "id": "b4c90bcc",
   "metadata": {},
   "outputs": [],
   "source": [
    "from xgboost import XGBRegressor\n",
    "from sklearn.datasets import load_boston\n",
    "from sklearn.model_selection import train_test_split\n",
    "from sklearn.model_selection import cross_val_score #교차검증\n",
    "from sklearn.metrics import mean_squared_error\n",
    "import matplotlib.pyplot as plt\n",
    "\n",
    "import pandas as pd\n",
    "import numpy as np"
   ]
  },
  {
   "cell_type": "code",
   "execution_count": null,
   "id": "53901807",
   "metadata": {},
   "outputs": [],
   "source": [
    "\n",
    "x,y = boston.data, boston.target\n",
    "xtrain, xtest, ytrain, ytest = train_test_split(x,y,test_size=0.15)\n",
    "print(\"boston:\",boston.data.shape) \n",
    "print(\"xtrain:\",xtrain.data.shape) # 학습에 투입시킬 데이터 (행,열)\n",
    "print(\"ytrain:\",ytrain.data.shape) # 학습에 투입시킬 데이터 (행)\n",
    "print(\"xtest:\",xtest.data.shape) # 테스트용 데이터 (행,열)\n",
    "print(\"ytest:\",ytest.data.shape) # 테스트용 데이터 (행)"
   ]
  }
 ],
 "metadata": {
  "kernelspec": {
   "display_name": "Python 3 (ipykernel)",
   "language": "python",
   "name": "python3"
  },
  "language_info": {
   "codemirror_mode": {
    "name": "ipython",
    "version": 3
   },
   "file_extension": ".py",
   "mimetype": "text/x-python",
   "name": "python",
   "nbconvert_exporter": "python",
   "pygments_lexer": "ipython3",
   "version": "3.9.7"
  }
 },
 "nbformat": 4,
 "nbformat_minor": 5
}
